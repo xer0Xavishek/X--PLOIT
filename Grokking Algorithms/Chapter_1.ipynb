{
 "cells": [
  {
   "cell_type": "markdown",
   "metadata": {},
   "source": [
    "# Trend\n",
    "**>> Binary Search**\n",
    "    -Fast Algorithm to search sorted data\n",
    "    -Takes   log(n) steps needed to search in database of  n number of data\n",
    "    -Faster than Stupid(simple) search O(n) , Selection Sort O(n^2) , Traveling Salesman O(n!) , Quicksort O(nl og(n))\n",
    "**>> Big O Notation  O(n)**"
   ]
  }
 ],
 "metadata": {
  "language_info": {
   "name": "python"
  }
 },
 "nbformat": 4,
 "nbformat_minor": 2
}
