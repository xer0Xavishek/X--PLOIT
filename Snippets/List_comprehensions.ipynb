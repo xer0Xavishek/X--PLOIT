{
 "cells": [
  {
   "cell_type": "code",
   "execution_count": 2,
   "metadata": {},
   "outputs": [
    {
     "name": "stdout",
     "output_type": "stream",
     "text": [
      "[]\n"
     ]
    }
   ],
   "source": [
    "\"\"\" [expression for item in iterable] \"\"\"               #list comprehension structure\n",
    "\n",
    "\"\"\" item-->      is a variable that takes each value in the iterable one by one\n",
    "\n",
    "epression--> is a Python expression that is calculated for each item .\n",
    "\n",
    "iterable--> is a iterable object/range or collection of objects like list, tuple, set, dictionary, etc. \"\"\"\n",
    "\n",
    "\n",
    "\n",
    "# You can add if condition to the list comprehension\n",
    "'''even_squares = [(x**2) for x in range(10) if (x % 2 == 0)]'''\n",
    "\n",
    "'''print(even_squares)'''  # Output: [0, 4, 16, 36, 64]\n",
    "\n",
    "\n",
    "#Lets fix this\n",
    "#list comprehension \n",
    "# This code is for taking input from user and storing it in a list\n",
    "lst = [int(input(\"Enter the element: \")) for _ in range(int(input(\"Enter the number of elements: \"))) if _ % 2 == 0]\n",
    "print(lst)\n",
    "\n",
    "\n"
   ]
  },
  {
   "cell_type": "code",
   "execution_count": 4,
   "metadata": {},
   "outputs": [
    {
     "name": "stdout",
     "output_type": "stream",
     "text": [
      "0\n",
      "2\n",
      "4\n",
      "6\n",
      "8\n"
     ]
    },
    {
     "data": {
      "text/plain": [
       "[None, None, None, None, None]"
      ]
     },
     "execution_count": 4,
     "metadata": {},
     "output_type": "execute_result"
    }
   ],
   "source": [
    "[print(i) for i in range(10) if i%2==0]\n",
    "#print return nothing in python so we use list comprehension to print the values"
   ]
  },
  {
   "cell_type": "code",
   "execution_count": 5,
   "metadata": {},
   "outputs": [
    {
     "name": "stdout",
     "output_type": "stream",
     "text": [
      "[0, 2, 3, 4, 5, 6, 7, 8, 9, 10]\n"
     ]
    }
   ],
   "source": [
    "list=[1,2,3,4,5,6,7,8,9,10]\n",
    "list[0]=0\n",
    "print(list)"
   ]
  }
 ],
 "metadata": {
  "kernelspec": {
   "display_name": "Python 3",
   "language": "python",
   "name": "python3"
  },
  "language_info": {
   "codemirror_mode": {
    "name": "ipython",
    "version": 3
   },
   "file_extension": ".py",
   "mimetype": "text/x-python",
   "name": "python",
   "nbconvert_exporter": "python",
   "pygments_lexer": "ipython3",
   "version": "3.11.6"
  }
 },
 "nbformat": 4,
 "nbformat_minor": 2
}
