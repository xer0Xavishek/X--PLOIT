{
 "cells": [
  {
   "cell_type": "code",
   "execution_count": 2,
   "metadata": {},
   "outputs": [
    {
     "name": "stdout",
     "output_type": "stream",
     "text": [
      "[]\n"
     ]
    }
   ],
   "source": [
    "\"\"\" [expression for item in iterable] \"\"\"               #list comprehension structure\n",
    "\n",
    "\"\"\" item-->      is a variable that takes each value in the iterable one by one\n",
    "\n",
    "epression--> is a Python expression that is calculated for each item .\n",
    "\n",
    "iterable--> is a iterable object/range or collection of objects like list, tuple, set, dictionary, etc. \"\"\"\n",
    "\n",
    "\n",
    "\n",
    "# You can add if condition to the list comprehension\n",
    "'''even_squares = [(x**2) for x in range(10) if (x % 2 == 0)]'''\n",
    "\n",
    "'''print(even_squares)'''  # Output: [0, 4, 16, 36, 64]\n",
    "\n",
    "\n",
    "#Lets fix this\n",
    "#list comprehension \n",
    "# This code is for taking input from user and storing it in a list\n",
    "lst = [int(input(\"Enter the element: \")) for _ in range(int(input(\"Enter the number of elements: \"))) if _ % 2 == 0]\n",
    "print(lst)\n",
    "\n",
    "\n"
   ]
  },
  {
   "cell_type": "code",
   "execution_count": null,
   "metadata": {},
   "outputs": [],
   "source": []
  }
 ],
 "metadata": {
  "kernelspec": {
   "display_name": "Python 3",
   "language": "python",
   "name": "python3"
  },
  "language_info": {
   "codemirror_mode": {
    "name": "ipython",
    "version": 3
   },
   "file_extension": ".py",
   "mimetype": "text/x-python",
   "name": "python",
   "nbconvert_exporter": "python",
   "pygments_lexer": "ipython3",
   "version": "3.11.6"
  }
 },
 "nbformat": 4,
 "nbformat_minor": 2
}
