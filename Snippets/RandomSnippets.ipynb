{
 "cells": [
  {
   "cell_type": "code",
   "execution_count": null,
   "metadata": {},
   "outputs": [],
   "source": [
    "num = 345\n",
    "\n",
    "counter = 0\n",
    "\n",
    "while(num >0):\n",
    "\n",
    "  num = num // 10\n",
    "  counter += 1\n",
    "\n",
    "print(f\"digit no. :{counter}\")"
   ]
  },
  {
   "cell_type": "markdown",
   "metadata": {},
   "source": [
    "Palindrome"
   ]
  },
  {
   "cell_type": "code",
   "execution_count": null,
   "metadata": {},
   "outputs": [],
   "source": [
    "s = \"ABCBD\"\n",
    "pos = 0\n",
    "neg = -1\n",
    "flag = True\n",
    "\n",
    "if len(s) %2 == 0 :\n",
    "  run = len(s)//2\n",
    "else:\n",
    "  run = (len(s)//2)+1\n",
    "\n",
    "for i in range(run):\n",
    "    if s[pos] != s[neg]:\n",
    "       flag =  False\n",
    "       break\n",
    "    pos += 1\n",
    "    neg -= 1\n",
    "\n",
    "if flag == True:\n",
    "  print(\"Palindrome\")\n",
    "else:\n",
    "  print(\"Not a palindrome\")"
   ]
  },
  {
   "cell_type": "markdown",
   "metadata": {},
   "source": [
    "1) Remove the even indexes and reverses the string"
   ]
  },
  {
   "cell_type": "code",
   "execution_count": null,
   "metadata": {},
   "outputs": [],
   "source": [
    "s = \"ABCD\"\n",
    "#    0123\n",
    "\n",
    "final = \"\"\n",
    "\n",
    "for i in range(len(s)):\n",
    "  if i % 2 != 0:\n",
    "    final += s[i]\n",
    "#final = BD\n",
    "final = final[::-1]\n",
    "print(final)"
   ]
  },
  {
   "cell_type": "markdown",
   "metadata": {},
   "source": [
    "###How isdigit works??\n"
   ]
  },
  {
   "cell_type": "code",
   "execution_count": 1,
   "metadata": {},
   "outputs": [
    {
     "name": "stdout",
     "output_type": "stream",
     "text": [
      "True\n"
     ]
    }
   ],
   "source": [
    "#How isdigit works??\n",
    "\n",
    "\n",
    "\n",
    "def isdigit_(s):\n",
    "    # Check if the string is not empty\n",
    "    if not s:\n",
    "        return False\n",
    "    \n",
    "    # Check if all characters in the string are digits based on ASCII values\n",
    "    for char in s:\n",
    "        if not ord('0') <= ord(char) <= ord('9'):\n",
    "            return False\n",
    "    \n",
    "    return True\n",
    "print(isdigit_(\"1234\"))"
   ]
  },
  {
   "cell_type": "markdown",
   "metadata": {},
   "source": [
    "#How to cheat in CSE110 [you cant use split]"
   ]
  },
  {
   "cell_type": "code",
   "execution_count": 3,
   "metadata": {},
   "outputs": [
    {
     "name": "stdout",
     "output_type": "stream",
     "text": [
      "['apple', 'banana', 'orange']\n"
     ]
    }
   ],
   "source": [
    "def custom_split(string, symbol):\n",
    "    result = []\n",
    "    container = \"\"\n",
    "\n",
    "    for char in string:\n",
    "        if char != symbol:\n",
    "            container += char\n",
    "        else:\n",
    "            result.append(container)\n",
    "            container = \"\"\n",
    "\n",
    "\n",
    "    result.append(container)\n",
    "\n",
    "    return result\n",
    "\n",
    "input_str = \"apple,banana,orange\"\n",
    "delimiter = \",\"\n",
    "result = custom_split(input_str, delimiter)\n",
    "print(result)"
   ]
  },
  {
   "cell_type": "markdown",
   "metadata": {},
   "source": [
    "HOw to legalize extend()\n",
    "\n"
   ]
  },
  {
   "cell_type": "code",
   "execution_count": null,
   "metadata": {},
   "outputs": [],
   "source": [
    "def custom_extend(list1, list2):\n",
    "    for item in list2:\n",
    "        list1.append(item)\n",
    "\n",
    "# Test the function\n",
    "original_list = [1, 2, 3]\n",
    "extension_list = [4, 5, 6]\n",
    "\n",
    "custom_extend(original_list, extension_list)\n",
    "print(original_list)\n"
   ]
  },
  {
   "cell_type": "code",
   "execution_count": 2,
   "metadata": {},
   "outputs": [
    {
     "name": "stdout",
     "output_type": "stream",
     "text": [
      "7\n"
     ]
    }
   ],
   "source": [
    "# HW 5.1\n",
    "N = int(input())    # [impcode] - Takes input from the user and converts it to an integer\n",
    "\n",
    "def sequence_recursion(n):\n",
    "  if n == 1:    # Base case: if n is 1, return 1\n",
    "    return 1\n",
    "  elif n > 1:    # Recursive case: if n is greater than 1\n",
    "    if n%2 == 0:    # If n is even\n",
    "      return -n + sequence_recursion(n-1)    # Return the negative value of n plus the result of the recursive call with n-1\n",
    "    else:    # If n is odd\n",
    "      return n + sequence_recursion(n-1)    # Return n plus the result of the recursive call with n-1\n",
    "\n",
    "print(sequence_recursion(N))    # Print the result of the sequence_recursion function with input N"
   ]
  },
  {
   "cell_type": "code",
   "execution_count": 8,
   "metadata": {},
   "outputs": [
    {
     "name": "stdout",
     "output_type": "stream",
     "text": [
      "False\n"
     ]
    }
   ],
   "source": [
    "def is_prime(k):\n",
    "    count=0\n",
    "    for i in range(1,k+1):\n",
    "        if k%i==0:\n",
    "            count+=1\n",
    "    if count==2:\n",
    "        return True\n",
    "    else:\n",
    "        return False\n",
    "print(is_prime(12))\n"
   ]
  },
  {
   "cell_type": "code",
   "execution_count": 1,
   "metadata": {},
   "outputs": [
    {
     "name": "stdout",
     "output_type": "stream",
     "text": [
      "{0: 0, 1: 1, 2: 4, 3: 9, 4: 16}\n"
     ]
    }
   ],
   "source": [
    "squared_dict = {x: x**2 for x in range(5)}\n",
    "print(squared_dict)"
   ]
  },
  {
   "cell_type": "code",
   "execution_count": null,
   "metadata": {},
   "outputs": [],
   "source": [
    "# In Python dictionaries, the `get()` method is commonly used to retrieve the value associated with a given key. One advantage of using `get()` is that it allows you to specify a default value to be returned if the key is not found in the dictionary. This can be particularly useful for handling cases where a key might be missing.\n",
    "\n",
    "# Here's an example:\n",
    "\n",
    "\n",
    "# Sample dictionary\n",
    "my_dict = {'a': 1, 'b': 2, 'c': 3}\n",
    "\n",
    "# Using get() to retrieve values\n",
    "value_a = my_dict.get('a', 'Key not found')\n",
    "value_x = my_dict.get('x', 'Key not found')\n",
    "\n",
    "print(value_a)  # Output: 1\n",
    "print(value_x)  # Output: Key not found\n",
    "\n",
    "\n",
    "# In this example, `my_dict.get('a', 'Key not found')` returns the value associated with key 'a' (which is 1), and `my_dict.get('x', 'Key not found')` returns the default value 'Key not found' because the key 'x' is not present in the dictionary.\n",
    "\n",
    "# This approach is beneficial because it avoids raising a `KeyError` if the key is not found. Instead, it gracefully handles the case where the key is missing by returning the specified default value."
   ]
  },
  {
   "cell_type": "code",
   "execution_count": null,
   "metadata": {},
   "outputs": [],
   "source": [
    "# 18. Dictionary Intersection:\n",
    "# Finding common keys between dictionaries.\n",
    "# python\n",
    "\n",
    "dict1 = {'a': 1, 'b': 2, 'c': 3}\n",
    "dict2 = {'b': 2, 'c': 3, 'd': 4}\n",
    "common_keys = dict1.keys() & dict2.keys()  # find common"
   ]
  },
  {
   "cell_type": "code",
   "execution_count": null,
   "metadata": {},
   "outputs": [],
   "source": [
    "# 25. Dictionary Filtering with Values as Conditions:\n",
    "# Filtering a dictionary based on values meeting specific conditions.\n",
    "\n",
    "\n",
    "\n",
    "filtered_dict = {k: v for k, v in my_dict.items() if v.startswith('value')}"
   ]
  },
  {
   "cell_type": "code",
   "execution_count": null,
   "metadata": {},
   "outputs": [],
   "source": [
    "# 32. Implementing a Role-Based Access Control (RBAC) System:\n",
    "# Using dictionaries to manage roles and permissions.\n",
    "\n",
    "\n",
    "\n",
    "rbac_system = {\n",
    "    'admin': ['read', 'write', 'delete'],\n",
    "    'user': ['read'],\n",
    "    'guest': []\n",
    "}"
   ]
  },
  {
   "cell_type": "code",
   "execution_count": null,
   "metadata": {},
   "outputs": [],
   "source": [
    "#  Marking Occurrences in a Text:\n",
    "# Counting word occurrences in a text using a dictionary.\n",
    "\n",
    "\n",
    "\n",
    "text = \"This is a sample text. This text is just an example.\"\n",
    "word_occurrences = {}\n",
    "for word in text.split():\n",
    "    word_occurrences[word] = word_occurrences.get(word, 0) + 1"
   ]
  },
  {
   "cell_type": "markdown",
   "metadata": {},
   "source": [
    "New Thing learnt Today!! **You can store functions in a dictionry**"
   ]
  },
  {
   "cell_type": "code",
   "execution_count": 2,
   "metadata": {},
   "outputs": [
    {
     "name": "stdout",
     "output_type": "stream",
     "text": [
      "5\n",
      "5\n",
      "1\n",
      "15\n",
      "\n",
      "\n",
      "\n",
      "\n",
      "\n",
      "lmao python\n",
      "None\n"
     ]
    }
   ],
   "source": [
    "# Dictionary storing built-in functions\n",
    "builtin_functions = {\n",
    "    'len': len,\n",
    "    'max': max,\n",
    "    'min': min,\n",
    "    'sum': sum,\n",
    "    'print':print\n",
    "}\n",
    "\n",
    "# Example usage\n",
    "my_list = [1, 2, 3, 4, 5]\n",
    "\n",
    "print(builtin_functions['len'](my_list))  # Output: 5\n",
    "print(builtin_functions['max'](my_list))  # Output: 5\n",
    "print(builtin_functions['min'](my_list))  # Output: 1\n",
    "print(builtin_functions['sum'](my_list))\n",
    "print(\"\\n\\n\\n\\n\")# Output: 15\n",
    "print(builtin_functions['print'](\"lmao python\"))\n",
    "\n",
    "##None return hocce karon ami print function er return value ta print\n",
    "#korteci. Amar \"lmao python \" already vitorer print<from dictionary> er\n",
    "#karone already print hoye gece Then ami None pacchi karon print functon \n",
    "#er return value None... Great learning indeed...\n"
   ]
  },
  {
   "cell_type": "code",
   "execution_count": null,
   "metadata": {},
   "outputs": [],
   "source": [
    "def greet(name):\n",
    "    return f\"Hello, {name}!\"\n",
    "\n",
    "def farewell(name):\n",
    "    return f\"Goodbye, {name}!\"\n",
    "\n",
    "# Dictionary storing functions\n",
    "function_dict = {\n",
    "    'greet': greet,\n",
    "    'farewell': farewell\n",
    "}\n",
    "\n",
    "# Calling functions from the dictionary\n",
    "print(function_dict['greet']('Alice'))  # Output: Hello, Alice!\n",
    "print(function_dict['farewell']('Bob')) # Output: Goodbye, Bob!\n"
   ]
  },
  {
   "cell_type": "code",
   "execution_count": null,
   "metadata": {},
   "outputs": [],
   "source": [
    "#append object to a list or duictionary ... add\n",
    "# Define a function\n",
    "def my_function(x):\n",
    "    return x * 2\n",
    "\n",
    "# Initialize an empty dictionary and list\n",
    "function_dict = {}\n",
    "function_list = []\n",
    "\n",
    "# Append the function to the dictionary with a key\n",
    "function_dict['my_function'] = my_function\n",
    "\n",
    "# Append the function to the list\n",
    "function_list.append(my_function)\n",
    "\n",
    "# Test the appended function from the dictionary and list\n",
    "result_dict = function_dict['my_function'](5)  # Output: 10\n",
    "result_list = function_list[0](5)              # Output: 10\n",
    "\n",
    "print(\"Result from dictionary:\", result_dict)\n",
    "print(\"Result from list:\", result_list)\n"
   ]
  },
  {
   "cell_type": "markdown",
   "metadata": {},
   "source": [
    "**# Fstring alada jinis ar print() alada jinis we just print fstring**"
   ]
  },
  {
   "cell_type": "code",
   "execution_count": 5,
   "metadata": {},
   "outputs": [
    {
     "name": "stdout",
     "output_type": "stream",
     "text": [
      "This is global X. Before assigning new x value\n",
      "Inside the function: This is local X.\n",
      "Outside the function: This is local X.\n"
     ]
    }
   ],
   "source": [
    "x = \"This is global X.\"\n",
    "def f1():\n",
    "  global x\n",
    "  print(x,\"Before assigning new x value\")\n",
    "  x = \"This is local X.\"\n",
    "  print(\"Inside the function:\",x)#function will search if there is any local variable named 'x' , if not then it will look for a global variable named 'x'.\n",
    "\n",
    "f1()\n",
    "print(\"Outside the function:\",x)"
   ]
  },
  {
   "cell_type": "markdown",
   "metadata": {},
   "source": [
    "# __string__.join() method"
   ]
  },
  {
   "cell_type": "code",
   "execution_count": null,
   "metadata": {},
   "outputs": [],
   "source": [
    "myDict = {\"name\": \"John\", \"country\": \"Norway\"}\n",
    "mySeparator = \"TEST\"\n",
    "\n",
    "x = mySeparator.join(myDict)\n",
    "\n",
    "print(x)"
   ]
  },
  {
   "cell_type": "markdown",
   "metadata": {},
   "source": [
    "# String Methods"
   ]
  },
  {
   "cell_type": "code",
   "execution_count": 11,
   "metadata": {},
   "outputs": [
    {
     "name": "stdout",
     "output_type": "stream",
     "text": [
      "['k', 'm', '', '', '', '', '', '', '', '', 'l']\n",
      "BaconSpamEggs\n",
      "Hellreplacing thisreplacing thisreplacing thissksd\n"
     ]
    }
   ],
   "source": [
    "s=\"kamaaaaaaaaal\"\n",
    "s.isupper()#        false\n",
    "s.upper()#\n",
    "s.isupper() #     False\n",
    "s.title() # every first character is capitalized like a title\n",
    "s.istitle()# checks if it is title and returns bool\n",
    "s.startswith(\"KAMAAAAAAAAAL\") # BOOL Startswith(\"K\")\n",
    "s.endswith(\"l\")\n",
    "','.join(['cats','dogs','hooomannn'])\n",
    "s.split(\"a\")\n",
    "print(s.split(\"a\")) # a pabe split korbe dekbe kicu nai so empty . abar a pabe abar .....\n",
    "'Hello' .rjust (20, \"_\")   # joooor kore 20 length er string banabe and Extra hishebe _ add kore dibe .[ By default space dibe ] \n",
    "#ljust rjust \n",
    "\n",
    "s.center (20,\"_\")\n",
    "s.lstrip()\n",
    "s.strip()\n",
    "v='SpamSpamBaconSpamEggsSpamSpam'.strip('ampS')\n",
    "print(v)# majher spam still available because l+r strip done for a m p S but in middle spam is still there\n",
    "p=\"Hellooosksd\".replace(\"o\", \"replacing this\")\n",
    "print(p) # adding a space after interval\n",
    "\n",
    "\n"
   ]
  },
  {
   "cell_type": "markdown",
   "metadata": {},
   "source": [
    "# Pyperclip >> copy paste from clipboard"
   ]
  },
  {
   "cell_type": "code",
   "execution_count": 16,
   "metadata": {},
   "outputs": [
    {
     "name": "stdout",
     "output_type": "stream",
     "text": [
      "lmaooooooooooooooooooooooooo\n"
     ]
    }
   ],
   "source": [
    "import pyperclip as pc\n",
    "\n",
    "#  check your clipboard lmaooooooooooooooooooooooooo\n",
    "pc.copy(\"kuuuurumba test\")\n",
    "x=pc.paste()\n",
    "print(x)"
   ]
  },
  {
   "cell_type": "markdown",
   "metadata": {},
   "source": [
    "# String Formatting \n",
    "**Fstring && String formatting**\n"
   ]
  },
  {
   "cell_type": "code",
   "execution_count": 18,
   "metadata": {},
   "outputs": [
    {
     "name": "stdout",
     "output_type": "stream",
     "text": [
      "Hello akmollll you are invite to a party at chipichapa at 6. please bring borgerrrr.\n"
     ]
    }
   ],
   "source": [
    "name=\"akmollll\"\n",
    "place='chipichapa'\n",
    "time=6\n",
    "food='borgerrrr'\n",
    "\n",
    "\n",
    "print('Hello %s you are invite to a party at %s at %d. please bring %s.' %(name, place, time, food))"
   ]
  },
  {
   "cell_type": "markdown",
   "metadata": {},
   "source": [
    "# List Methods\n",
    "**To recap:**\n",
    "Methods are functions that are \"called on\" values.\n",
    "- The index() list method returns the index of an item in the list.\n",
    "\n",
    "- The append() list method adds a value to the end of a list.\n",
    "\n",
    "- The insert() list method adds a value anywhere inside a list.\n",
    "\n",
    "- The remove() list method removes an item, specified by the value, from a list.\n",
    "\n",
    "- The sort() list method sorts the items in a list.\n",
    "\n",
    "- The sort() method's reverse=True keyword argument can sort in reverse order.\n",
    "\n",
    "- Sorting happens in \"ASCII-betical\" order. To sort normally, pass key=str.lower.\n",
    "\n",
    "- These list methods operate on the list \"in place\", rather than returning a new list value."
   ]
  },
  {
   "cell_type": "markdown",
   "metadata": {},
   "source": [
    "# Datetime"
   ]
  },
  {
   "cell_type": "code",
   "execution_count": null,
   "metadata": {},
   "outputs": [
    {
     "name": "stdout",
     "output_type": "stream",
     "text": [
      "<class 'datetime.date'>\n"
     ]
    }
   ],
   "source": [
    "import datetime\n",
    "tod=datetime.date.today().year\n",
    "print(tod) "
   ]
  },
  {
   "cell_type": "code",
   "execution_count": null,
   "metadata": {},
   "outputs": [
    {
     "name": "stdout",
     "output_type": "stream",
     "text": [
      "2024\n"
     ]
    }
   ],
   "source": [
    "import datetime\n",
    "tod=datetime.datetime.now().year\n",
    "print(tod) "
   ]
  },
  {
   "cell_type": "markdown",
   "metadata": {},
   "source": [
    "# Builtin Functions\n",
    "\n"
   ]
  },
  {
   "cell_type": "markdown",
   "metadata": {},
   "source": [
    "**import random, sys, os, math    ------# importing multiple builtin libraries of a function..**\n",
    "\n",
    "**from random import *   ---------------# imports everything from random**"
   ]
  },
  {
   "cell_type": "code",
   "execution_count": 128,
   "metadata": {},
   "outputs": [
    {
     "name": "stdout",
     "output_type": "stream",
     "text": [
      "6\n",
      "20133\n"
     ]
    }
   ],
   "source": [
    "import random, sys, os, math # importing multiple builtin libraries of a function..\n",
    "from random import * # imports everything from random \n",
    "\n",
    "import random\n",
    "\n",
    "print(  random.randint( 1   ,   10  )   )\n",
    "print(  randint(    1,  100000    ) )# used just randint() because [from random import *] random.randint() \n"
   ]
  },
  {
   "cell_type": "markdown",
   "metadata": {},
   "source": [
    "**How to exit a programme anytime??**\n",
    "\n",
    "after  sys.exit( ) the code will never execute"
   ]
  },
  {
   "cell_type": "code",
   "execution_count": null,
   "metadata": {},
   "outputs": [],
   "source": [
    "#Just \n",
    "import sys\n",
    "sys.exit()\n"
   ]
  },
  {
   "cell_type": "markdown",
   "metadata": {},
   "source": [
    "# L O C A L      scopes      vs       G L O B A L      scopes\n"
   ]
  },
  {
   "cell_type": "markdown",
   "metadata": {},
   "source": [
    "**Assignment statement = Local variable**\n",
    "\n",
    "\n",
    "**No assignment statement = Global variable**"
   ]
  },
  {
   "cell_type": "code",
   "execution_count": 130,
   "metadata": {},
   "outputs": [
    {
     "name": "stdout",
     "output_type": "stream",
     "text": [
      "Hello\n",
      "99\n"
     ]
    }
   ],
   "source": [
    "def spam():\n",
    "    eggs='Hello'  #<<-----------------------\n",
    "    print(eggs)         #                  |\n",
    " #                                         |\n",
    "eggs=99   #<<##############                |\n",
    "                          #                |\n",
    "spam()  #<<#--------------------------------\n",
    "                          #\n",
    "print(eggs) #<<############"
   ]
  },
  {
   "cell_type": "code",
   "execution_count": 138,
   "metadata": {},
   "outputs": [
    {
     "name": "stdout",
     "output_type": "stream",
     "text": [
      "    NIGGA   WHAT??   Unchanged\n",
      "(-̥̥̥̥̥̥̥̥̥̥̥̥̥̥̥̥̥̥̥̥̥̥̥̥̥᷄_-̥̥̥̥̥̥̥̥̥̥̥̥̥̥̥̥̥̥̥̥̥̥̥̥̥᷅ )  Changed| \n",
      "(-̥̥̥̥̥̥̥̥̥̥̥̥̥̥̥̥̥̥̥̥̥̥̥̥̥᷄_-̥̥̥̥̥̥̥̥̥̥̥̥̥̥̥̥̥̥̥̥̥̥̥̥̥᷅ ) \n"
     ]
    }
   ],
   "source": [
    "def spam():\n",
    "    global eggs ##   [     ]\n",
    "    \n",
    "    print(eggs,\"Unchanged\") # still global and unchanged\n",
    "    \n",
    "    eggs=\"(-̥̥̥̥̥̥̥̥̥̥̥̥̥̥̥̥̥̥̥̥̥̥̥̥̥᷄_-̥̥̥̥̥̥̥̥̥̥̥̥̥̥̥̥̥̥̥̥̥̥̥̥̥᷅ ) \"     # Overwriting global eggs\n",
    "    \n",
    "    print(eggs, \"Changed| \")\n",
    "\n",
    "eggs = \"    NIGGA   WHAT??  \"\n",
    "\n",
    "spam()\n",
    "\n",
    "print(eggs)\n"
   ]
  },
  {
   "cell_type": "markdown",
   "metadata": {},
   "source": [
    "# TRY keyword and Error Handeling\n"
   ]
  },
  {
   "cell_type": "markdown",
   "metadata": {},
   "source": [
    "**Lets Say we want to handle ZERO DIVISION ERROR**"
   ]
  },
  {
   "cell_type": "code",
   "execution_count": 139,
   "metadata": {},
   "outputs": [
    {
     "ename": "ZeroDivisionError",
     "evalue": "division by zero",
     "output_type": "error",
     "traceback": [
      "\u001b[1;31m---------------------------------------------------------------------------\u001b[0m",
      "\u001b[1;31mZeroDivisionError\u001b[0m                         Traceback (most recent call last)",
      "Cell \u001b[1;32mIn[139], line 4\u001b[0m\n\u001b[0;32m      1\u001b[0m \u001b[38;5;28;01mdef\u001b[39;00m \u001b[38;5;21mdivide_99_by\u001b[39m(number):\n\u001b[0;32m      2\u001b[0m     \u001b[38;5;28;01mreturn\u001b[39;00m \u001b[38;5;241m99\u001b[39m\u001b[38;5;241m/\u001b[39mnumber\n\u001b[1;32m----> 4\u001b[0m \u001b[43mdivide_99_by\u001b[49m\u001b[43m(\u001b[49m\u001b[38;5;241;43m0\u001b[39;49m\u001b[43m)\u001b[49m\n",
      "Cell \u001b[1;32mIn[139], line 2\u001b[0m, in \u001b[0;36mdivide_99_by\u001b[1;34m(number)\u001b[0m\n\u001b[0;32m      1\u001b[0m \u001b[38;5;28;01mdef\u001b[39;00m \u001b[38;5;21mdivide_99_by\u001b[39m(number):\n\u001b[1;32m----> 2\u001b[0m     \u001b[38;5;28;01mreturn\u001b[39;00m \u001b[38;5;241;43m99\u001b[39;49m\u001b[38;5;241;43m/\u001b[39;49m\u001b[43mnumber\u001b[49m\n",
      "\u001b[1;31mZeroDivisionError\u001b[0m: division by zero"
     ]
    }
   ],
   "source": [
    "def divide_99_by(number):\n",
    "    return 99/number\n",
    "\n",
    "divide_99_by(0)"
   ]
  },
  {
   "cell_type": "markdown",
   "metadata": {},
   "source": [
    "**To handle this specific error and to make our code run error free,,,**"
   ]
  },
  {
   "cell_type": "code",
   "execution_count": 142,
   "metadata": {},
   "outputs": [
    {
     "name": "stdout",
     "output_type": "stream",
     "text": [
      "ERROR MAULA HAQQ MAULA TRY OTHER THING EXCEPT ZERO MAULA\n"
     ]
    }
   ],
   "source": [
    "def divide_99_by(number):\n",
    "    try:\n",
    "        return 99/number\n",
    "    except ZeroDivisionError: # To Unspecify just write     except:  disinclude ZeroDivisionError\n",
    "        print(\"ERROR MAULA HAQQ MAULA TRY OTHER THING EXCEPT ZERO MAULA\")\n",
    "        \n",
    "divide_99_by(9)\n",
    "divide_99_by(0)"
   ]
  },
  {
   "cell_type": "code",
   "execution_count": 147,
   "metadata": {},
   "outputs": [
    {
     "name": "stdout",
     "output_type": "stream",
     "text": [
      "HOW many cats do you have?\n",
      "You did not enter a number dumb@$$ \n"
     ]
    }
   ],
   "source": [
    "print('HOW many cats do you have?' )\n",
    "NumCats = input ()\n",
    "try:\n",
    "    if int (NumCats)>=4:\n",
    "        print(\"That is a lot of cats.\")\n",
    "    else:\n",
    "        print('That is not that many cats.')\n",
    "\n",
    "except ValueError:\n",
    "    print('You did not enter a number dumb@$$ ')\n"
   ]
  },
  {
   "cell_type": "markdown",
   "metadata": {},
   "source": [
    "# Heading\n",
    "## Sub Heading\n",
    "\n",
    "1. Item 1\n",
    "2. Item 2\n",
    "3. Item 3\n",
    "\n",
    "\n",
    "\n",
    "*this text is italic*\n",
    "• *This is bold text* •\n",
    "[Link here] (http://google.com)"
   ]
  },
  {
   "cell_type": "markdown",
   "metadata": {},
   "source": [
    "# List is an object "
   ]
  },
  {
   "cell_type": "code",
   "execution_count": 150,
   "metadata": {},
   "outputs": [
    {
     "name": "stdout",
     "output_type": "stream",
     "text": [
      "2068412939136\n",
      "2068410250160\n"
     ]
    }
   ],
   "source": [
    "#try to run this cell a few times..\n",
    "k=[0,2,4]\n",
    "l=\"lol\"\n",
    "print(id(k)) # Memory location[identity] of an object list is random everytime. Whenever he gets space he occupies it\n",
    "\n",
    "print(id(l)) # Memory location of a variable remains same\n"
   ]
  },
  {
   "cell_type": "markdown",
   "metadata": {},
   "source": [
    "# Return Multiple fstrings"
   ]
  },
  {
   "cell_type": "markdown",
   "metadata": {},
   "source": [
    "## I failed here to return multiple fstring. I thought a,b,c,d will return one by one . But In reality they  together just make a tuple and return that tuple"
   ]
  },
  {
   "cell_type": "code",
   "execution_count": 1,
   "metadata": {},
   "outputs": [
    {
     "name": "stdout",
     "output_type": "stream",
     "text": [
      "('E type:Midterm', 'Noc : 2', 'mpq: 10', 'Total: 20')\n",
      "===========================\n",
      "('E type:Final', 'Noc : 3', 'mpq: 10', 'Total: 30')\n"
     ]
    }
   ],
   "source": [
    "class Exam:\n",
    "    def __init__(self, exam_type, num_questions, marks_per_question):\n",
    "        self.exam_type = exam_type\n",
    "        self.num_questions = num_questions\n",
    "        self.marks_per_question = marks_per_question\n",
    "\n",
    "    def detail(self):\n",
    "        a=f\"E type:{self.exam_type}\"\n",
    "        b=f\"Noc : {self.num_questions}\"\n",
    "        c=f\"mpq: {self.marks_per_question}\"\n",
    "        d=f\"Total: {self.num_questions*self.marks_per_question}\"\n",
    "        return a,b,c,d\n",
    "\n",
    "\n",
    "# Test the class\n",
    "e1 = Exam('Midterm', 2, 10)\n",
    "print(e1.detail())\n",
    "print(\"===========================\")\n",
    "e2 = Exam('Final', 3, 10)\n",
    "print(e2.detail())\n"
   ]
  },
  {
   "cell_type": "code",
   "execution_count": 2,
   "metadata": {},
   "outputs": [
    {
     "name": "stdout",
     "output_type": "stream",
     "text": [
      "Exam Type: Midterm\n",
      "Number of questions: 2\n",
      "Marks per question: 10\n",
      "Total Marks: 20\n",
      "===========================\n",
      "Exam Type: Final\n",
      "Number of questions: 3\n",
      "Marks per question: 10\n",
      "Total Marks: 30\n"
     ]
    }
   ],
   "source": [
    "class Exam:\n",
    "    def __init__(self, exam_type, num_questions, marks_per_question):\n",
    "        self.exam_type = exam_type\n",
    "        self.num_questions = num_questions\n",
    "        self.marks_per_question = marks_per_question\n",
    "\n",
    "    def detail(self):\n",
    "        total_marks = self.num_questions * self.marks_per_question\n",
    "        return f\"Exam Type: {self.exam_type}\\nNumber of questions: {self.num_questions}\\nMarks per question: {self.marks_per_question}\\nTotal Marks: {total_marks}\"\n",
    "\n",
    "\n",
    "# Test the class\n",
    "e1 = Exam('Midterm', 2, 10)\n",
    "print(e1.detail())\n",
    "print(\"===========================\")\n",
    "e2 = Exam('Final', 3, 10)\n",
    "print(e2.detail())\n"
   ]
  },
  {
   "cell_type": "code",
   "execution_count": 3,
   "metadata": {},
   "outputs": [
    {
     "name": "stdout",
     "output_type": "stream",
     "text": [
      "16 7 21\n",
      "3 8 26\n"
     ]
    }
   ],
   "source": [
    "class MidA:\n",
    "    def __init__(self):\n",
    "        self.x = 3\n",
    "        self.y = 7\n",
    "        self.sum = 0\n",
    "\n",
    "    def methodB(self, a):\n",
    "        y = 3\n",
    "        a.x = self.x + self.sum\n",
    "        self.sum = a.x + a.y + y\n",
    "        print(a.x, a.y, a.sum)\n",
    "\n",
    "    def methodA(self, x):\n",
    "        self.y = x + self.sum + self.x\n",
    "        self.sum = x + self.y\n",
    "        z = MidA()\n",
    "        z.sum = self.sum + self.y\n",
    "        self.methodB(z)\n",
    "        print(self.x, self.y, self.sum)\n",
    "\n",
    "\n",
    "a = MidA()\n",
    "a.methodA(5)\n"
   ]
  }
 ],
 "metadata": {
  "kernelspec": {
   "display_name": "Python 3",
   "language": "python",
   "name": "python3"
  },
  "language_info": {
   "codemirror_mode": {
    "name": "ipython",
    "version": 3
   },
   "file_extension": ".py",
   "mimetype": "text/x-python",
   "name": "python",
   "nbconvert_exporter": "python",
   "pygments_lexer": "ipython3",
   "version": "3.12.2"
  }
 },
 "nbformat": 4,
 "nbformat_minor": 2
}
