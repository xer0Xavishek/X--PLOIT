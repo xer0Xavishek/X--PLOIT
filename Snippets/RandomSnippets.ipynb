{
 "cells": [
  {
   "cell_type": "code",
   "execution_count": null,
   "metadata": {},
   "outputs": [],
   "source": [
    "num = 345\n",
    "\n",
    "counter = 0\n",
    "\n",
    "while(num >0):\n",
    "\n",
    "  num = num // 10\n",
    "  counter += 1\n",
    "\n",
    "print(f\"digit no. :{counter}\")"
   ]
  },
  {
   "cell_type": "markdown",
   "metadata": {},
   "source": [
    "Palindrome"
   ]
  },
  {
   "cell_type": "code",
   "execution_count": null,
   "metadata": {},
   "outputs": [],
   "source": [
    "s = \"ABCBD\"\n",
    "pos = 0\n",
    "neg = -1\n",
    "flag = True\n",
    "\n",
    "if len(s) %2 == 0 :\n",
    "  run = len(s)//2\n",
    "else:\n",
    "  run = (len(s)//2)+1\n",
    "\n",
    "for i in range(run):\n",
    "    if s[pos] != s[neg]:\n",
    "       flag =  False\n",
    "       break\n",
    "    pos += 1\n",
    "    neg -= 1\n",
    "\n",
    "if flag == True:\n",
    "  print(\"Palindrome\")\n",
    "else:\n",
    "  print(\"Not a palindrome\")"
   ]
  },
  {
   "cell_type": "markdown",
   "metadata": {},
   "source": [
    "1) Remove the even indexes and reverses the string"
   ]
  },
  {
   "cell_type": "code",
   "execution_count": null,
   "metadata": {},
   "outputs": [],
   "source": [
    "s = \"ABCD\"\n",
    "#    0123\n",
    "\n",
    "final = \"\"\n",
    "\n",
    "for i in range(len(s)):\n",
    "  if i % 2 != 0:\n",
    "    final += s[i]\n",
    "#final = BD\n",
    "final = final[::-1]\n",
    "print(final)"
   ]
  },
  {
   "cell_type": "markdown",
   "metadata": {},
   "source": [
    "###How isdigit works??\n"
   ]
  },
  {
   "cell_type": "code",
   "execution_count": 1,
   "metadata": {},
   "outputs": [
    {
     "name": "stdout",
     "output_type": "stream",
     "text": [
      "True\n"
     ]
    }
   ],
   "source": [
    "#How isdigit works??\n",
    "\n",
    "\n",
    "\n",
    "def isdigit_(s):\n",
    "    # Check if the string is not empty\n",
    "    if not s:\n",
    "        return False\n",
    "    \n",
    "    # Check if all characters in the string are digits based on ASCII values\n",
    "    for char in s:\n",
    "        if not ord('0') <= ord(char) <= ord('9'):\n",
    "            return False\n",
    "    \n",
    "    return True\n",
    "print(isdigit_(\"1234\"))"
   ]
  },
  {
   "cell_type": "markdown",
   "metadata": {},
   "source": [
    "#How to cheat in CSE110 [you cant use split]"
   ]
  },
  {
   "cell_type": "code",
   "execution_count": 3,
   "metadata": {},
   "outputs": [
    {
     "name": "stdout",
     "output_type": "stream",
     "text": [
      "['apple', 'banana', 'orange']\n"
     ]
    }
   ],
   "source": [
    "def custom_split(string, symbol):\n",
    "    result = []\n",
    "    container = \"\"\n",
    "\n",
    "    for char in string:\n",
    "        if char != symbol:\n",
    "            container += char\n",
    "        else:\n",
    "            result.append(container)\n",
    "            container = \"\"\n",
    "\n",
    "\n",
    "    result.append(container)\n",
    "\n",
    "    return result\n",
    "\n",
    "input_str = \"apple,banana,orange\"\n",
    "delimiter = \",\"\n",
    "result = custom_split(input_str, delimiter)\n",
    "print(result)"
   ]
  }
 ],
 "metadata": {
  "kernelspec": {
   "display_name": "Python 3",
   "language": "python",
   "name": "python3"
  },
  "language_info": {
   "codemirror_mode": {
    "name": "ipython",
    "version": 3
   },
   "file_extension": ".py",
   "mimetype": "text/x-python",
   "name": "python",
   "nbconvert_exporter": "python",
   "pygments_lexer": "ipython3",
   "version": "3.11.6"
  }
 },
 "nbformat": 4,
 "nbformat_minor": 2
}
