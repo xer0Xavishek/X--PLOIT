{
 "cells": [
  {
   "cell_type": "code",
   "execution_count": null,
   "metadata": {},
   "outputs": [],
   "source": [
    "num = 345\n",
    "\n",
    "counter = 0\n",
    "\n",
    "while(num >0):\n",
    "\n",
    "  num = num // 10\n",
    "  counter += 1\n",
    "\n",
    "print(f\"digit no. :{counter}\")"
   ]
  },
  {
   "cell_type": "markdown",
   "metadata": {},
   "source": [
    "Palindrome"
   ]
  },
  {
   "cell_type": "code",
   "execution_count": null,
   "metadata": {},
   "outputs": [],
   "source": [
    "s = \"ABCBD\"\n",
    "pos = 0\n",
    "neg = -1\n",
    "flag = True\n",
    "\n",
    "if len(s) %2 == 0 :\n",
    "  run = len(s)//2\n",
    "else:\n",
    "  run = (len(s)//2)+1\n",
    "\n",
    "for i in range(run):\n",
    "    if s[pos] != s[neg]:\n",
    "       flag =  False\n",
    "       break\n",
    "    pos += 1\n",
    "    neg -= 1\n",
    "\n",
    "if flag == True:\n",
    "  print(\"Palindrome\")\n",
    "else:\n",
    "  print(\"Not a palindrome\")"
   ]
  },
  {
   "cell_type": "markdown",
   "metadata": {},
   "source": [
    "1) Remove the even indexes and reverses the string"
   ]
  },
  {
   "cell_type": "code",
   "execution_count": null,
   "metadata": {},
   "outputs": [],
   "source": [
    "s = \"ABCD\"\n",
    "#    0123\n",
    "\n",
    "final = \"\"\n",
    "\n",
    "for i in range(len(s)):\n",
    "  if i % 2 != 0:\n",
    "    final += s[i]\n",
    "#final = BD\n",
    "final = final[::-1]\n",
    "print(final)"
   ]
  },
  {
   "cell_type": "markdown",
   "metadata": {},
   "source": [
    "###How isdigit works??\n"
   ]
  },
  {
   "cell_type": "code",
   "execution_count": 1,
   "metadata": {},
   "outputs": [
    {
     "name": "stdout",
     "output_type": "stream",
     "text": [
      "True\n"
     ]
    }
   ],
   "source": [
    "#How isdigit works??\n",
    "\n",
    "\n",
    "\n",
    "def isdigit_(s):\n",
    "    # Check if the string is not empty\n",
    "    if not s:\n",
    "        return False\n",
    "    \n",
    "    # Check if all characters in the string are digits based on ASCII values\n",
    "    for char in s:\n",
    "        if not ord('0') <= ord(char) <= ord('9'):\n",
    "            return False\n",
    "    \n",
    "    return True\n",
    "print(isdigit_(\"1234\"))"
   ]
  },
  {
   "cell_type": "markdown",
   "metadata": {},
   "source": [
    "#How to cheat in CSE110 [you cant use split]"
   ]
  },
  {
   "cell_type": "code",
   "execution_count": 3,
   "metadata": {},
   "outputs": [
    {
     "name": "stdout",
     "output_type": "stream",
     "text": [
      "['apple', 'banana', 'orange']\n"
     ]
    }
   ],
   "source": [
    "def custom_split(string, symbol):\n",
    "    result = []\n",
    "    container = \"\"\n",
    "\n",
    "    for char in string:\n",
    "        if char != symbol:\n",
    "            container += char\n",
    "        else:\n",
    "            result.append(container)\n",
    "            container = \"\"\n",
    "\n",
    "\n",
    "    result.append(container)\n",
    "\n",
    "    return result\n",
    "\n",
    "input_str = \"apple,banana,orange\"\n",
    "delimiter = \",\"\n",
    "result = custom_split(input_str, delimiter)\n",
    "print(result)"
   ]
  },
  {
   "cell_type": "markdown",
   "metadata": {},
   "source": [
    "HOw to legalize extend()\n",
    "\n"
   ]
  },
  {
   "cell_type": "code",
   "execution_count": null,
   "metadata": {},
   "outputs": [],
   "source": [
    "def custom_extend(list1, list2):\n",
    "    for item in list2:\n",
    "        list1.append(item)\n",
    "\n",
    "# Test the function\n",
    "original_list = [1, 2, 3]\n",
    "extension_list = [4, 5, 6]\n",
    "\n",
    "custom_extend(original_list, extension_list)\n",
    "print(original_list)\n"
   ]
  },
  {
   "cell_type": "code",
   "execution_count": 2,
   "metadata": {},
   "outputs": [
    {
     "name": "stdout",
     "output_type": "stream",
     "text": [
      "7\n"
     ]
    }
   ],
   "source": [
    "# HW 5.1\n",
    "N = int(input())    # [impcode] - Takes input from the user and converts it to an integer\n",
    "\n",
    "def sequence_recursion(n):\n",
    "  if n == 1:    # Base case: if n is 1, return 1\n",
    "    return 1\n",
    "  elif n > 1:    # Recursive case: if n is greater than 1\n",
    "    if n%2 == 0:    # If n is even\n",
    "      return -n + sequence_recursion(n-1)    # Return the negative value of n plus the result of the recursive call with n-1\n",
    "    else:    # If n is odd\n",
    "      return n + sequence_recursion(n-1)    # Return n plus the result of the recursive call with n-1\n",
    "\n",
    "print(sequence_recursion(N))    # Print the result of the sequence_recursion function with input N"
   ]
  },
  {
   "cell_type": "code",
   "execution_count": 8,
   "metadata": {},
   "outputs": [
    {
     "name": "stdout",
     "output_type": "stream",
     "text": [
      "False\n"
     ]
    }
   ],
   "source": [
    "def is_prime(k):\n",
    "    count=0\n",
    "    for i in range(1,k+1):\n",
    "        if k%i==0:\n",
    "            count+=1\n",
    "    if count==2:\n",
    "        return True\n",
    "    else:\n",
    "        return False\n",
    "print(is_prime(12))\n"
   ]
  },
  {
   "cell_type": "code",
   "execution_count": 1,
   "metadata": {},
   "outputs": [
    {
     "name": "stdout",
     "output_type": "stream",
     "text": [
      "{0: 0, 1: 1, 2: 4, 3: 9, 4: 16}\n"
     ]
    }
   ],
   "source": [
    "squared_dict = {x: x**2 for x in range(5)}\n",
    "print(squared_dict)"
   ]
  },
  {
   "cell_type": "code",
   "execution_count": null,
   "metadata": {},
   "outputs": [],
   "source": [
    "# In Python dictionaries, the `get()` method is commonly used to retrieve the value associated with a given key. One advantage of using `get()` is that it allows you to specify a default value to be returned if the key is not found in the dictionary. This can be particularly useful for handling cases where a key might be missing.\n",
    "\n",
    "# Here's an example:\n",
    "\n",
    "\n",
    "# Sample dictionary\n",
    "my_dict = {'a': 1, 'b': 2, 'c': 3}\n",
    "\n",
    "# Using get() to retrieve values\n",
    "value_a = my_dict.get('a', 'Key not found')\n",
    "value_x = my_dict.get('x', 'Key not found')\n",
    "\n",
    "print(value_a)  # Output: 1\n",
    "print(value_x)  # Output: Key not found\n",
    "\n",
    "\n",
    "# In this example, `my_dict.get('a', 'Key not found')` returns the value associated with key 'a' (which is 1), and `my_dict.get('x', 'Key not found')` returns the default value 'Key not found' because the key 'x' is not present in the dictionary.\n",
    "\n",
    "# This approach is beneficial because it avoids raising a `KeyError` if the key is not found. Instead, it gracefully handles the case where the key is missing by returning the specified default value."
   ]
  },
  {
   "cell_type": "code",
   "execution_count": null,
   "metadata": {},
   "outputs": [],
   "source": [
    "# 18. Dictionary Intersection:\n",
    "# Finding common keys between dictionaries.\n",
    "# python\n",
    "\n",
    "dict1 = {'a': 1, 'b': 2, 'c': 3}\n",
    "dict2 = {'b': 2, 'c': 3, 'd': 4}\n",
    "common_keys = dict1.keys() & dict2.keys()  # find common"
   ]
  },
  {
   "cell_type": "code",
   "execution_count": null,
   "metadata": {},
   "outputs": [],
   "source": [
    "# 25. Dictionary Filtering with Values as Conditions:\n",
    "# Filtering a dictionary based on values meeting specific conditions.\n",
    "\n",
    "\n",
    "\n",
    "filtered_dict = {k: v for k, v in my_dict.items() if v.startswith('value')}"
   ]
  },
  {
   "cell_type": "code",
   "execution_count": null,
   "metadata": {},
   "outputs": [],
   "source": [
    "# 32. Implementing a Role-Based Access Control (RBAC) System:\n",
    "# Using dictionaries to manage roles and permissions.\n",
    "\n",
    "\n",
    "\n",
    "rbac_system = {\n",
    "    'admin': ['read', 'write', 'delete'],\n",
    "    'user': ['read'],\n",
    "    'guest': []\n",
    "}"
   ]
  },
  {
   "cell_type": "code",
   "execution_count": null,
   "metadata": {},
   "outputs": [],
   "source": [
    "#  Marking Occurrences in a Text:\n",
    "# Counting word occurrences in a text using a dictionary.\n",
    "\n",
    "\n",
    "\n",
    "text = \"This is a sample text. This text is just an example.\"\n",
    "word_occurrences = {}\n",
    "for word in text.split():\n",
    "    word_occurrences[word] = word_occurrences.get(word, 0) + 1"
   ]
  },
  {
   "cell_type": "markdown",
   "metadata": {},
   "source": [
    "New Thing learnt Today!! **You can store functions in a dictionry**"
   ]
  },
  {
   "cell_type": "code",
   "execution_count": 2,
   "metadata": {},
   "outputs": [
    {
     "name": "stdout",
     "output_type": "stream",
     "text": [
      "5\n",
      "5\n",
      "1\n",
      "15\n",
      "\n",
      "\n",
      "\n",
      "\n",
      "\n",
      "lmao python\n",
      "None\n"
     ]
    }
   ],
   "source": [
    "# Dictionary storing built-in functions\n",
    "builtin_functions = {\n",
    "    'len': len,\n",
    "    'max': max,\n",
    "    'min': min,\n",
    "    'sum': sum,\n",
    "    'print':print\n",
    "}\n",
    "\n",
    "# Example usage\n",
    "my_list = [1, 2, 3, 4, 5]\n",
    "\n",
    "print(builtin_functions['len'](my_list))  # Output: 5\n",
    "print(builtin_functions['max'](my_list))  # Output: 5\n",
    "print(builtin_functions['min'](my_list))  # Output: 1\n",
    "print(builtin_functions['sum'](my_list))\n",
    "print(\"\\n\\n\\n\\n\")# Output: 15\n",
    "print(builtin_functions['print'](\"lmao python\"))\n",
    "\n",
    "##None return hocce karon ami print function er return value ta print\n",
    "#korteci. Amar \"lmao python \" already vitorer print<from dictionary> er\n",
    "#karone already print hoye gece Then ami None pacchi karon print functon \n",
    "#er return value None... Great learning indeed...\n"
   ]
  },
  {
   "cell_type": "code",
   "execution_count": null,
   "metadata": {},
   "outputs": [],
   "source": [
    "def greet(name):\n",
    "    return f\"Hello, {name}!\"\n",
    "\n",
    "def farewell(name):\n",
    "    return f\"Goodbye, {name}!\"\n",
    "\n",
    "# Dictionary storing functions\n",
    "function_dict = {\n",
    "    'greet': greet,\n",
    "    'farewell': farewell\n",
    "}\n",
    "\n",
    "# Calling functions from the dictionary\n",
    "print(function_dict['greet']('Alice'))  # Output: Hello, Alice!\n",
    "print(function_dict['farewell']('Bob')) # Output: Goodbye, Bob!\n"
   ]
  },
  {
   "cell_type": "code",
   "execution_count": null,
   "metadata": {},
   "outputs": [],
   "source": [
    "#append object to a list or duictionary ... add\n",
    "# Define a function\n",
    "def my_function(x):\n",
    "    return x * 2\n",
    "\n",
    "# Initialize an empty dictionary and list\n",
    "function_dict = {}\n",
    "function_list = []\n",
    "\n",
    "# Append the function to the dictionary with a key\n",
    "function_dict['my_function'] = my_function\n",
    "\n",
    "# Append the function to the list\n",
    "function_list.append(my_function)\n",
    "\n",
    "# Test the appended function from the dictionary and list\n",
    "result_dict = function_dict['my_function'](5)  # Output: 10\n",
    "result_list = function_list[0](5)              # Output: 10\n",
    "\n",
    "print(\"Result from dictionary:\", result_dict)\n",
    "print(\"Result from list:\", result_list)\n"
   ]
  },
  {
   "cell_type": "markdown",
   "metadata": {},
   "source": [
    "**# Fstring alada jinis ar print() alada jinis we just print fstring**"
   ]
  },
  {
   "cell_type": "code",
   "execution_count": 5,
   "metadata": {},
   "outputs": [
    {
     "name": "stdout",
     "output_type": "stream",
     "text": [
      "This is global X. Before assigning new x value\n",
      "Inside the function: This is local X.\n",
      "Outside the function: This is local X.\n"
     ]
    }
   ],
   "source": [
    "x = \"This is global X.\"\n",
    "def f1():\n",
    "  global x\n",
    "  print(x,\"Before assigning new x value\")\n",
    "  x = \"This is local X.\"\n",
    "  print(\"Inside the function:\",x)#function will search if there is any local variable named 'x' , if not then it will look for a global variable named 'x'.\n",
    "\n",
    "f1()\n",
    "print(\"Outside the function:\",x)"
   ]
  },
  {
   "cell_type": "markdown",
   "metadata": {},
   "source": [
    "# __string__.join() method"
   ]
  },
  {
   "cell_type": "code",
   "execution_count": null,
   "metadata": {},
   "outputs": [],
   "source": [
    "myDict = {\"name\": \"John\", \"country\": \"Norway\"}\n",
    "mySeparator = \"TEST\"\n",
    "\n",
    "x = mySeparator.join(myDict)\n",
    "\n",
    "print(x)"
   ]
  },
  {
   "cell_type": "markdown",
   "metadata": {},
   "source": [
    "# String Methods"
   ]
  },
  {
   "cell_type": "code",
   "execution_count": 11,
   "metadata": {},
   "outputs": [
    {
     "name": "stdout",
     "output_type": "stream",
     "text": [
      "['k', 'm', '', '', '', '', '', '', '', '', 'l']\n",
      "BaconSpamEggs\n",
      "Hellreplacing thisreplacing thisreplacing thissksd\n"
     ]
    }
   ],
   "source": [
    "s=\"kamaaaaaaaaal\"\n",
    "s.isupper()#        false\n",
    "s.upper()#\n",
    "s.isupper() #     False\n",
    "s.title() # every first character is capitalized like a title\n",
    "s.istitle()# checks if it is title and returns bool\n",
    "s.startswith(\"KAMAAAAAAAAAL\") # BOOL Startswith(\"K\")\n",
    "s.endswith(\"l\")\n",
    "','.join(['cats','dogs','hooomannn'])\n",
    "s.split(\"a\")\n",
    "print(s.split(\"a\")) # a pabe split korbe dekbe kicu nai so empty . abar a pabe abar .....\n",
    "'Hello' .rjust (20, \"_\")   # joooor kore 20 length er string banabe and Extra hishebe _ add kore dibe .[ By default space dibe ] \n",
    "#ljust rjust \n",
    "\n",
    "s.center (20,\"_\")\n",
    "s.lstrip()\n",
    "s.strip()\n",
    "v='SpamSpamBaconSpamEggsSpamSpam'.strip('ampS')\n",
    "print(v)# majher spam still available because l+r strip done for a m p S but in middle spam is still there\n",
    "p=\"Hellooosksd\".replace(\"o\", \"replacing this\")\n",
    "print(p) # adding a space after interval\n",
    "\n",
    "\n"
   ]
  },
  {
   "cell_type": "markdown",
   "metadata": {},
   "source": [
    "# Pyperclip >> copy paste from clipboard"
   ]
  },
  {
   "cell_type": "code",
   "execution_count": 16,
   "metadata": {},
   "outputs": [
    {
     "name": "stdout",
     "output_type": "stream",
     "text": [
      "lmaooooooooooooooooooooooooo\n"
     ]
    }
   ],
   "source": [
    "import pyperclip as pc\n",
    "\n",
    "#  check your clipboard lmaooooooooooooooooooooooooo\n",
    "pc.copy(\"kuuuurumba test\")\n",
    "x=pc.paste()\n",
    "print(x)"
   ]
  },
  {
   "cell_type": "markdown",
   "metadata": {},
   "source": [
    "# String Formatting \n",
    "**Fstring && String formatting**\n"
   ]
  },
  {
   "cell_type": "code",
   "execution_count": 18,
   "metadata": {},
   "outputs": [
    {
     "name": "stdout",
     "output_type": "stream",
     "text": [
      "Hello akmollll you are invite to a party at chipichapa at 6. please bring borgerrrr.\n"
     ]
    }
   ],
   "source": [
    "name=\"akmollll\"\n",
    "place='chipichapa'\n",
    "time=6\n",
    "food='borgerrrr'\n",
    "\n",
    "\n",
    "print('Hello %s you are invite to a party at %s at %d. please bring %s.' %(name, place, time, food))"
   ]
  },
  {
   "cell_type": "markdown",
   "metadata": {},
   "source": [
    "# List Methods\n",
    "**To recap:**\n",
    "Methods are functions that are \"called on\" values.\n",
    "- The index() list method returns the index of an item in the list.\n",
    "\n",
    "- The append() list method adds a value to the end of a list.\n",
    "\n",
    "- The insert() list method adds a value anywhere inside a list.\n",
    "\n",
    "- The remove() list method removes an item, specified by the value, from a list.\n",
    "\n",
    "- The sort() list method sorts the items in a list.\n",
    "\n",
    "- The sort() method's reverse=True keyword argument can sort in reverse order.\n",
    "\n",
    "- Sorting happens in \"ASCII-betical\" order. To sort normally, pass key=str.lower.\n",
    "\n",
    "- These list methods operate on the list \"in place\", rather than returning a new list value."
   ]
  },
  {
   "cell_type": "markdown",
   "metadata": {},
   "source": [
    "# Datetime"
   ]
  },
  {
   "cell_type": "code",
   "execution_count": null,
   "metadata": {},
   "outputs": [
    {
     "name": "stdout",
     "output_type": "stream",
     "text": [
      "<class 'datetime.date'>\n"
     ]
    }
   ],
   "source": [
    "import datetime\n",
    "tod=datetime.date.today().year\n",
    "print(tod) "
   ]
  },
  {
   "cell_type": "code",
   "execution_count": null,
   "metadata": {},
   "outputs": [
    {
     "name": "stdout",
     "output_type": "stream",
     "text": [
      "2024\n"
     ]
    }
   ],
   "source": [
    "import datetime\n",
    "tod=datetime.datetime.now().year\n",
    "print(tod) "
   ]
  },
  {
   "cell_type": "markdown",
   "metadata": {},
   "source": [
    "# Builtin Functions\n",
    "\n"
   ]
  },
  {
   "cell_type": "markdown",
   "metadata": {},
   "source": [
    "**import random, sys, os, math    ------# importing multiple builtin libraries of a function..**\n",
    "\n",
    "**from random import *   ---------------# imports everything from random**"
   ]
  },
  {
   "cell_type": "code",
   "execution_count": 128,
   "metadata": {},
   "outputs": [
    {
     "name": "stdout",
     "output_type": "stream",
     "text": [
      "6\n",
      "20133\n"
     ]
    }
   ],
   "source": [
    "import random, sys, os, math # importing multiple builtin libraries of a function..\n",
    "from random import * # imports everything from random \n",
    "\n",
    "import random\n",
    "\n",
    "print(  random.randint( 1   ,   10  )   )\n",
    "print(  randint(    1,  100000    ) )# used just randint() because [from random import *] random.randint() \n"
   ]
  },
  {
   "cell_type": "markdown",
   "metadata": {},
   "source": [
    "**How to exit a programme anytime??**\n",
    "\n",
    "after  sys.exit( ) the code will never execute"
   ]
  },
  {
   "cell_type": "code",
   "execution_count": null,
   "metadata": {},
   "outputs": [],
   "source": [
    "#Just \n",
    "import sys\n",
    "sys.exit()\n"
   ]
  },
  {
   "cell_type": "markdown",
   "metadata": {},
   "source": [
    "# L O C A L      scopes      vs       G L O B A L      scopes\n"
   ]
  },
  {
   "cell_type": "markdown",
   "metadata": {},
   "source": [
    "**Assignment statement = Local variable**\n",
    "\n",
    "\n",
    "**No assignment statement = Global variable**"
   ]
  },
  {
   "cell_type": "code",
   "execution_count": 130,
   "metadata": {},
   "outputs": [
    {
     "name": "stdout",
     "output_type": "stream",
     "text": [
      "Hello\n",
      "99\n"
     ]
    }
   ],
   "source": [
    "def spam():\n",
    "    eggs='Hello'  #<<-----------------------\n",
    "    print(eggs)         #                  |\n",
    " #                                         |\n",
    "eggs=99   #<<##############                |\n",
    "                          #                |\n",
    "spam()  #<<#--------------------------------\n",
    "                          #\n",
    "print(eggs) #<<############"
   ]
  },
  {
   "cell_type": "code",
   "execution_count": 138,
   "metadata": {},
   "outputs": [
    {
     "name": "stdout",
     "output_type": "stream",
     "text": [
      "    NIGGA   WHAT??   Unchanged\n",
      "(-̥̥̥̥̥̥̥̥̥̥̥̥̥̥̥̥̥̥̥̥̥̥̥̥̥᷄_-̥̥̥̥̥̥̥̥̥̥̥̥̥̥̥̥̥̥̥̥̥̥̥̥̥᷅ )  Changed| \n",
      "(-̥̥̥̥̥̥̥̥̥̥̥̥̥̥̥̥̥̥̥̥̥̥̥̥̥᷄_-̥̥̥̥̥̥̥̥̥̥̥̥̥̥̥̥̥̥̥̥̥̥̥̥̥᷅ ) \n"
     ]
    }
   ],
   "source": [
    "def spam():\n",
    "    global eggs ##   [     ]\n",
    "    \n",
    "    print(eggs,\"Unchanged\") # still global and unchanged\n",
    "    \n",
    "    eggs=\"(-̥̥̥̥̥̥̥̥̥̥̥̥̥̥̥̥̥̥̥̥̥̥̥̥̥᷄_-̥̥̥̥̥̥̥̥̥̥̥̥̥̥̥̥̥̥̥̥̥̥̥̥̥᷅ ) \"     # Overwriting global eggs\n",
    "    \n",
    "    print(eggs, \"Changed| \")\n",
    "\n",
    "eggs = \"    NIGGA   WHAT??  \"\n",
    "\n",
    "spam()\n",
    "\n",
    "print(eggs)\n"
   ]
  },
  {
   "cell_type": "markdown",
   "metadata": {},
   "source": [
    "# TRY keyword and Error Handeling\n"
   ]
  },
  {
   "cell_type": "markdown",
   "metadata": {},
   "source": [
    "**Lets Say we want to handle ZERO DIVISION ERROR**"
   ]
  },
  {
   "cell_type": "code",
   "execution_count": 139,
   "metadata": {},
   "outputs": [
    {
     "ename": "ZeroDivisionError",
     "evalue": "division by zero",
     "output_type": "error",
     "traceback": [
      "\u001b[1;31m---------------------------------------------------------------------------\u001b[0m",
      "\u001b[1;31mZeroDivisionError\u001b[0m                         Traceback (most recent call last)",
      "Cell \u001b[1;32mIn[139], line 4\u001b[0m\n\u001b[0;32m      1\u001b[0m \u001b[38;5;28;01mdef\u001b[39;00m \u001b[38;5;21mdivide_99_by\u001b[39m(number):\n\u001b[0;32m      2\u001b[0m     \u001b[38;5;28;01mreturn\u001b[39;00m \u001b[38;5;241m99\u001b[39m\u001b[38;5;241m/\u001b[39mnumber\n\u001b[1;32m----> 4\u001b[0m \u001b[43mdivide_99_by\u001b[49m\u001b[43m(\u001b[49m\u001b[38;5;241;43m0\u001b[39;49m\u001b[43m)\u001b[49m\n",
      "Cell \u001b[1;32mIn[139], line 2\u001b[0m, in \u001b[0;36mdivide_99_by\u001b[1;34m(number)\u001b[0m\n\u001b[0;32m      1\u001b[0m \u001b[38;5;28;01mdef\u001b[39;00m \u001b[38;5;21mdivide_99_by\u001b[39m(number):\n\u001b[1;32m----> 2\u001b[0m     \u001b[38;5;28;01mreturn\u001b[39;00m \u001b[38;5;241;43m99\u001b[39;49m\u001b[38;5;241;43m/\u001b[39;49m\u001b[43mnumber\u001b[49m\n",
      "\u001b[1;31mZeroDivisionError\u001b[0m: division by zero"
     ]
    }
   ],
   "source": [
    "def divide_99_by(number):\n",
    "    return 99/number\n",
    "\n",
    "divide_99_by(0)"
   ]
  },
  {
   "cell_type": "markdown",
   "metadata": {},
   "source": [
    "**To handle this specific error and to make our code run error free,,,**"
   ]
  },
  {
   "cell_type": "code",
   "execution_count": 142,
   "metadata": {},
   "outputs": [
    {
     "name": "stdout",
     "output_type": "stream",
     "text": [
      "ERROR MAULA HAQQ MAULA TRY OTHER THING EXCEPT ZERO MAULA\n"
     ]
    }
   ],
   "source": [
    "def divide_99_by(number):\n",
    "    try:\n",
    "        return 99/number\n",
    "    except ZeroDivisionError: # To Unspecify just write     except:  disinclude ZeroDivisionError\n",
    "        print(\"ERROR MAULA HAQQ MAULA TRY OTHER THING EXCEPT ZERO MAULA\")\n",
    "        \n",
    "divide_99_by(9)\n",
    "divide_99_by(0)"
   ]
  },
  {
   "cell_type": "code",
   "execution_count": 147,
   "metadata": {},
   "outputs": [
    {
     "name": "stdout",
     "output_type": "stream",
     "text": [
      "HOW many cats do you have?\n",
      "You did not enter a number dumb@$$ \n"
     ]
    }
   ],
   "source": [
    "print('HOW many cats do you have?' )\n",
    "NumCats = input ()\n",
    "try:\n",
    "    if int (NumCats)>=4:\n",
    "        print(\"That is a lot of cats.\")\n",
    "    else:\n",
    "        print('That is not that many cats.')\n",
    "\n",
    "except ValueError:\n",
    "    print('You did not enter a number dumb@$$ ')\n"
   ]
  },
  {
   "cell_type": "markdown",
   "metadata": {},
   "source": [
    "# Heading\n",
    "## Sub Heading\n",
    "\n",
    "1. Item 1\n",
    "2. Item 2\n",
    "3. Item 3\n",
    "\n",
    "\n",
    "\n",
    "*this text is italic*\n",
    "• *This is bold text* •\n",
    "[Link here] (http://google.com)"
   ]
  },
  {
   "cell_type": "markdown",
   "metadata": {},
   "source": [
    "# List is an object "
   ]
  },
  {
   "cell_type": "code",
   "execution_count": 150,
   "metadata": {},
   "outputs": [
    {
     "name": "stdout",
     "output_type": "stream",
     "text": [
      "2068412939136\n",
      "2068410250160\n"
     ]
    }
   ],
   "source": [
    "#try to run this cell a few times..\n",
    "k=[0,2,4]\n",
    "l=\"lol\"\n",
    "print(id(k)) # Memory location[identity] of an object list is random everytime. Whenever he gets space he occupies it\n",
    "\n",
    "print(id(l)) # Memory location of a variable remains same\n"
   ]
  },
  {
   "cell_type": "markdown",
   "metadata": {},
   "source": [
    "# Return Multiple fstrings"
   ]
  },
  {
   "cell_type": "markdown",
   "metadata": {},
   "source": [
    "## I failed here to return multiple fstring. I thought a,b,c,d will return one by one . But In reality they  together just make a tuple and return that tuple"
   ]
  },
  {
   "cell_type": "code",
   "execution_count": 1,
   "metadata": {},
   "outputs": [
    {
     "name": "stdout",
     "output_type": "stream",
     "text": [
      "('E type:Midterm', 'Noc : 2', 'mpq: 10', 'Total: 20')\n",
      "===========================\n",
      "('E type:Final', 'Noc : 3', 'mpq: 10', 'Total: 30')\n"
     ]
    }
   ],
   "source": [
    "class Exam:\n",
    "    def __init__(self, exam_type, num_questions, marks_per_question):\n",
    "        self.exam_type = exam_type\n",
    "        self.num_questions = num_questions\n",
    "        self.marks_per_question = marks_per_question\n",
    "\n",
    "    def detail(self):\n",
    "        a=f\"E type:{self.exam_type}\"\n",
    "        b=f\"Noc : {self.num_questions}\"\n",
    "        c=f\"mpq: {self.marks_per_question}\"\n",
    "        d=f\"Total: {self.num_questions*self.marks_per_question}\"\n",
    "        return a,b,c,d\n",
    "\n",
    "\n",
    "# Test the class\n",
    "e1 = Exam('Midterm', 2, 10)\n",
    "print(e1.detail())\n",
    "print(\"===========================\")\n",
    "e2 = Exam('Final', 3, 10)\n",
    "print(e2.detail())\n"
   ]
  },
  {
   "cell_type": "code",
   "execution_count": 2,
   "metadata": {},
   "outputs": [
    {
     "name": "stdout",
     "output_type": "stream",
     "text": [
      "Exam Type: Midterm\n",
      "Number of questions: 2\n",
      "Marks per question: 10\n",
      "Total Marks: 20\n",
      "===========================\n",
      "Exam Type: Final\n",
      "Number of questions: 3\n",
      "Marks per question: 10\n",
      "Total Marks: 30\n"
     ]
    }
   ],
   "source": [
    "class Exam:\n",
    "    def __init__(self, exam_type, num_questions, marks_per_question):\n",
    "        self.exam_type = exam_type\n",
    "        self.num_questions = num_questions\n",
    "        self.marks_per_question = marks_per_question\n",
    "\n",
    "    def detail(self):\n",
    "        total_marks = self.num_questions * self.marks_per_question\n",
    "        return f\"Exam Type: {self.exam_type}\\nNumber of questions: {self.num_questions}\\nMarks per question: {self.marks_per_question}\\nTotal Marks: {total_marks}\"\n",
    "\n",
    "\n",
    "# Test the class\n",
    "e1 = Exam('Midterm', 2, 10)\n",
    "print(e1.detail())\n",
    "print(\"===========================\")\n",
    "e2 = Exam('Final', 3, 10)\n",
    "print(e2.detail())\n"
   ]
  },
  {
   "cell_type": "code",
   "execution_count": 3,
   "metadata": {},
   "outputs": [
    {
     "name": "stdout",
     "output_type": "stream",
     "text": [
      "16 7 21\n",
      "3 8 26\n"
     ]
    }
   ],
   "source": [
    "class MidA:\n",
    "    def __init__(self):\n",
    "        self.x = 3\n",
    "        self.y = 7\n",
    "        self.sum = 0\n",
    "\n",
    "    def methodB(self, a):\n",
    "        y = 3\n",
    "        a.x = self.x + self.sum\n",
    "        self.sum = a.x + a.y + y\n",
    "        print(a.x, a.y, a.sum)\n",
    "\n",
    "    def methodA(self, x):\n",
    "        self.y = x + self.sum + self.x\n",
    "        self.sum = x + self.y\n",
    "        z = MidA()\n",
    "        z.sum = self.sum + self.y\n",
    "        self.methodB(z)\n",
    "        print(self.x, self.y, self.sum)\n",
    "\n",
    "\n",
    "a = MidA()\n",
    "a.methodA(5)\n"
   ]
  },
  {
   "cell_type": "code",
   "execution_count": 2,
   "metadata": {},
   "outputs": [
    {
     "name": "stdout",
     "output_type": "stream",
     "text": [
      "['Chicken_Cheeseburger', 2, 498, 'Fries', 3, 417, 'Soft_Drinks', 3, 150]\n",
      "\n",
      "-----------------------------------\n",
      "Item x Quantity : Price\n",
      "-------------- -------- -------\n",
      "Chicken_Cheeseburger x  2 :  498.00\n",
      "Fries                x  3 :  417.00\n",
      "Soft_Drinks          x  3 :  150.00\n",
      "-----------------------------------\n",
      "Total: 1065.00\n",
      "-----------------------------------\n"
     ]
    }
   ],
   "source": [
    "class Order:\n",
    "    def __init__(self, menu, order_string):\n",
    "        self.menu = menu\n",
    "        self.items = []\n",
    "        order_list = order_string.split(', ')\n",
    "        for item_order in order_list:\n",
    "            item, quantity = item_order.split('-')\n",
    "            subtotal = int(quantity) * self.menu[item]\n",
    "            self.items.extend([item, int(quantity), subtotal])\n",
    "\n",
    "menu = {\n",
    "    'Chicken_Cheeseburger': 249,\n",
    "    'Mega_Cheeseburger': 289,\n",
    "    'Fries': 139,\n",
    "    'Hot_Wings': 99,\n",
    "    'Rice_Bowl': 299,\n",
    "    'Soft_Drinks': 50\n",
    "}\n",
    "\n",
    "order1 = Order(menu, \"Chicken_Cheeseburger-2, Fries-3, Soft_Drinks-3\")\n",
    "print(order1.items)\n",
    "print()\n",
    "print('-' * 35)\n",
    "print('Item x Quantity : Price')\n",
    "print('-------------- -------- -------')\n",
    "index = 0\n",
    "total = 0\n",
    "while index < len(order1.items):\n",
    "    item = order1.items[index]\n",
    "    quantity = order1.items[index + 1]\n",
    "    price = order1.items[index + 2]\n",
    "    print(f'{item:20} x {quantity:2} : {price:7.2f}')\n",
    "    total += price\n",
    "    index += 3  # Going to next item\n",
    "print('-' * 35)\n",
    "print(f'Total: {total:7.2f}')\n",
    "print('-' * 35)"
   ]
  },
  {
   "cell_type": "code",
   "execution_count": 3,
   "metadata": {},
   "outputs": [
    {
     "name": "stdout",
     "output_type": "stream",
     "text": [
      "['Chicken_Cheeseburger-2', 'Fries-3', 'Soft_Drinks-3']\n"
     ]
    }
   ],
   "source": [
    "string=\"Chicken_Cheeseburger-2, Fries-3, Soft_Drinks-3\"\n",
    "\n",
    "print(string.split(\", \"))"
   ]
  },
  {
   "cell_type": "code",
   "execution_count": 5,
   "metadata": {},
   "outputs": [
    {
     "name": "stdout",
     "output_type": "stream",
     "text": [
      "=============Package=============\n",
      "Data = 153600 MB\n",
      "Talktime = 6 GB Minutes\n",
      "SMS/MMS = 99\n",
      "Validity = 7 Days\n",
      "--> Price = 0 tk\n",
      "=================================\n",
      "=============Package=============\n",
      "Data = 716800 MB\n",
      "Talktime = 35 GB Minutes\n",
      "SMS/MMS = 700\n",
      "Validity = 30 Days\n",
      "--> Price = 0 tk\n",
      "=================================\n",
      "=============Package=============\n",
      "Data = 122880 MB\n",
      "Talktime = 0 GB Minutes\n",
      "SMS/MMS = 190\n",
      "Validity = 10 Days\n",
      "--> Price = 0 tk\n",
      "=================================\n"
     ]
    }
   ],
   "source": [
    "class CellPackage:\n",
    "    def __init__(self, data, talk_time, messages, cashback_percentage, validity, price=0):\n",
    "        self.data = data\n",
    "        self.talk_time = talk_time\n",
    "        self.messages = messages\n",
    "        self.cashback_percentage = cashback_percentage\n",
    "        self.validity = validity\n",
    "        self.price = price\n",
    "\n",
    "        self.cashback = int(self.price * (int(cashback_percentage.strip('%')) / 100)) if cashback_percentage != '0%' else 0\n",
    "\n",
    "    def display_package_info(self):\n",
    "        print(\"=============Package=============\")\n",
    "        if self.data != 0:\n",
    "            print(f\"Data = {self.data * 1024} MB\")\n",
    "        if self.talk_time != 0:\n",
    "            print(f\"Talktime = {self.talk_time} Minutes\")\n",
    "        if self.messages != 0:\n",
    "            print(f\"SMS/MMS = {self.messages}\")\n",
    "        print(f\"Validity = {self.validity} Days\")\n",
    "        print(f\"--> Price = {self.price} tk\")\n",
    "        if self.cashback != 0:\n",
    "            print(f\"Buy now to get {self.cashback} tk cashback.\")\n",
    "\n",
    "\n",
    "# Driver Code\n",
    "# Subtask 1: Write the CellPackage Class\n",
    "pkg = CellPackage(150, '6 GB', 99, '7%', 7)\n",
    "pkg.display_package_info()\n",
    "print('=================================')\n",
    "\n",
    "# Subtask 2: Check each attribute and print\n",
    "pkg2 = CellPackage(700, '35 GB', 700, '10%', 30)\n",
    "pkg2.display_package_info()\n",
    "print('=================================')\n",
    "\n",
    "# Subtask 3: Check each attribute and print\n",
    "pkg3 = CellPackage(120, '0 GB', 190, '0%', 10)\n",
    "pkg3.display_package_info()\n",
    "print('=================================')\n"
   ]
  },
  {
   "cell_type": "code",
   "execution_count": 6,
   "metadata": {},
   "outputs": [
    {
     "name": "stdout",
     "output_type": "stream",
     "text": [
      "Contacts cannot be saved. Length Mismatch!\n",
      "Saved Contacts: {}\n",
      "---------------------------------------------\n",
      "Contacts saved successfully.\n",
      "Saved Contacts: {'Emergency': '999', 'Father': '01xx23', 'Bestie': '01xx87', 'Mother': '01xx65'}\n",
      "Contacts saved successfully.\n",
      "Contacts saved successfully.\n",
      "Is m1 the same as temp_m1? False\n"
     ]
    }
   ],
   "source": [
    "class Contacts:\n",
    "    def __init__(self, names, numbers):\n",
    "        self.contactDict = {}\n",
    "        if len(names) == len(numbers):\n",
    "            for name, number in zip(names, numbers):\n",
    "                self.contactDict[name] = number\n",
    "            print(\"Contacts saved successfully.\")\n",
    "        else:\n",
    "            print(\"Contacts cannot be saved. Length Mismatch!\")\n",
    "\n",
    "\n",
    "\n",
    "\n",
    "\n",
    "# Driver code\n",
    "names = [\"Emergency\", \"Father\", \"Bestie\"]\n",
    "numbers = [\"999\", \"01xx23\", \"01xx87\", \"01xx65\", \"01xx43\"]\n",
    "m1 = Contacts(names, numbers)\n",
    "print(\"Saved Contacts:\", m1.contactDict)\n",
    "print(\"---------------------------------------------\")\n",
    "names.append(\"Mother\")\n",
    "numbers.pop()\n",
    "m2 = Contacts(names, numbers)\n",
    "print(\"Saved Contacts:\", m2.contactDict)\n",
    "\n",
    "# After executing the following line:\n",
    "m1 = Contacts(names, numbers)\n",
    "\n",
    "# 1. What will happen after executing this line?\n",
    "#    - This line will create a new instance of the Contacts class with the updated names and numbers lists. Depending on the lengths of the lists, it will either print \"Contacts saved successfully.\" or \"Contacts cannot be saved. Length Mismatch!\".\n",
    "\n",
    "# 2. Since m1 was already created in the 3rd line of the driver code, will the newly created m1 have the same reference now? Explain by writing/modifying a few lines of code.\n",
    "#    - No, the newly created m1 will not have the same reference as the original m1. It will create a new instance of the Contacts class with potentially different data. Here's the explanation with modified code:\n",
    "\n",
    "temp_m1 = m1  # Store the reference to the original m1 in a temporary variable\n",
    "m1 = Contacts(names, numbers)  # Create a new instance of Contacts\n",
    "print(\"Is m1 the same as temp_m1?\", m1 is temp_m1)  # This will print False, indicating they are not the same object\n"
   ]
  },
  {
   "cell_type": "code",
   "execution_count": 13,
   "metadata": {},
   "outputs": [
    {
     "name": "stdout",
     "output_type": "stream",
     "text": [
      "<class 'dict'>\n",
      "<class 'str'>\n",
      "<class 'int'>\n"
     ]
    }
   ],
   "source": [
    "a = {'apple':2, 'banana':3, 'cherry':9}\n",
    "b = \"Hello World\"\n",
    "c = 33\n",
    "\n",
    "x = type(a)\n",
    "y = type(b)\n",
    "z = type(c)\n",
    "\n",
    "print(x)\n",
    "print(y)\n",
    "print(z)\n",
    "\n",
    "\n",
    "if type(a) == tuple:\n",
    "\tprint(\"Tuple\")"
   ]
  },
  {
   "cell_type": "code",
   "execution_count": 15,
   "metadata": {},
   "outputs": [
    {
     "name": "stdout",
     "output_type": "stream",
     "text": [
      "1################################# \n",
      "Your 6-inch Hot spicy Regular Pizza is ready with Cheese, Pepperoni toppings. Enjoy!\n",
      "2================================\n",
      "3#################################\n",
      "No toppings specified! Can't bake pizza.\n",
      "4================================\n",
      "5#################################\n",
      "Your 12-inch Regular spicy Chicken Blast Pizza is ready with Mushroom toppings. Enjoy!\n",
      "6================================\n",
      "7#################################\n",
      "Sorry! Spice level not allowed. Can't bake pizza.\n",
      "8================================\n"
     ]
    }
   ],
   "source": [
    "class PizzaMachine:\n",
    "    def __init__(self, pizza_type=None, pizza_size=None):\n",
    "        self.pizza_type = pizza_type\n",
    "        self.pizza_size = pizza_size\n",
    "\n",
    "    def customizePizza(self, toppings=[], spice_level=\"Regular\"):\n",
    "        if not toppings:\n",
    "            return \"No toppings specified! Can't bake pizza.\"\n",
    "        \n",
    "        allowed_spice_levels = ['Regular', 'Hot', 'Super Naga']\n",
    "        if spice_level.capitalize() not in allowed_spice_levels:\n",
    "            return f\"Sorry! Spice level not allowed. Can't bake pizza.\"\n",
    "\n",
    "        if self.pizza_size:\n",
    "            pizza_size_str = f\"Your {self.pizza_size}-inch\"\n",
    "        else:\n",
    "            pizza_size_str = \"Your 6-inch\"\n",
    "\n",
    "        if self.pizza_type:\n",
    "            pizza_type_str = f\"{self.pizza_type}\"\n",
    "        else:\n",
    "            pizza_type_str = \"Regular\"\n",
    "\n",
    "        return f\"{pizza_size_str} {spice_level.capitalize()} spicy {pizza_type_str} Pizza is ready with {', '.join(toppings)} toppings. Enjoy!\"\n",
    "\n",
    "# Driver code\n",
    "pizza1 = PizzaMachine()\n",
    "order1 = pizza1.customizePizza([\"Cheese\", \"Pepperoni\"], \"Hot\")\n",
    "print(\"1################################# \")\n",
    "print(order1)\n",
    "print(\"2================================\")\n",
    "\n",
    "pizza2 = PizzaMachine(\"Vege\")\n",
    "order2 = pizza2.customizePizza([], \"Super Naga\")\n",
    "print(\"3#################################\")\n",
    "print(order2)\n",
    "print(\"4================================\")\n",
    "\n",
    "pizza3 = PizzaMachine(\"Chicken Blast\", 12)\n",
    "order3 = pizza3.customizePizza([\"Mushroom\"])\n",
    "print(\"5#################################\")\n",
    "print(order3)\n",
    "print(\"6================================\")\n",
    "\n",
    "pizza4 = PizzaMachine(\"Beef Bonanza\", 16)\n",
    "order4 = pizza4.customizePizza([\"Cheese\", \"Beef kala bhuna\"], \"Mild\")\n",
    "print(\"7#################################\")\n",
    "print(order4)\n",
    "print(\"8================================\")\n"
   ]
  },
  {
   "cell_type": "code",
   "execution_count": 16,
   "metadata": {},
   "outputs": [
    {
     "name": "stdout",
     "output_type": "stream",
     "text": [
      "Grades for Pietro\n",
      "{'Summer2020': {('CSE230', 'CSE220', 'MAT110'): 4.0}, 'Summer2021': {('CSE250', 'CSE330'): 3.85}}\n",
      "---------------------------------\n",
      "Name: Pietro\n",
      "ID: 10101222\n",
      "Courses taken in Summer2020:\n",
      "CSE230\n",
      "CSE220\n",
      "MAT110\n",
      "GPA: 4.0\n",
      "--------------------------------\n",
      "Courses taken in Summer2021:\n",
      "CSE250\n",
      "CSE330\n",
      "GPA: 3.85\n",
      "--------------------------------\n",
      "---------------------------------\n",
      "Grades for Wanda\n",
      "{'Summer2022': {('CSE111', 'CSE260', 'ENG101'): 3.8}}\n",
      "---------------------------------\n",
      "Name: Wanda\n",
      "ID: 10103332\n",
      "Courses taken in Summer2022:\n",
      "CSE111\n",
      "CSE260\n",
      "ENG101\n",
      "GPA: 3.8\n",
      "--------------------------------\n"
     ]
    }
   ],
   "source": [
    "class StudentDatabase:\n",
    "    def __init__(self, name, student_id):\n",
    "        self.name = name\n",
    "        self.student_id = student_id\n",
    "        self.grades = {}\n",
    "\n",
    "    def calculateGPA(self, courses, semester):\n",
    "        total_grade_points = 0\n",
    "        total_credits_attempted = 0\n",
    "\n",
    "        for course in courses:\n",
    "            course_code, grade = course.split(':')\n",
    "            grade_point = float(grade)\n",
    "            total_grade_points += grade_point * 3  # Each course is of 3 credits\n",
    "            total_credits_attempted += 3\n",
    "\n",
    "        if semester not in self.grades.keys():\n",
    "            self.grades[semester] = {}\n",
    "\n",
    "        course_codes = []\n",
    "        for c in courses:\n",
    "            course_codes.append(c.split(':')[0])\n",
    "        course_codes = tuple(course_codes)\n",
    "        \n",
    "        gpa = round(total_grade_points / total_credits_attempted, 2)\n",
    "        self.grades[semester][course_codes] = gpa\n",
    "\n",
    "    def printDetails(self):\n",
    "        print(f'Name: {self.name}')\n",
    "        print(f'ID: {self.student_id}')\n",
    "        for semester, courses in self.grades.items():\n",
    "            print(f'Courses taken in {semester}:')\n",
    "            for course_codes, gpa in courses.items():\n",
    "                for code in course_codes:\n",
    "                    print(code)\n",
    "            print(f'GPA: {gpa}')\n",
    "            print('--------------------------------')\n",
    "\n",
    "\n",
    "# Driver code\n",
    "s1 = StudentDatabase('Pietro', '10101222')\n",
    "s1.calculateGPA(['CSE230: 4.0', 'CSE220: 4.0', 'MAT110: 4.0'], 'Summer2020')\n",
    "s1.calculateGPA(['CSE250: 3.7', 'CSE330: 4.0'], 'Summer2021')\n",
    "print(f'Grades for {s1.name}\\n{s1.grades}')\n",
    "print('---------------------------------')\n",
    "s1.printDetails()\n",
    "\n",
    "print('---------------------------------')\n",
    "\n",
    "s2 = StudentDatabase('Wanda', '10103332')\n",
    "s2.calculateGPA(['CSE111: 3.7', 'CSE260: 3.7', 'ENG101: 4.0'], 'Summer2022')\n",
    "print(f'Grades for {s2.name}\\n{s2.grades}')\n",
    "print('---------------------------------')\n",
    "s2.printDetails()\n"
   ]
  },
  {
   "cell_type": "code",
   "execution_count": 19,
   "metadata": {},
   "outputs": [
    {
     "name": "stdout",
     "output_type": "stream",
     "text": [
      "1-----------------------------\n",
      "2-----------------------------\n",
      "3-----------------------------\n",
      "The ChE Department has an average of 20.40 students in each section.\n",
      "4-----------------------------\n",
      "The MME Department doesn't have 5 sections.\n",
      "5-----------------------------\n",
      "The NCE Department has an average of 29.88 students in each section.\n",
      "6-----------------------------\n",
      "7-----------------------------\n",
      "The Engineering Department has an average of 30.70 students in each section.\n",
      "8-----------------------------\n",
      "ChE Department is merged to Engineering Department Department.\n",
      "MME Department is merged to Engineering Department Department.\n",
      "Now the Engineering Department has an average of 20.4 students in each section.\n",
      "9-----------------------------\n",
      "NCE Department is merged to Engineering Department Department.\n",
      "Now the Engineering Department has an average of 24.6 students in each section.\n"
     ]
    }
   ],
   "source": [
    "class Department:\n",
    "    def __init__(self, name=\"ChE Department\", sections=5):\n",
    "        self.name = name\n",
    "        self.sections = sections\n",
    "        self.students = 0\n",
    "\n",
    "    def add_students(self, *student_counts):\n",
    "        if len(student_counts) == self.sections:\n",
    "            self.students = sum(student_counts) / self.sections\n",
    "            print(f'The {self.name} has an average of {self.students:.2f} students in each section.')\n",
    "        else:\n",
    "            print(f\"The {self.name} doesn't have {self.sections} sections.\")\n",
    "\n",
    "    def merge_Department(self, *departments):\n",
    "        total_students = self.students * self.sections\n",
    "        total_sections = self.sections\n",
    "\n",
    "        for department in departments:\n",
    "            if department:\n",
    "                total_students += department.students * department.sections\n",
    "                total_sections += department.sections\n",
    "                print(f'{department.name} is merged to {self.name} Department.')\n",
    "\n",
    "        mega_department_average = total_students / total_sections\n",
    "        self.students = mega_department_average\n",
    "        return f\"Now the {self.name} has an average of {mega_department_average:.1f} students in each section.\"\n",
    "\n",
    "\n",
    "# Driver code\n",
    "d1 = Department()\n",
    "print('1-----------------------------')\n",
    "d2 = Department('MME Department')\n",
    "print('2-----------------------------')\n",
    "d3 = Department('NCE Department', 8)\n",
    "print('3-----------------------------')\n",
    "d1.add_students(12, 23, 12, 34, 21)\n",
    "print('4-----------------------------')\n",
    "d2.add_students(40, 30, 21)\n",
    "print('5-----------------------------')\n",
    "d3.add_students(12, 34, 41, 17, 30, 22, 32, 51)\n",
    "print('6-----------------------------')\n",
    "\n",
    "mega = Department('Engineering Department', 10)\n",
    "print('7-----------------------------')\n",
    "mega.add_students(21, 30, 40, 36, 10, 32, 27, 51, 45, 15)\n",
    "print('8-----------------------------')\n",
    "print(mega.merge_Department(d1, d2))\n",
    "print('9-----------------------------')\n",
    "print(mega.merge_Department(d3))\n"
   ]
  },
  {
   "cell_type": "code",
   "execution_count": 22,
   "metadata": {},
   "outputs": [
    {
     "name": "stdout",
     "output_type": "stream",
     "text": [
      "66\n"
     ]
    },
    {
     "data": {
      "text/plain": [
       "7"
      ]
     },
     "execution_count": 22,
     "metadata": {},
     "output_type": "execute_result"
    }
   ],
   "source": [
    "def tor(*args):\n",
    "    print(sum(args))\n",
    "    return len(args)\n",
    "\n",
    "tor(7,5,6,3,2,1,42)\n"
   ]
  },
  {
   "cell_type": "code",
   "execution_count": 24,
   "metadata": {},
   "outputs": [
    {
     "name": "stdout",
     "output_type": "stream",
     "text": [
      "Frodo has 0 item(s) in the cart.\n",
      "Items: []\n",
      "Total spent: 0.\n",
      "None\n",
      "1----------------------\n",
      "2----------------------\n",
      "Frodo has 3 item(s) in the cart.\n",
      "Items: ['Chicken Lollipop', 'Beef Nugget', 'Americano']\n",
      "Ordered - Chicken Lollipop, quantity - 3, price (per Unit) - 15.\n",
      "Total price - 45\n",
      "Ordered - Beef Nugget, quantity - 6, price (per Unit) - 20.\n",
      "Total price - 120\n",
      "Ordered - Americano, quantity - 1, price (per Unit) - 180.\n",
      "Total price - 180\n",
      "Total spent: 345.\n",
      "None\n",
      "3----------------------\n",
      "4----------------------\n",
      "5----------------------\n",
      "Frodo has 4 item(s) in the cart.\n",
      "Items: ['Chicken Lollipop', 'Beef Nugget', 'Americano', 'Red Velvet']\n",
      "Ordered - Chicken Lollipop, quantity - 3, price (per Unit) - 15.\n",
      "Total price - 45\n",
      "Ordered - Beef Nugget, quantity - 6, price (per Unit) - 20.\n",
      "Total price - 120\n",
      "Ordered - Americano, quantity - 1, price (per Unit) - 180.\n",
      "Total price - 180\n",
      "Ordered - Red Velvet, quantity - 1, price (per Unit) - 150.\n",
      "Total price - 150\n",
      "Total spent: 515.\n",
      "None\n",
      "6----------------------\n",
      "7----------------------\n",
      "8----------------------\n",
      "Bilbo has 2 item(s) in the cart.\n",
      "Items: ['Prawn Tempura', 'Saute Veg']\n",
      "Ordered - Prawn Tempura, quantity - 6, price (per Unit) - 80.\n",
      "Total price - 480\n",
      "Ordered - Saute Veg, quantity - 1, price (per Unit) - 200.\n",
      "Total price - 200\n",
      "Total spent: 680.\n",
      "None\n"
     ]
    }
   ],
   "source": [
    "class Foodie:\n",
    "    menu = {'Chicken Lollipop': 15, 'Beef Nugget': 20, 'Americano': 180, 'Red Velvet': 150, 'Prawn Tempura': 80, 'Saute Veg': 200}\n",
    "\n",
    "    def __init__(self, name):\n",
    "        self.name = name\n",
    "        self.cart = []\n",
    "        self.tips = 0\n",
    "\n",
    "    def order(self, *items):\n",
    "        for item in items:\n",
    "            item_name, quantity = item.split('-')\n",
    "            quantity = int(quantity)\n",
    "            self.cart.append((item_name.strip(), quantity))\n",
    "\n",
    "    def pay_tips(self, tips=0):\n",
    "        self.tips = tips\n",
    "\n",
    "    def show_orders(self):\n",
    "        total_spent = 0\n",
    "        if len(self.cart) == 0:\n",
    "            print(f\"{self.name} has 0 item(s) in the cart.\")\n",
    "            print(\"Items: []\")\n",
    "            print(\"Total spent: 0.\")\n",
    "        else:\n",
    "            print(f\"{self.name} has {len(self.cart)} item(s) in the cart.\")\n",
    "            print(\"Items:\", [item[0] for item in self.cart])\n",
    "            for item in self.cart:\n",
    "                item_name, quantity = item\n",
    "                price_per_unit = self.menu[item_name]\n",
    "                total_price = price_per_unit * quantity\n",
    "                total_spent += total_price\n",
    "                print(f\"Ordered - {item_name}, quantity - {quantity}, price (per Unit) - {price_per_unit}.\")\n",
    "                print(f\"Total price - {total_price}\")\n",
    "            print(f\"Total spent: {total_spent + self.tips}.\")\n",
    "\n",
    "# Driver code\n",
    "menu = {'Chicken Lollipop': 15, 'Beef Nugget': 20, 'Americano': 180, 'Red Velvet': 150, 'Prawn Tempura': 80, 'Saute Veg': 200}\n",
    "f1 = Foodie('Frodo')\n",
    "print(f1.show_orders())\n",
    "print('1----------------------')\n",
    "f1.order('Chicken Lollipop-3', 'Beef Nugget-6', 'Americano-1')\n",
    "print('2----------------------')\n",
    "print(f1.show_orders())\n",
    "print('3----------------------')\n",
    "f1.order('Red Velvet-1')\n",
    "print('4----------------------')\n",
    "f1.pay_tips(20)\n",
    "print('5----------------------')\n",
    "print(f1.show_orders())\n",
    "\n",
    "f2 = Foodie('Bilbo')\n",
    "print('6----------------------')\n",
    "f2.order('Prawn Tempura-6', 'Saute Veg-1')\n",
    "print('7----------------------')\n",
    "f2.pay_tips()\n",
    "print('8----------------------')\n",
    "print(f2.show_orders())\n"
   ]
  },
  {
   "cell_type": "code",
   "execution_count": 26,
   "metadata": {},
   "outputs": [
    {
     "name": "stdout",
     "output_type": "stream",
     "text": [
      "Welcome Guest to Shopidify\n",
      "1xxxxxxxxxxxxxxxxxxxxxxxxxxxxxxxxx\n",
      "Welcome John to Shopidify\n",
      "2xxxxxxxxxxxxxxxxxxxxxxxxxxxxxxxxx\n",
      "Items in the cart for Guest:\n",
      "- Air Jordan: 2x\n",
      "- Luffy Action Figure: 1x\n",
      "3xxxxxxxxxxxxxxxxxxxxxxxxxxxxxxxxx\n",
      "Items in the cart for John:\n",
      "- Chocolate Chip Cookies: 3x\n",
      "- Goku Action Figure: 2x\n",
      "- Dumbbells-5kg: 2x\n",
      "4xxxxxxxxxxxxxxxxxxxxxxxxxxxxxxxxx\n",
      "Items in the cart for Guest:\n",
      "- Air Jordan: 3x\n",
      "- Luffy Action Figure: 1x\n",
      "5xxxxxxxxxxxxxxxxxxxxxxxxxxxxxxxxx\n",
      "Checkout completed for Guest\n",
      "6xxxxxxxxxxxxxxxxxxxxxxxxxxxxxxxxx\n",
      "Purchase history for Guest:\n",
      "Transaction 1:\n",
      "- Air Jordan: 3x\n",
      "- Luffy Action Figure: 1x\n",
      "7xxxxxxxxxxxxxxxxxxxxxxxxxxxxxxxxx\n",
      "Checkout completed for John\n",
      "8xxxxxxxxxxxxxxxxxxxxxxxxxxxxxxxxx\n",
      "Purchase history for John:\n",
      "Transaction 1:\n",
      "- Chocolate Chip Cookies: 3x\n",
      "- Goku Action Figure: 2x\n",
      "- Dumbbells-5kg: 2x\n",
      "9xxxxxxxxxxxxxxxxxxxxxxxxxxxxxxxx\n"
     ]
    }
   ],
   "source": [
    "class Shopidify:\n",
    "    def __init__(self, account_name=\"Guest\"):\n",
    "        self.account_name = account_name\n",
    "        self.cart = {}\n",
    "        self.history = []\n",
    "        print(f\"Welcome {'Guest' if account_name == 'Guest' else account_name} to Shopidify\")\n",
    "\n",
    "    def add_to_cart(self, *items):\n",
    "        if len(items) == 1 and isinstance(items[0], list):\n",
    "            items = items[0]\n",
    "        for i in range(0, len(items), 2):\n",
    "            item = items[i]\n",
    "            quantity = items[i+1] if i+1 < len(items) else 1\n",
    "            if item in self.cart:\n",
    "                self.cart[item] += quantity\n",
    "            else:\n",
    "                self.cart[item] = quantity\n",
    "\n",
    "    def display_cart(self):\n",
    "        print(f\"Items in the cart for {self.account_name}:\")\n",
    "        for item, quantity in self.cart.items():\n",
    "            print(f\"- {item}: {quantity}x\")\n",
    "\n",
    "    def checkout(self):\n",
    "        self.history.append(self.cart)\n",
    "        self.cart = {}\n",
    "        print(f\"Checkout completed for {self.account_name}\")\n",
    "\n",
    "    def display_history(self):\n",
    "        print(f\"Purchase history for {self.account_name}:\")\n",
    "        for i, transaction in enumerate(self.history, 1):\n",
    "            print(f\"Transaction {i}:\")\n",
    "            for item, quantity in transaction.items():\n",
    "                print(f\"- {item}: {quantity}x\")\n",
    "\n",
    "\n",
    "# Test the Shopidify class\n",
    "guest_account = Shopidify()\n",
    "print(\"1xxxxxxxxxxxxxxxxxxxxxxxxxxxxxxxxx\")\n",
    "john_account = Shopidify(\"John\")\n",
    "print(\"2xxxxxxxxxxxxxxxxxxxxxxxxxxxxxxxxx\")\n",
    "guest_account.add_to_cart(\"Air Jordan\", 2)\n",
    "guest_account.add_to_cart(\"Luffy Action Figure\")\n",
    "guest_account.display_cart()\n",
    "print(\"3xxxxxxxxxxxxxxxxxxxxxxxxxxxxxxxxx\")\n",
    "john_account.add_to_cart([\"Chocolate Chip Cookies\", 3, \"Goku Action Figure\", 2, \"Dumbbells-5kg\", 2])\n",
    "john_account.display_cart()\n",
    "print(\"4xxxxxxxxxxxxxxxxxxxxxxxxxxxxxxxxx\")\n",
    "guest_account.add_to_cart(\"Air Jordan\")\n",
    "guest_account.display_cart()\n",
    "print(\"5xxxxxxxxxxxxxxxxxxxxxxxxxxxxxxxxx\")\n",
    "guest_account.checkout()\n",
    "print(\"6xxxxxxxxxxxxxxxxxxxxxxxxxxxxxxxxx\")\n",
    "guest_account.display_history()\n",
    "print(\"7xxxxxxxxxxxxxxxxxxxxxxxxxxxxxxxxx\")\n",
    "john_account.checkout()\n",
    "print(\"8xxxxxxxxxxxxxxxxxxxxxxxxxxxxxxxxx\")\n",
    "john_account.display_history()\n",
    "print(\"9xxxxxxxxxxxxxxxxxxxxxxxxxxxxxxxx\")\n"
   ]
  }
 ],
 "metadata": {
  "kernelspec": {
   "display_name": "Python 3",
   "language": "python",
   "name": "python3"
  },
  "language_info": {
   "codemirror_mode": {
    "name": "ipython",
    "version": 3
   },
   "file_extension": ".py",
   "mimetype": "text/x-python",
   "name": "python",
   "nbconvert_exporter": "python",
   "pygments_lexer": "ipython3",
   "version": "3.12.2"
  }
 },
 "nbformat": 4,
 "nbformat_minor": 2
}
