{
  "nbformat": 4,
  "nbformat_minor": 0,
  "metadata": {
    "colab": {
      "provenance": []
    },
    "kernelspec": {
      "name": "python3",
      "display_name": "Python 3"
    },
    "language_info": {
      "name": "python"
    }
  },
  "cells": [
    {
      "cell_type": "code",
      "metadata": {
        "id": "VJX-kB65LXy3"
      },
      "source": [
        "#dir(list)\n",
        "#dir(tuple)"
      ],
      "execution_count": null,
      "outputs": []
    },
    {
      "cell_type": "markdown",
      "metadata": {
        "id": "Nvu8G4vqwOgd"
      },
      "source": [
        "NOTE : Using In Built Function are heavily scrutanized so please ask your section faculty before using any in exams.\n",
        "\n",
        "You can use len()"
      ]
    },
    {
      "cell_type": "markdown",
      "metadata": {
        "id": "MhLa339lL_28"
      },
      "source": [
        "# **TUPLE**\n",
        "\n",
        "```\n",
        "1. A data structure just like List.\n",
        "2. It is ordered.\n",
        "3. It allows duplicate values.\n",
        "4. It is immutable. So they are list without the ability for the element to be changed.\n",
        "\n",
        "We use 'round brackets' to represent TUPLES.\n",
        "```"
      ]
    },
    {
      "cell_type": "code",
      "source": [
        "tuple1 = (1,2)\n",
        "dir(tuple1)"
      ],
      "metadata": {
        "colab": {
          "base_uri": "https://localhost:8080/"
        },
        "id": "OCdUab9we8vx",
        "outputId": "ee64dc2f-cc8f-42d0-bd75-5b7e9a535ab9"
      },
      "execution_count": null,
      "outputs": [
        {
          "output_type": "execute_result",
          "data": {
            "text/plain": [
              "['__add__',\n",
              " '__class__',\n",
              " '__contains__',\n",
              " '__delattr__',\n",
              " '__dir__',\n",
              " '__doc__',\n",
              " '__eq__',\n",
              " '__format__',\n",
              " '__ge__',\n",
              " '__getattribute__',\n",
              " '__getitem__',\n",
              " '__getnewargs__',\n",
              " '__gt__',\n",
              " '__hash__',\n",
              " '__init__',\n",
              " '__init_subclass__',\n",
              " '__iter__',\n",
              " '__le__',\n",
              " '__len__',\n",
              " '__lt__',\n",
              " '__mul__',\n",
              " '__ne__',\n",
              " '__new__',\n",
              " '__reduce__',\n",
              " '__reduce_ex__',\n",
              " '__repr__',\n",
              " '__rmul__',\n",
              " '__setattr__',\n",
              " '__sizeof__',\n",
              " '__str__',\n",
              " '__subclasshook__',\n",
              " 'count',\n",
              " 'index']"
            ]
          },
          "metadata": {},
          "execution_count": 5
        }
      ]
    },
    {
      "cell_type": "code",
      "metadata": {
        "colab": {
          "base_uri": "https://localhost:8080/"
        },
        "id": "Uvh6ujiEMBqz",
        "outputId": "bccb7479-3406-4d59-f916-01a5ac042462"
      },
      "source": [
        "tuple1 = (\"Abc\",123,5.2,123)\n",
        "print(tuple1)\n",
        "\n",
        "#These are the two inbuilt function tuple have\n",
        "print(tuple1.index(123)) # The index of an element which appears. Only returns the first occurance of the element\n",
        "print(tuple1.count(123)) # No. of times an element occurs. Returns zero if it is not in the tuple"
      ],
      "execution_count": null,
      "outputs": [
        {
          "output_type": "stream",
          "name": "stdout",
          "text": [
            "('Abc', 123, 5.2, 123)\n",
            "1\n",
            "2\n"
          ]
        }
      ]
    },
    {
      "cell_type": "markdown",
      "metadata": {
        "id": "DYldJXCok7df"
      },
      "source": [
        "As tuple is immutable(cant be altered once declared). These are the methods it doesnot support."
      ]
    },
    {
      "cell_type": "code",
      "metadata": {
        "id": "3X3fUsfIRMnt"
      },
      "source": [
        "tuple1 = (\"Abc\",123,5.2,123)\n",
        "\n",
        "#tuple1[1]= 4\n",
        "#tuple1.append(5)\n",
        "#tuple1.extend(100)\n",
        "#tuple1.replace(123,456)\n",
        "\n",
        "#You can uncomment them to see the error message appear"
      ],
      "execution_count": null,
      "outputs": []
    },
    {
      "cell_type": "markdown",
      "metadata": {
        "id": "erhCHXhdlQXE"
      },
      "source": [
        "##.index() in detail"
      ]
    },
    {
      "cell_type": "code",
      "metadata": {
        "colab": {
          "base_uri": "https://localhost:8080/"
        },
        "id": "7Rm6HgbpNDEL",
        "outputId": "0bf39148-43bb-40c1-a0d2-5e3d2b69045f"
      },
      "source": [
        "#index()\n",
        "i = 0\n",
        "tuple1 = (\"Abc\",2,5.2,123)\n",
        "\n",
        "while (i>=0):\n",
        "  if tuple1[i] == 123:\n",
        "    break\n",
        "  else:\n",
        "    i+=1\n",
        "print(i)"
      ],
      "execution_count": null,
      "outputs": [
        {
          "output_type": "stream",
          "name": "stdout",
          "text": [
            "3\n"
          ]
        }
      ]
    },
    {
      "cell_type": "markdown",
      "metadata": {
        "id": "4CsO2Q6_lKvb"
      },
      "source": [
        "Replacement for inbuilt .count() method"
      ]
    },
    {
      "cell_type": "code",
      "metadata": {
        "colab": {
          "base_uri": "https://localhost:8080/"
        },
        "id": "m-1jR_yBOAa3",
        "outputId": "d3b2ee58-5787-4d57-b8ef-8b67e49dbb5b"
      },
      "source": [
        "#count\n",
        "tuple1 = (\"Abc\",123,5.2,123)\n",
        "x= 123   #x is the element we are counting\n",
        "count=0\n",
        "for i in tuple1:\n",
        "  if i == x:  #count increases once we get our target element\n",
        "    count+=1\n",
        "\n",
        "print(count)"
      ],
      "execution_count": null,
      "outputs": [
        {
          "output_type": "stream",
          "name": "stdout",
          "text": [
            "2\n"
          ]
        }
      ]
    },
    {
      "cell_type": "markdown",
      "metadata": {
        "id": "kA-zAVIDlmiE"
      },
      "source": [
        "Getting the first and last element (Same for string and lists)"
      ]
    },
    {
      "cell_type": "code",
      "metadata": {
        "colab": {
          "base_uri": "https://localhost:8080/"
        },
        "id": "O7qfiYGUOeDS",
        "outputId": "af77d136-0d46-4c30-9abc-126cc9184cd4"
      },
      "source": [
        "#          -4    -3  -2  -1\n",
        "tuple1 = (\"Abc\",123,5.2,123)\n",
        "#          0     1   2   3\n",
        "\n",
        "\n",
        "print(\"First element\",tuple1[0])\n",
        "\n",
        "#Following ways to get last element\n",
        "print(\"Last element\")\n",
        "print(tuple1[3])\n",
        "print(tuple1[len(tuple1)-1])\n",
        "print(tuple1[-1])\n"
      ],
      "execution_count": null,
      "outputs": [
        {
          "output_type": "stream",
          "name": "stdout",
          "text": [
            "First element Abc\n",
            "Last element\n",
            "123\n",
            "123\n",
            "123\n"
          ]
        }
      ]
    },
    {
      "cell_type": "markdown",
      "metadata": {
        "id": "A4i0WFZQPVkE"
      },
      "source": [
        "**Slicing**"
      ]
    },
    {
      "cell_type": "code",
      "metadata": {
        "colab": {
          "base_uri": "https://localhost:8080/"
        },
        "id": "y9cXs7vrPXG5",
        "outputId": "e47a6870-d42e-40e5-f7c8-f7794af914a5"
      },
      "source": [
        "#          -4  -3   -2  -1\n",
        "tuple1 = (\"Abc\",123,5.2,123)\n",
        "#          0     1   2   3\n",
        "\n",
        "\n",
        "#All elements\n",
        "print(tuple1[0:len(tuple1)])\n",
        "print(tuple1[0:len(tuple1):1])\n",
        "print(tuple1[::])\n",
        "\n",
        "\n",
        "#All elements from a particular index(in this case 1)\n",
        "print(tuple1[1:len(tuple1)])\n",
        "print(tuple1[1:len(tuple1):1])\n",
        "print(tuple1[1:])\n",
        "\n",
        "#Reverse Print\n",
        "print(tuple1[len(tuple1)-1: :-1])  #positive indexing\n",
        "print(tuple1[-1:-len(tuple1)-1:-1])  #negative indexing\n",
        "print(tuple1[-1::-1])   #negative indexing\n",
        "print(tuple1[::-1])     #negative indexing\n",
        "\n",
        "#Reverse from a particular point\n",
        "print(tuple1[2::-1])   #positive indexing\n",
        "print(tuple1[-2::-1])   #negative indexing"
      ],
      "execution_count": null,
      "outputs": [
        {
          "output_type": "stream",
          "name": "stdout",
          "text": [
            "('Abc', 123, 5.2, 123)\n",
            "('Abc', 123, 5.2, 123)\n",
            "('Abc', 123, 5.2, 123)\n",
            "(123, 5.2, 123)\n",
            "(123, 5.2, 123)\n",
            "(123, 5.2, 123)\n",
            "(123, 5.2, 123, 'Abc')\n",
            "(123, 5.2, 123, 'Abc')\n",
            "(123, 5.2, 123, 'Abc')\n",
            "(123, 5.2, 123, 'Abc')\n",
            "(5.2, 123, 'Abc')\n",
            "(5.2, 123, 'Abc')\n"
          ]
        }
      ]
    },
    {
      "cell_type": "code",
      "metadata": {
        "colab": {
          "base_uri": "https://localhost:8080/"
        },
        "id": "xHw7NNkRSDpI",
        "outputId": "a743080b-b10a-4072-b013-016f72b308da"
      },
      "source": [
        "tuple1 = (1,4)\n",
        "print(tuple1*4)"
      ],
      "execution_count": null,
      "outputs": [
        {
          "output_type": "stream",
          "name": "stdout",
          "text": [
            "(1, 4, 1, 4, 1, 4, 1, 4)\n"
          ]
        }
      ]
    },
    {
      "cell_type": "markdown",
      "metadata": {
        "id": "zq5okyzFmxLe"
      },
      "source": [
        "### Taking inputs into tuple"
      ]
    },
    {
      "cell_type": "markdown",
      "metadata": {
        "id": "UUL66KFwoFGZ"
      },
      "source": [
        "**Tuple to List to Tuple**"
      ]
    },
    {
      "cell_type": "code",
      "metadata": {
        "colab": {
          "base_uri": "https://localhost:8080/"
        },
        "id": "wWg0ysPwdSTd",
        "outputId": "20818fff-c908-4784-b586-a7662f3f45d4"
      },
      "source": [
        "tuple1 = (\"Abc\",123,5.2,123)\n",
        "\n",
        "list1= list(tuple1) # converted to list\n",
        "\n",
        "list1[1]= 4     #updating the list\n",
        "print(list1)\n",
        "\n",
        "tuple1 = tuple(list1)   #converting to tuple\n",
        "print(tuple1)\n"
      ],
      "execution_count": null,
      "outputs": [
        {
          "output_type": "stream",
          "name": "stdout",
          "text": [
            "['Abc', 4, 5.2, 123]\n",
            "('Abc', 4, 5.2, 123)\n"
          ]
        }
      ]
    },
    {
      "cell_type": "markdown",
      "metadata": {
        "id": "SOAV1lywprrt"
      },
      "source": [
        "Way01(Taking inputs from user into a tuple)"
      ]
    },
    {
      "cell_type": "code",
      "metadata": {
        "id": "7IjELLZLhHAf"
      },
      "source": [
        "s = input(\"Please enter the tuple\").split(\",\")\n",
        "print(s) #s is a list\n",
        "\n",
        "emplist= []\n",
        "for i in s:\n",
        "  emplist.append(int(i)) #Each element are converted to integer and appended to the empty list\n",
        "\n",
        "tuple1 = tuple(emplist)  #Converted to tuple\n",
        "print(tuple1)"
      ],
      "execution_count": null,
      "outputs": []
    },
    {
      "cell_type": "markdown",
      "metadata": {
        "id": "EoEzLgkeqH5v"
      },
      "source": [
        "Way02(Taking inputs from user into a tuple)"
      ]
    },
    {
      "cell_type": "code",
      "metadata": {
        "id": "JJ6XodcPiqWY"
      },
      "source": [
        "tuple1 = tuple([int(i) for i in input(\"please enter the list \").split(\",\")])\n",
        "print(tuple1)"
      ],
      "execution_count": null,
      "outputs": []
    },
    {
      "cell_type": "markdown",
      "metadata": {
        "id": "sHtiuv9Yr32t"
      },
      "source": [
        "# **DICTIONARY**\n",
        "\n",
        "\n",
        "\n",
        "```\n",
        "1. Ordered\n",
        "2. Mutable\n",
        "3. No duplicate keys\n",
        "\n",
        "Think of dictionary as a advanced list with the ability to manually assign keys/index\n",
        "```\n",
        "![image.png](data:image/png;base64,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)\n"
      ]
    },
    {
      "cell_type": "code",
      "metadata": {
        "id": "KQVKEsrAYmUX",
        "colab": {
          "base_uri": "https://localhost:8080/"
        },
        "outputId": "0575189d-be98-4b4f-b3ae-f93337e8dd0f"
      },
      "source": [
        "dic1 = {1:\"A\",2:\"B\",3:\"C\"}\n",
        "\n",
        "#Just like in our normal everyday dictionary where we have a meaning for every word in python we have dictionary where for a KEY(INDEX) we have a value\n",
        "\n",
        "\n",
        "\n",
        "print(dic1.keys())   #Shows all the keys in a list format\n",
        "print(dic1.values()) #Shows all the values in list format\n",
        "print(dic1.items())  #Shows all the key and correspoding values in a list format"
      ],
      "execution_count": null,
      "outputs": [
        {
          "output_type": "stream",
          "name": "stdout",
          "text": [
            "dict_keys([1, 2, 3])\n",
            "dict_values(['A', 'B', 'C'])\n",
            "dict_items([(1, 'A'), (2, 'B'), (3, 'C')])\n"
          ]
        }
      ]
    },
    {
      "cell_type": "markdown",
      "metadata": {
        "id": "DzmRsdArs4ir"
      },
      "source": [
        "Working with .items()"
      ]
    },
    {
      "cell_type": "code",
      "metadata": {
        "id": "FDO-gT9RZIaR",
        "colab": {
          "base_uri": "https://localhost:8080/"
        },
        "outputId": "0eaca629-3fa0-49bf-a3fd-5bb8d5052a24"
      },
      "source": [
        "dic1 = {1:\"A\",2:\"B\",3:\"C\"}\n",
        "#Used to iterate through the dictonaries to show the items\n",
        "\n",
        "for i in dic1.items():\n",
        "  print(i) #the key and values in a tuple. To seperate them we need to use tuple indexing and two seperate variable to put the key and value of the dictionary\n"
      ],
      "execution_count": null,
      "outputs": [
        {
          "output_type": "stream",
          "name": "stdout",
          "text": [
            "(1, 'A')\n",
            "(2, 'B')\n",
            "(3, 'C')\n"
          ]
        }
      ]
    },
    {
      "cell_type": "code",
      "source": [
        "#Use this\n",
        "for key,val in dic1.items():\n",
        "  print(key,val) #The key and values seperately\n"
      ],
      "metadata": {
        "colab": {
          "base_uri": "https://localhost:8080/"
        },
        "id": "-d02bUY0_LFw",
        "outputId": "eb15fbcb-eb3a-4b22-b7f2-6d7a6dfa5b7f"
      },
      "execution_count": null,
      "outputs": [
        {
          "output_type": "stream",
          "name": "stdout",
          "text": [
            "1 A\n",
            "2 B\n",
            "3 C\n"
          ]
        }
      ]
    },
    {
      "cell_type": "code",
      "source": [
        "for i in dic1.items():\n",
        "  key,val = i\n",
        "  print(key,val)"
      ],
      "metadata": {
        "colab": {
          "base_uri": "https://localhost:8080/"
        },
        "id": "feolhc_L_YP3",
        "outputId": "763dfefc-6b59-46af-c3ac-1551e2891255"
      },
      "execution_count": null,
      "outputs": [
        {
          "output_type": "stream",
          "name": "stdout",
          "text": [
            "1 A\n",
            "2 B\n",
            "3 C\n"
          ]
        }
      ]
    },
    {
      "cell_type": "markdown",
      "metadata": {
        "id": "DfiNtAmFs-Gc"
      },
      "source": [
        "Working with .keys() and .values()"
      ]
    },
    {
      "cell_type": "code",
      "metadata": {
        "id": "QcSRFlyuZaen",
        "colab": {
          "base_uri": "https://localhost:8080/"
        },
        "outputId": "a5322417-5bf1-4528-ee24-cd8bb36545f9"
      },
      "source": [
        "dic1 = {1:\"A\",2:\"B\",3:\"C\"}\n",
        "\n",
        "#Only shows the keys\n",
        "for key in dic1.keys(): #[1,2,3]\n",
        "  print(key)"
      ],
      "execution_count": null,
      "outputs": [
        {
          "output_type": "stream",
          "name": "stdout",
          "text": [
            "1\n",
            "2\n",
            "3\n"
          ]
        }
      ]
    },
    {
      "cell_type": "code",
      "source": [
        "#Only shows the values\n",
        "for val in dic1.values(): #[A,B,C]\n",
        "  print(val)"
      ],
      "metadata": {
        "colab": {
          "base_uri": "https://localhost:8080/"
        },
        "id": "jgR0ch9G-6-w",
        "outputId": "ba71be94-6abf-4704-c605-dbac69e89276"
      },
      "execution_count": null,
      "outputs": [
        {
          "output_type": "stream",
          "name": "stdout",
          "text": [
            "A\n",
            "B\n",
            "C\n"
          ]
        }
      ]
    },
    {
      "cell_type": "markdown",
      "source": [
        "### Retreiving Value for a key"
      ],
      "metadata": {
        "id": "NvpRRIWws7G9"
      }
    },
    {
      "cell_type": "markdown",
      "source": [
        "Way 01(Simple Way)\n",
        "\n",
        "`*Used most of the times`"
      ],
      "metadata": {
        "id": "UHb6q_tqs7QE"
      }
    },
    {
      "cell_type": "code",
      "source": [
        "closet = {'shirt':3,'pant':4,'scarf':2}\n",
        "\n",
        "print(closet['shirt'])\n",
        "#print(closet['jacket'])    #Uncomment the line. This gives an an error as no key called \"jacket\" is in the dictionary"
      ],
      "metadata": {
        "colab": {
          "base_uri": "https://localhost:8080/"
        },
        "id": "_7A0DFBks7gd",
        "outputId": "5f0fa95e-f4b6-47d7-9022-30ca82a52463"
      },
      "execution_count": null,
      "outputs": [
        {
          "output_type": "stream",
          "name": "stdout",
          "text": [
            "3\n"
          ]
        }
      ]
    },
    {
      "cell_type": "markdown",
      "source": [
        "Way 02(Using get method)"
      ],
      "metadata": {
        "id": "F3NuBMFaudu3"
      }
    },
    {
      "cell_type": "code",
      "source": [
        "closet = {'shirt':3,'pant':4,'scarf':2}\n",
        "\n",
        "\n",
        "print(\"key present->\",closet.get('shirt'))\n",
        "\n",
        "print(\"Key absent 01->\",closet.get('jacket'))   #As 'jacket' key is not present so we get a None output.\n",
        "print(\"Key absent 02->\",closet.get('jacket',\"Cloth unavailable\"))    #Here we are assigning a custom made  message for absent keys"
      ],
      "metadata": {
        "colab": {
          "base_uri": "https://localhost:8080/"
        },
        "id": "aBosd4hnuhs3",
        "outputId": "7151df77-8038-4555-8cdf-6db8914f4eea"
      },
      "execution_count": null,
      "outputs": [
        {
          "output_type": "stream",
          "name": "stdout",
          "text": [
            "key present-> 3\n",
            "Key absent 01-> None\n",
            "Key absent 02-> Cloth unavailable\n"
          ]
        }
      ]
    },
    {
      "cell_type": "markdown",
      "source": [
        "###Adding or Updating new keys"
      ],
      "metadata": {
        "id": "4uzqRebSiG16"
      }
    },
    {
      "cell_type": "markdown",
      "metadata": {
        "id": "pf_KT6jsuMJJ"
      },
      "source": [
        "(Way 01) - using Assignment operator"
      ]
    },
    {
      "cell_type": "code",
      "metadata": {
        "id": "pD5hgagNaQNJ",
        "colab": {
          "base_uri": "https://localhost:8080/"
        },
        "outputId": "87be61b1-fccd-4e3f-d29c-6ab5d1d619a7"
      },
      "source": [
        "closet = {'shirt':3,'pant':4,'scarf':2}\n",
        "\n",
        "print(closet)\n",
        "\n",
        "#Adds new key and value if key not present\n",
        "closet[\"shoes\"]= 10\n",
        "print(\"Dictionary after key is added----->\",closet)\n",
        "\n",
        "#Updates the value of key, if key is present\n",
        "closet[\"shoes\"]= 1\n",
        "print(\"Dictionary after value of key updated----->\",closet)\n",
        "\n",
        "\n",
        "#Updates the value of key by incrementing it\n",
        "closet[\"shoes\"]= closet['shoes'] + 15\n",
        "print(\"Dictionary after value is incremented----->\",closet)"
      ],
      "execution_count": null,
      "outputs": [
        {
          "output_type": "stream",
          "name": "stdout",
          "text": [
            "{'shirt': 3, 'pant': 4, 'scarf': 2}\n",
            "Dictionary after key is added-----> {'shirt': 3, 'pant': 4, 'scarf': 2, 'shoes': 10}\n",
            "Dictionary after value of key updated-----> {'shirt': 3, 'pant': 4, 'scarf': 2, 'shoes': 1}\n",
            "Dictionary after value is incremented-----> {'shirt': 3, 'pant': 4, 'scarf': 2, 'shoes': 16}\n"
          ]
        }
      ]
    },
    {
      "cell_type": "markdown",
      "metadata": {
        "id": "WZZTCZfQuMs_"
      },
      "source": [
        "(Way 02) - Using update method"
      ]
    },
    {
      "cell_type": "code",
      "metadata": {
        "id": "WbRFhZ8GbQpI",
        "colab": {
          "base_uri": "https://localhost:8080/"
        },
        "outputId": "7e456f87-2e0e-489d-f2b1-e3f5abb5629a"
      },
      "source": [
        "closet = {'shirt':3,'pant':4,'scarf':2}\n",
        "\n",
        "#Adds new key and value if key not present\n",
        "closet.update({\"shoes\":5}) #here we are taking a new dictories as an input\n",
        "print(closet)\n",
        "\n",
        "#Updates the value of key, if key is present\n",
        "closet.update({\"shoes\":8})\n",
        "print(closet)\n",
        "\n",
        "\n",
        "\n",
        "closet.update({\"Tshirt\":3, \"jeans\":1}) #List with multiple keys+index can ONLY be added with update method not with assignment operator\n",
        "print(closet)\n"
      ],
      "execution_count": null,
      "outputs": [
        {
          "output_type": "stream",
          "name": "stdout",
          "text": [
            "{'shirt': 3, 'pant': 4, 'scarf': 2, 'shoes': 5}\n",
            "{'shirt': 3, 'pant': 4, 'scarf': 2, 'shoes': 8}\n",
            "{'shirt': 3, 'pant': 4, 'scarf': 2, 'shoes': 8, 'Tshirt': 3, 'jeans': 1}\n"
          ]
        }
      ]
    },
    {
      "cell_type": "markdown",
      "metadata": {
        "id": "PNMf3YH0N5eq"
      },
      "source": [
        "### Taking inputs from user"
      ]
    },
    {
      "cell_type": "markdown",
      "metadata": {
        "id": "quyrfvGROvNG"
      },
      "source": [
        "Way 01(Taking inputs in different lines with key and correspnding values on DIFFERENT LINES)"
      ]
    },
    {
      "cell_type": "code",
      "metadata": {
        "id": "vleWIXoiOHbf"
      },
      "source": [
        "n=int(input(\"enter a number of elements in the dict: \"))\n",
        "my_dict = {}\n",
        "for i in range (n):\n",
        "      key=input(\"Enter key :\") #Ask user for the key\n",
        "      value=input(\"Enter values :\") #Ask user for the corresponding value\n",
        "      my_dict.update({key: value}) #new key+value added\n",
        "print(my_dict)"
      ],
      "execution_count": null,
      "outputs": []
    },
    {
      "cell_type": "markdown",
      "metadata": {
        "id": "Bx5QMO9UTJm4"
      },
      "source": [
        "Way 02(Taking inputs in different lines with key and correspnding value on SAME LINES)"
      ]
    },
    {
      "cell_type": "code",
      "metadata": {
        "id": "v-JGQ1FtSaks",
        "colab": {
          "base_uri": "https://localhost:8080/"
        },
        "outputId": "14fccf47-45f5-4631-d87b-d8e25db24561"
      },
      "source": [
        "\n",
        "n=int(input(\"enter a number of elements in the dict: \"))\n",
        "\n",
        "my_dict = {}\n",
        "\n",
        "#A 1\n",
        "#B 2\n",
        "for i in range (n): #loop runs n number of times\n",
        "      key, value =input(\"Enter key and value with space:\").split(\" \")  #User give key value and it is put into corresponding variables\n",
        "      my_dict.update({key: value}) #new key+value added\n",
        "print(my_dict)\n"
      ],
      "execution_count": null,
      "outputs": [
        {
          "output_type": "stream",
          "name": "stdout",
          "text": [
            "enter a number of elements in the dict: 2\n",
            "Enter key and value with space:A 2\n",
            "Enter key and value with space:B 5\n",
            "{'A': '2', 'B': '5'}\n"
          ]
        }
      ]
    },
    {
      "cell_type": "markdown",
      "metadata": {
        "id": "GTdOi7fETKV8"
      },
      "source": [
        "Way 03(Taking the whole dictories on a single line) ---> Does not remove the inverted comma and space over input string"
      ]
    },
    {
      "cell_type": "code",
      "metadata": {
        "id": "UxEeSuIZWyhz",
        "colab": {
          "base_uri": "https://localhost:8080/"
        },
        "outputId": "e7a9f94c-a6fc-4306-c04b-679f25aff017"
      },
      "source": [
        "#input= \"{shirt: 3,pant: 4,scarf: 2,shoes: 5}\"\n",
        "list1 = input(\"Please input your dictories\")[1:-1].split(\",\") #\"{shirt: 3,pant: 4,scarf: 2,shoes: 5}\" --> shirt: 3,pant: 4,scarf: 2,shoes: 5--> [\"shirt: 3\",\"pant: 4\",\"scarf: 2\",\"shoes: 5\"]\n",
        "print(list1) #element is a key value pair\n",
        "\n",
        "my_dict={}\n",
        "\n",
        "for elem in list1: #elem= \"shirt: 3\"\n",
        "     key,value = elem.split(\": \")  #One element is key:value --> [\"shirt\",\"3\"]\n",
        "     my_dict.update({key:int(value)})    #Key and value is added to dictories. Same as my_dict[key] = int(value)\n",
        "\n",
        "print(my_dict)\n"
      ],
      "execution_count": null,
      "outputs": [
        {
          "output_type": "stream",
          "name": "stdout",
          "text": [
            "Please input your dictories{shirt: 3,pant: 4,scarf: 2,shoes: 5}\n",
            "['shirt: 3', 'pant: 4', 'scarf: 2', 'shoes: 5']\n",
            "{'shirt': 3, 'pant': 4, 'scarf': 2, 'shoes': 5}\n"
          ]
        }
      ]
    },
    {
      "cell_type": "markdown",
      "metadata": {
        "id": "qNIlGVmXXAWg"
      },
      "source": [
        "Way 04(Taking the whole dictories on a single line)--> Removes the inverted comma over string and every whitespace"
      ]
    },
    {
      "cell_type": "code",
      "source": [
        "string = \"ABC\"\n",
        "print(len(string),string[0])"
      ],
      "metadata": {
        "id": "pki61DJxpH-L",
        "outputId": "7e0a58f9-1053-4aac-d725-ae448b71422b",
        "colab": {
          "base_uri": "https://localhost:8080/"
        }
      },
      "execution_count": null,
      "outputs": [
        {
          "output_type": "stream",
          "name": "stdout",
          "text": [
            "3 A\n"
          ]
        }
      ]
    },
    {
      "cell_type": "code",
      "source": [
        "string = \"'ABC'\"\n",
        "print(len(string),string[0])"
      ],
      "metadata": {
        "colab": {
          "base_uri": "https://localhost:8080/"
        },
        "id": "J4lK4V9IYjbp",
        "outputId": "607946e1-75ab-4a07-8c0b-cd5dd66e65bc"
      },
      "execution_count": null,
      "outputs": [
        {
          "output_type": "stream",
          "name": "stdout",
          "text": [
            "5 '\n"
          ]
        }
      ]
    },
    {
      "cell_type": "code",
      "source": [
        "string2= '\"ABC\"'\n",
        "print(len(string2),string2[0])\n"
      ],
      "metadata": {
        "colab": {
          "base_uri": "https://localhost:8080/"
        },
        "id": "1yrdeTUTxAbY",
        "outputId": "40f2f9ed-f951-4a6c-e0ef-579b79a087bd"
      },
      "execution_count": null,
      "outputs": [
        {
          "output_type": "stream",
          "name": "stdout",
          "text": [
            "5 \"\n"
          ]
        }
      ]
    },
    {
      "cell_type": "code",
      "metadata": {
        "colab": {
          "base_uri": "https://localhost:8080/"
        },
        "id": "X2cE6FQxLzmR",
        "outputId": "83a28bec-2b0f-424a-87a1-8f039b305577"
      },
      "source": [
        "#sample input = \"{'shirt': ' 3', 'pant': ' 4', 'scarf': ' 2', 'shoes': ' 5'}\"\n",
        "\n",
        "\n",
        "list1 = input(\"Please input your dictories  \")[1:-1].split(\", \")  #brackets removed. Split over a comma followed by a whitespace\n",
        "\n",
        "print(list1) #[\"'shirt': '3'\", \"'pant': '4'\", \"'scarf': '2'\", \"'shoes': '5'\"]  \\\\ //  one element= \"'shirt': '3'\"\n",
        "\n",
        "my_dict={}\n",
        "\n",
        "for element in list1:                 #element = \"'shirt': ' 3'\"\n",
        "     key,value = element.split(\": \")  #One element is \"key:value\". Here we also conside the SPACE AFTER :    key= \"'shirt'\" value= \"' 3'\"\n",
        "\n",
        "     key = key[1:-1]    #We removed the single inverted comma(') from the string. Do note single string is also a string itslef\n",
        "     #key = \"'shirt'\" --> \"shirt\"\n",
        "\n",
        "     value = int(value[1:-1])  #We removed the single inverted comma(') from the string. Then we remove the space around 3. Finally convert them to integer\n",
        "     #value = \"' 3'\" -->\"  3\"--->\"3\"-->3\n",
        "\n",
        "     my_dict.update({key: value})    #Key and value is added to dictories. Same as-->  my_dict[key]=value\n",
        "\n",
        "print(\"This is the dictionary\",my_dict)"
      ],
      "execution_count": null,
      "outputs": [
        {
          "output_type": "stream",
          "name": "stdout",
          "text": [
            "Please input your dictories  {'shirt': ' 3', 'pant': ' 4', 'scarf': ' 2', 'shoes': ' 5'}\n",
            "[\"'shirt': ' 3'\", \"'pant': ' 4'\", \"'scarf': ' 2'\", \"'shoes': ' 5'\"]\n",
            "This is the dictionary {'shirt': 3, 'pant': 4, 'scarf': 2, 'shoes': 5}\n"
          ]
        }
      ]
    },
    {
      "cell_type": "markdown",
      "metadata": {
        "id": "uG5th7DWUgNn"
      },
      "source": [
        "### Predefined vs Manually generated keys in dictionary\n",
        "![image.png](data:image/png;base64,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)"
      ]
    },
    {
      "cell_type": "markdown",
      "metadata": {
        "id": "u7GytwsaU5fY"
      },
      "source": [
        "First: Predefined Key\n",
        "\n",
        "Problem:    \n",
        "1. Empty value or empty list in value if the key does not appear in the input\n",
        "2. Error if the key appears in the input but the key not present in the dictionary."
      ]
    },
    {
      "cell_type": "code",
      "metadata": {
        "colab": {
          "base_uri": "https://localhost:8080/"
        },
        "id": "E5ri0Qq4U5on",
        "outputId": "7515d830-f211-4679-ea65-356170694fcd"
      },
      "source": [
        "strng = \"000121\"  #output= {0:[0,0,0],1:[1,1],2:[2],3:[]}\n",
        "\n",
        "dict1 = {\"0\":[],\"1\":[],\"2\":[],\"3\":[]}\n",
        "\n",
        "for i in strng:\n",
        "\n",
        "  dict1[i].append(i)  #A value is added to the list, if the key exists. Otherwise error\n",
        "\n",
        "print(dict1)"
      ],
      "execution_count": null,
      "outputs": [
        {
          "output_type": "stream",
          "name": "stdout",
          "text": [
            "{'0': ['0', '0', '0'], '1': ['1', '1'], '2': ['2'], '3': []}\n"
          ]
        }
      ]
    },
    {
      "cell_type": "markdown",
      "metadata": {
        "id": "EAcjzl8cRovg"
      },
      "source": [
        "Second: Manually generated dictionary key.\n",
        "\n",
        "Note: No chance of empty value or empty list or error for any key for any test case"
      ]
    },
    {
      "cell_type": "code",
      "metadata": {
        "colab": {
          "base_uri": "https://localhost:8080/"
        },
        "id": "XSTtWdK2OqlC",
        "outputId": "2036327d-3e4c-41d3-88d8-f3d18dfa552c"
      },
      "source": [
        "strng = \"000121\"  #{0:[0,0,0],1:[1,1],2:[2]}\n",
        "\n",
        "dict1 = {}\n",
        "\n",
        "for i in strng:\n",
        "\n",
        "  if i not in dict1.keys(): #Only creates a list in the value of the dictionary when key is absent in dictionary.\n",
        "    dict1[i] = [i]\n",
        "  else:\n",
        "    dict1[i].append(i)  #No matter what, a value is added to the list\n",
        "\n",
        "print(dict1)"
      ],
      "execution_count": null,
      "outputs": [
        {
          "output_type": "stream",
          "name": "stdout",
          "text": [
            "{'0': ['0', '0', '0'], '1': ['1', '1'], '2': ['2']}\n"
          ]
        }
      ]
    },
    {
      "cell_type": "code",
      "source": [
        "strng = \"000121\"  #{0:[0,0,0],1:[1,1],2:[2]}\n",
        "\n",
        "dict1 = {}\n",
        "\n",
        "for i in strng:\n",
        "\n",
        "  if i not in dict1.keys(): #If the key is absent in dictionary, only creates a list in the value of the dictionary and adds a digit.\n",
        "    dict1[i] = [i]\n",
        "\n",
        "  else:\n",
        "    dict1[i].append(i)  #If the key is present, then simply adds a digit.\n",
        "\n",
        "print(dict1)"
      ],
      "metadata": {
        "colab": {
          "base_uri": "https://localhost:8080/"
        },
        "id": "Sp7L4xL7YToz",
        "outputId": "c9484957-2475-4956-952a-567b6087f941"
      },
      "execution_count": null,
      "outputs": [
        {
          "output_type": "stream",
          "name": "stdout",
          "text": [
            "{'0': ['0', '0', '0'], '1': ['1', '1'], '2': ['2']}\n"
          ]
        }
      ]
    },
    {
      "cell_type": "code",
      "source": [
        "list_1 = [(\"a\", 1), (\"b\", 2), (\"a\", 3), (\"b\", 1), (\"a\", 2), (\"c\", 1)]\n",
        "d = {} #{}\n",
        "for i in list_1:\n",
        "  k,v = i   #k = a , v = 3\n",
        "\n",
        "  if k not in d.keys():\n",
        "    d[k] = [v]\n",
        "  else:\n",
        "    d[k].append(v)\n",
        "\n",
        "print(d)\n"
      ],
      "metadata": {
        "colab": {
          "base_uri": "https://localhost:8080/"
        },
        "id": "qHcOhNTUbcDS",
        "outputId": "062caab6-be0b-481f-ba14-434b5547a163"
      },
      "execution_count": null,
      "outputs": [
        {
          "output_type": "stream",
          "name": "stdout",
          "text": [
            "{'a': [1, 3, 2], 'b': [2, 1], 'c': [1]}\n"
          ]
        }
      ]
    },
    {
      "cell_type": "markdown",
      "source": [
        "###Sorting Dictionary In terms of Value"
      ],
      "metadata": {
        "id": "XutYCIAbqwdW"
      }
    },
    {
      "cell_type": "code",
      "source": [
        "markdict = {\"Tom\":5, \"Tina\": 1, \"Akbar\": 2, \"Kane\": 4, \"Divya\":3}\n",
        "\n",
        "marklist = []\n",
        "\n",
        "for key,value in markdict.items():\n",
        "\n",
        "       marklist.append((value,key))  #Append a tuple containg value,key pair. Notice the value is added first as we sort in terms of value\n",
        "\n",
        "marklist = sorted(marklist, reverse= False)  #We sort the elements in terms of ascending value of the value,key pair\n",
        "print(\"Sorted List---->\",marklist)\n",
        "\n",
        "\n",
        "\n",
        "\n",
        "final_dict = {} #to get a dictionary from the sorted list\n",
        "\n",
        "for v,k in marklist:\n",
        "    final_dict[k] = v    #assigning key value in dictionary\n",
        "\n",
        "print(\"Sorted Dictionary---->\",final_dict)"
      ],
      "metadata": {
        "colab": {
          "base_uri": "https://localhost:8080/"
        },
        "id": "tAc-pdHDrB9k",
        "outputId": "00e26dd4-e75d-4972-d208-28a69bc26b65"
      },
      "execution_count": null,
      "outputs": [
        {
          "output_type": "stream",
          "name": "stdout",
          "text": [
            "Sorted List----> [(1, 'Tina'), (2, 'Akbar'), (3, 'Divya'), (4, 'Kane'), (5, 'Tom')]\n",
            "second Akbar\n",
            "Sorted Dictionary----> {'Tina': 1, 'Akbar': 2, 'Divya': 3, 'Kane': 4, 'Tom': 5}\n"
          ]
        }
      ]
    },
    {
      "cell_type": "markdown",
      "metadata": {
        "id": "9N4IubuuWmKL"
      },
      "source": [
        "# List vs Dictionary"
      ]
    },
    {
      "cell_type": "markdown",
      "metadata": {
        "id": "HDGfj9weWro8"
      },
      "source": [
        "One of way of thinking dictionary is to think it as a special list with the ability of MANUALLY DEFINED index"
      ]
    },
    {
      "cell_type": "code",
      "source": [
        "emp = {1,2,3}\n",
        "\n",
        "emp.add(5)\n",
        "print(emp)"
      ],
      "metadata": {
        "colab": {
          "base_uri": "https://localhost:8080/"
        },
        "id": "PY33QJsmXG3o",
        "outputId": "535d3ea6-528f-4e06-ecc4-9640281ad5fc"
      },
      "execution_count": null,
      "outputs": [
        {
          "output_type": "stream",
          "name": "stdout",
          "text": [
            "{1, 2, 3, 5}\n"
          ]
        }
      ]
    }
  ]
}