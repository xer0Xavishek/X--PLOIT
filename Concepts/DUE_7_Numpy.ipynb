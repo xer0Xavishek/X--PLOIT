{
  "nbformat": 4,
  "nbformat_minor": 0,
  "metadata": {
    "colab": {
      "provenance": []
    },
    "kernelspec": {
      "name": "python3",
      "display_name": "Python 3"
    },
    "language_info": {
      "name": "python"
    }
  },
  "cells": [
    {
      "cell_type": "code",
      "source": [
        "import numpy as np\n"
      ],
      "metadata": {
        "id": "bB8k_AckLz1M"
      },
      "execution_count": null,
      "outputs": []
    },
    {
      "cell_type": "markdown",
      "source": [
        "\n",
        "\n",
        "```\n",
        "import numpy\n",
        "import numpy as np\n",
        "import numpy as abc (not a convention)\n",
        "```\n",
        "\n"
      ],
      "metadata": {
        "id": "0rlRhXj6od0a"
      }
    },
    {
      "cell_type": "markdown",
      "source": [
        "\n",
        "\n",
        "> list can work store multiple data type. But array can store one data type only\n",
        "\n",
        ">list can have variable length. But array must be declared with a fixed length\n",
        "\n"
      ],
      "metadata": {
        "id": "NKaZLE6JSDK6"
      }
    },
    {
      "cell_type": "code",
      "source": [
        "list1 = [4,5]\n",
        "new_array = np.array(list1)   #new_array = np.array([4,5])\n",
        "\n",
        "\n",
        "print(new_array, type(new_array))"
      ],
      "metadata": {
        "colab": {
          "base_uri": "https://localhost:8080/"
        },
        "id": "DyBj8c35SbG8",
        "outputId": "06cc7b5a-d93e-4954-cdc7-a5dd29d3d5d9"
      },
      "execution_count": null,
      "outputs": [
        {
          "output_type": "stream",
          "name": "stdout",
          "text": [
            "[4 5] <class 'numpy.ndarray'>\n"
          ]
        }
      ]
    },
    {
      "cell_type": "markdown",
      "source": [
        "### Zeros\n",
        "\n",
        "\n",
        "\n",
        "\n",
        "> Different way to put the shape\n",
        "\n",
        "\n",
        "*   np.zeros(shape = 5)\n",
        "*   np.zeros(shape = [5])\n",
        "*   np.zeros(shape = (5))\n",
        "*   np.zeros(5)\n",
        "*   np.zeros([5])\n",
        "*   np.zeros((5))\n",
        "\n",
        "\n"
      ],
      "metadata": {
        "id": "8C4Qe_GcTbj-"
      }
    },
    {
      "cell_type": "code",
      "source": [
        "zero_array = np.zeros(shape = 5)\n",
        "print(zero_array)"
      ],
      "metadata": {
        "colab": {
          "base_uri": "https://localhost:8080/"
        },
        "id": "UawsVtfRS4S1",
        "outputId": "cf92bd37-d37f-4177-c375-7d352cd0c7ba"
      },
      "execution_count": null,
      "outputs": [
        {
          "output_type": "stream",
          "name": "stdout",
          "text": [
            "[0. 0. 0. 0. 0.]\n"
          ]
        }
      ]
    },
    {
      "cell_type": "code",
      "source": [
        "zero_array2 = np.zeros(shape = 5, dtype= int)\n",
        "print(zero_array2)"
      ],
      "metadata": {
        "colab": {
          "base_uri": "https://localhost:8080/"
        },
        "id": "r1m7H6FKTG-P",
        "outputId": "1921ff6c-6b6b-4881-eec7-dd36e96b597e"
      },
      "execution_count": null,
      "outputs": [
        {
          "output_type": "stream",
          "name": "stdout",
          "text": [
            "[0 0 0 0 0]\n"
          ]
        }
      ]
    },
    {
      "cell_type": "code",
      "source": [
        "zero_array3 = np.zeros(shape = 5, dtype= float)\n",
        "print(zero_array3)"
      ],
      "metadata": {
        "colab": {
          "base_uri": "https://localhost:8080/"
        },
        "id": "D7a-KwyxTPiV",
        "outputId": "a6c73a2f-2309-4c62-d822-b89b4e9e23c6"
      },
      "execution_count": null,
      "outputs": [
        {
          "output_type": "stream",
          "name": "stdout",
          "text": [
            "[0. 0. 0. 0. 0.]\n"
          ]
        }
      ]
    },
    {
      "cell_type": "code",
      "source": [
        "zero_array4 = np.zeros(shape = 5, dtype= str)\n",
        "print(zero_array4)"
      ],
      "metadata": {
        "colab": {
          "base_uri": "https://localhost:8080/"
        },
        "id": "GhWhc-WBTS-l",
        "outputId": "48813fb9-43ab-4fe0-9a4d-322495efb49d"
      },
      "execution_count": null,
      "outputs": [
        {
          "output_type": "stream",
          "name": "stdout",
          "text": [
            "['' '' '' '' '']\n"
          ]
        }
      ]
    },
    {
      "cell_type": "markdown",
      "source": [
        "###Ones"
      ],
      "metadata": {
        "id": "D4g9n1CkTaxH"
      }
    },
    {
      "cell_type": "code",
      "source": [
        "one_array= np.ones(shape = 5)\n",
        "print(one_array)"
      ],
      "metadata": {
        "colab": {
          "base_uri": "https://localhost:8080/"
        },
        "id": "76glZszlTlbo",
        "outputId": "3769b1b1-dfc0-41ad-a590-2cb63ba1afa9"
      },
      "execution_count": null,
      "outputs": [
        {
          "output_type": "stream",
          "name": "stdout",
          "text": [
            "[1. 1. 1. 1. 1.]\n"
          ]
        }
      ]
    },
    {
      "cell_type": "code",
      "source": [
        "one_array2= np.ones(shape = 5, dtype=str)\n",
        "print(one_array2)"
      ],
      "metadata": {
        "colab": {
          "base_uri": "https://localhost:8080/"
        },
        "id": "GVTaDlK_T0gv",
        "outputId": "e8dfbe9a-8c49-4dbc-c0f6-11bedc60e061"
      },
      "execution_count": null,
      "outputs": [
        {
          "output_type": "stream",
          "name": "stdout",
          "text": [
            "['1' '1' '1' '1' '1']\n"
          ]
        }
      ]
    },
    {
      "cell_type": "markdown",
      "source": [
        "## Difference 1 (Data Type storage)\n",
        "\n",
        "\n",
        "> list: can store different datatypes\n",
        "\n",
        "> array: can only store ONE data type\n",
        "\n"
      ],
      "metadata": {
        "id": "ex-KqfceMlcL"
      }
    },
    {
      "cell_type": "code",
      "execution_count": null,
      "metadata": {
        "colab": {
          "base_uri": "https://localhost:8080/"
        },
        "id": "6DqLz0bqLtUM",
        "outputId": "8ecb670e-4668-4c1b-e720-9fe71ce157fc"
      },
      "outputs": [
        {
          "output_type": "stream",
          "name": "stdout",
          "text": [
            "[4, 'A', 3.5, True]\n"
          ]
        }
      ],
      "source": [
        "list1 = [4,\"A\", 3.5,True]\n",
        "print(list1)"
      ]
    },
    {
      "cell_type": "code",
      "source": [
        "array1 = np.array([4,\"A\", 3.5,True])\n",
        "print(array1)"
      ],
      "metadata": {
        "colab": {
          "base_uri": "https://localhost:8080/"
        },
        "id": "Ff0TTE60MLJr",
        "outputId": "3d11d3a8-83a6-4098-d18a-33ea0cf02929"
      },
      "execution_count": null,
      "outputs": [
        {
          "output_type": "stream",
          "name": "stdout",
          "text": [
            "['4' 'A' '3.5' 'True']\n"
          ]
        }
      ]
    },
    {
      "cell_type": "code",
      "source": [
        "array2 =  np.array([4, 3.5, True])\n",
        "print(array2)"
      ],
      "metadata": {
        "colab": {
          "base_uri": "https://localhost:8080/"
        },
        "id": "BJk--lqEM8Fx",
        "outputId": "02ce4c33-0210-4cd8-d5e5-6a4e68ee3a2c"
      },
      "execution_count": null,
      "outputs": [
        {
          "output_type": "stream",
          "name": "stdout",
          "text": [
            "[4.  3.5 1. ]\n"
          ]
        }
      ]
    },
    {
      "cell_type": "code",
      "source": [
        "array3 = np.array([5,8])\n",
        "print(array3)"
      ],
      "metadata": {
        "colab": {
          "base_uri": "https://localhost:8080/"
        },
        "id": "eHcZ3wlYNINu",
        "outputId": "d12b9649-b6ca-4f7b-b34f-79800459d2a0"
      },
      "execution_count": null,
      "outputs": [
        {
          "output_type": "stream",
          "name": "stdout",
          "text": [
            "[5 8]\n"
          ]
        }
      ]
    },
    {
      "cell_type": "code",
      "source": [
        "array4 = np.array([5.5,8.2])\n",
        "print(array4)"
      ],
      "metadata": {
        "colab": {
          "base_uri": "https://localhost:8080/"
        },
        "id": "t8FQsUCJNRmY",
        "outputId": "3ad39f9f-c373-49a0-a230-ccffa3344860"
      },
      "execution_count": null,
      "outputs": [
        {
          "output_type": "stream",
          "name": "stdout",
          "text": [
            "[5.5 8.2]\n"
          ]
        }
      ]
    },
    {
      "cell_type": "code",
      "source": [
        "for elem in array4:\n",
        "  print(elem)"
      ],
      "metadata": {
        "colab": {
          "base_uri": "https://localhost:8080/"
        },
        "id": "trWav83N-oFI",
        "outputId": "4d09ffd9-a0c8-4801-db62-32630bcf1aa8"
      },
      "execution_count": null,
      "outputs": [
        {
          "output_type": "stream",
          "name": "stdout",
          "text": [
            "5.5\n",
            "8.2\n"
          ]
        }
      ]
    },
    {
      "cell_type": "code",
      "source": [
        "for i in range(len(array4)):\n",
        "   print(array4[i])"
      ],
      "metadata": {
        "colab": {
          "base_uri": "https://localhost:8080/"
        },
        "id": "RG9dgaIqIRfq",
        "outputId": "dc43671b-6610-4520-f009-038c69bcd84d"
      },
      "execution_count": null,
      "outputs": [
        {
          "output_type": "stream",
          "name": "stdout",
          "text": [
            "5.5\n",
            "8.2\n"
          ]
        }
      ]
    },
    {
      "cell_type": "markdown",
      "source": [
        "## Difference 2: Adding new element"
      ],
      "metadata": {
        "id": "3rJkLIqKNn4h"
      }
    },
    {
      "cell_type": "code",
      "source": [
        "list1 = [2,4,5]\n",
        "list1.append(7)\n",
        "print(list1)"
      ],
      "metadata": {
        "colab": {
          "base_uri": "https://localhost:8080/"
        },
        "id": "j7Ltr_NSN06k",
        "outputId": "b1083ad4-0450-4fdb-ad89-ef876505c0cd"
      },
      "execution_count": null,
      "outputs": [
        {
          "output_type": "stream",
          "name": "stdout",
          "text": [
            "[2, 4, 5, 7]\n"
          ]
        }
      ]
    },
    {
      "cell_type": "code",
      "source": [
        "array1 = np.array([2,4,5])\n",
        "array1.append(7)\n",
        "print(array1)"
      ],
      "metadata": {
        "colab": {
          "base_uri": "https://localhost:8080/",
          "height": 219
        },
        "id": "hdRIFuqMN8U2",
        "outputId": "ce9ae4a4-2199-4970-b638-8af0fd382919"
      },
      "execution_count": null,
      "outputs": [
        {
          "output_type": "error",
          "ename": "AttributeError",
          "evalue": "ignored",
          "traceback": [
            "\u001b[0;31m---------------------------------------------------------------------------\u001b[0m",
            "\u001b[0;31mAttributeError\u001b[0m                            Traceback (most recent call last)",
            "\u001b[0;32m<ipython-input-7-63edce0583e2>\u001b[0m in \u001b[0;36m<cell line: 2>\u001b[0;34m()\u001b[0m\n\u001b[1;32m      1\u001b[0m \u001b[0marray1\u001b[0m \u001b[0;34m=\u001b[0m \u001b[0mnp\u001b[0m\u001b[0;34m.\u001b[0m\u001b[0marray\u001b[0m\u001b[0;34m(\u001b[0m\u001b[0;34m[\u001b[0m\u001b[0;36m2\u001b[0m\u001b[0;34m,\u001b[0m\u001b[0;36m4\u001b[0m\u001b[0;34m,\u001b[0m\u001b[0;36m5\u001b[0m\u001b[0;34m]\u001b[0m\u001b[0;34m)\u001b[0m\u001b[0;34m\u001b[0m\u001b[0;34m\u001b[0m\u001b[0m\n\u001b[0;32m----> 2\u001b[0;31m \u001b[0marray1\u001b[0m\u001b[0;34m.\u001b[0m\u001b[0mappend\u001b[0m\u001b[0;34m(\u001b[0m\u001b[0;36m7\u001b[0m\u001b[0;34m)\u001b[0m\u001b[0;34m\u001b[0m\u001b[0;34m\u001b[0m\u001b[0m\n\u001b[0m\u001b[1;32m      3\u001b[0m \u001b[0mprint\u001b[0m\u001b[0;34m(\u001b[0m\u001b[0marray1\u001b[0m\u001b[0;34m)\u001b[0m\u001b[0;34m\u001b[0m\u001b[0;34m\u001b[0m\u001b[0m\n",
            "\u001b[0;31mAttributeError\u001b[0m: 'numpy.ndarray' object has no attribute 'append'"
          ]
        }
      ]
    },
    {
      "cell_type": "code",
      "source": [
        "array2 = np.zeros(shape = (4))\n",
        "\n",
        "for i in range(len(array1)): #[2 4 5 0]\n",
        "\n",
        "   array2[i] = array1[i]\n",
        "\n",
        "\n",
        "array2[3] = 7    #[2  4  5   7]\n",
        "\n",
        "print(array2)"
      ],
      "metadata": {
        "colab": {
          "base_uri": "https://localhost:8080/"
        },
        "id": "ClP7YjzMOPUw",
        "outputId": "34f35fa8-d7dc-47f0-cfb4-6a6249371c58"
      },
      "execution_count": null,
      "outputs": [
        {
          "output_type": "stream",
          "name": "stdout",
          "text": [
            "[2. 4. 5. 7.]\n"
          ]
        }
      ]
    },
    {
      "cell_type": "markdown",
      "source": [
        "## Adding list vs array"
      ],
      "metadata": {
        "id": "3fOVe0ONPvnm"
      }
    },
    {
      "cell_type": "code",
      "source": [
        "l1 = [2,3]\n",
        "l2 = [5,6]\n",
        "\n",
        "l1 + l2"
      ],
      "metadata": {
        "colab": {
          "base_uri": "https://localhost:8080/"
        },
        "id": "JppUGni5PzPA",
        "outputId": "1f46ddbf-40a8-489a-f770-c920693dd7be"
      },
      "execution_count": null,
      "outputs": [
        {
          "output_type": "execute_result",
          "data": {
            "text/plain": [
              "[2, 3, 5, 6]"
            ]
          },
          "metadata": {},
          "execution_count": 23
        }
      ]
    },
    {
      "cell_type": "code",
      "source": [
        "a1 = np.array([2,3])\n",
        "a2 = np.array([5,6])\n",
        "\n",
        "print(a1+a2)"
      ],
      "metadata": {
        "colab": {
          "base_uri": "https://localhost:8080/"
        },
        "id": "DricTgSeP6L1",
        "outputId": "30007560-80c8-4a72-c589-efa8f80ad9c2"
      },
      "execution_count": null,
      "outputs": [
        {
          "output_type": "stream",
          "name": "stdout",
          "text": [
            "[7 9]\n"
          ]
        }
      ]
    },
    {
      "cell_type": "code",
      "source": [
        "final = np.zeros(shape = len(a1))\n",
        "\n",
        "\n",
        "for i in range(len(a1)):\n",
        "\n",
        "   final[i] = a1[i] + a2[i]\n",
        "\n",
        "print(final)"
      ],
      "metadata": {
        "colab": {
          "base_uri": "https://localhost:8080/"
        },
        "id": "WtT1ymeWRTVi",
        "outputId": "03f5959e-8f49-4d8f-9861-5f62313d9b36"
      },
      "execution_count": null,
      "outputs": [
        {
          "output_type": "stream",
          "name": "stdout",
          "text": [
            "[7. 9.]\n"
          ]
        }
      ]
    },
    {
      "cell_type": "markdown",
      "source": [
        "## Element Addition"
      ],
      "metadata": {
        "id": "xq0LXuZnVKO5"
      }
    },
    {
      "cell_type": "code",
      "source": [
        "sum = 0\n",
        "\n",
        "for i in range(len(a1)):\n",
        "\n",
        "   sum += a1[i]\n",
        "\n",
        "print(sum)"
      ],
      "metadata": {
        "colab": {
          "base_uri": "https://localhost:8080/"
        },
        "id": "z1WZ2gQuVOQz",
        "outputId": "98693418-ed1b-45e6-cead-31a4f58980ea"
      },
      "execution_count": null,
      "outputs": [
        {
          "output_type": "stream",
          "name": "stdout",
          "text": [
            "5\n"
          ]
        }
      ]
    },
    {
      "cell_type": "markdown",
      "source": [
        "# 2D Array"
      ],
      "metadata": {
        "id": "Qj1bT-QvV-71"
      }
    },
    {
      "cell_type": "code",
      "source": [
        "array_two =  [[2,4,5],\n",
        "              [1,6,8]]\n",
        "\n",
        "print(array_two[0])\n",
        "print(array_two[0][2])"
      ],
      "metadata": {
        "colab": {
          "base_uri": "https://localhost:8080/"
        },
        "id": "RQIxndqhWZvh",
        "outputId": "0b6083af-b853-4b22-8c8e-dd197ad85284"
      },
      "execution_count": null,
      "outputs": [
        {
          "output_type": "stream",
          "name": "stdout",
          "text": [
            "[2, 4, 5]\n",
            "5\n"
          ]
        }
      ]
    },
    {
      "cell_type": "code",
      "source": [
        "print(array_two[1])\n",
        "print(array_two[1][1])"
      ],
      "metadata": {
        "colab": {
          "base_uri": "https://localhost:8080/"
        },
        "id": "IRIXrRcYW-hu",
        "outputId": "71028cf6-3133-40c5-eee7-a8390fec7390"
      },
      "execution_count": null,
      "outputs": [
        {
          "output_type": "stream",
          "name": "stdout",
          "text": [
            "[1, 6, 8]\n",
            "6\n"
          ]
        }
      ]
    },
    {
      "cell_type": "code",
      "source": [
        "array_2d = np.zeros(shape = [2,3]) #[row, col]\n",
        "\n",
        "print(array_2d)\n",
        "\n"
      ],
      "metadata": {
        "colab": {
          "base_uri": "https://localhost:8080/"
        },
        "id": "6fbf-RBpV_M9",
        "outputId": "df41c509-f534-4ec3-a327-684994c02e37"
      },
      "execution_count": null,
      "outputs": [
        {
          "output_type": "stream",
          "name": "stdout",
          "text": [
            "[[0. 0. 0.]\n",
            " [0. 0. 0.]]\n"
          ]
        }
      ]
    },
    {
      "cell_type": "code",
      "source": [
        "array_2d.shape"
      ],
      "metadata": {
        "colab": {
          "base_uri": "https://localhost:8080/"
        },
        "id": "mpwHIjBbO7Zy",
        "outputId": "729a38ec-a254-40c8-cabc-ee61f4283c09"
      },
      "execution_count": null,
      "outputs": [
        {
          "output_type": "execute_result",
          "data": {
            "text/plain": [
              "(2, 3)"
            ]
          },
          "metadata": {},
          "execution_count": 4
        }
      ]
    },
    {
      "cell_type": "code",
      "source": [
        "row = array_2d.shape[0]\n",
        "col = array_2d.shape[1]\n",
        "\n",
        "print(row,col)"
      ],
      "metadata": {
        "colab": {
          "base_uri": "https://localhost:8080/"
        },
        "id": "6xwQ5Wt5XQCS",
        "outputId": "1d7df008-6290-4550-86cb-4627e9fb1444"
      },
      "execution_count": null,
      "outputs": [
        {
          "output_type": "stream",
          "name": "stdout",
          "text": [
            "2 3\n"
          ]
        }
      ]
    },
    {
      "cell_type": "code",
      "source": [
        "array_2d.size"
      ],
      "metadata": {
        "colab": {
          "base_uri": "https://localhost:8080/"
        },
        "id": "Pom6YdWlZM5R",
        "outputId": "ccf5280a-7cc7-458c-f4f8-4673937e4930"
      },
      "execution_count": null,
      "outputs": [
        {
          "output_type": "execute_result",
          "data": {
            "text/plain": [
              "6"
            ]
          },
          "metadata": {},
          "execution_count": 23
        }
      ]
    },
    {
      "cell_type": "code",
      "source": [
        "for r in range(0,row):\n",
        "    for c in range(0, col):\n",
        "       var = int(input())\n",
        "       array_2d[r][c] = var"
      ],
      "metadata": {
        "colab": {
          "base_uri": "https://localhost:8080/"
        },
        "id": "9QHp7xU_XjIk",
        "outputId": "64011f3b-5c99-42c2-85e6-a66f20cdb7ac"
      },
      "execution_count": null,
      "outputs": [
        {
          "name": "stdout",
          "output_type": "stream",
          "text": [
            "11\n",
            "22\n",
            "3\n",
            "44\n",
            "55\n",
            "66\n"
          ]
        }
      ]
    },
    {
      "cell_type": "code",
      "source": [
        "array_2d = np.array([[11., 22.,  33.],\n",
        "                     [44., 55., 66.]])\n",
        "\n"
      ],
      "metadata": {
        "id": "loyBi_F2bFkX"
      },
      "execution_count": null,
      "outputs": []
    },
    {
      "cell_type": "markdown",
      "source": [
        "**Row wise traversal**"
      ],
      "metadata": {
        "id": "iJ_JTOA_gZTl"
      }
    },
    {
      "cell_type": "code",
      "source": [
        "for r in range(0,row):\n",
        "    for c in range(0, col):\n",
        "\n",
        "       print(array_2d[r][c])  #[0][0] -> [0][1] -> [0][2] -> [1][0] -> [0][1] -> [1][2]"
      ],
      "metadata": {
        "colab": {
          "base_uri": "https://localhost:8080/"
        },
        "id": "gwgM7dd1a1rl",
        "outputId": "c487be02-d9ce-4869-a1fa-345b9eed5bdd"
      },
      "execution_count": null,
      "outputs": [
        {
          "output_type": "stream",
          "name": "stdout",
          "text": [
            "11.0\n",
            "22.0\n",
            "33.0\n",
            "44.0\n",
            "55.0\n",
            "66.0\n"
          ]
        }
      ]
    },
    {
      "cell_type": "markdown",
      "source": [
        "**Column wise traversal**\n",
        "\n",
        "[[11., 22.,  33.],\n",
        "\n",
        "[44., 55., 66.]]"
      ],
      "metadata": {
        "id": "OeZX65Q-ge63"
      }
    },
    {
      "cell_type": "code",
      "source": [
        "\n",
        "\n",
        "for c in range(0, col):\n",
        "      for r in range(0,row):\n",
        "        print(array_2d[r][c])  #[0][0] -> [1][0] -> [0][1] -> [1][1] -> [0][2] -> [1][2]\n"
      ],
      "metadata": {
        "colab": {
          "base_uri": "https://localhost:8080/"
        },
        "id": "g0CDkbHIVMLh",
        "outputId": "bf091e2c-0962-4d75-8199-8dc4320af42c"
      },
      "execution_count": null,
      "outputs": [
        {
          "output_type": "stream",
          "name": "stdout",
          "text": [
            "11.0\n",
            "44.0\n",
            "22.0\n",
            "55.0\n",
            "33.0\n",
            "66.0\n"
          ]
        }
      ]
    },
    {
      "cell_type": "code",
      "source": [
        "array_2d"
      ],
      "metadata": {
        "colab": {
          "base_uri": "https://localhost:8080/"
        },
        "id": "StX7KwAFDXF3",
        "outputId": "8acf0e11-ce20-478b-b295-3fa3e25a1dc5"
      },
      "execution_count": null,
      "outputs": [
        {
          "output_type": "execute_result",
          "data": {
            "text/plain": [
              "array([[11., 22., 33.],\n",
              "       [44., 55., 66.]])"
            ]
          },
          "metadata": {},
          "execution_count": 45
        }
      ]
    },
    {
      "cell_type": "code",
      "source": [
        "counter = 0\n",
        "for inner in array_2d: #inner = [44., 55., 66.]\n",
        "   for elem in inner:  #elem = 11 , 22 ,33\n",
        "      counter += 1\n",
        "\n",
        "print(counter)"
      ],
      "metadata": {
        "colab": {
          "base_uri": "https://localhost:8080/"
        },
        "id": "POSZLSiQDZeD",
        "outputId": "3c2fd8fe-7903-4d56-c429-3b7761adb6bc"
      },
      "execution_count": null,
      "outputs": [
        {
          "output_type": "stream",
          "name": "stdout",
          "text": [
            "6\n"
          ]
        }
      ]
    },
    {
      "cell_type": "code",
      "source": [
        "row_no = 0\n",
        "col_no = 0\n",
        "\n",
        "for inner in array_2d: #inner = [44., 55., 66.]\n",
        "\n",
        "   for elem in inner:  #elem = 11 , 22 ,33\n",
        "     col_no += 1\n",
        "\n",
        "   row_no += 1\n",
        "\n",
        "\n",
        "\n",
        "col_no = col_no // row_no\n",
        "print(row_no, col_no)"
      ],
      "metadata": {
        "colab": {
          "base_uri": "https://localhost:8080/"
        },
        "id": "O-oZxDoRDzlZ",
        "outputId": "65f1552b-40ec-4858-fedc-e1596f348df2"
      },
      "execution_count": null,
      "outputs": [
        {
          "output_type": "stream",
          "name": "stdout",
          "text": [
            "2 3\n"
          ]
        }
      ]
    }
  ]
}