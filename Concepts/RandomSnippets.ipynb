{
 "cells": [
  {
   "cell_type": "code",
   "execution_count": null,
   "metadata": {},
   "outputs": [],
   "source": [
    "num = 345\n",
    "\n",
    "counter = 0\n",
    "\n",
    "while(num >0):\n",
    "\n",
    "  num = num // 10\n",
    "  counter += 1\n",
    "\n",
    "print(f\"digit no. :{counter}\")"
   ]
  }
 ],
 "metadata": {
  "language_info": {
   "name": "python"
  }
 },
 "nbformat": 4,
 "nbformat_minor": 2
}
