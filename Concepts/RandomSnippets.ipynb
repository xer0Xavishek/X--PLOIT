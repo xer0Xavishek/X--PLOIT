{
 "cells": [
  {
   "cell_type": "code",
   "execution_count": null,
   "metadata": {},
   "outputs": [],
   "source": [
    "num = 345\n",
    "\n",
    "counter = 0\n",
    "\n",
    "while(num >0):\n",
    "\n",
    "  num = num // 10\n",
    "  counter += 1\n",
    "\n",
    "print(f\"digit no. :{counter}\")"
   ]
  },
  {
   "cell_type": "markdown",
   "metadata": {},
   "source": [
    "Palindrome"
   ]
  },
  {
   "cell_type": "code",
   "execution_count": null,
   "metadata": {},
   "outputs": [],
   "source": [
    "s = \"ABCBD\"\n",
    "pos = 0\n",
    "neg = -1\n",
    "flag = True\n",
    "\n",
    "if len(s) %2 == 0 :\n",
    "  run = len(s)//2\n",
    "else:\n",
    "  run = (len(s)//2)+1\n",
    "\n",
    "for i in range(run):\n",
    "    if s[pos] != s[neg]:\n",
    "       flag =  False\n",
    "       break\n",
    "    pos += 1\n",
    "    neg -= 1\n",
    "\n",
    "if flag == True:\n",
    "  print(\"Palindrome\")\n",
    "else:\n",
    "  print(\"Not a palindrome\")"
   ]
  },
  {
   "cell_type": "markdown",
   "metadata": {},
   "source": [
    "1) Remove the even indexes and reverses the string"
   ]
  },
  {
   "cell_type": "code",
   "execution_count": null,
   "metadata": {},
   "outputs": [],
   "source": [
    "s = \"ABCD\"\n",
    "#    0123\n",
    "\n",
    "final = \"\"\n",
    "\n",
    "for i in range(len(s)):\n",
    "  if i % 2 != 0:\n",
    "    final += s[i]\n",
    "#final = BD\n",
    "final = final[::-1]\n",
    "print(final)"
   ]
  }
 ],
 "metadata": {
  "language_info": {
   "name": "python"
  }
 },
 "nbformat": 4,
 "nbformat_minor": 2
}
