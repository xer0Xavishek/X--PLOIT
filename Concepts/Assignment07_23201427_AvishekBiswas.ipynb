{
 "cells": [
  {
   "cell_type": "code",
   "execution_count": 2,
   "metadata": {},
   "outputs": [],
   "source": [
    "#Please install the following packages before running the code\n",
    "import numpy as np\n"
   ]
  },
  {
   "cell_type": "code",
   "execution_count": 5,
   "metadata": {},
   "outputs": [
    {
     "name": "stdout",
     "output_type": "stream",
     "text": [
      "Original Array:  [5 8 2]\n",
      "Resized Array:  [5 8 2 9]\n"
     ]
    }
   ],
   "source": [
    "#Task1\n",
    "N=int(input())\n",
    "iarray=np.zeros(N,dtype=int)\n",
    "for i in range(N):\n",
    "    iarray[i]=int(input())\n",
    "    \n",
    "larray=np.zeros(N+1,dtype=int)\n",
    "\n",
    "larray[:-1]=iarray#original array ----->>>> the new \n",
    "\n",
    "larray[-1]=int(input())# addinnn last element of the new\n",
    "\n",
    "print(\"Original Array: \",iarray)\n",
    "print(\"Resized Array: \",larray)\n"
   ]
  }
 ],
 "metadata": {
  "kernelspec": {
   "display_name": "Python 3",
   "language": "python",
   "name": "python3"
  },
  "language_info": {
   "codemirror_mode": {
    "name": "ipython",
    "version": 3
   },
   "file_extension": ".py",
   "mimetype": "text/x-python",
   "name": "python",
   "nbconvert_exporter": "python",
   "pygments_lexer": "ipython3",
   "version": "3.11.6"
  }
 },
 "nbformat": 4,
 "nbformat_minor": 2
}
