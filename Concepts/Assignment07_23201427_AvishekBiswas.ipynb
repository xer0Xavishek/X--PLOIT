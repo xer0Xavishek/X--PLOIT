{
 "cells": [
  {
   "cell_type": "code",
   "execution_count": 10,
   "metadata": {},
   "outputs": [],
   "source": [
    "#Please install the following packages before running the code\n",
    "#if you do not then the code will not run\n",
    "#\n",
    "import numpy as np\n"
   ]
  },
  {
   "cell_type": "code",
   "execution_count": 12,
   "metadata": {},
   "outputs": [
    {
     "name": "stdout",
     "output_type": "stream",
     "text": [
      "Original Array:  [5 8 2]\n",
      "Resized Array:  [5 8 2 9]\n"
     ]
    }
   ],
   "source": [
    "#Task1\n",
    "import numpy as np\n",
    "\n",
    "N=int(input())\n",
    "iarray=np.zeros(N,dtype=int)\n",
    "for i in range(N):\n",
    "    iarray[i]=int(input())\n",
    "    \n",
    "larray=np.zeros(N+1,dtype=int)\n",
    "\n",
    "larray[:-1]=iarray#original array ----->>>> the new \n",
    "\n",
    "larray[-1]=int(input())# addinnn last element of the new\n",
    "\n",
    "print(\"Original Array: \",iarray)\n",
    "print(\"Resized Array: \",larray)\n"
   ]
  },
  {
   "cell_type": "code",
   "execution_count": null,
   "metadata": {},
   "outputs": [
    {
     "name": "stdout",
     "output_type": "stream",
     "text": [
      "Orginal array: [ 3  4 -2  1]\n",
      "Modfied array: [1 1 0 1]\n"
     ]
    }
   ],
   "source": [
    "#Task2\n",
    "import numpy as np\n",
    "\n",
    "N=int(input())\n",
    "arr1d=np.zeros(N,dtype=int)\n",
    "for i in range(N):\n",
    "    arr1d[i]=int(input())\n",
    "print(\"Orginal array:\", arr1d)\n",
    "\n",
    "for i in range(arr1d.size):\n",
    "    if arr1d[i] > 0:\n",
    "        arr1d[i] = 1\n",
    "    else:\n",
    "        arr1d[i] = 0\n",
    "\n",
    "print(\"Modfied array:\", arr1d)"
   ]
  },
  {
   "cell_type": "code",
   "execution_count": null,
   "metadata": {},
   "outputs": [
    {
     "name": "stdout",
     "output_type": "stream",
     "text": [
      "[ 7  5 20 12 10]\n"
     ]
    }
   ],
   "source": [
    "#Task3\n",
    "import numpy as np\n",
    "\n",
    "def reverseArray(arr1):\n",
    "    for start in range(arr1.size // 2): \n",
    "        end = arr1.size - 1 - start\n",
    "\n",
    "        # Swap elements using a temporary variable\n",
    "        temp = arr1[start]\n",
    "        arr1[start] = arr1[end]\n",
    "        arr1[end] = temp\n",
    "\n",
    "    return arr1\n",
    "\n",
    "\n",
    "#verification part***********_________***********\n",
    "arr1 = np.array([10, 12, 20, 5, 7])\n",
    "arr1 = reverseArray(arr1)\n",
    "print(arr1)"
   ]
  },
  {
   "cell_type": "code",
   "execution_count": null,
   "metadata": {},
   "outputs": [
    {
     "name": "stdout",
     "output_type": "stream",
     "text": [
      "7, 8\n",
      "10, 5\n"
     ]
    }
   ],
   "source": [
    "#Task4\n",
    "import numpy as np\n",
    "\n",
    "def printPairs(arr1, target_digit):\n",
    "    pair_digit = False\n",
    "\n",
    "    for o in range(arr1.size):\n",
    "        \n",
    "        for n in range((o +1), arr1.size):\n",
    "            \n",
    "            if arr1[o] + arr1[n] == target_digit:\n",
    "                \n",
    "                pair_digit = True\n",
    "                \n",
    "                print(f\"{arr1[o]}, {arr1[n]}\")\n",
    "\n",
    "    if not pair_digit:\n",
    "        print(\"No pair found\")\n",
    "#verification part***********___________***********\n",
    "arr1 = np.array([7,8,10,5,3,4,2])\n",
    "printPairs(arr1, 15)"
   ]
  },
  {
   "cell_type": "code",
   "execution_count": null,
   "metadata": {},
   "outputs": [
    {
     "name": "stdout",
     "output_type": "stream",
     "text": [
      "Dot product: 95\n",
      "After Swapping:\n",
      "[1 5 3 9]\n",
      "[4 2 6 7]\n"
     ]
    }
   ],
   "source": [
    "#Task5\n",
    "import numpy as np\n",
    "\n",
    "vec1 = np.array([1,2,3,7])\n",
    "vec2 = np.array([4,5,6,9])\n",
    "vekktotal = 0\n",
    "\n",
    "for i in range(vec1.size):\n",
    "    \n",
    "    vekktotal += vec1[i] * vec2[i]\n",
    "\n",
    "if vekktotal % 2 == 0:\n",
    "    \n",
    "    for i in range(0, vec1.size, 2):\n",
    "        \n",
    "        temp = vec1[i]\n",
    "        \n",
    "        vec1[i] = vec2[i]\n",
    "        \n",
    "        vec2[i] = temp\n",
    "\n",
    "else:\n",
    "    for i in range(1, vec1.size, 2):\n",
    "        \n",
    "        temp = vec1[i]\n",
    "        \n",
    "        vec1[i] = vec2[i]\n",
    "        \n",
    "        vec2[i] = temp\n",
    "        \n",
    "#output part***********___________***********\n",
    "\n",
    "\n",
    "\n",
    "print(f\"Dot product: {vekktotal}\")\n",
    "\n",
    "print(\"After Swapping:\")\n",
    "\n",
    "print(vec1)\n",
    "\n",
    "print(vec2)\n"
   ]
  },
  {
   "cell_type": "code",
   "execution_count": null,
   "metadata": {},
   "outputs": [
    {
     "name": "stdout",
     "output_type": "stream",
     "text": [
      "Orginal Array: [3 6 1 2 8 5]\n",
      "Sorted Array: [1 2 3 5 6 8]\n"
     ]
    }
   ],
   "source": [
    "#Task6\n",
    "import numpy as np\n",
    "\n",
    "N = int(input())\n",
    "arr1 = np.zeros(N, dtype = \"int\")\n",
    "\n",
    "for i in range(arr1.size):\n",
    "    arr1[i] = int(input())\n",
    "\n",
    "print(f\"Orginal Array: {arr1}\")\n",
    "\n",
    "for i in range(0, arr1.size-1):\n",
    "    min_elem = i\n",
    "    for j in range(i+1, arr1.size):\n",
    "        if arr1[j] < arr1[min_elem]:\n",
    "            temp = arr1[j]\n",
    "            arr1[j] = arr1[min_elem]\n",
    "            arr1[min_elem] = temp\n",
    "\n",
    "print(f\"Sorted Array: {arr1}\")"
   ]
  },
  {
   "cell_type": "code",
   "execution_count": null,
   "metadata": {},
   "outputs": [
    {
     "name": "stdout",
     "output_type": "stream",
     "text": [
      "[1 2 3 3 4 5]\n"
     ]
    }
   ],
   "source": [
    "#Task7\n",
    "import numpy as np\n",
    "\n",
    "def flatten(arr2):\n",
    "    \n",
    "    flatten_array = []\n",
    "    \n",
    "    for i in range(arr1.shape[0]):\n",
    "        \n",
    "        for j in range(arr1.shape[1]):\n",
    "            \n",
    "            flatten_array.append(arr1[i][j])\n",
    "\n",
    "    return np.array(flatten_array)\n",
    "\n",
    "\n",
    "#verification part   ***********_______***********\n",
    "arr1 = np.array( [ [1, 2, 3],\n",
    "                   [3, 4, 5] ] )\n",
    "arr2 = flatten(arr1)\n",
    "print(arr2)"
   ]
  },
  {
   "cell_type": "code",
   "execution_count": null,
   "metadata": {},
   "outputs": [
    {
     "name": "stdout",
     "output_type": "stream",
     "text": [
      "Identity matrix\n"
     ]
    }
   ],
   "source": [
    "#Task8\n",
    "import numpy as np\n",
    "\n",
    "A = np.array([ [1, 0, 0],\n",
    "               [0, 1, 0],\n",
    "               [0, 0, 1] ])\n",
    "\n",
    "if A.shape[0] != A.shape[1]:\n",
    "    \n",
    "    print(\"Not an identity matrix\")\n",
    "    \n",
    "else:\n",
    "    flaggg = True\n",
    "    \n",
    "\n",
    "    for i in range(A.shape[0]):\n",
    "        \n",
    "        for j in range(A.shape[1]):\n",
    "            \n",
    "            if (i == j and A[i][j] != 1) or (i != j and A[i][j] != 0):\n",
    "                \n",
    "                flaggg = False\n",
    "                \n",
    "                break\n",
    "\n",
    "    if flaggg:\n",
    "        \n",
    "        print(\"Identity matrix\")\n",
    "    else:\n",
    "        \n",
    "        print(\"Not an identity matrix\")"
   ]
  },
  {
   "cell_type": "code",
   "execution_count": null,
   "metadata": {},
   "outputs": [
    {
     "name": "stdout",
     "output_type": "stream",
     "text": [
      "22\n"
     ]
    }
   ],
   "source": [
    "#Task9\n",
    "import numpy as np\n",
    "\n",
    "A = np.array([ [1,  5,  12,  1],\n",
    "                [2,  -4,  6,  7],\n",
    "                [3,  8,  5,  9],\n",
    "                [3,  5,  23,  -6] ])\n",
    "\n",
    "sm_pr_diag = 0\n",
    "\n",
    "s_2ndry_diag = 0\n",
    "\n",
    "for i in range(A.shape[0]):\n",
    "    \n",
    "    for j in range(A.shape[1]):\n",
    "        \n",
    "        if j == i:\n",
    "            \n",
    "            sm_pr_diag += A[i][j]\n",
    "            \n",
    "        if j ==  A.shape[0] - i -1:\n",
    "            \n",
    "            s_2ndry_diag += A[i][j]\n",
    "\n",
    "absalutttteee = abs( sm_pr_diag - s_2ndry_diag)\n",
    "\n",
    "print(absalutttteee)"
   ]
  },
  {
   "cell_type": "code",
   "execution_count": null,
   "metadata": {},
   "outputs": [
    {
     "name": "stdout",
     "output_type": "stream",
     "text": [
      "[[ 1  1]\n",
      " [ 2  4]\n",
      " [ 3  9]\n",
      " [ 4 16]]\n"
     ]
    }
   ],
   "source": [
    "#Task10.1\n",
    "import numpy as np\n",
    "\n",
    "A = np.array([[1,2,3,4],\n",
    "              [1,4,9,16]])\n",
    "\n",
    "A_finn = np.zeros((A.shape[1], A.shape[0]), dtype=\"int\")\n",
    "\n",
    "for i in range(A.shape[0]):\n",
    "    \n",
    "    for j in range(A.shape[1]):\n",
    "        \n",
    "        A_finn[j][i] = A[i][j]\n",
    "\n",
    "print(A_finn)\n"
   ]
  },
  {
   "cell_type": "code",
   "execution_count": null,
   "metadata": {},
   "outputs": [
    {
     "name": "stdout",
     "output_type": "stream",
     "text": [
      "[[ 66  78  90]\n",
      " [ 78  93 108]\n",
      " [ 90 108 126]]\n"
     ]
    }
   ],
   "source": [
    "#Task10.2\n",
    "import numpy as np\n",
    "\n",
    "import numpy as np\n",
    "\n",
    "\n",
    "\n",
    "\n",
    "A = np.array([[1, 2, 3],\n",
    "              [4, 5, 6],\n",
    "              [7, 8, 9]])\n",
    "\n",
    "A_trns = np.zeros((A.shape[1], A.shape[0]), dtype=\"int\")\n",
    "\n",
    "for i in range(A.shape[0]):\n",
    "    \n",
    "    for j in range(A.shape[1]):\n",
    "        \n",
    "        A_trns[j][i] = A[i][j]\n",
    "\n",
    "Gram_matrix = np.zeros((A_trns.shape[0], A.shape[1]), dtype=\"int\")\n",
    "\n",
    "for i in range(A_trns.shape[0]):\n",
    "    \n",
    "    for j in range(A.shape[1]):\n",
    "        \n",
    "        for k in range(A_trns.shape[1]):\n",
    "            \n",
    "            Gram_matrix[i][j] += A_trns[i][k] * A[k][j]\n",
    "\n",
    "print(Gram_matrix)"
   ]
  },
  {
   "cell_type": "code",
   "execution_count": null,
   "metadata": {},
   "outputs": [
    {
     "name": "stdout",
     "output_type": "stream",
     "text": [
      "[[27.  13.5]\n",
      " [ 4.5 22.5]]\n"
     ]
    }
   ],
   "source": [
    "#Task11\n",
    "import numpy as np\n",
    "\n",
    "A = np.array([[6, 3],\n",
    "              [1, 5]])\n",
    "\n",
    "row = A.shape[0]\n",
    "column = A.shape[1]\n",
    "absolute_val = abs(row - column)\n",
    "mod = absolute_val % row\n",
    "\n",
    "if mod == 0:\n",
    "    row_to_average = 0\n",
    "elif mod == 1:\n",
    "    row_to_average = 1\n",
    "else:\n",
    "    row_to_average = row - 1\n",
    "\n",
    "row_sum = 0\n",
    "for val in A[row_to_average]:\n",
    "    row_sum += val\n",
    "\n",
    "row_size = len(A[row_to_average])\n",
    "row_avg = row_sum / row_size\n",
    "\n",
    "A_1 = np.zeros((A.shape[0], A.shape[1]), dtype=\"float\")\n",
    "for i in range(row):\n",
    "    for j in range(column):\n",
    "        A_1[i][j] = row_avg * A[i][j]\n",
    "\n",
    "print(A_1)"
   ]
  }
 ],
 "metadata": {
  "kernelspec": {
   "display_name": "Python 3",
   "language": "python",
   "name": "python3"
  },
  "language_info": {
   "codemirror_mode": {
    "name": "ipython",
    "version": 3
   },
   "file_extension": ".py",
   "mimetype": "text/x-python",
   "name": "python",
   "nbconvert_exporter": "python",
   "pygments_lexer": "ipython3",
   "version": "3.11.6"
  }
 },
 "nbformat": 4,
 "nbformat_minor": 2
}
