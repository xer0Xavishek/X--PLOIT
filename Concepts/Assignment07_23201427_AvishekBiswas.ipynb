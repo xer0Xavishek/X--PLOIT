{
 "cells": [
  {
   "cell_type": "code",
   "execution_count": 2,
   "metadata": {},
   "outputs": [],
   "source": [
    "#Please install the following packages before running the code\n",
    "#if you do not then the code will not run\n",
    "#\n",
    "import numpy as np\n"
   ]
  },
  {
   "cell_type": "code",
   "execution_count": 5,
   "metadata": {},
   "outputs": [
    {
     "name": "stdout",
     "output_type": "stream",
     "text": [
      "Original Array:  [5 8 2]\n",
      "Resized Array:  [5 8 2 9]\n"
     ]
    }
   ],
   "source": [
    "#Task1\n",
    "N=int(input())\n",
    "iarray=np.zeros(N,dtype=int)\n",
    "for i in range(N):\n",
    "    iarray[i]=int(input())\n",
    "    \n",
    "larray=np.zeros(N+1,dtype=int)\n",
    "\n",
    "larray[:-1]=iarray#original array ----->>>> the new \n",
    "\n",
    "larray[-1]=int(input())# addinnn last element of the new\n",
    "\n",
    "print(\"Original Array: \",iarray)\n",
    "print(\"Resized Array: \",larray)\n"
   ]
  },
  {
   "cell_type": "code",
   "execution_count": 10,
   "metadata": {},
   "outputs": [
    {
     "name": "stdout",
     "output_type": "stream",
     "text": [
      "Orginal array: [ 3  4 -2  1]\n",
      "Modfied array: [1 1 0 1]\n"
     ]
    }
   ],
   "source": [
    "#Task2\n",
    "N=int(input())\n",
    "arr1d=np.zeros(N,dtype=int)\n",
    "for i in range(N):\n",
    "    arr1d[i]=int(input())\n",
    "print(\"Orginal array:\", arr1d)\n",
    "\n",
    "for i in range(arr1d.size):\n",
    "    if arr1d[i] > 0:\n",
    "        arr1d[i] = 1\n",
    "    else:\n",
    "        arr1d[i] = 0\n",
    "\n",
    "print(\"Modfied array:\", arr1d)"
   ]
  },
  {
   "cell_type": "code",
   "execution_count": 11,
   "metadata": {},
   "outputs": [
    {
     "name": "stdout",
     "output_type": "stream",
     "text": [
      "[ 7  5 20 12 10]\n"
     ]
    }
   ],
   "source": [
    "#Task3\n",
    "def reverseArray(arr1):\n",
    "    for start in range(arr1.size // 2): \n",
    "        end = arr1.size - 1 - start\n",
    "\n",
    "        # Swap elements using a temporary variable\n",
    "        temp = arr1[start]\n",
    "        arr1[start] = arr1[end]\n",
    "        arr1[end] = temp\n",
    "\n",
    "    return arr1\n",
    "\n",
    "\n",
    "#verification part***********\n",
    "arr1 = np.array([10, 12, 20, 5, 7])\n",
    "arr1 = reverseArray(arr1)\n",
    "print(arr1)"
   ]
  },
  {
   "cell_type": "code",
   "execution_count": 13,
   "metadata": {},
   "outputs": [
    {
     "name": "stdout",
     "output_type": "stream",
     "text": [
      "7, 8\n",
      "10, 5\n"
     ]
    }
   ],
   "source": [
    "#Task4\n",
    "\n",
    "def printPairs(arr1, target_digit):\n",
    "    pair_digit = False\n",
    "\n",
    "    for o in range(arr1.size):\n",
    "        \n",
    "        for n in range((o +1), arr1.size):\n",
    "            \n",
    "            if arr1[o] + arr1[n] == target_digit:\n",
    "                \n",
    "                pair_digit = True\n",
    "                \n",
    "                print(f\"{arr1[o]}, {arr1[n]}\")\n",
    "\n",
    "    if not pair_digit:\n",
    "        print(\"No pair found\")\n",
    "\n",
    "arr1 = np.array([7,8,10,5,3,4,2])\n",
    "printPairs(arr1, 15)"
   ]
  },
  {
   "cell_type": "code",
   "execution_count": null,
   "metadata": {},
   "outputs": [],
   "source": []
  },
  {
   "cell_type": "code",
   "execution_count": null,
   "metadata": {},
   "outputs": [],
   "source": []
  },
  {
   "cell_type": "code",
   "execution_count": null,
   "metadata": {},
   "outputs": [],
   "source": []
  },
  {
   "cell_type": "code",
   "execution_count": null,
   "metadata": {},
   "outputs": [],
   "source": []
  },
  {
   "cell_type": "code",
   "execution_count": null,
   "metadata": {},
   "outputs": [],
   "source": []
  },
  {
   "cell_type": "code",
   "execution_count": null,
   "metadata": {},
   "outputs": [],
   "source": []
  },
  {
   "cell_type": "code",
   "execution_count": null,
   "metadata": {},
   "outputs": [],
   "source": []
  },
  {
   "cell_type": "code",
   "execution_count": 8,
   "metadata": {},
   "outputs": [
    {
     "name": "stdout",
     "output_type": "stream",
     "text": [
      "Transposed Matrix: \n",
      "[1, 4, 7]\n",
      "[2, 5, 8]\n",
      "[3, 6, 9]\n"
     ]
    }
   ],
   "source": [
    "# Given array A\n",
    "A = [[1, 2, 3],\n",
    "     [4, 5, 6],\n",
    "     [7, 8, 9]]\n",
    "\n",
    "# Get the dimensions of A\n",
    "M = len(A)\n",
    "N = len(A[0])\n",
    "\n",
    "# Initialize the transposed array\n",
    "AT = [[0 for _ in range(M)] for _ in range(N)]\n",
    "\n",
    "# Transpose the array\n",
    "for i in range(M):\n",
    "    for j in range(N):\n",
    "        AT[j][i] = A[i][j]\n",
    "\n",
    "# Print the transposed array\n",
    "print(\"Transposed Matrix: \")\n",
    "for row in AT:\n",
    "    print(row)"
   ]
  }
 ],
 "metadata": {
  "kernelspec": {
   "display_name": "Python 3",
   "language": "python",
   "name": "python3"
  },
  "language_info": {
   "codemirror_mode": {
    "name": "ipython",
    "version": 3
   },
   "file_extension": ".py",
   "mimetype": "text/x-python",
   "name": "python",
   "nbconvert_exporter": "python",
   "pygments_lexer": "ipython3",
   "version": "3.11.6"
  }
 },
 "nbformat": 4,
 "nbformat_minor": 2
}
