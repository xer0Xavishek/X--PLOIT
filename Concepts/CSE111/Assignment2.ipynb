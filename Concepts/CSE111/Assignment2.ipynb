{
 "cells": [
  {
   "cell_type": "markdown",
   "metadata": {},
   "source": [
    "# Home Task Lab 2"
   ]
  },
  {
   "cell_type": "code",
   "execution_count": 25,
   "metadata": {},
   "outputs": [
    {
     "name": "stdout",
     "output_type": "stream",
     "text": [
      "1000\n",
      "Highest fee was 1000 tk which was paid by Neymar,Bale\n"
     ]
    }
   ],
   "source": [
    "def hospital_fee(**kwargs):\n",
    "    \n",
    "    #1\n",
    "    max=0\n",
    "    payer=[]\n",
    "    bill_sorted=[]\n",
    "    for val in kwargs.values():\n",
    "        if val > max:\n",
    "            max=val\n",
    "    print(max)\n",
    "    for key,value in kwargs.items():\n",
    "        if value==max:\n",
    "            payer.append(key)\n",
    "    max_payers= \",\".join(payer)\n",
    "    print(f\"Highest fee was {max} tk which was paid by {max_payers}\")\n",
    "    \n",
    "hospital_fee(Neymar = 1000, Dembele = 600, Reus = 500, Bale = 1000)"
   ]
  },
  {
   "cell_type": "code",
   "execution_count": 28,
   "metadata": {},
   "outputs": [
    {
     "data": {
      "text/plain": [
       "True"
      ]
     },
     "execution_count": 28,
     "metadata": {},
     "output_type": "execute_result"
    }
   ],
   "source": [
    "#2\n",
    "def is_james_bond(list):\n",
    "    jb007=[0,0,7,\"avoiding_error\"]\n",
    "    for num in list:\n",
    "        if num== jb007[0]:\n",
    "            jb007.pop(0)\n",
    "    return len(jb007)==1\n",
    "\n",
    "is_james_bond( [1, 2, 4, 0, 0, 7, 5] )\n"
   ]
  },
  {
   "cell_type": "code",
   "execution_count": 38,
   "metadata": {},
   "outputs": [
    {
     "name": "stdout",
     "output_type": "stream",
     "text": [
      "{'A': ['Bob'], 'B': ['Charlie'], 'C': ['Grace'], 'D': ['Alice', 'David', 'Eve', 'Frank'], 'E': []}\n"
     ]
    }
   ],
   "source": [
    "#3\n",
    "def assign_students_to_sections(sections, *args):\n",
    "    sec_d = {}\n",
    "    for section in sections:\n",
    "        sec_d[section] = []\n",
    "\n",
    "    for student in args:\n",
    "        ascii_sum = 0\n",
    "        for char in student:\n",
    "            ascii_sum += ord(char)\n",
    "\n",
    "        sec_idx = ascii_sum % len(sections)\n",
    "\n",
    "        sec_d[sections[sec_idx]].append(student)\n",
    "\n",
    "    return sec_d\n",
    "\n",
    "print(assign_students_to_sections('ABCDE', 'Alice', 'Bob', 'Charlie', 'David', 'Eve', 'Frank', 'Grace'))\n",
    "\n",
    "# Initialize a variable to store the sum\n",
    "\n",
    "\n",
    "# Iterate over each character in the string\n",
    "\n",
    "    # Add the ASCII value of the character to the sum\n",
    "    "
   ]
  },
  {
   "cell_type": "code",
   "execution_count": 32,
   "metadata": {},
   "outputs": [
    {
     "name": "stdout",
     "output_type": "stream",
     "text": [
      "FASsdg_4261\n"
     ]
    }
   ],
   "source": [
    "#4\n",
    "def username_generator(first_name, last_name, student_id, middle_name=''):\n",
    "    \n",
    "    \n",
    "    usrr = first_name[:3].upper()\n",
    "\n",
    "    usrr += middle_name\n",
    "\n",
    "    usrr += last_name[-3:].lower()\n",
    "\n",
    "    usrr += '_'\n",
    "\n",
    "    usrr += str(student_id)[-4:]\n",
    "\n",
    "    return usrr\n",
    "\n",
    "first_name, middle_name, last_name, student_id = input(\"First Name:\"), input(\"Middle Name:\"), input(\"Last Name:\"), int(input(\"Student ID:\"))\n",
    "\n",
    "print(username_generator(first_name, last_name, student_id, middle_name))"
   ]
  },
  {
   "cell_type": "code",
   "execution_count": 35,
   "metadata": {},
   "outputs": [
    {
     "name": "stdout",
     "output_type": "stream",
     "text": [
      "Encrypted Keys: ['a101108X', 'b111B', 't100117114Y']\n"
     ]
    }
   ],
   "source": [
    "#5\n",
    "def key_generator(*args):\n",
    "    cryptic = []\n",
    "\n",
    "    for name in args:\n",
    "        krpt = name[0].lower()\n",
    "\n",
    "        middle_chars = name[1:-1][::-1]\n",
    "        for char in middle_chars:\n",
    "            krpt += str(ord(char))\n",
    "\n",
    "        krpt += name[-1].upper()\n",
    "\n",
    "        cryptic.append(krpt)\n",
    "\n",
    "    return cryptic\n",
    "\n",
    "key_list = key_generator(\"Alex\", \"Bob\", \"Trudy\")\n",
    "print('Encrypted Keys:', key_list)"
   ]
  },
  {
   "cell_type": "code",
   "execution_count": 37,
   "metadata": {},
   "outputs": [
    {
     "name": "stdout",
     "output_type": "stream",
     "text": [
      "Computer: rock\n",
      "Computer wins this round!\n",
      "Computer: paper\n",
      "Computer wins this round!\n",
      "Computer: scissor\n",
      "Computer wins this round!\n",
      "Your Score: 0\n",
      "Computer's Score: 3\n",
      "Computer has won the game!\n"
     ]
    }
   ],
   "source": [
    "#6\n",
    "import random\n",
    "\n",
    "def playRockPaperScissor(rounds):\n",
    "    act = ['rock', 'paper', 'scissor']\n",
    "\n",
    "    plsc = 0\n",
    "    computer_score = 0\n",
    "\n",
    "    for _ in range(rounds):\n",
    "        plr = input()\n",
    "\n",
    "        c_act = random.choice(act)\n",
    "        print(\"Computer:\", c_act)\n",
    "\n",
    "        if plr == c_act:\n",
    "            print(\"It's a tie!\")\n",
    "        elif (plr == 'rock' and c_act == 'scissor') or \\\n",
    "             (plr == 'paper' and c_act == 'rock') or \\\n",
    "             (plr == 'scissor' and c_act == 'paper'):\n",
    "            plsc += 1\n",
    "            print(\"You win this round!\")\n",
    "        else:\n",
    "            computer_score += 1\n",
    "            print(\"Computer wins this round!\")\n",
    "\n",
    "    print(\"Your Score:\", plsc)\n",
    "    print(\"Computer's Score:\", computer_score)\n",
    "\n",
    "    if plsc > computer_score:\n",
    "        print(\"You have won the game!\")\n",
    "    elif plsc < computer_score:\n",
    "        print(\"Computer has won the game!\")\n",
    "    else:\n",
    "        print(\"The game is a tie!\")\n",
    "\n",
    "playRockPaperScissor(3)"
   ]
  },
  {
   "cell_type": "code",
   "execution_count": 39,
   "metadata": {},
   "outputs": [
    {
     "name": "stdout",
     "output_type": "stream",
     "text": [
      "Computer: paper\n",
      "Computer: rock\n",
      "Computer: scissor\n",
      "Your Score: 1\n",
      "Computer's Score: 2\n",
      "Computer has won the game!\n"
     ]
    }
   ],
   "source": [
    "import random\n",
    "\n",
    "def playRockPaperScissor(rounds):\n",
    "    act = ['rock', 'paper', 'scissor']\n",
    "\n",
    "    plsc = 0\n",
    "    com_s = 0\n",
    "\n",
    "    for _ in range(rounds):\n",
    "        plr = input()\n",
    "\n",
    "        c_act = random.choice(act)\n",
    "        print(\"Computer:\", c_act)\n",
    "\n",
    "        if plr == c_act:\n",
    "            pass  \n",
    "        elif (plr == 'rock' and c_act == 'scissor') or \\\n",
    "             (plr == 'paper' and c_act == 'rock') or \\\n",
    "             (plr == 'scissor' and c_act == 'paper'):\n",
    "            plsc += 1\n",
    "        else:\n",
    "            com_s += 1\n",
    "\n",
    "    print(\"Your Score:\", plsc)\n",
    "    print(\"Computer's Score:\", com_s)\n",
    "\n",
    "    if plsc > com_s:\n",
    "        print(\"You have won the game!\")\n",
    "    elif plsc < com_s:\n",
    "        print(\"Computer has won the game!\")\n",
    "    else:\n",
    "        print(\"The game is a tie!\")\n",
    "\n",
    "playRockPaperScissor(3)"
   ]
  }
 ],
 "metadata": {
  "kernelspec": {
   "display_name": "Python 3",
   "language": "python",
   "name": "python3"
  },
  "language_info": {
   "codemirror_mode": {
    "name": "ipython",
    "version": 3
   },
   "file_extension": ".py",
   "mimetype": "text/x-python",
   "name": "python",
   "nbconvert_exporter": "python",
   "pygments_lexer": "ipython3",
   "version": "3.11.8"
  }
 },
 "nbformat": 4,
 "nbformat_minor": 2
}
