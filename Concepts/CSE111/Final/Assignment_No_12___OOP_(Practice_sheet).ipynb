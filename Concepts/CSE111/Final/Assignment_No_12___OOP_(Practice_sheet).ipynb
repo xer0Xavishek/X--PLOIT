{
  "nbformat": 4,
  "nbformat_minor": 0,
  "metadata": {
    "colab": {
      "provenance": []
    },
    "kernelspec": {
      "name": "python3",
      "display_name": "Python 3"
    },
    "language_info": {
      "name": "python"
    }
  },
  "cells": [
    {
      "cell_type": "markdown",
      "source": [
        "Name: **ANINDYA KABBYA BISWAS**\n",
        "\n",
        "Section: **23**\n",
        "\n",
        "Student ID: **23201140**"
      ],
      "metadata": {
        "id": "ZnrA9DOYlocb"
      }
    },
    {
      "cell_type": "markdown",
      "source": [
        "### **Task-1**"
      ],
      "metadata": {
        "id": "UUFmj3Eo23Ge"
      }
    },
    {
      "cell_type": "code",
      "execution_count": null,
      "metadata": {
        "colab": {
          "base_uri": "https://localhost:8080/"
        },
        "id": "AsnYNHm12fl4",
        "outputId": "efbae077-6d21-4c5d-d125-37e1873b6775"
      },
      "outputs": [
        {
          "output_type": "stream",
          "name": "stdout",
          "text": [
            "**********************\n",
            "Player Name: Buffon\n",
            "Player Season Earning without bonus: 250000\n",
            "Bonus: 0\n",
            "Player Season Earning After Bonus: 250000\n",
            "\n",
            "\n",
            "**********************\n",
            "Player Name: Dybala\n",
            "Player Season Earning without bonus: 250000\n",
            "Bonus: 22500\n",
            "Player Season Earning After Bonus: 272500\n",
            "\n",
            "\n",
            "**********************\n",
            "Player Name: Cuadrado\n",
            "Player Season Earning without bonus: 250000\n",
            "Bonus: 12500\n",
            "Player Season Earning After Bonus: 262500\n",
            "\n"
          ]
        }
      ],
      "source": [
        "# Class Code\n",
        "class PlayerEarning:\n",
        "    def __init__ (self, n):\n",
        "        self.name = n\n",
        "        self.earn = 0\n",
        "        self.bonus = 0\n",
        "    def calculateTotal(self, b_earn, goal = None):\n",
        "        self.earn = b_earn\n",
        "        if goal != None:\n",
        "            if goal > 30:\n",
        "                self.bonus = int((5/100) * b_earn + 10000)\n",
        "            else:\n",
        "                self.bonus = int((5/100) * b_earn)\n",
        "    def printDetails(self):\n",
        "        print(f\"\"\"Player Name: {self.name}\n",
        "Player Season Earning without bonus: {self.earn}\n",
        "Bonus: {self.bonus}\n",
        "Player Season Earning After Bonus: {self.earn + self.bonus}\n",
        "\"\"\")\n",
        "\n",
        "\n",
        "print(\"**********************\")\n",
        "player1 = PlayerEarning('Buffon')\n",
        "player1.calculateTotal(250000)\n",
        "player1.printDetails()\n",
        "\n",
        "print(\"\\n**********************\")\n",
        "player2 = PlayerEarning('Dybala')\n",
        "player2.calculateTotal(250000, 31)\n",
        "player2.printDetails()\n",
        "\n",
        "print(\"\\n**********************\")\n",
        "player3 = PlayerEarning('Cuadrado')\n",
        "player3.calculateTotal(250000, 20)\n",
        "player3.printDetails()\n"
      ]
    },
    {
      "cell_type": "markdown",
      "source": [
        "### **Task-2**"
      ],
      "metadata": {
        "id": "GeRE0h_F3qM8"
      }
    },
    {
      "cell_type": "code",
      "source": [
        "class myList:\n",
        "    def __init__(self, *lst):\n",
        "        self.lst = list(lst)\n",
        "    def sum(self):\n",
        "        print(\"Sum:\", sum(self.lst))\n",
        "    def merge(self, *ad):\n",
        "        self.lst += ad\n",
        "    def average(self):\n",
        "        if len(self.lst) != 0:\n",
        "            avg = sum(self.lst) / len(self.lst)\n",
        "        else:\n",
        "            avg = 0\n",
        "        print(\"Average:\",avg)\n",
        "\n",
        "l1 =  myList(2,3,4,5,6) #you might need a list inside your class to store the values\n",
        "l1.sum()\n",
        "l1.merge(4,5,9)\n",
        "l1.sum()\n",
        "l1.average()\n",
        "print(\"-----------------------------\")\n",
        "l2 =  myList()\n",
        "l2.average()\n",
        "l2.merge(1,2,4,8)\n",
        "l2.sum()"
      ],
      "metadata": {
        "colab": {
          "base_uri": "https://localhost:8080/"
        },
        "id": "Vr_RkrDG3yYM",
        "outputId": "dc6b0582-3951-4af1-d8f6-8531553e0378"
      },
      "execution_count": null,
      "outputs": [
        {
          "output_type": "stream",
          "name": "stdout",
          "text": [
            "Sum: 20\n",
            "Sum: 38\n",
            "Average: 4.75\n",
            "-----------------------------\n",
            "Average: 0\n",
            "Sum: 15\n"
          ]
        }
      ]
    },
    {
      "cell_type": "markdown",
      "source": [
        "### **Task-3**"
      ],
      "metadata": {
        "id": "fA94DKHu6Nss"
      }
    },
    {
      "cell_type": "code",
      "source": [
        "class Bird:\n",
        "    def __init__(self, n, fly = False):\n",
        "        self.name = n\n",
        "        self.flight = fly\n",
        "        self.typ = \"Flightless Birds\"\n",
        "    def fly(self):\n",
        "        if self.flight:\n",
        "            fly = \"can\"\n",
        "        else:\n",
        "            fly = \"can not\"\n",
        "        print(f\"{self.name} {fly} fly\")\n",
        "    def setType(self, typ):\n",
        "        self.typ = typ\n",
        "    def printDetail(self):\n",
        "        print(\"Name:\", self.name)\n",
        "        print(\"Type:\", self.typ)\n",
        "\n",
        "ostrich = Bird('Ostrich')\n",
        "duck = Bird(\"Duck\", True)\n",
        "owl = Bird('Owl', True)\n",
        "print(\"###########################\")\n",
        "ostrich.fly()\n",
        "duck.fly()\n",
        "owl.fly()\n",
        "duck.setType('Water Birds')\n",
        "owl.setType('Birds of Prey')\n",
        "print(\"=========================\")\n",
        "ostrich.printDetail()\n",
        "print(\"=========================\")\n",
        "duck.printDetail()\n",
        "print(\"=========================\")\n",
        "owl.printDetail()"
      ],
      "metadata": {
        "colab": {
          "base_uri": "https://localhost:8080/"
        },
        "id": "aLl71E0O6Mq8",
        "outputId": "8bf88c9b-148a-42ea-cc01-5da834908b8c"
      },
      "execution_count": null,
      "outputs": [
        {
          "output_type": "stream",
          "name": "stdout",
          "text": [
            "###########################\n",
            "Ostrich can not fly\n",
            "Duck can fly\n",
            "Owl can fly\n",
            "=========================\n",
            "Name: Ostrich\n",
            "Type: Flightless Birds\n",
            "=========================\n",
            "Name: Duck\n",
            "Type: Water Birds\n",
            "=========================\n",
            "Name: Owl\n",
            "Type: Birds of Prey\n"
          ]
        }
      ]
    },
    {
      "cell_type": "markdown",
      "source": [
        "### **Task-4**"
      ],
      "metadata": {
        "id": "N-yL1OvV-EC8"
      }
    },
    {
      "cell_type": "code",
      "source": [
        "class Account:\n",
        "    count = 0\n",
        "    def __init__(self, name, age, prof, amount):\n",
        "        self.name = name\n",
        "        self.age = age\n",
        "        self.prof = prof\n",
        "        self.amount = amount\n",
        "        Account.count += 1\n",
        "    def addMoney(self, a):\n",
        "        self.amount += a\n",
        "    def withdrawMoney(self, a):\n",
        "        self.amount -= a\n",
        "    def printDetails(self):\n",
        "        print(f\"\"\"Name: {self.name}\n",
        "Age: {self.age}\n",
        "Ocuupation: {self.prof}\n",
        "Total Amount: {self.amount}\"\"\")\n",
        "\n",
        "\n",
        "print('No of account holders:', Account.count)\n",
        "print(\"=========================\")\n",
        "p1 = Account(\"Abdul\", 45, \"Service Holder\", 500000)\n",
        "p1.addMoney(300000)\n",
        "p1.printDetails()\n",
        "print(\"=========================\")\n",
        "p2 = Account(\"Rahim\", 55, \"Businessman\", 700000)\n",
        "p2.withdrawMoney(700000)\n",
        "p2.printDetails()\n",
        "print(\"=========================\")\n",
        "p3 = Account(\"Ashraf\", 62, \"Govt. Officer\", 200000)\n",
        "p3.withdrawMoney(250000)\n",
        "p3.printDetails()\n",
        "print(\"=========================\")\n",
        "print('No of account holders:', Account.count)"
      ],
      "metadata": {
        "colab": {
          "base_uri": "https://localhost:8080/"
        },
        "id": "2o7EOdGu_lD9",
        "outputId": "881e7088-0717-4bcb-ddf7-a4bfbac7fa2d"
      },
      "execution_count": null,
      "outputs": [
        {
          "output_type": "stream",
          "name": "stdout",
          "text": [
            "No of account holders: 0\n",
            "=========================\n",
            "Name: Abdul\n",
            "Age: 45\n",
            "Ocuupation: Service Holder\n",
            "Total Amount: 800000\n",
            "=========================\n",
            "Name: Rahim\n",
            "Age: 55\n",
            "Ocuupation: Businessman\n",
            "Total Amount: 0\n",
            "=========================\n",
            "Name: Ashraf\n",
            "Age: 62\n",
            "Ocuupation: Govt. Officer\n",
            "Total Amount: -50000\n",
            "=========================\n",
            "No of account holders: 3\n"
          ]
        }
      ]
    },
    {
      "cell_type": "markdown",
      "source": [
        "### **Task-5**"
      ],
      "metadata": {
        "id": "kX7sdpjjWT5b"
      }
    },
    {
      "cell_type": "code",
      "execution_count": null,
      "metadata": {
        "colab": {
          "base_uri": "https://localhost:8080/"
        },
        "id": "VzpG5imMrgNf",
        "outputId": "61807813-8272-4d1c-9bb7-0c1b1ac8d302"
      },
      "outputs": [
        {
          "output_type": "stream",
          "name": "stdout",
          "text": [
            "=================================\n",
            "Feature can not be added without phone name\n",
            "=================================\n",
            "Phone Name: Samsung Note 20\n",
            "Display: 6.1 inch\n",
            "=================================\n",
            "=================================\n",
            "Phone Name: Iphone 12 Pro\n",
            "Display: 6.2 inch\n",
            "Ram: 6 GB\n",
            "=================================\n",
            "Phone Name: Iphone 12 Pro\n",
            "Display: 6.2 inch, Amoled panel\n",
            "Ram: 6 GB, DDR5\n",
            "=================================\n"
          ]
        }
      ],
      "source": [
        "class Smartphone:\n",
        "    def __init__(self, model = None):\n",
        "        self.model = model\n",
        "        self.features = {}\n",
        "    def setName(self, n):\n",
        "        self.model = n\n",
        "    def addFeature(self, comp, details):\n",
        "        if self.model == None:\n",
        "            print(\"Feature can not be added without phone name\")\n",
        "        else:\n",
        "            if comp not in self.features:\n",
        "                self.features[comp] = []\n",
        "            self.features[comp].append(details)\n",
        "    def printDetail(self):\n",
        "        print(\"Phone Name:\", self.model)\n",
        "        for a, b in self.features.items():\n",
        "            print(f\"{a}: {', '.join(b)}\")\n",
        "\n",
        "\n",
        "s1 = Smartphone()\n",
        "print(\"=================================\")\n",
        "s1.addFeature(\"Display\", \"6.1 inch\")\n",
        "print(\"=================================\")\n",
        "s1.setName(\"Samsung Note 20\")\n",
        "s1.addFeature(\"Display\", \"6.1 inch\")\n",
        "s1.printDetail()\n",
        "print(\"=================================\")\n",
        "s2 = Smartphone(\"Iphone 12 Pro\")\n",
        "s2.addFeature(\"Display\", \"6.2 inch\")\n",
        "s2.addFeature(\"Ram\", \"6 GB\")\n",
        "print(\"=================================\")\n",
        "s2.printDetail()\n",
        "s2.addFeature(\"Display\", \"Amoled panel\")\n",
        "s2.addFeature(\"Ram\", \"DDR5\")\n",
        "print(\"=================================\")\n",
        "s2.printDetail()\n",
        "print(\"=================================\")"
      ]
    },
    {
      "cell_type": "markdown",
      "source": [
        "### **Task-6**"
      ],
      "metadata": {
        "id": "3toqFfswZzFC"
      }
    },
    {
      "cell_type": "code",
      "source": [
        "class Student:\n",
        "    count = 0\n",
        "    dept_count = {}\n",
        "\n",
        "    def __init__(self,name, dept):\n",
        "        self.name = name\n",
        "        self.dept = dept\n",
        "\n",
        "        Student.count += 1\n",
        "        self.serial = Student.count\n",
        "\n",
        "        if dept not in Student.dept_count:\n",
        "            Student.dept_count[dept] = 0\n",
        "        Student.dept_count[dept] += 1\n",
        "        self.dept_serial = Student.dept_count[dept]\n",
        "\n",
        "        print(\"Creating Student Number:\", self.serial)\n",
        "\n",
        "    def individualInfo(self):\n",
        "        print(f\"\"\"{self.name} is from {self.dept} department.\n",
        "Serial of Naruto among all students' is: {self.serial}\n",
        "Serial of Naruto in CSE department is: {self.dept_serial}\"\"\")\n",
        "\n",
        "    @classmethod\n",
        "    def totalInfo(cls):\n",
        "        print(\"Total Number of Student:\", cls.count)\n",
        "        for x,y in cls.dept_count.items():\n",
        "            print(f\"Total Number of {x} Student:\", y)\n",
        "\n",
        "\n",
        "s1 = Student(\"Naruto\", \"CSE\")\n",
        "print('----------------------')\n",
        "s1.individualInfo()\n",
        "print('#############################')\n",
        "s1.totalInfo()\n",
        "print('============================')\n",
        "\n",
        "\n",
        "s2 = Student(\"Sakura\", \"BBA\")\n",
        "print('----------------------')\n",
        "s2.individualInfo()\n",
        "print('#############################')\n",
        "s2.totalInfo()\n",
        "print('============================')\n",
        "\n",
        "\n",
        "s3 = Student(\"Shikamaru\", \"CSE\")\n",
        "print('----------------------')\n",
        "s3.individualInfo()\n",
        "print('#############################')\n",
        "s3.totalInfo()\n",
        "print('============================')\n",
        "\n",
        "\n",
        "s4 = Student(\"Deidara\", \"BBA\")\n",
        "print('----------------------')\n",
        "s4.individualInfo()\n",
        "print('#############################')\n",
        "s4.totalInfo()"
      ],
      "metadata": {
        "colab": {
          "base_uri": "https://localhost:8080/"
        },
        "id": "jZATeps5GbBQ",
        "outputId": "8f03dd21-e39a-46ca-97e0-1831ce63e63f"
      },
      "execution_count": null,
      "outputs": [
        {
          "output_type": "stream",
          "name": "stdout",
          "text": [
            "Creating Student Number: 1\n",
            "----------------------\n",
            "Naruto is from CSE department.\n",
            "Serial of Naruto among all students' is: 1\n",
            "Serial of Naruto in CSE department is: 1\n",
            "#############################\n",
            "Total Number of Student: 1\n",
            "Total Number of CSE Student: 1\n",
            "============================\n",
            "Creating Student Number: 2\n",
            "----------------------\n",
            "Sakura is from BBA department.\n",
            "Serial of Naruto among all students' is: 2\n",
            "Serial of Naruto in CSE department is: 1\n",
            "#############################\n",
            "Total Number of Student: 2\n",
            "Total Number of CSE Student: 1\n",
            "Total Number of BBA Student: 1\n",
            "============================\n",
            "Creating Student Number: 3\n",
            "----------------------\n",
            "Shikamaru is from CSE department.\n",
            "Serial of Naruto among all students' is: 3\n",
            "Serial of Naruto in CSE department is: 2\n",
            "#############################\n",
            "Total Number of Student: 3\n",
            "Total Number of CSE Student: 2\n",
            "Total Number of BBA Student: 1\n",
            "============================\n",
            "Creating Student Number: 4\n",
            "----------------------\n",
            "Deidara is from BBA department.\n",
            "Serial of Naruto among all students' is: 4\n",
            "Serial of Naruto in CSE department is: 2\n",
            "#############################\n",
            "Total Number of Student: 4\n",
            "Total Number of CSE Student: 2\n",
            "Total Number of BBA Student: 2\n"
          ]
        }
      ]
    },
    {
      "cell_type": "markdown",
      "source": [
        "### **Task-7**"
      ],
      "metadata": {
        "id": "WLweEG0wfBI_"
      }
    },
    {
      "cell_type": "code",
      "source": [
        "class book:\n",
        "    def __init__(self, name):\n",
        "        self.name = name\n",
        "        self.genre='biography'\n",
        "    def review(self):\n",
        "         print('This book is just out of the world,mind-blowing!')\n",
        "\n",
        "# Write your code here\n",
        "\n",
        "class fiction(book):\n",
        "    def __init__(self,name,genre):\n",
        "        super().__init__(name)\n",
        "        self.genre = genre\n",
        "    def review(self):\n",
        "        print(f\"{self.name} which is a {self.genre} is just out of the world, \\\n",
        "mind-blowing!\")\n",
        "\n",
        "class nonfiction(book):\n",
        "    def review(self):\n",
        "        print(f\"{self.name} which is a {self.genre} is just out of the world, \\\n",
        "mind-blowing!\")\n",
        "\n",
        "b1 = fiction('The Shining','Psychological horror')\n",
        "b2 = nonfiction('A Beautiful Mind')\n",
        "b1.review()\n",
        "print('=========================')\n",
        "b2.review()\n",
        "print('=========================')\n"
      ],
      "metadata": {
        "colab": {
          "base_uri": "https://localhost:8080/"
        },
        "id": "60p70Hv9XAef",
        "outputId": "f9c39019-eaf8-407f-fdb0-6d882b27b218"
      },
      "execution_count": null,
      "outputs": [
        {
          "output_type": "stream",
          "name": "stdout",
          "text": [
            "The Shining which is a Psychological horror is just out of the world, mind-blowing!\n",
            "=========================\n",
            "A Beautiful Mind which is a biography is just out of the world, mind-blowing!\n",
            "=========================\n"
          ]
        }
      ]
    },
    {
      "cell_type": "markdown",
      "source": [
        "### **Task-8**"
      ],
      "metadata": {
        "id": "f6dJzVyke_-5"
      }
    },
    {
      "cell_type": "code",
      "source": [
        "class Processor:\n",
        "    def __init__(self, model, thread, core):\n",
        "        self.model = model\n",
        "        self.core = core\n",
        "        self.thread = thread\n",
        "    def getInfo(self):\n",
        "        return \"Model:\"+self.model+ \"\\nCores:\"+str(self.core)+ \"\\nThreads:\"+ str(self.thread)\n",
        "\n",
        "# Write your code here\n",
        "class Intel(Processor):\n",
        "    def __init__(self, model, thread, core, price):\n",
        "        super().__init__(model, thread, core)\n",
        "        self.price = price\n",
        "    def getInfo(self):\n",
        "        print(f\"{super().getInfo()}\\nPrice: {self.price} taka\")\n",
        "\n",
        "class AMD(Processor):\n",
        "    def __init__(self, model, thread, core, price):\n",
        "        super().__init__(model, thread, core)\n",
        "        self.price = price\n",
        "    def getInfo(self):\n",
        "        print(f\"{super().getInfo()}\\nPrice: {self.price} taka\")\n",
        "\n",
        "\n",
        "p1 = Intel(\"Intel i5 10th Gen\",6,12,17000)\n",
        "p2 = AMD(\"Ryzen 5 3500X\",6,6,13800)\n",
        "p3 = AMD(\"Ryzen 5 3600\",6,12,16900)\n",
        "print('======================')\n",
        "p1.getInfo()\n",
        "print('======================')\n",
        "p2.getInfo()\n",
        "print('======================')\n",
        "p3.getInfo()"
      ],
      "metadata": {
        "colab": {
          "base_uri": "https://localhost:8080/"
        },
        "id": "wR8ikPQGfHpi",
        "outputId": "1a610417-fabc-407b-fc1d-b37f22e6cae2"
      },
      "execution_count": null,
      "outputs": [
        {
          "output_type": "stream",
          "name": "stdout",
          "text": [
            "======================\n",
            "Model:Intel i5 10th Gen\n",
            "Cores:12\n",
            "Threads:6\n",
            "Price: 17000 taka\n",
            "======================\n",
            "Model:Ryzen 5 3500X\n",
            "Cores:6\n",
            "Threads:6\n",
            "Price: 13800 taka\n",
            "======================\n",
            "Model:Ryzen 5 3600\n",
            "Cores:12\n",
            "Threads:6\n",
            "Price: 16900 taka\n"
          ]
        }
      ]
    },
    {
      "cell_type": "markdown",
      "source": [
        "### **Task-9**"
      ],
      "metadata": {
        "id": "Q0xWc4pX7pWM"
      }
    },
    {
      "cell_type": "code",
      "source": [
        "class Fruit:\n",
        "    Total_order = 0\n",
        "    def __init__(self, Order_ID, weight):\n",
        "        self.Order_ID=Order_ID\n",
        "        self.weight=weight\n",
        "        Fruit.Total_order=Fruit.Total_order+1\n",
        "\n",
        "    def __str__(self):\n",
        "        return self.Order_ID+\", Weight: \"+str(self.weight)\n",
        "\n",
        "class Mango(Fruit):\n",
        "    def __init__(self, id, weight, variety, price):\n",
        "        super().__init__(id, weight)\n",
        "        self.variety = variety\n",
        "        self.price = weight * price\n",
        "    def __str__(self):\n",
        "        return (f\"{super().__str__()}, Variety: {self.variety}, \\\n",
        "Total Price: {self.price}\")\n",
        "    def __add__(self, other):\n",
        "        return f\"The total Price of the orders are: {self.price + other.price}\"\n",
        "\n",
        "class JackFruit(Fruit):\n",
        "    def __init__(self, id, weight, price):\n",
        "        super().__init__(id, weight)\n",
        "        self.price = weight * price\n",
        "    def __str__(self):\n",
        "        return (f\"{super().__str__()}, Total Price: {self.price}\")\n",
        "    def __add__(self, other):\n",
        "        return f\"The total Price of the orders are: {self.price + other.price}\"\n",
        "\n",
        "\n",
        "m1=Mango(\"Order Id 1\", 5,\"GopalVog\",250)\n",
        "print(m1)\n",
        "m2=Mango(\"Order Id 2\", 5,\"HariVanga\", 230)\n",
        "print(m2)\n",
        "j1=JackFruit(\"Order Id 3\", 5,250)\n",
        "print(j1)\n",
        "j2=JackFruit(\"Order Id 4\", 4,210)\n",
        "print(j2)\n",
        "print(\"Total number of Orders: \"+str(Fruit.Total_order))\n",
        "print(\"==================\")\n",
        "print(m1+m2)\n",
        "print(\"==================\")\n",
        "print(j1+j2)"
      ],
      "metadata": {
        "colab": {
          "base_uri": "https://localhost:8080/"
        },
        "id": "M3UrUwkz7v1Q",
        "outputId": "c1c7526a-dcd4-4f29-b000-f1c6cdbe0ef3"
      },
      "execution_count": null,
      "outputs": [
        {
          "output_type": "stream",
          "name": "stdout",
          "text": [
            "Order Id 1, Weight: 5, Variety: GopalVog, Total Price: 1250\n",
            "Order Id 2, Weight: 5, Variety: HariVanga, Total Price: 1150\n",
            "Order Id 3, Weight: 5, Total Price: 1250\n",
            "Order Id 4, Weight: 4, Total Price: 840\n",
            "Total number of Orders: 4\n",
            "==================\n",
            "The total Price of the orders are: 2400\n",
            "==================\n",
            "The total Price of the orders are: 2090\n"
          ]
        }
      ]
    },
    {
      "cell_type": "markdown",
      "source": [
        "### **Task-10**"
      ],
      "metadata": {
        "id": "t7QSEKEQ0kQ1"
      }
    },
    {
      "cell_type": "code",
      "source": [
        "class Student:\n",
        "    def __init__(self,name,ID):\n",
        "        self.name = name\n",
        "        self.ID = ID\n",
        "    def Details(self):\n",
        "        return \"Name: \"+self.name+\"\\n\"+\"ID: \"+self.ID+\"\\n\"\n",
        "#Write your code here\n",
        "class CSEStudent(Student):\n",
        "    def __init__(self,name,ID,semester):\n",
        "        super().__init__(name, ID)\n",
        "        self.semester = semester\n",
        "    def Details(self):\n",
        "        return f\"{super().Details()}Current Semester: {self.semester}\"\n",
        "    def addCourseWithMarks(self, *args):\n",
        "        self.courses = []\n",
        "        self.gpa = []\n",
        "        for i in range(len(args)):\n",
        "            if i % 2 == 0:\n",
        "                self.courses.append(args[i])\n",
        "            elif i % 2 == 1:\n",
        "                if args[i] >= 85:\n",
        "                    gpa = 4.0\n",
        "                elif 80 <= args[i] <= 84:\n",
        "                    gpa = 3.3\n",
        "                elif 70 <= args[i] <= 79:\n",
        "                    gpa = 3.0\n",
        "                elif 65 <= args[i] <= 69:\n",
        "                    gpa = 2.3\n",
        "                elif 57 <= args[i] <= 64:\n",
        "                    gpa = 2.0\n",
        "                elif 55 <= args[i] <= 56:\n",
        "                    gpa = 1.3\n",
        "                elif 50 <= args[i] <= 54:\n",
        "                    gpa = 1.0\n",
        "                else:\n",
        "                    gpa = 0\n",
        "                self.gpa.append(gpa)\n",
        "    def showGPA(self):\n",
        "        num = len(self.gpa)\n",
        "        print(f\"{self.name} has taken {num} courses\")\n",
        "        for i in range(num):\n",
        "            print(f\"{self.courses[i]}: {self.gpa[i]}\")\n",
        "        print(f\"GPA of {self.name} is: {round(sum(self.gpa)/num, 2)}\")\n",
        "\n",
        "Bob = CSEStudent(\"Bob\",\"20301018\",\"Fall 2020\")\n",
        "Carol = CSEStudent(\"Carol\",\"16301814\",\"Fall 2020\")\n",
        "Anny = CSEStudent(\"Anny\",\"18201234\",\"Fall 2020\")\n",
        "print(\"#########################\")\n",
        "print(Bob.Details())\n",
        "print(\"#########################\")\n",
        "print(Carol.Details())\n",
        "print(\"#########################\")\n",
        "print(Anny.Details())\n",
        "print(\"#########################\")\n",
        "Bob.addCourseWithMarks(\"CSE111\",83.5,\"CSE230\",73.0,\"CSE260\",92.5)\n",
        "Carol.addCourseWithMarks(\"CSE470\",62.5,\"CSE422\",69.0,\"CSE460\",76.5,\"CSE461\",87.0)\n",
        "Anny.addCourseWithMarks(\"CSE340\",45.5,\"CSE321\",95.0,\"CSE370\",91.0)\n",
        "print(\"----------------------------\")\n",
        "Bob.showGPA()\n",
        "print(\"----------------------------\")\n",
        "Carol.showGPA()\n",
        "print(\"----------------------------\")\n",
        "Anny.showGPA()"
      ],
      "metadata": {
        "colab": {
          "base_uri": "https://localhost:8080/"
        },
        "id": "rTxZAbxl0nCw",
        "outputId": "9998d411-6c8d-4ae5-dd2d-58a95094e206"
      },
      "execution_count": null,
      "outputs": [
        {
          "output_type": "stream",
          "name": "stdout",
          "text": [
            "#########################\n",
            "Name: Bob\n",
            "ID: 20301018\n",
            "Current Semester: Fall 2020\n",
            "#########################\n",
            "Name: Carol\n",
            "ID: 16301814\n",
            "Current Semester: Fall 2020\n",
            "#########################\n",
            "Name: Anny\n",
            "ID: 18201234\n",
            "Current Semester: Fall 2020\n",
            "#########################\n",
            "----------------------------\n",
            "Bob has taken 3 courses\n",
            "CSE111: 3.3\n",
            "CSE230: 3.0\n",
            "CSE260: 4.0\n",
            "GPA of Bob is: 3.43\n",
            "----------------------------\n",
            "Carol has taken 4 courses\n",
            "CSE470: 2.0\n",
            "CSE422: 2.3\n",
            "CSE460: 3.0\n",
            "CSE461: 4.0\n",
            "GPA of Carol is: 2.83\n",
            "----------------------------\n",
            "Anny has taken 3 courses\n",
            "CSE340: 0\n",
            "CSE321: 4.0\n",
            "CSE370: 4.0\n",
            "GPA of Anny is: 2.67\n"
          ]
        }
      ]
    },
    {
      "cell_type": "markdown",
      "source": [
        "### **Task-11**"
      ],
      "metadata": {
        "id": "FkSnCAiWDbRn"
      }
    },
    {
      "cell_type": "code",
      "source": [
        "class Transport:\n",
        "    total_traveller = 0\n",
        "\n",
        "    def __init__(self, name, fare):\n",
        "        self.name = name\n",
        "        self.baseFare = fare\n",
        "\n",
        "    def __str__(self):\n",
        "        s =  \"Name: \"+self.name+\", Base fare: \"+str(self.baseFare)\n",
        "        return s\n",
        "\n",
        "class Bus(Transport):\n",
        "    def __init__(self, name, fare):\n",
        "        super().__init__(name, fare)\n",
        "        print(f\"Base-fare of {self.name} is {self.baseFare} Taka \")\n",
        "    def addPassengerWithBags(self, *args):\n",
        "        self.passengers = {}\n",
        "        for i in range(int(len(args)/2)):\n",
        "            Transport.total_traveller += 1\n",
        "            name = args[2*i]\n",
        "            bags = args[2*i+1]\n",
        "            fare = self.baseFare\n",
        "            if 3 <= bags <= 5:\n",
        "                fare += 60\n",
        "            elif bags > 5:\n",
        "                fare += 105\n",
        "            self.passengers[name] = fare\n",
        "    def __str__(self):\n",
        "        s = super().__str__() + \"\\n\"\n",
        "        s += f\"\"\"Total Passenger(s): {len(self.passengers)}\n",
        "Passenger details:\"\"\"\n",
        "        for x, y in self.passengers.items():\n",
        "            s += f\"\\nName: {x}, Fare: {y}\"\n",
        "        return s\n",
        "\n",
        "# class Train(Transport):\n",
        "#     def __init__(self, name, fare):\n",
        "#         super().__init__(name, fare)\n",
        "#         print(f\"Base-fare of {self.name} is {self.baseFare} Taka \")\n",
        "#     def addPassengerWithBags(self, *args):\n",
        "#         self.passengers = {}\n",
        "#         for i in range(int(len(args)/2)):\n",
        "#             Transport.total_traveller += 1\n",
        "#             name = args[2*i]\n",
        "#             bags = args[2*i+1]\n",
        "#             fare = self.baseFare\n",
        "#             if 3 <= bags <= 5:\n",
        "#                 fare += 60\n",
        "#             elif bags > 5:\n",
        "#                 fare += 105\n",
        "#             self.passengers[name] = fare\n",
        "#     def __str__(self):\n",
        "#         s = super().__str__() + \"\\n\"\n",
        "#         s += f\"\"\"Total Passenger(s): {len(self.passengers)}\n",
        "# Passenger details:\"\"\"\n",
        "#         for x, y in self.passengers.items():\n",
        "#             s += f\"\\nName: {x}, Fare: {y}\"\n",
        "#         return s\n",
        "\n",
        "class Train(Bus):\n",
        "    pass\n",
        "\n",
        "\n",
        "\n",
        "\n",
        "# Write your codes here.\n",
        "# Do not change the following lines of code.\n",
        "t1 = Bus(\"Volvo\", 950)\n",
        "print(\"=================================\")\n",
        "t1.addPassengerWithBags(\"David\", 6,  \"Mike\", 1, \"Carol\", 3)\n",
        "print(\"=================================\")\n",
        "print(t1)\n",
        "print(\"=================================\")\n",
        "t2 = Train(\"Silk City\", 850)\n",
        "print(\"=================================\")\n",
        "t2.addPassengerWithBags(\"Bob\", 2, \"Simon\", 4)\n",
        "print(\"=================================\")\n",
        "print(t2)\n",
        "print(\"=================================\")\n",
        "print(\"Total Passengers in Transport: \", Transport.total_traveller)"
      ],
      "metadata": {
        "colab": {
          "base_uri": "https://localhost:8080/"
        },
        "id": "Ff9weE-2xiiK",
        "outputId": "b2cf52c4-b6ed-43a9-8d87-46681b6951cb"
      },
      "execution_count": null,
      "outputs": [
        {
          "output_type": "stream",
          "name": "stdout",
          "text": [
            "Base-fare of Volvo is 950 Taka \n",
            "=================================\n",
            "=================================\n",
            "Name: Volvo, Base fare: 950\n",
            "Total Passenger(s): 3\n",
            "Passenger details:\n",
            "Name: David, Fare: 1055\n",
            "Name: Mike, Fare: 950\n",
            "Name: Carol, Fare: 1010\n",
            "=================================\n",
            "Base-fare of Silk City is 850 Taka \n",
            "=================================\n",
            "=================================\n",
            "Name: Silk City, Base fare: 850\n",
            "Total Passenger(s): 2\n",
            "Passenger details:\n",
            "Name: Bob, Fare: 850\n",
            "Name: Simon, Fare: 910\n",
            "=================================\n",
            "Total Passengers in Transport:  5\n"
          ]
        }
      ]
    },
    {
      "cell_type": "markdown",
      "source": [
        "### **Task-12**"
      ],
      "metadata": {
        "id": "hEkM1VBNDdoV"
      }
    },
    {
      "cell_type": "code",
      "source": [
        "class AppleProduct:\n",
        "  def __init__(self, name, model, base_price):\n",
        "    self.name = name\n",
        "    self.model = model\n",
        "    self.base_price = base_price\n",
        "  def companyInfo(self):\n",
        "    st = (\"Company Name: Apple\\nFouder: Steve Jobs, Steve Wozniak, Ronald Wayne\\nCurrent CEO: Tim Cook\\nAddress: Apple Inc, 2511 Laguna Blvd, Elk Grove, CA 95758, United States\")\n",
        "    return st\n",
        "  def feature(self):\n",
        "    st = (f\"Name: {self.name}\\nProduct Model: {self.model}\\nHardware Quality: Excellent Hardwares\\nGuarantee/ Warranty: Apple Care\")\n",
        "    return st\n",
        "  def __str__(self):\n",
        "    print('This is apple product.')\n",
        "  def calculatePrice(self):\n",
        "    print('Total Price:', self.base_price)\n",
        "# Write your codes here.\n",
        "class MacBookPro2020(AppleProduct):\n",
        "    def __init__(self, name, model, ram, chip, tax):\n",
        "        super().__init__(name, model, 1299)\n",
        "        self.ram = ram\n",
        "        self.chip = chip\n",
        "        self.tax = tax\n",
        "    def __str__(self):\n",
        "        o = super().feature()\n",
        "        o += f\"\\nRam: {self.ram}\\nChip: {self.chip}\\n\"\n",
        "        o += super().companyInfo()\n",
        "        return o\n",
        "    def calculatePrice(self):\n",
        "        print(\"Calculating Total Price:\")\n",
        "        print(\"Base Price:\", self.base_price)\n",
        "        print(f\"Tax: {self.tax}%\")\n",
        "        self.base_price *= 1 + (self.tax / 100)\n",
        "        super().calculatePrice()\n",
        "    def __add__(self, other):\n",
        "        return(self.base_price + other.base_price)\n",
        "class iPhone12(AppleProduct):\n",
        "    def __init__(self, name, model, ram, chip, tax):\n",
        "        super().__init__(name, model, 799)\n",
        "        self.ram = ram\n",
        "        self.chip = chip\n",
        "        self.tax = tax\n",
        "    def __str__(self):\n",
        "        o = super().feature()\n",
        "        o += f\"\\nRam: {self.ram}\\nChip: {self.chip}\\n\"\n",
        "        o += super().companyInfo()\n",
        "        return o\n",
        "    def calculatePrice(self):\n",
        "        print(\"Calculating Total Price:\")\n",
        "        print(\"Base Price:\", self.base_price)\n",
        "        print(f\"Tax: {self.tax}%\")\n",
        "        self.base_price *= 1 + (self.tax / 100)\n",
        "        super().calculatePrice()\n",
        "# Do not change the following lines of code.\n",
        "\n",
        "m1 = MacBookPro2020('MacBook', 'MacBookPro2020', 8, 'M1', 10)\n",
        "print(m1)\n",
        "print('====================================')\n",
        "m1.calculatePrice()\n",
        "print('###################################')\n",
        "iphone = iPhone12('iPhone', 'iPhone 12', 8, 'A14', 5)\n",
        "print(iphone)\n",
        "print('====================================')\n",
        "iphone.calculatePrice()\n",
        "print('###################################')\n",
        "print('Total Price of these two products: ',end='')\n",
        "print('%.2f Dollars'%(m1 + iphone))"
      ],
      "metadata": {
        "colab": {
          "base_uri": "https://localhost:8080/"
        },
        "id": "QhqcY8OQJdW-",
        "outputId": "fe8afafb-7665-4536-df50-f9f5239603fa"
      },
      "execution_count": null,
      "outputs": [
        {
          "output_type": "stream",
          "name": "stdout",
          "text": [
            "Name: MacBook\n",
            "Product Model: MacBookPro2020\n",
            "Hardware Quality: Excellent Hardwares\n",
            "Guarantee/ Warranty: Apple Care\n",
            "Ram: 8\n",
            "Chip: M1\n",
            "Company Name: Apple\n",
            "Fouder: Steve Jobs, Steve Wozniak, Ronald Wayne\n",
            "Current CEO: Tim Cook\n",
            "Address: Apple Inc, 2511 Laguna Blvd, Elk Grove, CA 95758, United States\n",
            "====================================\n",
            "Calculating Total Price:\n",
            "Base Price: 1299\n",
            "Tax: 10%\n",
            "Total Price: 1428.9\n",
            "###################################\n",
            "Name: iPhone\n",
            "Product Model: iPhone 12\n",
            "Hardware Quality: Excellent Hardwares\n",
            "Guarantee/ Warranty: Apple Care\n",
            "Ram: 8\n",
            "Chip: A14\n",
            "Company Name: Apple\n",
            "Fouder: Steve Jobs, Steve Wozniak, Ronald Wayne\n",
            "Current CEO: Tim Cook\n",
            "Address: Apple Inc, 2511 Laguna Blvd, Elk Grove, CA 95758, United States\n",
            "====================================\n",
            "Calculating Total Price:\n",
            "Base Price: 799\n",
            "Tax: 5%\n",
            "Total Price: 838.95\n",
            "###################################\n",
            "Total Price of these two products: 2267.85 Dollars\n"
          ]
        }
      ]
    },
    {
      "cell_type": "markdown",
      "source": [
        "### **Task-13**"
      ],
      "metadata": {
        "id": "OQED5vDpDeyn"
      }
    },
    {
      "cell_type": "code",
      "source": [
        "class University:\n",
        "    name  = \"ABC University\"\n",
        "    numberOfStudents = 0\n",
        "    admissionFee = 28000\n",
        "    Library = 2000\n",
        "    def __init__(self, n, i):\n",
        "        self.stName = n\n",
        "        self.stId = i\n",
        "\n",
        "    def payment(self):\n",
        "        return self.admissionFee + self.Library\n",
        "\n",
        "    def __str__(self):\n",
        "        return \"Student Name: {}, ID: {}\\nFee: {}\".format(self.stName, self.stId, self.payment())\n",
        "\n",
        "# Write your codes here.\n",
        "\n",
        "class CSE_dept(University):\n",
        "    PerCreditFee = 6600\n",
        "    SemesterFee = 7700\n",
        "    LabFee = 2750\n",
        "    def __init__(self, n, i, credits = 6):\n",
        "        super().__init__(n, i)\n",
        "        self.credits = credits\n",
        "        University.numberOfStudents += 1\n",
        "    def payment(self):\n",
        "        payment = super().payment()\n",
        "        payment += self.SemesterFee\n",
        "        payment += self.PerCreditFee * self.credits\n",
        "        payment += self.LabFee\n",
        "        return payment\n",
        "    def payment_details(self):\n",
        "        print(f\"\"\"\n",
        "DETAILS:\n",
        "Admission Fee: {self.admissionFee}\n",
        "Library Fee: {self.Library}\n",
        "Semester Fee: {self.SemesterFee}\n",
        "Per Credit Fee: {self.PerCreditFee}\n",
        "Number of credits: {self.credits}\n",
        "Lab Fee: {self.LabFee}\"\"\")\n",
        "    def __add__(self, other):\n",
        "        return(self.payment()+ other.payment())\n",
        "\n",
        "class PHR_dept(University):\n",
        "    PerCreditFee = 6600\n",
        "    SemesterFee = 11000\n",
        "    def __init__(self, n, i, credits = 9):\n",
        "        super().__init__(n, i)\n",
        "        self.credits = credits\n",
        "        University.numberOfStudents += 1\n",
        "    def payment(self):\n",
        "        payment = super().payment()\n",
        "        payment += self.SemesterFee\n",
        "        payment += self.PerCreditFee * self.credits\n",
        "        return payment\n",
        "    def payment_details(self):\n",
        "        print(f\"\"\"\n",
        "DETAILS:\n",
        "Admission Fee: {self.admissionFee}\n",
        "Library Fee: {self.Library}\n",
        "Semester Fee: {self.SemesterFee}\n",
        "Per Credit Fee: {self.PerCreditFee}\n",
        "Number of credits: {self.credits}\"\"\")\n",
        "    def __add__(self, other):\n",
        "        return(self.payment()+ other.payment())\n",
        "\n",
        "\n",
        "# Do not change the following lines of code.\n",
        "\n",
        "c1 = CSE_dept(\"Mary\",\"5678\")\n",
        "print(c1)\n",
        "c1.payment_details()\n",
        "print(\"===========================\")\n",
        "p1 = PHR_dept(\"Simon\",\"91011\")\n",
        "print(p1)\n",
        "p1.payment_details()\n",
        "print(\"===========================\")\n",
        "c2 = CSE_dept(\"Adam\",\"1234\", 12)\n",
        "print(c2)\n",
        "c2.payment_details()\n",
        "print(\"===========================\")\n",
        "p2 = PHR_dept(\"David\",\"121314\", 15)\n",
        "print(p2)\n",
        "p2.payment_details()\n",
        "print(\"===========================\")\n",
        "print(\"Total Number of Students:\", University.numberOfStudents)\n",
        "print(\"Total University Revenue:\", (c1 + c2) + (p1 + p2))\n",
        "print(\"===========================\")\n",
        "print(\"Due to the pandemic, admission and library fees have been reduced for all departments. \")\n",
        "University.admissionFee -= 1000\n",
        "University.Library -= 100\n",
        "print(\"The credit, semester and lab fees have been reduced for the CSE department. \")\n",
        "CSE_dept.PerCreditFee -= 100\n",
        "CSE_dept.SemesterFee -= 100\n",
        "CSE_dept.LabFee -=100\n",
        "print(\"The credit and semester fees have been reduced for the PHR department.\\n \")\n",
        "PHR_dept.PerCreditFee -= 100\n",
        "PHR_dept.SemesterFee -= 1000\n",
        "print(c1)\n",
        "print(p1)\n",
        "print(c2)\n",
        "print(p2)\n",
        "print(\"===========================\")\n",
        "print(\"Total Number of Students:\", University.numberOfStudents)\n",
        "print(\"Total University Revenue:\", (c1 + c2) + (p1 + p2))\n",
        "\n",
        "\n",
        "\n"
      ],
      "metadata": {
        "colab": {
          "base_uri": "https://localhost:8080/"
        },
        "id": "7BpWcLQbU_Y9",
        "outputId": "4990accf-2fbc-4c31-8bb9-920250ce8ac3"
      },
      "execution_count": null,
      "outputs": [
        {
          "output_type": "stream",
          "name": "stdout",
          "text": [
            "Student Name: Mary, ID: 5678\n",
            "Fee: 80050\n",
            "\n",
            "DETAILS:\n",
            "Admission Fee: 28000\n",
            "Library Fee: 2000\n",
            "Semester Fee: 7700\n",
            "Per Credit Fee: 6600\n",
            "Number of credits: 6\n",
            "Lab Fee: 2750\n",
            "===========================\n",
            "Student Name: Simon, ID: 91011\n",
            "Fee: 100400\n",
            "\n",
            "DETAILS:\n",
            "Admission Fee: 28000\n",
            "Library Fee: 2000\n",
            "Semester Fee: 11000\n",
            "Per Credit Fee: 6600\n",
            "Number of credits: 9\n",
            "===========================\n",
            "Student Name: Adam, ID: 1234\n",
            "Fee: 119650\n",
            "\n",
            "DETAILS:\n",
            "Admission Fee: 28000\n",
            "Library Fee: 2000\n",
            "Semester Fee: 7700\n",
            "Per Credit Fee: 6600\n",
            "Number of credits: 12\n",
            "Lab Fee: 2750\n",
            "===========================\n",
            "Student Name: David, ID: 121314\n",
            "Fee: 140000\n",
            "\n",
            "DETAILS:\n",
            "Admission Fee: 28000\n",
            "Library Fee: 2000\n",
            "Semester Fee: 11000\n",
            "Per Credit Fee: 6600\n",
            "Number of credits: 15\n",
            "===========================\n",
            "Total Number of Students: 4\n",
            "Total University Revenue: 440100\n",
            "===========================\n",
            "Due to the pandemic, admission and library fees have been reduced for all departments. \n",
            "The credit, semester and lab fees have been reduced for the CSE department. \n",
            "The credit and semester fees have been reduced for the PHR department.\n",
            " \n",
            "Student Name: Mary, ID: 5678\n",
            "Fee: 78150\n",
            "Student Name: Simon, ID: 91011\n",
            "Fee: 97400\n",
            "Student Name: Adam, ID: 1234\n",
            "Fee: 117150\n",
            "Student Name: David, ID: 121314\n",
            "Fee: 136400\n",
            "===========================\n",
            "Total Number of Students: 4\n",
            "Total University Revenue: 429100\n"
          ]
        }
      ]
    },
    {
      "cell_type": "markdown",
      "source": [
        "### **Task-14**"
      ],
      "metadata": {
        "id": "ohcYThuoDgee"
      }
    },
    {
      "cell_type": "code",
      "source": [
        "class Library:\n",
        "    Total_book = 1000\n",
        "    borrow_data = {}\n",
        "\n",
        "    def __init__(self, n, id):\n",
        "        self.student_name = n\n",
        "        self.student_id = id\n",
        "\n",
        "    def borrowbook(self):\n",
        "        print(\"A book is borrowed!\")\n",
        "\n",
        "    def __str__(self):\n",
        "        return \"Library: XYZ\"\n",
        "\n",
        "class Student(Library):\n",
        "    def __init__(self, name, id):\n",
        "        super().__init__(name, id)\n",
        "        self.borrow_lst = []\n",
        "\n",
        "    def borrowbook(self, book, id = None):\n",
        "        if book not in Library.borrow_data:\n",
        "            super().borrowbook()\n",
        "            Library.Total_book -= 1\n",
        "            self.borrow_lst.append(book)\n",
        "            Library.borrow_data[book] = [self.student_name]\n",
        "            if id == None:\n",
        "                s = \"\"\n",
        "            else:\n",
        "                s = f\" with the unique id {id}\"\n",
        "\n",
        "            print(f\"'{book}' book{s} is borrowed by \\\n",
        "{self.student_name}({self.student_id})\")\n",
        "            print(\"Number of books available for borrowing =\", Library.Total_book)\n",
        "        else:\n",
        "            print(f\"Sorry {self.student_name} ! {book} book is borrowed by {Library.borrow_data[book][0]}\")\n",
        "\n",
        "    def __str__(self):\n",
        "        return f\"{super().__str__()}\\nStudent Name: {self.student_name}\\\n",
        "ID: {self.student_id}\\nBooks borrowed: {', '.join(self.borrow_lst)}\"\n",
        "\n",
        "    def returnAllBooks(self):\n",
        "        Library.Total_book += len(self.borrow_lst)\n",
        "        for each in self.borrow_lst:\n",
        "            Library.borrow_data.pop(each)\n",
        "        print(f\"All Books are returned by {self.student_name}.\")\n",
        "\n",
        "#Write your code here\n",
        "s1 = Student(\"Alice\", 18101259)\n",
        "s1.borrowbook(\"The Alchemist\", \"Hdw652\")\n",
        "print(\"===============\")\n",
        "print(s1)\n",
        "print(\"===============\")\n",
        "print(Library.borrow_data)\n",
        "print(\"===============\")\n",
        "s1.borrowbook(\"Wuthering Heights\")\n",
        "print(\"===============\")\n",
        "print(s1)\n",
        "print(\"===============\")\n",
        "s2= Student(\"David\",18141777)\n",
        "s2.borrowbook(\"The Alchemist\", \"Hdw652\")\n",
        "print(\"===============\")\n",
        "s2.borrowbook(\"The Vampyre\")\n",
        "print(\"===============\")\n",
        "print(Library.borrow_data)\n",
        "print(\"===============\")\n",
        "s1.returnAllBooks()\n",
        "print(\"===============\")\n",
        "print(Library.borrow_data)\n"
      ],
      "metadata": {
        "colab": {
          "base_uri": "https://localhost:8080/"
        },
        "id": "9ZDM4Jwl5YMD",
        "outputId": "ba3adb12-e07f-4c0d-c6f3-9ecfa53704bb"
      },
      "execution_count": null,
      "outputs": [
        {
          "output_type": "stream",
          "name": "stdout",
          "text": [
            "A book is borrowed!\n",
            "'The Alchemist' book with the unique id Hdw652 is borrowed by Alice(18101259)\n",
            "Number of books available for borrowing = 999\n",
            "===============\n",
            "Library: XYZ\n",
            "Student Name: AliceID: 18101259\n",
            "Books borrowed: The Alchemist\n",
            "===============\n",
            "{'The Alchemist': ['Alice']}\n",
            "===============\n",
            "A book is borrowed!\n",
            "'Wuthering Heights' book is borrowed by Alice(18101259)\n",
            "Number of books available for borrowing = 998\n",
            "===============\n",
            "Library: XYZ\n",
            "Student Name: AliceID: 18101259\n",
            "Books borrowed: The Alchemist, Wuthering Heights\n",
            "===============\n",
            "Sorry David ! The Alchemist book is borrowed by Alice\n",
            "===============\n",
            "A book is borrowed!\n",
            "'The Vampyre' book is borrowed by David(18141777)\n",
            "Number of books available for borrowing = 997\n",
            "===============\n",
            "{'The Alchemist': ['Alice'], 'Wuthering Heights': ['Alice'], 'The Vampyre': ['David']}\n",
            "===============\n",
            "All Books are returned by Alice.\n",
            "===============\n",
            "{'The Vampyre': ['David']}\n"
          ]
        }
      ]
    },
    {
      "cell_type": "markdown",
      "source": [
        "### **Task-16**"
      ],
      "metadata": {
        "id": "uE0I2zi14qns"
      }
    },
    {
      "cell_type": "code",
      "source": [
        "class Player:\n",
        "    database = {}\n",
        "    playerNo = 0\n",
        "    def __init__(self, name, team, jerseyNo):\n",
        "        self.name = name\n",
        "        self.team = team\n",
        "        self.jerseyNo = jerseyNo\n",
        "    def __str__(self):\n",
        "        return \"Name:{}\\nTeam:{}\\nJersey No:{}\".format(self.name,self.team,self.jerseyNo)\n",
        "\n",
        "#Write your code here\n",
        "class FootballPlayer(Player):\n",
        "    def __init__(self, n, t, jNo, goals, retirement = \"Not yet retired\"):\n",
        "        super().__init__(n,t,jNo)\n",
        "        Player.playerNo += 1\n",
        "        self.goals = goals\n",
        "        self.retirement = retirement\n",
        "        self.id = self.generatorID()\n",
        "        Player.database[self.id] = [n, t, jNo, goals, retirement]\n",
        "    def generatorID(self):\n",
        "        name = self.name.split(' ')\n",
        "        short = name[0][0]+name[1][0]\n",
        "        return f\"{self.playerNo}{short}{self.jerseyNo}\"\n",
        "    @classmethod\n",
        "    def createPlayer(cls, n, t, jNo, goals, r):\n",
        "        return cls(n, t, jNo, goals, r)\n",
        "    def __str__(self):\n",
        "        s = f\"Player ID: {self.id}\"\n",
        "        s += \"\\n\"+super().__str__()\n",
        "        s += f\"\\nGoals Scored: {self.goals}\"\n",
        "        s += f\"\\nRetirement date: {self.retirement}\"\n",
        "        return s\n",
        "\n",
        "print(\"Number of players:\", Player.playerNo)\n",
        "print(\"Player Database:\", Player.database)\n",
        "print(\"#################################\")\n",
        "p1 = FootballPlayer(\"Lionel Messi\",\"Barcelona\",10,231)\n",
        "print(\"------Details of the player------\")\n",
        "print(p1)\n",
        "print(\"#################################\")\n",
        "p2 = FootballPlayer(\"Cristiano Ronaldo\",\"Juventus\",7,215)\n",
        "print(\"------Details of the player------\")\n",
        "print(p2)\n",
        "print(\"#################################\")\n",
        "p3 = FootballPlayer.createPlayer(\"Miroslav Klose\",\"Lazio\",11, 71,\"11 Aug,2014\")\n",
        "print(\"------Details of the player------\")\n",
        "print(p3)\n",
        "print(\"#################################\")\n",
        "print(\"Number of players:\",Player.playerNo)\n",
        "print(\"Player Database:\",Player.database)\n"
      ],
      "metadata": {
        "colab": {
          "base_uri": "https://localhost:8080/"
        },
        "id": "tIcCWA0AnfLP",
        "outputId": "497e57dc-e28a-4a78-e407-6a51b684cec4"
      },
      "execution_count": null,
      "outputs": [
        {
          "output_type": "stream",
          "name": "stdout",
          "text": [
            "Number of players: 0\n",
            "Player Database: {}\n",
            "#################################\n",
            "------Details of the player------\n",
            "Player ID: 1LM10\n",
            "Name:Lionel Messi\n",
            "Team:Barcelona\n",
            "Jersey No:10\n",
            "Goals Scored: 231\n",
            "Retirement date: Not yet retired\n",
            "#################################\n",
            "------Details of the player------\n",
            "Player ID: 2CR7\n",
            "Name:Cristiano Ronaldo\n",
            "Team:Juventus\n",
            "Jersey No:7\n",
            "Goals Scored: 215\n",
            "Retirement date: Not yet retired\n",
            "#################################\n",
            "------Details of the player------\n",
            "Player ID: 3MK11\n",
            "Name:Miroslav Klose\n",
            "Team:Lazio\n",
            "Jersey No:11\n",
            "Goals Scored: 71\n",
            "Retirement date: 11 Aug,2014\n",
            "#################################\n",
            "Number of players: 3\n",
            "Player Database: {'1LM10': ['Lionel Messi', 'Barcelona', 10, 231, 'Not yet retired'], '2CR7': ['Cristiano Ronaldo', 'Juventus', 7, 215, 'Not yet retired'], '3MK11': ['Miroslav Klose', 'Lazio', 11, 71, '11 Aug,2014']}\n"
          ]
        }
      ]
    },
    {
      "cell_type": "markdown",
      "source": [
        "### **Task-17**"
      ],
      "metadata": {
        "id": "lM-ZKOhM4s-R"
      }
    },
    {
      "cell_type": "code",
      "source": [
        "class Magical_SportsPerson:\n",
        "    database = {}\n",
        "    playerNo = 0\n",
        "    def __init__(self,name,team,jerseyNo):\n",
        "        self.name = name\n",
        "        self.team = team\n",
        "        self.jerseyNo = jerseyNo\n",
        "\n",
        "    def __str__(self):\n",
        "        return \"Name:{}\\nTeam:{}\\nJerseyNo:{}\".format(self.name, self.team, self.jerseyNo)\n",
        "\n",
        "#Write your code here\n",
        "class Quidditch_Player(Magical_SportsPerson):\n",
        "    def __init__(self, n, t, jNo, goals, retirement = \"Not yet retired\"):\n",
        "        super().__init__(n,t,jNo)\n",
        "        Magical_SportsPerson.playerNo += 1\n",
        "        self.goals = goals\n",
        "        self.retirement = retirement\n",
        "        self.id = self.generatorID()\n",
        "        Magical_SportsPerson.database[self.id] = [n, t, jNo, goals, retirement]\n",
        "    def generatorID(self):\n",
        "        name = self.name.split(' ')\n",
        "        short = name[0][0]+name[1][0]\n",
        "        return f\"{self.playerNo}{short}{self.jerseyNo}\"\n",
        "    @classmethod\n",
        "    def createPlayer(cls, n, t, jNo, goals, r):\n",
        "        return cls(n, t, jNo, goals, r)\n",
        "    def __str__(self):\n",
        "        s = f\"Player ID: {self.id}\"\n",
        "        s += \"\\n\"+super().__str__()\n",
        "        s += f\"\\nGoals Scored: {self.goals}\"\n",
        "        s += f\"\\nRetirement date: {self.retirement}\"\n",
        "        return s\n",
        "\n",
        "print(\"Number of players:\",Magical_SportsPerson.playerNo)\n",
        "print(\"Player Database:\",Magical_SportsPerson.database)\n",
        "print(\"#################################\")\n",
        "p1 = Quidditch_Player(\"Harry Potter\",\"Gryffindor\", 8, 523)\n",
        "print(\"------Details of the player------\")\n",
        "print(p1)\n",
        "print(\"#################################\")\n",
        "p2 = Quidditch_Player(\"Ronald Weasley\",\"Gryffindor\", 13, 5)\n",
        "print(\"------Details of the player------\")\n",
        "print(p2)\n",
        "print(\"#################################\")\n",
        "p3 = Quidditch_Player.createPlayer(\"George Weasley\",\"Gryffindor\", 12, 11, \"11 Magical Year, 1886\")\n",
        "print(\"------Details of the player------\")\n",
        "print(p3)\n",
        "print(\"#################################\")\n",
        "print(\"Number of players:\",Magical_SportsPerson.playerNo)\n",
        "print(\"Player Database:\",Magical_SportsPerson.database)\n"
      ],
      "metadata": {
        "colab": {
          "base_uri": "https://localhost:8080/"
        },
        "id": "bNVVefFA4AS5",
        "outputId": "8f0a74a4-3cef-4757-8d7a-006b9104668c"
      },
      "execution_count": null,
      "outputs": [
        {
          "output_type": "stream",
          "name": "stdout",
          "text": [
            "Number of players: 0\n",
            "Player Database: {}\n",
            "#################################\n",
            "------Details of the player------\n",
            "Player ID: 1HP8\n",
            "Name:Harry Potter\n",
            "Team:Gryffindor\n",
            "JerseyNo:8\n",
            "Goals Scored: 523\n",
            "Retirement date: Not yet retired\n",
            "#################################\n",
            "------Details of the player------\n",
            "Player ID: 2RW13\n",
            "Name:Ronald Weasley\n",
            "Team:Gryffindor\n",
            "JerseyNo:13\n",
            "Goals Scored: 5\n",
            "Retirement date: Not yet retired\n",
            "#################################\n",
            "------Details of the player------\n",
            "Player ID: 3GW12\n",
            "Name:George Weasley\n",
            "Team:Gryffindor\n",
            "JerseyNo:12\n",
            "Goals Scored: 11\n",
            "Retirement date: 11 Magical Year, 1886\n",
            "#################################\n",
            "Number of players: 3\n",
            "Player Database: {'1HP8': ['Harry Potter', 'Gryffindor', 8, 523, 'Not yet retired'], '2RW13': ['Ronald Weasley', 'Gryffindor', 13, 5, 'Not yet retired'], '3GW12': ['George Weasley', 'Gryffindor', 12, 11, '11 Magical Year, 1886']}\n"
          ]
        }
      ]
    },
    {
      "cell_type": "markdown",
      "source": [
        "### **Task-18**"
      ],
      "metadata": {
        "id": "wkcJ7rXK40as"
      }
    },
    {
      "cell_type": "code",
      "source": [
        "class User:\n",
        "    def __init__(self,n,d,typ = \"Single\"):\n",
        "        self.name = n\n",
        "        self.destination = d\n",
        "        self.typ = typ\n",
        "        self.riding = False\n",
        "        self.car_no = None\n",
        "    def status(self):\n",
        "        if self.riding:\n",
        "            print(f\"Status: {self.name} boarded in car {self.car_no}!\")\n",
        "        else:\n",
        "            print(f\"Status: {self.name} is looking for a {self.typ.lower()} ride!\")\n",
        "\n",
        "class Uber:\n",
        "    def __init__(self, no, typ, *routes):\n",
        "        self.car_no = no\n",
        "        self.typ = typ\n",
        "        self.routes = routes\n",
        "    def details(self):\n",
        "        print(f\"\"\"Car number: {self.car_no}\n",
        "Type: {self.typ}\n",
        "Routes: {' --> '.join(self.routes)}\"\"\")\n",
        "    def pick(self, *usrs):\n",
        "        for usr in usrs:\n",
        "            if usr.typ == self.typ:\n",
        "                if usr.destination in self.routes:\n",
        "                    print(f\"{usr.name} has been picked up.\")\n",
        "                    usr.riding = True\n",
        "                    usr.car_no = self.car_no\n",
        "                else:\n",
        "                    print(f\"{usr.name}'s destination is different from this car's route.\")\n",
        "            else:\n",
        "                print(f\"{usr.name} is looking for a different ride\")\n",
        "\n",
        "\n",
        "user1 = User(\"Brooks\", \"Banani\", \"Shared\")\n",
        "user2 = User(\"Jocelyn\", \"Uttara\")\n",
        "user3 = User(\"Robert\", \"Gulshan\", \"Shared\")\n",
        "user4 = User(\"Langdon\", \"Mohakhali\", \"Shared\")\n",
        "\n",
        "\n",
        "user1.status()\n",
        "user2.status()\n",
        "user3.status()\n",
        "user4.status()\n",
        "print(\"----------------------------------\")\n",
        "car1 = Uber(\"0K32BH\", \"Shared\", \"Mohakhali\", \"Banani\", \"Nikunja\", \"Uttara\")\n",
        "car1.details()\n",
        "print(\"----------------------------------\")\n",
        "car1.pick(user1,user2,user3,user4)\n",
        "print(\"----------------------------------\")\n",
        "user1.status()\n",
        "user2.status()\n",
        "user3.status()\n",
        "user4.status()\n",
        "print(\"----------------------------------\")\n",
        "car2 = Uber(\"5GD2BD\", \"Single\", \"Uttara\")\n",
        "car3 = Uber(\"4T12FR\", \"Shared\", \"Gulshan\", \"Bashundhara\")\n",
        "car2.details()\n",
        "car3.details()\n",
        "print(\"----------------------------------\")\n",
        "car2.pick(user2, user3)\n",
        "print(\"----------------------------------\")\n",
        "car3.pick(user3)\n",
        "print(\"----------------------------------\")\n",
        "user2.status()\n",
        "user3.status()\n"
      ],
      "metadata": {
        "colab": {
          "base_uri": "https://localhost:8080/"
        },
        "id": "y7nBLVPa46qN",
        "outputId": "f74a6a34-939e-42c6-f1cf-c7a8bf0a199f"
      },
      "execution_count": null,
      "outputs": [
        {
          "output_type": "stream",
          "name": "stdout",
          "text": [
            "Status: Brooks is looking for a shared ride!\n",
            "Status: Jocelyn is looking for a single ride!\n",
            "Status: Robert is looking for a shared ride!\n",
            "Status: Langdon is looking for a shared ride!\n",
            "----------------------------------\n",
            "Car number: 0K32BH\n",
            "Type: Shared\n",
            "Routes: Mohakhali --> Banani --> Nikunja --> Uttara\n",
            "----------------------------------\n",
            "Brooks has been picked up.\n",
            "Jocelyn is looking for a different ride\n",
            "Robert's destination is different from this car's route.\n",
            "Langdon has been picked up.\n",
            "----------------------------------\n",
            "Status: Brooks boarded in car 0K32BH!\n",
            "Status: Jocelyn is looking for a single ride!\n",
            "Status: Robert is looking for a shared ride!\n",
            "Status: Langdon boarded in car 0K32BH!\n",
            "----------------------------------\n",
            "Car number: 5GD2BD\n",
            "Type: Single\n",
            "Routes: Uttara\n",
            "Car number: 4T12FR\n",
            "Type: Shared\n",
            "Routes: Gulshan --> Bashundhara\n",
            "----------------------------------\n",
            "Jocelyn has been picked up.\n",
            "Robert is looking for a different ride\n",
            "----------------------------------\n",
            "Robert has been picked up.\n",
            "----------------------------------\n",
            "Status: Jocelyn boarded in car 5GD2BD!\n",
            "Status: Robert boarded in car 4T12FR!\n"
          ]
        }
      ]
    },
    {
      "cell_type": "markdown",
      "source": [
        "### **Task-19**"
      ],
      "metadata": {
        "id": "XEUqjWoV42Gp"
      }
    },
    {
      "cell_type": "code",
      "source": [
        "class Quiz1:\n",
        "    temp = 4\n",
        "\n",
        "\n",
        "    def __init__(self, p = None):\n",
        "        if p is None:\n",
        "            self.y = self.temp - 1\n",
        "            self.sum = self.temp + 1\n",
        "            Quiz1.temp += 2\n",
        "        else:\n",
        "            self.y = self.temp + p\n",
        "            self.sum = p + self.temp + 1\n",
        "            Quiz1.temp -= 1\n",
        "\n",
        "    def methodA(self):\n",
        "        x, y = 0, 0\n",
        "        y = y + self.y\n",
        "        x = self.y + 2 + self.temp\n",
        "        self.sum = x + y + self.methodB(x, y)\n",
        "        print(x, y, self.sum)\n",
        "\n",
        "    def methodB(self, m, n):\n",
        "        x = 0\n",
        "        Quiz1.temp += 1\n",
        "        self.y = self.y + m + (self.temp)\n",
        "        x = x + 2 + n\n",
        "        self.sum = self.sum + x + self.y\n",
        "        print(x, self.y, self.sum)\n",
        "        return self.sum\n",
        "\n",
        "q1 = Quiz1()\n",
        "q1.methodA()\n",
        "q1.methodA()\n",
        "Quiz1.temp += 2\n",
        "q2 = Quiz1(2)"
      ],
      "metadata": {
        "colab": {
          "base_uri": "https://localhost:8080/"
        },
        "id": "j_o62rGYITVa",
        "outputId": "5c419333-46bf-4066-e99e-e2a933e10367"
      },
      "execution_count": null,
      "outputs": [
        {
          "output_type": "stream",
          "name": "stdout",
          "text": [
            "5 21 31\n",
            "11 3 45\n",
            "23 59 127\n",
            "30 21 178\n"
          ]
        }
      ]
    },
    {
      "cell_type": "markdown",
      "source": [],
      "metadata": {
        "id": "TaC1VPIaHU_Y"
      }
    },
    {
      "cell_type": "markdown",
      "source": [
        "### **Task-20**"
      ],
      "metadata": {
        "id": "K6Ly9U1X43Tp"
      }
    },
    {
      "cell_type": "code",
      "source": [
        "class Scope:\n",
        "   def __init__(self):\n",
        "      self.x=1\n",
        "      self.y=100\n",
        "   def met1(self):\n",
        "       x = 3\n",
        "       x = self.x + 1\n",
        "       self.y = self.y + self.x + 1\n",
        "       x = self.y + self.met2(x+self.y) + self.y\n",
        "       print(x)\n",
        "       print(self.y)\n",
        "   def met2(self,y=0):\n",
        "       print(self.x)\n",
        "       print(y)\n",
        "       self.x = self.x + y\n",
        "       self.y = self.y + 200\n",
        "       return self.x + y\n",
        "\n",
        "q2 = Scope()\n",
        "q2.met1()\n",
        "q2.met2()\n",
        "q2.met1()\n",
        "q2.met2()\n"
      ],
      "metadata": {
        "colab": {
          "base_uri": "https://localhost:8080/"
        },
        "id": "N7EsFVftvsEq",
        "outputId": "876169e9-2da7-4483-c26b-f0ce40267d27"
      },
      "execution_count": null,
      "outputs": [
        {
          "output_type": "stream",
          "name": "stdout",
          "text": [
            "1\n",
            "104\n",
            "613\n",
            "302\n",
            "105\n",
            "0\n",
            "105\n",
            "714\n",
            "2949\n",
            "808\n",
            "819\n",
            "0\n"
          ]
        },
        {
          "output_type": "execute_result",
          "data": {
            "text/plain": [
              "819"
            ]
          },
          "metadata": {},
          "execution_count": 1
        }
      ]
    },
    {
      "cell_type": "code",
      "source": [
        "class msgClass:\n",
        "    def __init__(self):\n",
        "        self.content = 0\n",
        "class Q5:\n",
        "    def __init__(self):\n",
        "        self.sum = 1\n",
        "        self.x= 2\n",
        "        self.y = 3\n",
        "    def methodA(self):\n",
        "        x, y = 1, 1\n",
        "        msg = []\n",
        "        myMsg = msgClass()\n",
        "        myMsg.content = self.x\n",
        "        msg.append(myMsg)\n",
        "        msg[0].content = self.y + myMsg.content\n",
        "        self.y = self.y + self.methodB(msg[0])\n",
        "        y = self.methodB(msg[0]) + self.y\n",
        "        x = y + self.methodB(msg[0], msg)\n",
        "        self.sum = x + y + msg[0].content\n",
        "        print(x,\" \", y,\" \", self.sum)\n",
        "    def methodB(self, mg1, mg2 = None):\n",
        "        if mg2 == None:\n",
        "            x, y = 5, 6\n",
        "            y = self.sum + mg1.content\n",
        "            self.y = y + mg1.content\n",
        "            x = self.x + 7 +mg1.content\n",
        "            self.sum = self.sum + x + y\n",
        "            self.x = mg1.content + x +8\n",
        "            print(x, \" \", y,\" \", self.sum)\n",
        "            return y\n",
        "        else:\n",
        "            x = 1\n",
        "            self.y += mg2[0].content\n",
        "            mg2[0].content = self.y + mg1.content\n",
        "            x += 4 + mg1.content\n",
        "            self.sum += x + self.y\n",
        "            mg1.content = self.sum - mg2[0].content\n",
        "            print(self.x, \" \",self.y,\" \", self.sum)\n",
        "            return self.sum\n",
        "\n",
        "q = Q5()\n",
        "q.methodA()"
      ],
      "metadata": {
        "colab": {
          "base_uri": "https://localhost:8080/"
        },
        "id": "noyEA3hcv11a",
        "outputId": "d82908d9-95ae-470f-c7c1-2d9aacf53caf"
      },
      "execution_count": null,
      "outputs": [
        {
          "output_type": "stream",
          "name": "stdout",
          "text": [
            "14   6   21\n",
            "39   26   86\n",
            "52   36   168\n",
            "225   57   409\n"
          ]
        }
      ]
    },
    {
      "cell_type": "code",
      "source": [
        "class A:\n",
        "  temp = -5\n",
        "  def __init__(self):\n",
        "    self.sum = 0\n",
        "    self.y = 0\n",
        "    self.y = self.temp - 3\n",
        "    self.sum = A.temp + 2\n",
        "    A.temp -= 2\n",
        "  def methodA(self, m ,n):\n",
        "    x = 1\n",
        "    A.temp += 1\n",
        "    self.y = self.y + m + self.temp\n",
        "    x = x + 1 + n\n",
        "    self.sum = self.sum + x + self.y\n",
        "    print(f\"{x} {self.y} {self.sum}\")\n",
        "\n",
        "class B(A):\n",
        "  x = -10\n",
        "  def __init__(self, b = None):\n",
        "    super().__init__()\n",
        "    self.y = 4\n",
        "    self.temp = -5\n",
        "    self.sum = 2\n",
        "    if b == None:\n",
        "      self.y = self.temp + 3\n",
        "      self.sum = 3 + self.temp + 3\n",
        "      self.temp -= 2\n",
        "    else:\n",
        "      self.sum = b.sum\n",
        "      B.x = b.x\n",
        "      b.methodB(1,3)\n",
        "\n",
        "\n",
        "  def methodA(self, m, n):\n",
        "    x = 1\n",
        "    self.temp += 1\n",
        "    self.y = self.y + m + self.temp\n",
        "    x = x + 7 + n\n",
        "    super().methodA(x, m)\n",
        "    self.sum = self.sum + x + self.y\n",
        "    print(f\"{x} {self.y} {self.sum}\")\n",
        "  def methodB(self, m, n):\n",
        "    y = 3\n",
        "    y = y + self.y\n",
        "    B.x = self.y + 3 + self.temp\n",
        "    self.methodA(B.x, y)\n",
        "    self.sum = self.x + y + self.sum\n",
        "    print(f\"{B.x} {y} {self.sum}\")\n",
        "\n",
        "\n",
        "a1 = A()\n",
        "b1 = B()\n",
        "b2 = B(b1)\n",
        "b1.methodA(3,2)\n",
        "b2.methodB(1,2)"
      ],
      "metadata": {
        "colab": {
          "base_uri": "https://localhost:8080/"
        },
        "id": "NmNFB1qov7Q2",
        "outputId": "21160f6f-0722-4137-8f98-944c61704f91"
      },
      "execution_count": null,
      "outputs": [
        {
          "output_type": "stream",
          "name": "stdout",
          "text": [
            "-4 -11 -14\n",
            "9 -11 -16\n",
            "-6 1 -21\n",
            "5 -8 -24\n",
            "10 -8 -22\n",
            "4 13 18\n",
            "15 13 46\n",
            "2 7 55\n"
          ]
        }
      ]
    },
    {
      "cell_type": "code",
      "source": [
        "class msgClass:\n",
        "    def __init__(self):\n",
        "        self.content = 0\n",
        "class Q5:\n",
        "    def __init__(self):\n",
        "        self.sum = 3\n",
        "        self.y = 6\n",
        "        self.x = 1\n",
        "    def methodA(self):\n",
        "        x = 1\n",
        "        y = 1\n",
        "        msg = [msgClass()]\n",
        "        myMsg = msgClass()\n",
        "        myMsg.content = self.x\n",
        "        msg[0] = myMsg\n",
        "        msg[0].content = self.y + myMsg.content\n",
        "        self.y = self.y + self.methodB(msg[0])\n",
        "        y = self.methodB(msg[0]) + self.y\n",
        "        x = y + self.methodB(msg, msg[0])\n",
        "        self.sum = x + y + msg[0].content\n",
        "        print(f\"{x} {y} {self.sum}\")\n",
        "\n",
        "    def methodB(self, *args):\n",
        "        if len(args) == 1:\n",
        "            x = 1\n",
        "            y = 1\n",
        "            y = self.sum + args[0].content\n",
        "            self.y = y + args[0].content\n",
        "            x = self.x + 3 + args[0].content\n",
        "            self.sum = self.sum + x + y\n",
        "            Q5.x = args[0].content + x + 2\n",
        "            print(f\"{x} {y} {self.sum}\")\n",
        "            return y\n",
        "        else:\n",
        "            x = 1\n",
        "            self.y = self.y + args[0][0].content\n",
        "            args[0][0].content = self.y + args[1].content\n",
        "            x = x + 3 + args[1].content\n",
        "            self.sum = self.sum + x + self.y\n",
        "            args[1].content = self.sum - args[0][0].content\n",
        "            print(f\"{Q5.x} {self.y} {self.sum}\")\n",
        "            return self.sum\n",
        "\n",
        "q =  Q5()\n",
        "q.methodA()"
      ],
      "metadata": {
        "colab": {
          "base_uri": "https://localhost:8080/"
        },
        "id": "98yV7shfv_Wr",
        "outputId": "40488159-cdc2-40a7-a417-adb0e0bdd06d"
      },
      "execution_count": null,
      "outputs": [
        {
          "output_type": "stream",
          "name": "stdout",
          "text": [
            "11 10 24\n",
            "11 31 66\n",
            "20 45 167\n",
            "236 69 420\n"
          ]
        }
      ]
    },
    {
      "cell_type": "code",
      "source": [
        "class A:\n",
        "    temp = 8\n",
        "    def __init__(self):\n",
        "        self.y = A.temp - 5\n",
        "        self.sum = self.temp + 3\n",
        "        self.temp += 2\n",
        "    def methodA(self, m,  n):\n",
        "        x = 4\n",
        "        self.y = self.y + m + (A.temp)\n",
        "        x = x - 2 + n\n",
        "        print(x, self.y, self.sum)\n",
        "        x = self.y + self.methodB(4, -3)\n",
        "        self.sum = self.sum + x + A.temp\n",
        "        self.methodB(-4, self.sum, 3)\n",
        "    def methodB(self, m,  n):\n",
        "        y = 5\n",
        "        y = y + self.y\n",
        "        self.sum = B.x + y + n\n",
        "        print(B.x, y, self.sum)\n",
        "class B(A):\n",
        "    x = -3\n",
        "    def __init__(self, obj=None):\n",
        "        super().__init__()\n",
        "        if obj != None:\n",
        "            obj.sum = self.temp + 13\n",
        "        self.y = A.temp + 3\n",
        "        self.sum = 6 + A.temp + B.x\n",
        "    def methodB(self, m, n, y=0):\n",
        "        y = y + self.y + n\n",
        "        B.x = m + self.y + n\n",
        "        A.temp+=2\n",
        "        self.sum = B.x + y + A.temp\n",
        "        print(B.x, y, self.sum)\n",
        "        return y\n",
        "\n",
        "b1 = B()\n",
        "b2 = B(b1)\n",
        "b1.methodA(-4, 5)"
      ],
      "metadata": {
        "colab": {
          "base_uri": "https://localhost:8080/"
        },
        "id": "PcyoJMKNwLfF",
        "outputId": "34cd8215-e69c-459d-a86f-bd330af5102b"
      },
      "execution_count": null,
      "outputs": [
        {
          "output_type": "stream",
          "name": "stdout",
          "text": [
            "7 15 23\n",
            "16 12 38\n",
            "86 93 191\n"
          ]
        }
      ]
    }
  ]
}