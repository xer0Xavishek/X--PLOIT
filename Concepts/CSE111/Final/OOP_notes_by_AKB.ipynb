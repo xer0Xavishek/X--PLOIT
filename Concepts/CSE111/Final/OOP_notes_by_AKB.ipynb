{
  "cells": [
    {
      "cell_type": "markdown",
      "metadata": {
        "id": "lfsXdS8kpuiA"
      },
      "source": [
        "# **Python - OOP Concepts**\n",
        "\n",
        "[Study from here - TutorialsPoint](https://www.tutorialspoint.com/python/python_oops_concepts.htm)"
      ]
    },
    {
      "cell_type": "markdown",
      "metadata": {
        "id": "5vOZfy30qI4_"
      },
      "source": [
        "### **(BASED ON [SAD] sir NOTES)**\n",
        "\n",
        "Object-oriented programming (OOP) is a way of thinking about and organizing code for maximum reusability.\n",
        "\n",
        "**There are four features of object-oriented programming to know:**\n",
        "1. Encapsulation\n",
        "2. Inheritance\n",
        "3. Polymorphism\n",
        "4. Abstraction\n",
        "\n",
        "We will learn them one by one as we go throguh the semester.\n",
        "\n",
        "**Why do we need to learn OOP?**\n",
        "\n",
        "1. Modularity for easier troubleshooting\n",
        "2. Reuse of code through inheritance\n",
        "3. Security while sharing code\n",
        "4. Increases readability\n",
        "5. Scalability\n",
        "6. Real world problem design\n",
        "\n",
        "Popular languages that follow OOP are: Java, C++, C#, Python\n",
        "\n",
        "Some good reads are:\n",
        "1. https://www.roberthalf.com/blog/salaries-and-skills/4-advantages-of-object-oriented-programming\n",
        "2. https://www.quora.com/Why-we-need-OOPs-in-Programming-language\n"
      ]
    },
    {
      "cell_type": "markdown",
      "metadata": {
        "id": "fWCEsfRC0LaT"
      },
      "source": [
        "# **Python - Object and Classes**\n",
        "\n",
        "[Study from here - TutorialsPoint](https://www.tutorialspoint.com/python/python_object_classes.htm)"
      ]
    },
    {
      "cell_type": "code",
      "execution_count": null,
      "metadata": {
        "colab": {
          "base_uri": "https://localhost:8080/"
        },
        "id": "q5btRgRn1wUN",
        "outputId": "c5d904a8-6681-4633-9a56-54108d1f796c"
      },
      "outputs": [
        {
          "name": "stdout",
          "output_type": "stream",
          "text": [
            "<__main__.Student object at 0x10629d5b0>\n",
            "1-----------------------------------------------------\n",
            "<__main__.Student object at 0x10629d5b0>\n",
            "2-----------------------------------------------------\n",
            "XYZ 12345 CSE 3.99\n",
            "3-----------------------------------------------------\n",
            "Sakib Al Hasan 9867 CSE 3.99\n",
            "<__main__.Student object at 0x10629eba0>\n",
            "4-----------------------------------------------------\n",
            "XYZ 12345 CSE 3.99\n",
            "5-----------------------------------------------------\n",
            "Tamim Iqbal 45678 CSE 3.99\n",
            "Sakib Al Hasan 9867 CSE 3.99\n",
            "<__main__.Student object at 0x1057d5640>\n",
            "6-----------------------------------------------------\n",
            "XYZ 12345 CSE 3.99\n",
            "7-----------------------------------------------------\n",
            "Tamim Iqbal 45678 CSE 3.99\n",
            "Tamim Iqbal 45678 CSE 3.99\n",
            "8-----------------------------------------------------\n",
            "9-----------------------------------------------------\n",
            "Imrul Kayes 45678 CSE 3.99\n",
            "Imrul Kayes 45678 CSE 3.99\n"
          ]
        }
      ],
      "source": [
        "#Design\n",
        "class Student:\n",
        "    def __init__(self): #Constructor\n",
        "        self.name = \"XYZ\"\n",
        "        self.ID = 12345\n",
        "        self.dept = \"CSE\"\n",
        "        self.cg = 3.99\n",
        "        print(self)\n",
        "\n",
        "\n",
        "#Driver code\n",
        "s1 = Student() #Object creation and initialization\n",
        "print(\"1-----------------------------------------------------\")\n",
        "print(s1)#Hexadecimal address where the object is created will be printed.\n",
        "print(\"2-----------------------------------------------------\")\n",
        "print(s1.name,s1.ID,s1.dept,s1.cg)#Before changing\n",
        "s1.name  = \"Sakib Al Hasan\"\n",
        "s1.ID = 9867\n",
        "print(\"3-----------------------------------------------------\")\n",
        "print(s1.name,s1.ID,s1.dept,s1.cg)#After changing name and ID.\n",
        "\n",
        "s2 = Student()#Object creation and initialization\n",
        "print(\"4-----------------------------------------------------\")\n",
        "print(s2.name,s2.ID,s2.dept,s2.cg)\n",
        "\n",
        "#The object referred by s2 is diffrenet from the object referred by s1.\n",
        "#So changing the variables of the object referred to by s2 will have\n",
        "#no effect on s1 and vise versa.\n",
        "s2.name = \"Tamim Iqbal\"\n",
        "s2.ID = 45678\n",
        "print(\"5-----------------------------------------------------\")\n",
        "print(s2.name,s2.ID,s2.dept,s2.cg)\n",
        "#changing the name and ID of the object referred by s2 has no effect on\n",
        "#the variables of the object referred by s1.\n",
        "print(s1.name,s1.ID,s1.dept,s1.cg)\n",
        "\n",
        "#If we create another object whose location will be referred by s1,\n",
        "#the reference to the previous object referred to by s1 will be lost.\n",
        "#The previous object referred to by s1 will be removed from memory.\n",
        "#Now s1 will refer to the newly created object.\n",
        "#Please uncomment the lines for testing\n",
        "s1 = Student()\n",
        "print(\"6-----------------------------------------------------\")\n",
        "print(s1.name,s1.ID,s1.dept,s1.cg)\n",
        "\n",
        "#if we write s1 = s2 then s1 and s2 both will refer to the same object.\n",
        "#the reference to the previous object referred to by s1 will be lost.\n",
        "#The previous object referred to by s1 will be removed from memory.\n",
        "#Please uncomment the lines for testing\n",
        "s1 = s2\n",
        "print(\"7-----------------------------------------------------\")\n",
        "print(s1.name,s1.ID,s1.dept,s1.cg)\n",
        "print(s2.name,s2.ID,s2.dept,s2.cg)\n",
        "print(\"8-----------------------------------------------------\")\n",
        "s1.name = \"Imrul Kayes\"\n",
        "print(\"9-----------------------------------------------------\")\n",
        "print(s1.name,s1.ID,s1.dept,s1.cg)\n",
        "print(s2.name,s2.ID,s2.dept,s2.cg)\n",
        "#As you can see, the changing the value of s1.name changed the value\n",
        "#of both s1.name and s2.name because they both refer to the same object."
      ]
    },
    {
      "cell_type": "markdown",
      "metadata": {
        "id": "qzovEe3FDK43"
      },
      "source": [
        "### ***Random Task-1***\n",
        "1. Parameterized constructor\n",
        "2. Basic method\n",
        "3. Creating a new object under the same referecne variable.\n",
        "4. Setting instance variable values based on input.\n",
        "5. Creating a list of student objects."
      ]
    },
    {
      "cell_type": "code",
      "execution_count": null,
      "metadata": {
        "colab": {
          "base_uri": "https://localhost:8080/"
        },
        "id": "tt7oNJQIDRj9",
        "outputId": "56146289-af20-452f-c288-19d118a31bb1"
      },
      "outputs": [
        {
          "name": "stdout",
          "output_type": "stream",
          "text": [
            "How many students:3\n",
            "********************************\n",
            "Name of the Student: ANINDYA KABBYA BISWAS\n",
            "Enter the ID of the Student: 23201140\n",
            "Enter his/her CGPA: 4\n",
            "********************************\n",
            "Name of the Student: UBARNA BHATTACHARJEE\n",
            "Enter the ID of the Student: 23201141\n",
            "Enter his/her CGPA: 4\n",
            "********************************\n",
            "Name of the Student: ANIK FOUZDER\n",
            "Enter the ID of the Student: 23204410\n",
            "Enter his/her CGPA: 3.98\n",
            "---------------------------\n",
            "[<__main__.Student object at 0x10629c860>, <__main__.Student object at 0x10629c3b0>, <__main__.Student object at 0x10629c710>]\n",
            "----------------------\n",
            "<__main__.Student object at 0x10629c860>\n",
            "Name:ANINDYA KABBYA BISWAS\n",
            "ID:23201140\n",
            "Department:CSE\n",
            "CGPA:4.0\n",
            "<__main__.Student object at 0x10629c3b0>\n",
            "Name:UBARNA BHATTACHARJEE\n",
            "ID:23201141\n",
            "Department:CSE\n",
            "CGPA:4.0\n",
            "<__main__.Student object at 0x10629c710>\n",
            "Name:ANIK FOUZDER\n",
            "ID:23204410\n",
            "Department:CSE\n",
            "CGPA:3.98\n"
          ]
        }
      ],
      "source": [
        "class Student:\n",
        "  def __init__(self,name,ID,cg):\n",
        "    self.name = name\n",
        "    self.ID = ID\n",
        "    self.cg = cg\n",
        "    self.dept = \"CSE\"\n",
        "\n",
        "  def printDetails(self):\n",
        "    print(self)\n",
        "    print(f\"Name:{self.name}\")\n",
        "    print(f\"ID:{self.ID}\")\n",
        "    print(f\"Department:{self.dept}\")\n",
        "    print(f\"CGPA:{self.cg}\")\n",
        "\n",
        "#Driver Code\n",
        "n = int(input(\"How many students:\"))\n",
        "stList = []#DHK,RAJ\n",
        "for i in range(n):\n",
        "  print(\"*\"*32)\n",
        "  name = input(\"Name of the Student: \")\n",
        "  ID = int(input(\"Enter the ID of the Student: \"))\n",
        "  cg = float(input(\"Enter his/her CGPA: \"))\n",
        "  s = Student(name,ID,cg)\n",
        "  stList.append(s)\n",
        "print(\"---------------------------\")\n",
        "print(stList)\n",
        "print(\"----------------------\")\n",
        "for i in range(len(stList)):#0,1\n",
        "  stList[i].printDetails()"
      ]
    },
    {
      "cell_type": "markdown",
      "metadata": {
        "id": "khlZJRAERg3A"
      },
      "source": [
        "### ***Random Task-2 (Bank Account)***"
      ]
    },
    {
      "cell_type": "code",
      "execution_count": 1,
      "metadata": {
        "colab": {
          "base_uri": "https://localhost:8080/"
        },
        "id": "RiWx_9j-RpWK",
        "outputId": "be952776-1534-4704-d6dd-e4372b38155d"
      },
      "outputs": [
        {
          "name": "stdout",
          "output_type": "stream",
          "text": [
            "\u001b[43m\u001b[34m########################################\u001b[0m\n",
            "\u001b[43m\u001b[30mAccount No      : 20021104\u001b[0m\n",
            "\u001b[43m\u001b[30mAccount Name    : Anindya Kabbya Biswas\u001b[0m\n",
            "\u001b[43m\u001b[30mCurrent Balance : Tk. 100000.90\u001b[0m\n",
            "\u001b[43m\u001b[34m########################################\u001b[0m\n",
            "\u001b[43m\u001b[34m########################################\u001b[0m\n",
            "\u001b[43m\u001b[30mAccount No      : 20030805\u001b[0m\n",
            "\u001b[43m\u001b[30mAccount Name    : Ubarna Bhattacharjee\u001b[0m\n",
            "\u001b[43m\u001b[30mCurrent Balance : Tk. 2340897.00\u001b[0m\n",
            "\u001b[43m\u001b[34m########################################\u001b[0m\n",
            "\u001b[43m\u001b[34m########################################\u001b[0m\n",
            "\u001b[43m\u001b[30mAccount No      : 20021104\u001b[0m\n",
            "\u001b[43m\u001b[30mAccount Name    : Anindita Biswas\u001b[0m\n",
            "\u001b[43m\u001b[30mCurrent Balance : Tk. 4545469.00\u001b[0m\n",
            "\u001b[43m\u001b[34m########################################\u001b[0m\n",
            "\u001b[44m\u001b[30m////////////////////////////////////////\u001b[0m\n",
            "\u001b[44m\u001b[30mHello Anindya Kabbya Biswas,\u001b[0m\n",
            "\u001b[42m\u001b[30mTk. 1000 has been deposited in your account.\u001b[0m\n",
            "\u001b[44m\u001b[30mHave a good day.\u001b[0m\n",
            "\u001b[44m\u001b[30m////////////////////////////////////////\u001b[0m\n",
            "\u001b[43m\u001b[34m########################################\u001b[0m\n",
            "\u001b[43m\u001b[30mAccount No      : 20021104\u001b[0m\n",
            "\u001b[43m\u001b[30mAccount Name    : Anindya Kabbya Biswas\u001b[0m\n",
            "\u001b[43m\u001b[30mCurrent Balance : Tk. 101000.90\u001b[0m\n",
            "\u001b[43m\u001b[34m########################################\u001b[0m\n",
            "\u001b[44m\u001b[30m////////////////////////////////////////\u001b[0m\n",
            "\u001b[44m\u001b[30mHello Anindya Kabbya Biswas,\u001b[0m\n",
            "\u001b[41m\u001b[30mTk. 1000 has been withdrawed from your account.\u001b[0m\n",
            "\u001b[44m\u001b[30mHave a good day.\u001b[0m\n",
            "\u001b[44m\u001b[30m////////////////////////////////////////\u001b[0m\n",
            "\u001b[43m\u001b[34m########################################\u001b[0m\n",
            "\u001b[43m\u001b[30mAccount No      : 20021104\u001b[0m\n",
            "\u001b[43m\u001b[30mAccount Name    : Anindya Kabbya Biswas\u001b[0m\n",
            "\u001b[43m\u001b[30mCurrent Balance : Tk. 100000.90\u001b[0m\n",
            "\u001b[43m\u001b[34m########################################\u001b[0m\n",
            "\u001b[44m\u001b[30m////////////////////////////////////////\u001b[0m\n",
            "\u001b[41m\u001b[30mSorry Anindya Kabbya Biswas,\u001b[0m\n",
            "\u001b[41m\u001b[30mYour balance is insufficient for requested withdrawal\u001b[0m\n",
            "\u001b[44m\u001b[30m////////////////////////////////////////\u001b[0m\n",
            "\u001b[43m\u001b[34m########################################\u001b[0m\n",
            "\u001b[43m\u001b[30mAccount No      : 20021104\u001b[0m\n",
            "\u001b[43m\u001b[30mAccount Name    : Anindya Kabbya Biswas\u001b[0m\n",
            "\u001b[43m\u001b[30mCurrent Balance : Tk. 100000.90\u001b[0m\n",
            "\u001b[43m\u001b[34m########################################\u001b[0m\n"
          ]
        }
      ],
      "source": [
        "import sys\n",
        "from termcolor import colored, cprint\n",
        "\n",
        "class BankAccount:\n",
        "  def __init__(self,acc_no,acc_name,acc_bal):\n",
        "    self.account_no = acc_no\n",
        "    self.account_name = acc_name\n",
        "    self.account_balance = acc_bal\n",
        "  def showDetails(self):\n",
        "    cprint(\"#\"*40, 'blue', 'on_yellow')\n",
        "    cprint(f\"Account No      : {self.account_no}\", 'black', 'on_yellow')\n",
        "    cprint(f\"Account Name    : {self.account_name}\", 'black', 'on_yellow')\n",
        "    cprint(f\"Current Balance : Tk. {self.account_balance:.2f}\", 'black', 'on_yellow')\n",
        "    cprint(\"#\"*40, 'blue', 'on_yellow')\n",
        "  def deposit(self, amount):\n",
        "    self.account_balance += amount\n",
        "    cprint(\"/\"*40, 'black', 'on_blue')\n",
        "    cprint(f\"Hello {self.account_name},\", 'black', 'on_blue')\n",
        "    cprint(f\"Tk. {amount} has been deposited in your account.\", 'black', 'on_green')\n",
        "    cprint(f\"Have a good day.\", 'black', 'on_blue')\n",
        "    cprint(\"/\"*40, 'black', 'on_blue')\n",
        "    self.showDetails()\n",
        "  def withdraw(self, amount):\n",
        "    cprint(\"/\"*40, 'black', 'on_blue')\n",
        "    if self.account_balance - amount < 500:\n",
        "      cprint(f\"Sorry {self.account_name},\", 'black', 'on_red')\n",
        "      cprint(f\"Your balance is insufficient for requested withdrawal\", 'black', 'on_red')\n",
        "    else:\n",
        "      self.account_balance -= amount\n",
        "      cprint(f\"Hello {self.account_name},\", 'black', 'on_blue')\n",
        "      cprint(f\"Tk. {amount} has been withdrawed from your account.\", 'black', 'on_red')\n",
        "      cprint(f\"Have a good day.\", 'black', 'on_blue')\n",
        "    cprint(\"/\"*40, 'black', 'on_blue')\n",
        "    self.showDetails()\n",
        "\n",
        "a1 = BankAccount(20021104, 'Anindya Kabbya Biswas', 100000.899)\n",
        "a2 = BankAccount(20030805, 'Ubarna Bhattacharjee', 2340897)\n",
        "a3 = BankAccount(20021104, 'Anindita Biswas', 4545469)\n",
        "a1.showDetails()\n",
        "a2.showDetails()\n",
        "a3.showDetails()\n",
        "a1.deposit(1000)\n",
        "a1.withdraw(1000)\n",
        "a1.withdraw(100000000000)"
      ]
    },
    {
      "cell_type": "markdown",
      "metadata": {
        "id": "Jbxn2MF27oWL"
      },
      "source": [
        "# **Python - Class Attributes**\n",
        "\n",
        "[Study from here - TutorialsPoint](https://www.tutorialspoint.com/python/python_class_attributes.htm)"
      ]
    },
    {
      "cell_type": "markdown",
      "metadata": {
        "id": "uLMkXJvyJftN"
      },
      "source": [
        "# **Python - Class Methods**\n",
        "\n",
        "[Study from here - TutorialsPoint](https://www.tutorialspoint.com/python/python_class_methods.htm)"
      ]
    },
    {
      "cell_type": "code",
      "execution_count": null,
      "metadata": {
        "colab": {
          "base_uri": "https://localhost:8080/"
        },
        "id": "1mjnCXEE_-qz",
        "outputId": "f5917512-5474-4ee6-8df9-0d3fa70a0566"
      },
      "outputs": [
        {
          "name": "stdout",
          "output_type": "stream",
          "text": [
            "################################\n",
            "Serial    : 1\n",
            "Name      : Anindya Kabbya Biswas\n",
            "ID        : 23201140\n",
            "Department: CSE\n",
            "CGPA      : 3.99\n",
            "################################\n",
            "################################\n",
            "Serial    : 2\n",
            "Name      : Anik Fouzder\n",
            "ID        : 23201141\n",
            "Department: CSE\n",
            "CGPA      : 3.91\n",
            "################################\n",
            "################################\n",
            "Serial    : 3\n",
            "Name      : Ubarna Bhattacharjee\n",
            "ID        : 23201145\n",
            "Department: Psychology\n",
            "CGPA      : 4.0\n",
            "################################\n",
            "Number of Total Students registered using instance method: 3\n",
            "Number of Total Students registered using class method 1: 3\n",
            "Number of Total Students registered using class method 1: 3\n"
          ]
        }
      ],
      "source": [
        "# Class Code\n",
        "class Students:\n",
        "    stu_count = 0\n",
        "    def __init__(self, name, ID, dept, cg): #Constructor\n",
        "        Students.stu_count += 1\n",
        "        self.serial = Students.stu_count\n",
        "        self.name = name\n",
        "        self.ID = ID\n",
        "        self.dept = dept\n",
        "        self.cg = cg\n",
        "    # Method - 1\n",
        "    # instance method\n",
        "    def showcount1(self):\n",
        "         return(self.stu_count)\n",
        "    # Method - 2\n",
        "    # Transforming instance method to class method\n",
        "    showcount2 = classmethod(showcount1)\n",
        "    # Method - 3\n",
        "    # Directly implementing class method\n",
        "    @classmethod\n",
        "    # From class method, instance variable can't be accessed\n",
        "    # From class method, class variable can be accessed and value can be changed\n",
        "    def showcount3 (cls):\n",
        "        return (cls.stu_count)\n",
        "    '''\n",
        "    The class method acts as an alternate constructor.\n",
        "    Define a newstudent() class method with arguments required to construct a new object.\n",
        "    It returns the constructed object,\n",
        "    something that the __init__() method does.\n",
        "    '''\n",
        "    # This is actually application of class method by making factory method\n",
        "    @classmethod\n",
        "    def new_student(cls, name, ID, dept, cg):\n",
        "        return cls(name, ID, dept, cg)\n",
        "\n",
        "\n",
        "# Driver Code\n",
        "s1 = Students('Anindya Kabbya Biswas', 23201140, 'CSE', 3.99)\n",
        "s2 = Students('Anik Fouzder', 23201141, 'CSE', 3.91)\n",
        "s3 = Students.new_student('Ubarna Bhattacharjee', 23201145, 'Psychology', 4.00)\n",
        "\n",
        "print('#'*32)\n",
        "print(f\"\"\"Serial    : {s1.serial}\n",
        "Name      : {s1.name}\n",
        "ID        : {s1.ID}\n",
        "Department: {s1.dept}\n",
        "CGPA      : {s1.cg}\"\"\")\n",
        "print('#'*32)\n",
        "print('#'*32)\n",
        "print(f\"\"\"Serial    : {s2.serial}\n",
        "Name      : {s2.name}\n",
        "ID        : {s2.ID}\n",
        "Department: {s2.dept}\n",
        "CGPA      : {s2.cg}\"\"\")\n",
        "print('#'*32)\n",
        "print('#'*32)\n",
        "print(f\"\"\"Serial    : {s3.serial}\n",
        "Name      : {s3.name}\n",
        "ID        : {s3.ID}\n",
        "Department: {s3.dept}\n",
        "CGPA      : {s3.cg}\"\"\")\n",
        "print('#'*32)\n",
        "print(f'Number of Total Students registered using instance method: {s2.showcount1()}')\n",
        "print(f'Number of Total Students registered using class method 1: {Students.showcount2()}')\n",
        "print(f'Number of Total Students registered using class method 1: {Students.showcount3()}')"
      ]
    },
    {
      "cell_type": "code",
      "execution_count": 10,
      "metadata": {},
      "outputs": [
        {
          "name": "stdout",
          "output_type": "stream",
          "text": [
            "99\n"
          ]
        }
      ],
      "source": [
        "class Students:\n",
        "    stu_count = 99\n",
        "    def __init__(self, name, ID, dept, cg): #Constructor\n",
        "        # Students.stu_count += 1\n",
        "        # self.serial = Students.stu_count\n",
        "        self.name = name\n",
        "        self.ID = ID\n",
        "        self.dept = dept\n",
        "        self.cg = cg\n",
        "        # self.stu_count=7\n",
        "    # Method - 1\n",
        "    # instance method\n",
        "    def showcount1(self):\n",
        "         return(self.stu_count)\n",
        "    \n",
        "\n",
        "k= Students(\"Kamal\", 230,\"CSE\",2.29)\n",
        "print(k.showcount1())\n"
      ]
    },
    {
      "cell_type": "code",
      "execution_count": null,
      "metadata": {
        "colab": {
          "base_uri": "https://localhost:8080/"
        },
        "id": "dmlklmTX0ePh",
        "outputId": "21071601-32ab-4b60-fe12-2751d4da03f5"
      },
      "outputs": [
        {
          "name": "stdout",
          "output_type": "stream",
          "text": [
            "<class '__main__.BracStudents'>\n",
            "<class '__main__.BracStudents'>\n",
            "Merul Badda\n",
            "Merul Badda\n"
          ]
        }
      ],
      "source": [
        "class BracStudents:\n",
        "  address = \"Mohakhali\"\n",
        "  def __init__(self,name,ID):\n",
        "    self.name = name\n",
        "    self.ID = ID\n",
        "  @classmethod\n",
        "  def changeAddress(cls):\n",
        "    print(cls)\n",
        "    cls.address = \"Merul Badda\"\n",
        "  def printDetails(self):\n",
        "    print(f\"Name:{self.name}\\nID:{self.ID}\")\n",
        "\n",
        "s1 = BracStudents(\"Muntasir\",43123123)\n",
        "s2 = BracStudents(\"Zawad Ridwan\",6786534)\n",
        "s3 = BracStudents(\"Fahim Sadik\",1231235)\n",
        "BracStudents.changeAddress()\n",
        "s1.changeAddress()\n",
        "print(s1.address)\n",
        "print(BracStudents.address)"
      ]
    },
    {
      "cell_type": "code",
      "execution_count": null,
      "metadata": {
        "colab": {
          "base_uri": "https://localhost:8080/"
        },
        "id": "IwFU_zmY08uA",
        "outputId": "b83a201c-838c-4225-e645-641bd5117f5c"
      },
      "outputs": [
        {
          "name": "stdout",
          "output_type": "stream",
          "text": [
            "<class '__main__.BracStudents'>\n",
            "Merul\n",
            "Merul\n",
            "<class '__main__.BracStudents'>\n",
            "Merul Badda\n",
            "Merul Badda\n"
          ]
        }
      ],
      "source": [
        "class BracStudents:\n",
        "  address = \"Mohakhali\"\n",
        "  def __init__(self,name,ID):\n",
        "    self.name = name\n",
        "    self.ID = ID\n",
        "  @classmethod\n",
        "  def changeAddress(cls, new):\n",
        "    print(cls)\n",
        "    cls.address = new\n",
        "  def printDetails(self):\n",
        "    print(f\"Name:{self.name}\\nID:{self.ID}\")\n",
        "\n",
        "s1 = BracStudents(\"Muntasir\",43123123)\n",
        "s2 = BracStudents(\"Zawad Ridwan\",6786534)\n",
        "s3 = BracStudents(\"Fahim Sadik\",1231235)\n",
        "BracStudents.changeAddress(\"Merul\")\n",
        "print(s1.address)\n",
        "print(BracStudents.address)\n",
        "\n",
        "s3.changeAddress('Merul Badda')\n",
        "print(s1.address)\n",
        "print(BracStudents.address)"
      ]
    },
    {
      "cell_type": "code",
      "execution_count": null,
      "metadata": {
        "colab": {
          "base_uri": "https://localhost:8080/"
        },
        "id": "lY4mjcHDgY9k",
        "outputId": "a87f6522-8c90-46ea-99f8-7f144a6f4407"
      },
      "outputs": [
        {
          "name": "stdout",
          "output_type": "stream",
          "text": [
            "Zawad 20\n",
            "Mustasir 21\n",
            "Fahim 22\n"
          ]
        }
      ],
      "source": [
        "from datetime import date\n",
        "class Person:\n",
        "  def __init__(self, name, age):\n",
        "    self.name = name\n",
        "    self.age = age\n",
        "\n",
        "  # This is actually application of class method by making factory method\n",
        "  @classmethod\n",
        "  def createPersonfromDOB(cls,name, YOB):\n",
        "    obj = cls(name,date.today().year- YOB)\n",
        "    return obj\n",
        "\n",
        "p1 = Person(\"Zawad\", 20)\n",
        "p2 = Person(\"Mustasir\",21)\n",
        "p3 = Person.createPersonfromDOB(\"Fahim\", 2002)\n",
        "\n",
        "print(p1.name,p1.age)\n",
        "print(p2.name,p2.age)\n",
        "print(p3.name,p3.age)"
      ]
    },
    {
      "cell_type": "markdown",
      "metadata": {
        "id": "g0lcD8v4hFqd"
      },
      "source": [
        "# **Python - Static Methods**\n",
        "\n",
        "[Study from here - TutorialsPoint](https://www.tutorialspoint.com/python/python_static_methods.htm)"
      ]
    },
    {
      "cell_type": "code",
      "execution_count": null,
      "metadata": {
        "colab": {
          "base_uri": "https://localhost:8080/"
        },
        "id": "25VA7jldhNoV",
        "outputId": "b013126b-5d48-4f54-af34-2e6d82e6e9b7"
      },
      "outputs": [
        {
          "name": "stdout",
          "output_type": "stream",
          "text": [
            "3\n",
            "3\n",
            "3\n",
            "3\n"
          ]
        }
      ],
      "source": [
        "class Employee:\n",
        "   empCount = 0\n",
        "   def __init__(self, name, age):\n",
        "      self.__name = name\n",
        "      self.__age = age\n",
        "      Employee.empCount += 1\n",
        "\n",
        "   # Method - 1 of implementing static method\n",
        "   def showcount():\n",
        "      print(Employee.empCount)\n",
        "   showcount1 = staticmethod(showcount)\n",
        "   # Method - 2 of implementing static method\n",
        "   @staticmethod\n",
        "   def showcount2():\n",
        "      print(Employee.empCount)\n",
        "\n",
        "e1 = Employee(\"Bhavana\", 24)\n",
        "e2 = Employee(\"Rajesh\", 26)\n",
        "e3 = Employee(\"John\", 27)\n",
        "\n",
        "e1.showcount1()\n",
        "Employee.showcount1()\n",
        "\n",
        "e2.showcount2()\n",
        "Employee.showcount2()"
      ]
    },
    {
      "cell_type": "markdown",
      "metadata": {
        "id": "V54GAjkcmSjh"
      },
      "source": [
        "# **Python - Constructors**\n",
        "\n",
        "[Study from here - TutorialsPoint](https://www.tutorialspoint.com/python/python_constructors.htm)"
      ]
    },
    {
      "cell_type": "code",
      "execution_count": null,
      "metadata": {
        "colab": {
          "base_uri": "https://localhost:8080/"
        },
        "id": "1HmYPGzimzO0",
        "outputId": "60dd18d6-f9a2-446e-fd17-652b25e2bd0a"
      },
      "outputs": [
        {
          "name": "stdout",
          "output_type": "stream",
          "text": [
            "Name : Bhavana, Age : 24\n",
            "Name : Bharat, Age : 25\n",
            "Name : xyz, Age : 24, Salary: 7000\n",
            "False\n",
            "xyz\n",
            "Name : Anindya, Salary: 8\n"
          ]
        }
      ],
      "source": [
        "class Employee:\n",
        "   def __init__(self, name=\"Bhavana\", age=24):\n",
        "      self.name = name\n",
        "      self.age = age\n",
        "   def displayEmployee(self):\n",
        "      print (f\"Name : {self.name}, Age : {self.age}\")\n",
        "\n",
        "e1 = Employee()\n",
        "e2 = Employee(\"Bharat\", 25)\n",
        "\n",
        "e1.displayEmployee()\n",
        "e2.displayEmployee()\n",
        "\n",
        "#You can add, remove, or modify attributes of classes and objects at any time\n",
        "e1.salary = 7000 # Add a 'salary' attribute.\n",
        "e1.name = 'xyz' # Modify 'name' attribute.\n",
        "\n",
        "print (f\"Name : {e1.name}, Age : {e1.age}, Salary: {e1.salary}\")\n",
        "\n",
        "del e1.salary # Delete 'salary' attribute.'\n",
        "\n",
        "\"\"\"\n",
        "The getattr(obj, name[, default]) − to access the attribute of object.\n",
        "The hasattr(obj,name) − to check if an attribute exists or not.\n",
        "The setattr(obj,name,value) − to set an attribute. If attribute does not exist, then it would be created.\n",
        "The delattr(obj, name) − to delete an attribute.\n",
        "\"\"\"\n",
        "\n",
        "print (hasattr(e1, 'salary')) # Returns true if 'salary' attribute exists\n",
        "print (getattr(e1, 'name')) # Returns value of 'name' attribute\n",
        "setattr(e1, 'salary', 8) # Set attribute 'salary' at 8\n",
        "setattr(e1, 'name', 'Anindya')\n",
        "delattr(e1, 'age')\n",
        "print (f\"Name : {e1.name}, Salary: {e1.salary}\")"
      ]
    },
    {
      "cell_type": "markdown",
      "metadata": {
        "id": "kR5Y6svVz3fb"
      },
      "source": [
        "# **Python - Access Modifiers**\n",
        "\n",
        "[Study from here - TutorialsPoint](https://www.tutorialspoint.com/python/python_access_modifiers.htm)\n",
        "\n"
      ]
    },
    {
      "cell_type": "code",
      "execution_count": 11,
      "metadata": {
        "colab": {
          "base_uri": "https://localhost:8080/"
        },
        "id": "zflWCQR7OqhZ",
        "outputId": "6de43fa6-3778-49d6-8a08-227b0eebee18"
      },
      "outputs": [
        {
          "name": "stdout",
          "output_type": "stream",
          "text": [
            "Name: Bhavana\n",
            "age: 24\n",
            "Name: Bharat\n",
            "age: 25\n"
          ]
        }
      ],
      "source": [
        "class Employee:\n",
        "  'Common base class for all employees'\n",
        "  'All instance variables are public'\n",
        "  def __init__(self, name=\"Bhavana\", age=24):\n",
        "    self.name = name\n",
        "    self.age = age\n",
        "\n",
        "e1 = Employee()\n",
        "e2 = Employee(\"Bharat\", 25)\n",
        "\n",
        "print (\"Name: {}\".format(e1.name))\n",
        "print (\"age: {}\".format(e1.age))\n",
        "print (\"Name: {}\".format(e2.name))\n",
        "print (\"age: {}\".format(e2.age))"
      ]
    },
    {
      "cell_type": "code",
      "execution_count": 27,
      "metadata": {
        "colab": {
          "base_uri": "https://localhost:8080/"
        },
        "id": "QEojPPfCHSa1",
        "outputId": "b3b4eb1d-b834-47ad-d4e3-db8f75c9cc0b"
      },
      "outputs": [
        {
          "name": "stdout",
          "output_type": "stream",
          "text": [
            "Bhavana\n",
            "999\n",
            "['_Employee__age', '__class__', '__delattr__', '__dict__', '__dir__', '__doc__', '__eq__', '__format__', '__ge__', '__getattribute__', '__getstate__', '__gt__', '__hash__', '__init__', '__init_subclass__', '__le__', '__lt__', '__module__', '__ne__', '__new__', '__reduce__', '__reduce_ex__', '__repr__', '__setattr__', '__sizeof__', '__str__', '__subclasshook__', '__weakref__', '_salary', 'displayEmployee', 'name', 'salary']\n",
            "24\n"
          ]
        }
      ],
      "source": [
        "'''Let us modify the Employee class.\n",
        "Add another instance variable salary.\n",
        "Make age private and salary as protected by\n",
        "prefixing double and single underscores respectively.'''\n",
        "\n",
        "\n",
        "class Employee:\n",
        "   def __init__(self, name, age, salary):\n",
        "      self.name = name # public variable\n",
        "      self.__age = age # private variable\n",
        "      self._salary = salary # protected variable\n",
        "      \n",
        "   def displayEmployee(self):\n",
        "      print (\"Name : \", self.name, \", age: \", self.__age, \", salary: \", self._salary)\n",
        "\n",
        "e1=Employee(\"Bhavana\", 24, 10000)\n",
        "\n",
        "'''It is printed because the instance var name is public'''\n",
        "print (e1.name)\n",
        "'''It is printed because e1 is a object and protected instance var\n",
        "can be accesed by object'''\n",
        "print (e1._salary)\n",
        "'''It will not print because data of private variable can't be accesed'''\n",
        "# print (e1.__age) # -> will surely give a error\n",
        "print(dir(e1)) # Printing the directory of e1 to check which methods and var are accesible\n",
        "\n",
        "#Name Mangling\n",
        "'''Python doesn't block access to private data,\n",
        "it just leaves for the wisdom of the programmer,\n",
        "not to write any code that access it from outside the class.\n",
        "You can still access the private members by Python's name mangling technique'''\n",
        "\n",
        "print (e1._Employee__age)"
      ]
    },
    {
      "cell_type": "code",
      "execution_count": null,
      "metadata": {
        "colab": {
          "base_uri": "https://localhost:8080/"
        },
        "id": "W1muV8-eSILV",
        "outputId": "8dc0ca05-d7fc-462e-8aa1-8d21ed1bbad3"
      },
      "outputs": [
        {
          "name": "stdout",
          "output_type": "stream",
          "text": [
            "Name: Bhavana age: 24\n",
            "Name: Archana age: 23\n"
          ]
        }
      ],
      "source": [
        "# Python Property Object\n",
        "'''\n",
        "Certainly! In Python, the property() function allows you to create\n",
        "managed attributes (also known as properties) in your classes.\n",
        "These properties provide a way to modify the internal implementation\n",
        "of an attribute without changing the public API of the class\n",
        "'''\n",
        "\n",
        "class Employee:\n",
        "  def __init__(self, name, age):\n",
        "    self.__name = name\n",
        "    self.__age = age\n",
        "  def get_name(self):\n",
        "    return self.__name\n",
        "  def get_age(self):\n",
        "    return self.__age\n",
        "  def set_name(self, name):\n",
        "    self.__name = name\n",
        "    return\n",
        "  def set_age(self, age):\n",
        "    self.__age=age\n",
        "  # adding property object\n",
        "  name = property(get_name, set_name, \"name\")\n",
        "  age = property(get_age, set_age, \"age\")\n",
        "  hi = property()\n",
        "\n",
        "#########################################################\n",
        "# Traditional method\n",
        "\n",
        "# e1=Employee(\"Bhavana\", 24)\n",
        "# print (\"Name:\", e1.get_name(), \"age:\",\n",
        "\n",
        "# e1.get_age())\n",
        "# e1.set_name(\"Archana\")\n",
        "# e1.set_age(21)\n",
        "# print (\"Name:\", e1.get_name(), \"age:\", e1.get_age())\n",
        "#########################################################\n",
        "\n",
        "# Using property function\n",
        "# Syntax: property(fget=None, fset=None, fdel=None, doc=None)\n",
        "\n",
        "e1=Employee(\"Bhavana\", 24)\n",
        "print (\"Name:\", e1.name, \"age:\", e1.age) #displays value of e1.__name and e1.__age\n",
        "\n",
        "e1.name = \"Archana\" #assign value of e1.__name\n",
        "e1.age = 23  #assign value of e1.__age\n",
        "print (\"Name:\", e1.name, \"age:\", e1.age)\n",
        "\n"
      ]
    },
    {
      "cell_type": "code",
      "execution_count": null,
      "metadata": {
        "colab": {
          "base_uri": "https://localhost:8080/"
        },
        "id": "TtQPiuiZWQKZ",
        "outputId": "f118f50f-215e-4f62-9665-1075afcb7f94"
      },
      "outputs": [
        {
          "name": "stdout",
          "output_type": "stream",
          "text": [
            "Radius: 5\n",
            "New Radius: 2\n"
          ]
        }
      ],
      "source": [
        "# Example 1 of 'Property Function'\n",
        "class Circle:\n",
        "    def __init__(self, radius):\n",
        "        self._radius = radius\n",
        "\n",
        "    @property\n",
        "    def radius(self):\n",
        "        return self._radius\n",
        "\n",
        "    @radius.setter\n",
        "    def radius(self, value):\n",
        "        if value < 0:\n",
        "            raise ValueError(\"Radius cannot be negative\")\n",
        "        self._radius = value\n",
        "\n",
        "# Create an instance of Circle\n",
        "circle = Circle(radius=5)\n",
        "\n",
        "# Access the radius property\n",
        "print(f\"Radius: {circle.radius}\")\n",
        "\n",
        "# Set a new radius value\n",
        "circle.radius = 2\n",
        "print(f\"New Radius: {circle.radius}\")\n"
      ]
    },
    {
      "cell_type": "code",
      "execution_count": null,
      "metadata": {
        "colab": {
          "base_uri": "https://localhost:8080/"
        },
        "id": "9U-VeAtgdml5",
        "outputId": "ff83c4cc-c848-477c-ac40-ee40e4da78e4"
      },
      "outputs": [
        {
          "name": "stdout",
          "output_type": "stream",
          "text": [
            "Area: 78.50\n",
            "Circumference: 31.40\n"
          ]
        }
      ],
      "source": [
        "# Example 2 of 'Property Function'\n",
        "class Circle:\n",
        "    def __init__(self, radius):\n",
        "        self.__radius = radius\n",
        "\n",
        "    @property\n",
        "    def radius(self):\n",
        "        return self.__radius\n",
        "\n",
        "    @radius.setter\n",
        "    def radius(self, value):\n",
        "        if value < 0:\n",
        "            raise ValueError(\"Radius cannot be negative\")\n",
        "        self.__radius = value\n",
        "\n",
        "    @property\n",
        "    def area(self):\n",
        "        return 3.14 * self.__radius ** 2\n",
        "\n",
        "    @property\n",
        "    def circumference(self):\n",
        "        return 2 * 3.14 * self.__radius\n",
        "# Create an instance of Circle\n",
        "circle = Circle(radius=5)\n",
        "# Access the area and circumference properties\n",
        "print(f\"Area: {circle.area:.2f}\")\n",
        "print(f\"Circumference: {circle.circumference:.2f}\")\n"
      ]
    },
    {
      "cell_type": "code",
      "execution_count": null,
      "metadata": {
        "colab": {
          "base_uri": "https://localhost:8080/"
        },
        "id": "hanKzZA5dpNO",
        "outputId": "589dfb21-1892-40f1-c6f2-d304b399eaff"
      },
      "outputs": [
        {
          "name": "stdout",
          "output_type": "stream",
          "text": [
            "New Age: 25\n"
          ]
        }
      ],
      "source": [
        "# Example 2 of 'Property Function'\n",
        "class Person:\n",
        "    def __init__(self, age):\n",
        "        self._age = age\n",
        "\n",
        "    @property\n",
        "    def age(self):\n",
        "        return self._age\n",
        "\n",
        "    @age.setter\n",
        "    def age(self, value):\n",
        "        if not isinstance(value, int) or value < 0:\n",
        "            raise ValueError(\"Age must be a positive integer\")\n",
        "        self._age = value\n",
        "\n",
        "# Create a person\n",
        "person = Person(age=30)\n",
        "\n",
        "# Set a new age value\n",
        "person.age = 25\n",
        "print(f\"New Age: {person.age}\")"
      ]
    },
    {
      "cell_type": "markdown",
      "metadata": {
        "id": "2kYSoCGfKGb_"
      },
      "source": [
        "# Python - **Inheritance**\n",
        "[Study from here - TutorialsPoint](https://www.tutorialspoint.com/python/python_inheritance.htm)"
      ]
    },
    {
      "cell_type": "code",
      "execution_count": null,
      "metadata": {
        "id": "jypcHYqvKZjl"
      },
      "outputs": [],
      "source": []
    },
    {
      "cell_type": "markdown",
      "metadata": {
        "id": "gUW702pPk-R1"
      },
      "source": [
        "# **Python** - ***Composition (HAS A Relationship)***\n",
        "\n",
        "[Study from here - GeeksforGeeks](https://www.geeksforgeeks.org/implementation-of-composition-has-a-relation-in-python/)\n"
      ]
    },
    {
      "cell_type": "code",
      "execution_count": null,
      "metadata": {
        "colab": {
          "base_uri": "https://localhost:8080/"
        },
        "id": "u1JxS4aUuNfd",
        "outputId": "ef095284-e472-4da5-c3ba-11392831d8bc"
      },
      "outputs": [
        {
          "name": "stdout",
          "output_type": "stream",
          "text": [
            "########################################\n",
            "Teacher name: Kazi Rakibul Islam\n",
            "Designation: Professor\n",
            "Department name: CSE\n",
            "Number of Courses: 3\n",
            "––––––––––––––––––––––––––––––––––––––––\n",
            "List of the courses:\n",
            "CSE110: Programming Language I\n",
            "CSE111: Programming Language II\n",
            "CSE230: Discreate Mathematics\n",
            "########################################\n",
            "########################################\n",
            "Teacher name: Anindya Kabbya Biswas\n",
            "Designation: Lecturer\n",
            "Department name: MNS\n",
            "Number of Courses: 2\n",
            "––––––––––––––––––––––––––––––––––––––––\n",
            "List of the courses:\n",
            "MAT110: Differentiation and Coordinate Geometry\n",
            "MAT120: Integral Calculus\n",
            "########################################\n"
          ]
        }
      ],
      "source": [
        "# Python - Composition\n",
        "# Example-1: TEACHER HAS COURSES\n",
        "\n",
        "class Teacher:\n",
        "  def __init__(self, name, dept, des):\n",
        "    self.name = name\n",
        "    self.dept = dept\n",
        "    self.des = des\n",
        "    self.cL = {}\n",
        "  def addCourse(self, *courses):\n",
        "    for x in courses:\n",
        "      if x.c_code not in self.cL:\n",
        "        self.cL[x.c_code] = x.c_name\n",
        "  def showDetails(self):\n",
        "    print(\"#\"*40)\n",
        "    print(\"Teacher name:\", self.name)\n",
        "    print(\"Designation:\", self.des)\n",
        "    print(\"Department name:\", self.dept)\n",
        "    print(\"Number of Courses:\", len(self.cL))\n",
        "    print('–'*40)\n",
        "    print(\"List of the courses:\")\n",
        "    for x,y in self.cL.items():\n",
        "      print(f\"{x}: {y}\")\n",
        "    print(\"#\"*40)\n",
        "\n",
        "class Course:\n",
        "  def __init__(self, code, name):\n",
        "    self.c_code = code\n",
        "    self.c_name = name\n",
        "\n",
        "c1 = Course(\"CSE110\", \"Programming Language I\")\n",
        "c2 = Course(\"CSE111\", \"Programming Language II\")\n",
        "c3 = Course(\"CSE230\", \"Discreate Mathematics\")\n",
        "c4 = Course(\"MAT110\", \"Differentiation and Coordinate Geometry\")\n",
        "c5 = Course(\"MAT120\", \"Integral Calculus\")\n",
        "\n",
        "t1 = Teacher(\"Kazi Rakibul Islam\", \"CSE\", \"Professor\")\n",
        "t2 = Teacher(\"Anindya Kabbya Biswas\", \"MNS\", \"Lecturer\")\n",
        "\n",
        "t1.addCourse(c1)\n",
        "t1.addCourse(c2, c3, c2)\n",
        "t2.addCourse(c4, c5)\n",
        "\n",
        "t1.showDetails()\n",
        "t2.showDetails()"
      ]
    },
    {
      "cell_type": "code",
      "execution_count": null,
      "metadata": {
        "colab": {
          "base_uri": "https://localhost:8080/"
        },
        "id": "_y9SAjPZ3ptl",
        "outputId": "3fbfc41d-32aa-4342-b123-68a82d90d990"
      },
      "outputs": [
        {
          "name": "stdout",
          "output_type": "stream",
          "text": [
            "########################################\n",
            "Teacher name: Kazi Rakibul Islam\n",
            "Designation: Professor\n",
            "Department name: CSE\n",
            "Number of Courses: 4\n",
            "––––––––––––––––––––––––––––––––––––––––\n",
            "List of the courses:\n",
            "CSE110: Programming Language I\n",
            "CSE111: Programming Language II\n",
            "CSE230: Discreate Mathematics\n",
            "CSE111: Programming Language II\n",
            "########################################\n",
            "########################################\n",
            "Teacher name: Anindya Kabbya Biswas\n",
            "Designation: Lecturer\n",
            "Department name: MNS\n",
            "Number of Courses: 2\n",
            "––––––––––––––––––––––––––––––––––––––––\n",
            "List of the courses:\n",
            "MAT110: Differentiation and Coordinate Geometry\n",
            "MAT120: Integral Calculus\n",
            "########################################\n"
          ]
        }
      ],
      "source": [
        "# Python - Composition\n",
        "# Example-2: TEACHER HAS COURSES (MODIFIED)\n",
        "\n",
        "class Teacher:\n",
        "  def __init__(self, name, dept, des):\n",
        "    self.name = name\n",
        "    self.dept = dept\n",
        "    self.des = des\n",
        "    self.cL = []\n",
        "  def addCourse(self, *courses):\n",
        "    self.cL += courses\n",
        "  def showDetails(self):\n",
        "    print(\"#\"*40)\n",
        "    print(\"Teacher name:\", self.name)\n",
        "    print(\"Designation:\", self.des)\n",
        "    print(\"Department name:\", self.dept)\n",
        "    print(\"Number of Courses:\", len(self.cL))\n",
        "    print('–'*40)\n",
        "    print(\"List of the courses:\")\n",
        "    for x in self.cL:\n",
        "      print(f\"{x.c_code}: {x.c_name}\")\n",
        "    print(\"#\"*40)\n",
        "\n",
        "class Course:\n",
        "  def __init__(self, code, name):\n",
        "    self.c_code = code\n",
        "    self.c_name = name\n",
        "\n",
        "c1 = Course(\"CSE110\", \"Programming Language I\")\n",
        "c2 = Course(\"CSE111\", \"Programming Language II\")\n",
        "c3 = Course(\"CSE230\", \"Discreate Mathematics\")\n",
        "c4 = Course(\"MAT110\", \"Differentiation and Coordinate Geometry\")\n",
        "c5 = Course(\"MAT120\", \"Integral Calculus\")\n",
        "\n",
        "t1 = Teacher(\"Kazi Rakibul Islam\", \"CSE\", \"Professor\")\n",
        "t2 = Teacher(\"Anindya Kabbya Biswas\", \"MNS\", \"Lecturer\")\n",
        "\n",
        "t1.addCourse(c1)\n",
        "t1.addCourse(c2, c3, c2)\n",
        "t2.addCourse(c4, c5)\n",
        "\n",
        "t1.showDetails()\n",
        "t2.showDetails()"
      ]
    },
    {
      "cell_type": "code",
      "execution_count": null,
      "metadata": {
        "colab": {
          "base_uri": "https://localhost:8080/"
        },
        "id": "KgLjx5xY5ypg",
        "outputId": "a04ebe46-3b9a-459f-c4c7-5fd561fd7817"
      },
      "outputs": [
        {
          "name": "stdout",
          "output_type": "stream",
          "text": [
            "########################################\n",
            "Welcome to Ayesha Abed Library\n",
            "Number of Books: 6\n",
            "––––––––––––––––––––––––––––––––––––––––\n",
            "––––––––––––––––––––––––––––––––––––––––\n",
            "List of the books:\n",
            "––––––––––––––––––\n",
            "Fantasy: Harry Potter, Game of Thrones, American Gods\n",
            "\n",
            "Thriller: Martyr on the ocean express, Gone Girl\n",
            "\n",
            "Fiction: Stephen King\n",
            "\n",
            "########################################\n"
          ]
        }
      ],
      "source": [
        "# Python - Composition\n",
        "# Example-2: LIBRARY HAS BOOKS\n",
        "\n",
        "class Library:\n",
        "  def __init__(self, name):\n",
        "    self.L_name = name\n",
        "    self.bL = {}\n",
        "    self.bCount = 0\n",
        "  def addBooks(self, *books):\n",
        "    for x in books:\n",
        "      if x.genre not in self.bL:\n",
        "        self.bL[x.genre] = []\n",
        "      if x.name not in self.bL[x.genre]:\n",
        "        self.bCount += 1\n",
        "        self.bL[x.genre].append(x.name)\n",
        "\n",
        "  def showDetails(self):\n",
        "    print(\"#\"*40)\n",
        "    print(\"Welcome to\", self.L_name)\n",
        "    print(\"Number of Books:\", self.bCount)\n",
        "    print('–'*40)\n",
        "    print('–'*40)\n",
        "    print(\"List of the books:\")\n",
        "    print('–'*len(\"List of the books:\"))\n",
        "    for x,y in self.bL.items():\n",
        "      print(f'{x}:', ', '.join(y))\n",
        "      print()\n",
        "    print(\"#\"*40)\n",
        "\n",
        "class Book:\n",
        "  def __init__(self,name,genre):\n",
        "    self.name = name\n",
        "    self.genre = genre\n",
        "\n",
        "l = Library(\"Ayesha Abed Library\") #DHK\n",
        "b1 = Book(\"Harry Potter\",\"Fantasy\") #RAJ\n",
        "b2 = Book(\"Game of Thrones\",\"Fantasy\") #COM\n",
        "b3 = Book(\"Martyr on the ocean express\",\"Thriller\") #NOA\n",
        "b4 = Book(\"Stephen King\",\"Fiction\") #CTG\n",
        "b5 = Book(\"Gone Girl\",\"Thriller\") #RNG\n",
        "b6 = Book(\"American Gods\",\"Fantasy\") #BAR\n",
        "l.addBooks(b1,b2,b3)#RAJ,COM,NOA\n",
        "l.addBooks(b4,b5)#CTG,RNG\n",
        "l.addBooks(b6, b5, b1)\n",
        "l.showDetails()"
      ]
    },
    {
      "cell_type": "code",
      "execution_count": null,
      "metadata": {
        "colab": {
          "base_uri": "https://localhost:8080/"
        },
        "id": "-QjETjPXXOGu",
        "outputId": "7a525bbb-754e-4f6f-efd6-2c636b998a09"
      },
      "outputs": [
        {
          "name": "stdout",
          "output_type": "stream",
          "text": [
            "\u001b[43m\u001b[34m########################################\u001b[0m\n",
            "\u001b[43m\u001b[30mAccount No      : 20021104\u001b[0m\n",
            "\u001b[43m\u001b[30mAccount Name    : Anindya Kabbya Biswas\u001b[0m\n",
            "\u001b[43m\u001b[30mCurrent Balance : Tk. 100000.90\u001b[0m\n",
            "\u001b[43m\u001b[34m########################################\u001b[0m\n",
            "\u001b[43m\u001b[34m########################################\u001b[0m\n",
            "\u001b[43m\u001b[30mAccount No      : 20030805\u001b[0m\n",
            "\u001b[43m\u001b[30mAccount Name    : Ubarna Bhattacharjee\u001b[0m\n",
            "\u001b[43m\u001b[30mCurrent Balance : Tk. 2340897.00\u001b[0m\n",
            "\u001b[43m\u001b[34m########################################\u001b[0m\n",
            "\u001b[43m\u001b[34m########################################\u001b[0m\n",
            "\u001b[43m\u001b[30mAccount No      : 20021140\u001b[0m\n",
            "\u001b[43m\u001b[30mAccount Name    : Anindita Biswas\u001b[0m\n",
            "\u001b[43m\u001b[30mCurrent Balance : Tk. 4545469.00\u001b[0m\n",
            "\u001b[43m\u001b[34m########################################\u001b[0m\n",
            "\u001b[44m\u001b[30m////////////////////////////////////////\u001b[0m\n",
            "\u001b[44m\u001b[30mHello Anindya Kabbya Biswas,\u001b[0m\n",
            "\u001b[42m\u001b[30mTk. 1000 has been deposited in your account.\u001b[0m\n",
            "\u001b[44m\u001b[30mHave a good day.\u001b[0m\n",
            "\u001b[44m\u001b[30m////////////////////////////////////////\u001b[0m\n",
            "\u001b[43m\u001b[34m########################################\u001b[0m\n",
            "\u001b[43m\u001b[30mAccount No      : 20021104\u001b[0m\n",
            "\u001b[43m\u001b[30mAccount Name    : Anindya Kabbya Biswas\u001b[0m\n",
            "\u001b[43m\u001b[30mCurrent Balance : Tk. 101000.90\u001b[0m\n",
            "\u001b[43m\u001b[34m########################################\u001b[0m\n",
            "\u001b[44m\u001b[30m////////////////////////////////////////\u001b[0m\n",
            "\u001b[44m\u001b[30mHello Anindya Kabbya Biswas,\u001b[0m\n",
            "\u001b[41m\u001b[30mTk. 1000 has been withdrawed from your account.\u001b[0m\n",
            "\u001b[44m\u001b[30mHave a good day.\u001b[0m\n",
            "\u001b[44m\u001b[30m////////////////////////////////////////\u001b[0m\n",
            "\u001b[43m\u001b[34m########################################\u001b[0m\n",
            "\u001b[43m\u001b[30mAccount No      : 20021104\u001b[0m\n",
            "\u001b[43m\u001b[30mAccount Name    : Anindya Kabbya Biswas\u001b[0m\n",
            "\u001b[43m\u001b[30mCurrent Balance : Tk. 100000.90\u001b[0m\n",
            "\u001b[43m\u001b[34m########################################\u001b[0m\n",
            "\u001b[44m\u001b[30m////////////////////////////////////////\u001b[0m\n",
            "\u001b[41m\u001b[30mSorry Anindya Kabbya Biswas,\u001b[0m\n",
            "\u001b[41m\u001b[30mYour balance is insufficient for requested withdrawal\u001b[0m\n",
            "\u001b[44m\u001b[30m////////////////////////////////////////\u001b[0m\n",
            "\u001b[43m\u001b[34m########################################\u001b[0m\n",
            "\u001b[43m\u001b[30mAccount No      : 20021104\u001b[0m\n",
            "\u001b[43m\u001b[30mAccount Name    : Anindya Kabbya Biswas\u001b[0m\n",
            "\u001b[43m\u001b[30mCurrent Balance : Tk. 100000.90\u001b[0m\n",
            "\u001b[43m\u001b[34m########################################\u001b[0m\n",
            "\u001b[107m\u001b[30m########################################\u001b[0m\n",
            "\u001b[44m\u001b[30mWelcome to Rupali Bank PLC\u001b[0m\n",
            "\u001b[43m\u001b[30mBranch name: Dilkusha\u001b[0m\n",
            "\u001b[42m\u001b[30mNumber of Accounts: 3\u001b[0m\n",
            "\u001b[43m\u001b[30mList of accounts:\u001b[0m\n",
            "\u001b[44m\u001b[30m20021104 –– Anindya Kabbya Biswas\u001b[0m\n",
            "\u001b[44m\u001b[30m20030805 –– Ubarna Bhattacharjee\u001b[0m\n",
            "\u001b[44m\u001b[30m20021140 –– Anindita Biswas\u001b[0m\n",
            "\u001b[107m\u001b[30m########################################\u001b[0m\n",
            "\u001b[107m\u001b[30m########################################\u001b[0m\n",
            "\u001b[44m\u001b[30mWelcome to Rupali Bank PLC\u001b[0m\n",
            "\u001b[43m\u001b[30mBranch name: Dilkusha\u001b[0m\n",
            "\u001b[107m\u001b[30m////////////////////////////////////////\u001b[0m\n",
            "\u001b[43m\u001b[30mAccount No      : 20021140\u001b[0m\n",
            "\u001b[43m\u001b[30mAccount Name    : Anindita Biswas\u001b[0m\n",
            "\u001b[43m\u001b[30mCurrent Balance : Tk. 4545469.00\u001b[0m\n",
            "\u001b[107m\u001b[30m////////////////////////////////////////\u001b[0m\n",
            "\u001b[107m\u001b[30m########################################\u001b[0m\n"
          ]
        }
      ],
      "source": [
        "# Python - Composition\n",
        "# Example-3: Accounts of a Bank\n",
        "\n",
        "import sys\n",
        "from termcolor import colored, cprint\n",
        "\n",
        "class BankAccount:\n",
        "  def __init__(self,acc_no,acc_name,acc_bal):\n",
        "    self.account_no = acc_no\n",
        "    self.account_name = acc_name\n",
        "    self.account_balance = acc_bal\n",
        "    self.bank_name = None\n",
        "  def showDetails(self):\n",
        "    cprint(\"#\"*40, 'blue', 'on_yellow')\n",
        "    if self.bank_name != None:\n",
        "      cprint(f\"Bank Name       : {self.bank_name}\", 'white', 'on_blue')\n",
        "    cprint(f\"Account No      : {self.account_no}\", 'black', 'on_yellow')\n",
        "    cprint(f\"Account Name    : {self.account_name}\", 'black', 'on_yellow')\n",
        "    cprint(f\"Current Balance : Tk. {self.account_balance:.2f}\", 'black', 'on_yellow')\n",
        "    cprint(\"#\"*40, 'blue', 'on_yellow')\n",
        "  def deposit(self, amount):\n",
        "    self.account_balance += amount\n",
        "    cprint(\"/\"*40, 'black', 'on_blue')\n",
        "    cprint(f\"Hello {self.account_name},\", 'black', 'on_blue')\n",
        "    cprint(f\"Tk. {amount} has been deposited in your account.\", 'black', 'on_green')\n",
        "    cprint(f\"Have a good day.\", 'black', 'on_blue')\n",
        "    cprint(\"/\"*40, 'black', 'on_blue')\n",
        "    self.showDetails()\n",
        "  def withdraw(self, amount):\n",
        "    cprint(\"/\"*40, 'black', 'on_blue')\n",
        "    if self.account_balance - amount < 500:\n",
        "      cprint(f\"Sorry {self.account_name},\", 'black', 'on_red')\n",
        "      cprint(f\"Your balance is insufficient for requested withdrawal\", 'black', 'on_red')\n",
        "    else:\n",
        "      self.account_balance -= amount\n",
        "      cprint(f\"Hello {self.account_name},\", 'black', 'on_blue')\n",
        "      cprint(f\"Tk. {amount} has been withdrawed from your account.\", 'black', 'on_red')\n",
        "      cprint(f\"Have a good day.\", 'black', 'on_blue')\n",
        "    cprint(\"/\"*40, 'black', 'on_blue')\n",
        "    self.showDetails()\n",
        "\n",
        "class Bank:\n",
        "  def __init__(self, name, branch):\n",
        "    self.name = name\n",
        "    self.branch = branch\n",
        "    self.acc_list = {}\n",
        "    self.no_of_acc = 0\n",
        "  def addAccount(self, *args):\n",
        "    self.no_of_acc += len(args)\n",
        "    for each in args:\n",
        "      each.bank_name = self.name\n",
        "      self.acc_list[each.account_no] = [each.account_name, each]\n",
        "  def showDetails_bank(self):\n",
        "    cprint(\"#\"*40, 'black', 'on_white')\n",
        "    cprint(f\"Welcome to {self.name}\", 'black', 'on_blue')\n",
        "    cprint(f\"Branch name: {self.branch}\", 'black', 'on_yellow')\n",
        "    cprint(f\"Number of Accounts: {self.no_of_acc}\", 'black', 'on_green')\n",
        "    cprint(f\"List of accounts:\", 'black', 'on_yellow')\n",
        "    for i,j in self.acc_list.items():\n",
        "      cprint(f\"{i} –– {j[0]}\", 'black', 'on_blue')\n",
        "    cprint(\"#\"*40, 'black', 'on_white')\n",
        "  def showDetails_ID(self, id):\n",
        "    cprint(\"#\"*40, 'black', 'on_white')\n",
        "    cprint(f\"Welcome to {self.name}\", 'black', 'on_blue')\n",
        "    cprint(f\"Branch name: {self.branch}\", 'black', 'on_yellow')\n",
        "    cprint(\"/\"*40, 'black', 'on_white')\n",
        "    cprint(f\"Account No      : {id}\", 'black', 'on_yellow')\n",
        "    cprint(f\"Account Name    : {self.acc_list[id][0]}\", 'black', 'on_yellow')\n",
        "    cprint(f\"Current Balance : Tk. {self.acc_list[id][1].account_balance:.2f}\", 'black', 'on_yellow')\n",
        "    cprint(\"/\"*40, 'black', 'on_white')\n",
        "    cprint(\"#\"*40, 'black', 'on_white')\n",
        "\n",
        "\n",
        "a1 = BankAccount(20021104, 'Anindya Kabbya Biswas', 100000.899)\n",
        "a2 = BankAccount(20030805, 'Ubarna Bhattacharjee', 2340897)\n",
        "a3 = BankAccount(20021140, 'Anindita Biswas', 4545469)\n",
        "a1.showDetails()\n",
        "a2.showDetails()\n",
        "a3.showDetails()\n",
        "a1.deposit(1000)\n",
        "a1.withdraw(1000)\n",
        "a1.withdraw(100000000000)\n",
        "\n",
        "b1 = Bank(\"Rupali Bank PLC\", \"Dilkusha\")\n",
        "b1.addAccount(a1,a2,a3)\n",
        "b1.showDetails_bank()\n",
        "b1.showDetails_ID(20021140)"
      ]
    },
    {
      "cell_type": "markdown",
      "metadata": {
        "id": "bbjv5hZN154r"
      },
      "source": [
        "# **Python** - ***Encaptulation***\n",
        "\n",
        "[Study from here - TutorialsPoint](https://www.tutorialspoint.com/python/python_encapsulation.htm)"
      ]
    },
    {
      "cell_type": "code",
      "execution_count": null,
      "metadata": {
        "colab": {
          "base_uri": "https://localhost:8080/",
          "height": 228
        },
        "id": "ByFrUJJF2dNZ",
        "outputId": "42d36585-31db-4555-8863-94efbe50d746"
      },
      "outputs": [
        {
          "name": "stdout",
          "output_type": "stream",
          "text": [
            "Name: Rajaram marks: 50\n",
            "Name: Bharat marks: 25\n"
          ]
        },
        {
          "ename": "AttributeError",
          "evalue": "'Student' object has no attribute '__name'",
          "output_type": "error",
          "traceback": [
            "\u001b[0;31m---------------------------------------------------------------------------\u001b[0m",
            "\u001b[0;31mAttributeError\u001b[0m                            Traceback (most recent call last)",
            "Cell \u001b[0;32mIn[43], line 16\u001b[0m\n\u001b[1;32m     14\u001b[0m s1\u001b[38;5;241m.\u001b[39mstudentdata()\n\u001b[1;32m     15\u001b[0m s2\u001b[38;5;241m.\u001b[39mstudentdata()\n\u001b[0;32m---> 16\u001b[0m \u001b[38;5;28mprint\u001b[39m (\u001b[38;5;124m\"\u001b[39m\u001b[38;5;124mName: \u001b[39m\u001b[38;5;132;01m{}\u001b[39;00m\u001b[38;5;124m marks: \u001b[39m\u001b[38;5;132;01m{}\u001b[39;00m\u001b[38;5;124m\"\u001b[39m\u001b[38;5;241m.\u001b[39mformat(\u001b[43ms1\u001b[49m\u001b[38;5;241;43m.\u001b[39;49m\u001b[43m__name\u001b[49m, s2\u001b[38;5;241m.\u001b[39m__marks))\n\u001b[1;32m     17\u001b[0m \u001b[38;5;28mprint\u001b[39m (\u001b[38;5;124m\"\u001b[39m\u001b[38;5;124mName: \u001b[39m\u001b[38;5;132;01m{}\u001b[39;00m\u001b[38;5;124m marks: \u001b[39m\u001b[38;5;132;01m{}\u001b[39;00m\u001b[38;5;124m\"\u001b[39m\u001b[38;5;241m.\u001b[39mformat(s2\u001b[38;5;241m.\u001b[39m__name, __s2\u001b[38;5;241m.\u001b[39mmarks))\n",
            "\u001b[0;31mAttributeError\u001b[0m: 'Student' object has no attribute '__name'"
          ]
        }
      ],
      "source": [
        "# Python - Encaptulation\n",
        "# Example with error\n",
        "class Student:\n",
        "\n",
        "   def __init__(self, name=\"Rajaram\", marks=50):\n",
        "      self.__name = name\n",
        "      self.__marks = marks\n",
        "   def studentdata(self):\n",
        "      print (\"Name: {} marks: {}\".format(self.__name, self.__marks))\n",
        "\n",
        "s1 = Student()\n",
        "s2 = Student(\"Bharat\", 25)\n",
        "\n",
        "s1.studentdata()\n",
        "s2.studentdata()\n",
        "print (\"Name: {} marks: {}\".format(s1.__name, s2.__marks))\n",
        "print (\"Name: {} marks: {}\".format(s2.__name, __s2.marks))"
      ]
    },
    {
      "cell_type": "markdown",
      "metadata": {
        "id": "Jo4xQtrf21LV"
      },
      "source": [
        "The error occurs because the __name and __marks attributes are private and cannot be accessed directly from outside the class. To fix this, you need to add getter methods to the class to access these attributes."
      ]
    }
  ],
  "metadata": {
    "colab": {
      "provenance": [],
      "toc_visible": true
    },
    "kernelspec": {
      "display_name": "Python 3",
      "name": "python3"
    },
    "language_info": {
      "codemirror_mode": {
        "name": "ipython",
        "version": 3
      },
      "file_extension": ".py",
      "mimetype": "text/x-python",
      "name": "python",
      "nbconvert_exporter": "python",
      "pygments_lexer": "ipython3",
      "version": "3.11.9"
    }
  },
  "nbformat": 4,
  "nbformat_minor": 0
}
