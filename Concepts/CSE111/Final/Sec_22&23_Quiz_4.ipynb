{
  "cells": [
    {
      "cell_type": "code",
      "execution_count": null,
      "metadata": {
        "colab": {
          "base_uri": "https://localhost:8080/"
        },
        "id": "u2AdbmTc-oOu",
        "outputId": "a56cfb59-ddb3-4afe-e7cf-9c7e92590ba2"
      },
      "outputs": [
        {
          "name": "stdout",
          "output_type": "stream",
          "text": [
            "7 4 13\n",
            "2 1 19\n",
            "24 33 45\n",
            "2 12 94\n"
          ]
        }
      ],
      "source": [
        "#SET A\n",
        "class A:\n",
        "    temp = -2\n",
        "    def __init__(self):\n",
        "        self.y = A.temp - 3\n",
        "        self.sum = self.temp + 2\n",
        "        A.temp += 3\n",
        "    def methodA(self, m,  n, x=0):\n",
        "        self.y += self.sum + m + (A.temp)\n",
        "        x += self.sum + 2 + n\n",
        "        self.sum += x + self.temp\n",
        "        print(x, self.y, self.sum)\n",
        "class B(A):\n",
        "    temp = 1\n",
        "    def __init__(self, obj=None):\n",
        "        self.temp = self.temp + B.temp\n",
        "        self.sum = 3 + B.temp + A.temp\n",
        "        super().__init__()\n",
        "        if obj != None:\n",
        "            obj.methodB(3, 6)\n",
        "        else:\n",
        "            self.methodB(1, 4)\n",
        "    def methodB(self, m, n):\n",
        "        y = self.temp + self.y + n\n",
        "        B.temp = m + self.y + n\n",
        "        self.methodA(n, m)\n",
        "        self.sum += self.y + y + A.temp\n",
        "        print(self.temp , y, self.sum)\n",
        "\n",
        "b1 = B()\n",
        "b2 = B(b1)\n"
      ]
    },
    {
      "cell_type": "code",
      "execution_count": 108,
      "metadata": {},
      "outputs": [
        {
          "name": "stdout",
          "output_type": "stream",
          "text": [
            "[1, 2, 45, 6, 23, 24342, 32, 2332, 233, 2322323, 2323, 1, 2, 42, 234, 353353]\n"
          ]
        }
      ],
      "source": [
        "x=[1,2,45,6,23,24342,32]\n",
        "x.extend([2332,233,2322323,2323])\n",
        "x+=[1,2,42,234,353353]\n",
        "print(x)"
      ]
    },
    {
      "cell_type": "code",
      "execution_count": 11,
      "metadata": {
        "colab": {
          "base_uri": "https://localhost:8080/"
        },
        "id": "Lg8kOixD_M33",
        "outputId": "2a0325ff-dacd-4fd8-fd64-f187d722c6ea"
      },
      "outputs": [
        {
          "name": "stdout",
          "output_type": "stream",
          "text": [
            "9\n",
            "11 13 21\n",
            "4 4 45\n",
            "13\n",
            "48 70 97\n",
            "4 19 196\n"
          ]
        }
      ],
      "source": [
        "#SET B\n",
        "class A:\n",
        "    temp = 4\n",
        "    def __init__(self):\n",
        "        self.y = A.temp - 3\n",
        "        self.sum = self.temp + 2\n",
        "        A.temp += 3\n",
        "    def methodA(self, m,  n, x=0):\n",
        "        self.y += self.sum + m + (A.temp)\n",
        "        x += self.sum + 2 + n\n",
        "        self.sum += x + self.temp\n",
        "        print(x, self.y, self.sum)\n",
        "class B(A):\n",
        "    temp = 2\n",
        "    def __init__(self, obj=None):\n",
        "        self.temp = self.temp + B.temp\n",
        "        \n",
        "        self.sum = 3 + B.temp + A.temp\n",
        "        \n",
        "        super().__init__()\n",
        "        if obj != None:\n",
        "            obj.methodB(1, 2)\n",
        "        else:\n",
        "            self.methodB(3, -1)\n",
        "    def methodB(self, m, n):\n",
        "        y = self.temp + self.y + n\n",
        "        B.temp = m + self.y + n\n",
        "        self.methodA(n, m)\n",
        "        self.sum += self.y + y + A.temp\n",
        "        print(self.temp , y, self.sum)\n",
        "\n",
        "b1 = B()\n",
        "\n",
        "b2 = B(b1)"
      ]
    },
    {
      "cell_type": "code",
      "execution_count": null,
      "metadata": {},
      "outputs": [],
      "source": []
    }
  ],
  "metadata": {
    "colab": {
      "provenance": []
    },
    "kernelspec": {
      "display_name": "Python 3",
      "name": "python3"
    },
    "language_info": {
      "codemirror_mode": {
        "name": "ipython",
        "version": 3
      },
      "file_extension": ".py",
      "mimetype": "text/x-python",
      "name": "python",
      "nbconvert_exporter": "python",
      "pygments_lexer": "ipython3",
      "version": "3.11.9"
    }
  },
  "nbformat": 4,
  "nbformat_minor": 0
}
