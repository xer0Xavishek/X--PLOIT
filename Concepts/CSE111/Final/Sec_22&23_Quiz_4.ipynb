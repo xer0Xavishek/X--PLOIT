{
  "nbformat": 4,
  "nbformat_minor": 0,
  "metadata": {
    "colab": {
      "provenance": []
    },
    "kernelspec": {
      "name": "python3",
      "display_name": "Python 3"
    },
    "language_info": {
      "name": "python"
    }
  },
  "cells": [
    {
      "cell_type": "code",
      "execution_count": null,
      "metadata": {
        "colab": {
          "base_uri": "https://localhost:8080/"
        },
        "id": "u2AdbmTc-oOu",
        "outputId": "a56cfb59-ddb3-4afe-e7cf-9c7e92590ba2"
      },
      "outputs": [
        {
          "output_type": "stream",
          "name": "stdout",
          "text": [
            "7 4 13\n",
            "2 1 19\n",
            "24 33 45\n",
            "2 12 94\n"
          ]
        }
      ],
      "source": [
        "#SET A\n",
        "class A:\n",
        "    temp = -2\n",
        "    def __init__(self):\n",
        "        self.y = A.temp - 3\n",
        "        self.sum = self.temp + 2\n",
        "        A.temp += 3\n",
        "    def methodA(self, m,  n, x=0):\n",
        "        self.y += self.sum + m + (A.temp)\n",
        "        x += self.sum + 2 + n\n",
        "        self.sum += x + self.temp\n",
        "        print(x, self.y, self.sum)\n",
        "class B(A):\n",
        "    temp = 1\n",
        "    def __init__(self, obj=None):\n",
        "        self.temp = self.temp + B.temp\n",
        "        self.sum = 3 + B.temp + A.temp\n",
        "        super().__init__()\n",
        "        if obj != None:\n",
        "            obj.methodB(3, 6)\n",
        "        else:\n",
        "            self.methodB(1, 4)\n",
        "    def methodB(self, m, n):\n",
        "        y = self.temp + self.y + n\n",
        "        B.temp = m + self.y + n\n",
        "        self.methodA(n, m)\n",
        "        self.sum += self.y + y + A.temp\n",
        "        print(self.temp , y, self.sum)\n",
        "\n",
        "b1 = B()\n",
        "b2 = B(b1)\n"
      ]
    },
    {
      "cell_type": "code",
      "source": [
        "#SET B\n",
        "class A:\n",
        "    temp = 4\n",
        "    def __init__(self):\n",
        "        self.y = A.temp - 3\n",
        "        self.sum = self.temp + 2\n",
        "        A.temp += 3\n",
        "    def methodA(self, m,  n, x=0):\n",
        "        self.y += self.sum + m + (A.temp)\n",
        "        x += self.sum + 2 + n\n",
        "        self.sum += x + self.temp\n",
        "        print(x, self.y, self.sum)\n",
        "class B(A):\n",
        "    temp = 2\n",
        "    def __init__(self, obj=None):\n",
        "        self.temp = self.temp + B.temp\n",
        "        self.sum = 3 + B.temp + A.temp\n",
        "        super().__init__()\n",
        "        if obj != None:\n",
        "            obj.methodB(1, 2)\n",
        "        else:\n",
        "            self.methodB(3, -1)\n",
        "    def methodB(self, m, n):\n",
        "        y = self.temp + self.y + n\n",
        "        B.temp = m + self.y + n\n",
        "        self.methodA(n, m)\n",
        "        self.sum += self.y + y + A.temp\n",
        "        print(self.temp , y, self.sum)\n",
        "\n",
        "b1 = B()\n",
        "b2 = B(b1)"
      ],
      "metadata": {
        "colab": {
          "base_uri": "https://localhost:8080/"
        },
        "id": "Lg8kOixD_M33",
        "outputId": "2a0325ff-dacd-4fd8-fd64-f187d722c6ea"
      },
      "execution_count": null,
      "outputs": [
        {
          "output_type": "stream",
          "name": "stdout",
          "text": [
            "11 13 21\n",
            "4 4 45\n",
            "48 70 97\n",
            "4 19 196\n"
          ]
        }
      ]
    }
  ]
}