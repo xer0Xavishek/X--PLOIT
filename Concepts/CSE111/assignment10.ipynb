{
 "cells": [
  {
   "cell_type": "markdown",
   "metadata": {},
   "source": [
    "# Task - 1\n",
    "## Given the following classes, write the code for the Triangle and the Trapezoid class so that the following output is printed.\n"
   ]
  },
  {
   "cell_type": "code",
   "execution_count": 2,
   "metadata": {},
   "outputs": [
    {
     "ename": "IndentationError",
     "evalue": "expected an indented block after function definition on line 12 (2494678726.py, line 15)",
     "output_type": "error",
     "traceback": [
      "\u001b[1;36m  Cell \u001b[1;32mIn[2], line 15\u001b[1;36m\u001b[0m\n\u001b[1;33m    def calcArea(self):\u001b[0m\n\u001b[1;37m    ^\u001b[0m\n\u001b[1;31mIndentationError\u001b[0m\u001b[1;31m:\u001b[0m expected an indented block after function definition on line 12\n"
     ]
    }
   ],
   "source": [
    "class Shape:\n",
    "    def __init__(self, name='Default', height=0, base=0):\n",
    "        self.area = 0\n",
    "        self.name = name\n",
    "        self.height = height\n",
    "        self.base = base\n",
    "    def get_height_base(self):\n",
    "        return \"Height: \"+str(self.height)+\", Base: \"+str(self.base)\n",
    "\n",
    "\n",
    "class triangle:\n",
    "    def __init__(self):\n",
    "        \n",
    "        \n",
    "    def calcArea(self):\n",
    "        \n",
    "        \n",
    "    def printDetail(self):\n",
    "        \n",
    "        \n",
    "class trapezoid:\n",
    "    def __init__(self)\n",
    "        \n",
    "\n",
    "\n",
    "\n",
    "#write your code here\n",
    "tri_default = triangle()\n",
    "tri_default.calcArea()\n",
    "print(tri_default.printDetail())\n",
    "print('--------------------------')\n",
    "tri = triangle('Triangle', 10, 5)\n",
    "tri.calcArea()\n",
    "print(tri.printDetail())\n",
    "print('---------------------------')\n",
    "trap = trapezoid('Trapezoid', 10, 6, 4)\n",
    "trap.calcArea()\n",
    "print(trap.printDetail())\n"
   ]
  },
  {
   "cell_type": "code",
   "execution_count": 21,
   "metadata": {},
   "outputs": [
    {
     "name": "stdout",
     "output_type": "stream",
     "text": [
      "Shape name: Default\n",
      "Height: 0, Base: 0\n",
      "Area: 0.0\n",
      "--------------------------\n",
      "Shape name: Triangle\n",
      "Height: 10, Base: 5\n",
      "Area: 25.0\n",
      "---------------------------\n",
      "Shape name: Trapezoid\n",
      "Height: 10, Base: 6\n",
      "Side_A: 4\n",
      "Area: 50.0\n"
     ]
    }
   ],
   "source": [
    "class Shape:\n",
    "    def __init__(self, name='Default', height=0, base=0):\n",
    "        self.area = 0\n",
    "        self.name = name\n",
    "        self.height = height\n",
    "        self.base = base\n",
    "    \n",
    "    def get_height_base(self):\n",
    "        return \"Height: \" + str(self.height) + \", Base: \" + str(self.base)\n",
    "    \n",
    "    def printDetail(self):\n",
    "        return f\"Shape name: {self.name}\\n{self.get_height_base()}\"\n",
    "\n",
    "class Triangle(Shape):\n",
    "    # I am satisfied with Parent init so i wont write init again\n",
    "    def calcArea(self):\n",
    "        self.area = 0.5 * self.height * self.base\n",
    "    \n",
    "    def printDetail(self):\n",
    "        super_detail = super().printDetail()\n",
    "        return super_detail + f\"\\nArea: {self.area}\"\n",
    "\n",
    "class Trapezoid(Shape):\n",
    "    def __init__(self, name='Default', height=0, base=0, side_a=0):\n",
    "        super().__init__(name, height, base)\n",
    "        self.side_a = side_a\n",
    "    \n",
    "    def calcArea(self):\n",
    "        self.area = 0.5 * (self.base + self.side_a) * self.height\n",
    "    \n",
    "    def printDetail(self):\n",
    "        super_detail = super().printDetail()\n",
    "        return super_detail + f\"\\nSide_A: {self.side_a}\\nArea: {self.area}\"\n",
    "\n",
    "# Test cases\n",
    "tri_default = Triangle()\n",
    "tri_default.calcArea()\n",
    "print(tri_default.printDetail())\n",
    "print('--------------------------')\n",
    "\n",
    "tri = Triangle('Triangle', 10, 5)\n",
    "tri.calcArea()\n",
    "print(tri.printDetail())\n",
    "print('---------------------------')\n",
    "\n",
    "trap = Trapezoid('Trapezoid', 10, 6, 4)\n",
    "trap.calcArea()\n",
    "print(trap.printDetail())\n"
   ]
  },
  {
   "cell_type": "code",
   "execution_count": 26,
   "metadata": {},
   "outputs": [
    {
     "name": "stdout",
     "output_type": "stream",
     "text": [
      "Name: Ronaldo, Team Name: Al-Nassr\n",
      "Team Role: Striker\n",
      "Total Goal: 25, Total Played: 32\n",
      "Goal Ratio: 0.78125\n",
      "Match Earning: 25320K\n",
      "------------------------------------------\n",
      "Name: Zidane, Team Name: Real Madrid\n",
      "Team Role: Manager\n",
      "Total Win: 25\n",
      "Match Earning: 25000K\n"
     ]
    }
   ],
   "source": [
    "class SportsPerson:\n",
    "    def __init__(self, team_name, name, role):\n",
    "        self.__team = team_name\n",
    "        self.__name = name\n",
    "        self.role = role\n",
    "        self.earning_per_match = 0\n",
    "    \n",
    "    def get_name_team(self):\n",
    "        return 'Name: ' + self.__name + ', Team Name: ' + self.__team\n",
    "    def print_details(self):\n",
    "        print(f\"{self.get_name_team()}\")\n",
    "        print(f\"Team Role: {self.role}\")\n",
    "\n",
    "class Player(SportsPerson):\n",
    "    def __init__(self,team_name,name,role,total_goal,total_played):\n",
    "        super().__init__(team_name,name,role)\n",
    "        self.total_goal=total_goal\n",
    "        self.total_played=total_played\n",
    "        \n",
    "    def calculate_ratio(self):\n",
    "        return self.total_goal/self.total_played\n",
    "    def match_earning(self):\n",
    "        return str(self.total_goal*1000+ self.total_played*10 ) +\"K\"\n",
    "    def print_details(self):\n",
    "        super().print_details()\n",
    "        print(f\"Total Goal: {self.total_goal}, Total Played: {self.total_played}\")\n",
    "        print(f\"Goal Ratio: {self.calculate_ratio()}\\nMatch Earning: {self.match_earning()}\")\n",
    "        \n",
    "class Manager(SportsPerson):\n",
    "    def __init__(self,team_name,name,role,total_win):\n",
    "        super().__init__(team_name,name,role)\n",
    "        self.total_win=total_win\n",
    "    def match_earning(self):\n",
    "        return str(self.total_win*1000)+\"K\"\n",
    "    def print_details(self):\n",
    "        super().print_details()\n",
    "        print(f\"Total Win: {self.total_win}\\nMatch Earning: {self.match_earning()}\")\n",
    "    \n",
    "\n",
    "\n",
    "player_one = Player('Al-Nassr', 'Ronaldo', 'Striker', 25, 32)\n",
    "player_one.calculate_ratio()\n",
    "player_one.print_details()\n",
    "print('------------------------------------------')\n",
    "manager_one = Manager('Real Madrid', 'Zidane', 'Manager', 25)\n",
    "manager_one.print_details()\n"
   ]
  },
  {
   "cell_type": "code",
   "execution_count": null,
   "metadata": {},
   "outputs": [],
   "source": []
  }
 ],
 "metadata": {
  "kernelspec": {
   "display_name": "Python 3",
   "language": "python",
   "name": "python3"
  },
  "language_info": {
   "codemirror_mode": {
    "name": "ipython",
    "version": 3
   },
   "file_extension": ".py",
   "mimetype": "text/x-python",
   "name": "python",
   "nbconvert_exporter": "python",
   "pygments_lexer": "ipython3",
   "version": "3.11.9"
  }
 },
 "nbformat": 4,
 "nbformat_minor": 2
}
