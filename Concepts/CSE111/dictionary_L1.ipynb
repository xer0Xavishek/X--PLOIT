{
 "cells": [
  {
   "cell_type": "markdown",
   "metadata": {},
   "source": [
    "Dictionary \n",
    "- Stores value\n",
    "- Efficient hashmap\n",
    "- Key-value pair\n",
    "- Key works like list index\n",
    "- Builltin in python\n",
    "- Unordered collections of items"
   ]
  },
  {
   "cell_type": "markdown",
   "metadata": {},
   "source": [
    "Key:\n",
    "- Can be any immutable value.\n",
    "- Key is unique value.\n",
    "- Can be <string> , <tuple> , <numbers(int,float)>"
   ]
  },
  {
   "cell_type": "markdown",
   "metadata": {},
   "source": [
    "Value:\n",
    "- Value can be   <list , \n",
    "- <dictionary ,\n",
    "-  <string , \n",
    "-  <tuple , \n",
    "-  <numbers(int,float)\n",
    "-  "
   ]
  }
 ],
 "metadata": {
  "language_info": {
   "name": "python"
  }
 },
 "nbformat": 4,
 "nbformat_minor": 2
}
