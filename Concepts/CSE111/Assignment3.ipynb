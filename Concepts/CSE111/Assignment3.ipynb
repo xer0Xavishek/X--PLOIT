{
 "cells": [
  {
   "cell_type": "markdown",
   "metadata": {},
   "source": [
    "# What happens after Object Creation ?\n",
    "\n",
    "\n",
    "**>>  Init Method allocates a memory location **\n",
    "\n",
    "\n",
    "'**>>  Init method returns the location as <-self->**'\n",
    "\n",
    "\n",
    "'**>>  We manipulate the <-self-> according to our need. Eg. We create instance variables. Which can be accessed all over the class**'>>  \n",
    "\n",
    "**>> Instance variables shoulf always be inside the constructor ..**\n"
   ]
  },
  {
   "cell_type": "code",
   "execution_count": 9,
   "metadata": {},
   "outputs": [
    {
     "name": "stdout",
     "output_type": "stream",
     "text": [
      "**'**>>  We manipulate the <-self-> according to our need. Eg. We create instance variables. Which can be accessed all over the class**'**\n"
     ]
    },
    {
     "data": {
      "text/plain": [
       "\"**'**>>  We manipulate the <-self-> according to our need. Eg. We create instance variables. Which can be accessed all over the class**'**\""
      ]
     },
     "execution_count": 9,
     "metadata": {},
     "output_type": "execute_result"
    }
   ],
   "source": [
    "# Problem Solver Of Markdown comment Editing... \n",
    "def StarAdder():\n",
    "    string=(input(\"Input your Text for Bold markdown\"))\n",
    "    Modded=\"**\"\n",
    "    for i in string:\n",
    "        Modded+=i\n",
    "    Modded+=\"**\"\n",
    "    print(Modded)\n",
    "    return Modded\n",
    "\n",
    "StarAdder()"
   ]
  },
  {
   "cell_type": "markdown",
   "metadata": {},
   "source": []
  },
  {
   "cell_type": "markdown",
   "metadata": {},
   "source": []
  },
  {
   "cell_type": "markdown",
   "metadata": {},
   "source": [
    "# Task 1"
   ]
  },
  {
   "cell_type": "code",
   "execution_count": 2,
   "metadata": {},
   "outputs": [
    {
     "name": "stdout",
     "output_type": "stream",
     "text": [
      "Checking the book\n",
      "Ferguson wrote the book 'The Act'.\n",
      "This book was published in 1924.\n",
      "This book is Rejected. The book is not antique enough.\n",
      "-------------------------------------\n",
      "Nolan wrote the book 'Flame'.\n",
      "This book was published in 1932.\n",
      "This book is Rejected. The book is not antique enough.\n",
      "-------------------------------------\n",
      "Alfred wrote the book 'Norms'.\n",
      "This book was published in 1832.\n",
      "This book is Accepted. The book is stored on floor: 0\n",
      "-------------------------------------\n",
      "Samson wrote the book 'Apex'.\n",
      "This book was published in 1923.\n",
      "This book is Accepted. The book is stored on floor: 0\n",
      "-------------------------------------\n",
      "Eden wrote the book 'Habitat'.\n",
      "This book was published in 1723.\n",
      "This book is Accepted. The book is stored on floor: 1\n",
      "-------------------------------------\n",
      "Menez wrote the book 'Apocalypto'.\n",
      "This book was published in 1603.\n",
      "This book is Accepted. The book is stored on floor: 2\n"
     ]
    }
   ],
   "source": [
    "class Book:\n",
    "    \n",
    "    \n",
    "    \n",
    "    \n",
    "    def __init__(self,name,author,year):\n",
    "        print(\"Checking the book\")\n",
    "        import datetime\n",
    "        tod=datetime.date.today().year \n",
    "               \n",
    "        self.name=name\n",
    "        self.author=author\n",
    "        self.year_of_publication=year\n",
    "        self.status=\"\"\n",
    "    \n",
    "        if (tod-self.year_of_publication)<= 100:\n",
    "            self.status=\"Rejected. The book is not antique enough.\"\n",
    "        elif 100<(tod-self.year_of_publication)<200:\n",
    "            self.status=\"Accepted. The book is stored on floor: 0\"\n",
    "        elif 200<=(tod-self.year_of_publication)<400:\n",
    "            self.status=\"Accepted. The book is stored on floor: 1\"\n",
    "        elif tod>=400:\n",
    "            self.status=\"Accepted. The book is stored on floor: 2\"\n",
    "            \n",
    "\n",
    "book1= Book('The Act', 'Ferguson', 1924)\n",
    "print(f\"{book1.author} wrote the book '{book1.name}'.\")\n",
    "print(f\"This book was published in {book1.year_of_publication}.\")\n",
    "print(f\"This book is {book1.status}\")\n",
    "print(\"-------------------------------------\")\n",
    "book2= Book('Flame', 'Nolan', 1932)\n",
    "print(f\"{book2.author} wrote the book '{book2.name}'.\")\n",
    "print(f\"This book was published in {book2.year_of_publication}.\")\n",
    "print(f\"This book is {book2.status}\")\n",
    "print(\"-------------------------------------\")\n",
    "book3= Book('Norms', 'Alfred', 1832)\n",
    "print(f\"{book3.author} wrote the book '{book3.name}'.\")\n",
    "print(f\"This book was published in {book3.year_of_publication}.\")\n",
    "print(f\"This book is {book3.status}\")\n",
    "print(\"-------------------------------------\")\n",
    "book4= Book('Apex', 'Samson', 1923)\n",
    "print(f\"{book4.author} wrote the book '{book4.name}'.\")\n",
    "print(f\"This book was published in {book4.year_of_publication}.\")\n",
    "print(f\"This book is {book4.status}\")\n",
    "print(\"-------------------------------------\")\n",
    "book5= Book('Habitat', 'Eden', 1723)\n",
    "print(f\"{book5.author} wrote the book '{book5.name}'.\")\n",
    "print(f\"This book was published in {book5.year_of_publication}.\")\n",
    "print(f\"This book is {book5.status}\")\n",
    "print(\"-------------------------------------\")\n",
    "book6= Book('Apocalypto', 'Menez', 1603)\n",
    "print(f\"{book6.author} wrote the book '{book6.name}'.\")\n",
    "print(f\"This book was published in {book6.year_of_publication}.\")\n",
    "print(f\"This book is {book6.status}\")\n"
   ]
  },
  {
   "cell_type": "markdown",
   "metadata": {},
   "source": [
    "# Task 2"
   ]
  },
  {
   "cell_type": "code",
   "execution_count": 8,
   "metadata": {},
   "outputs": [
    {
     "name": "stdout",
     "output_type": "stream",
     "text": [
      "=======Team 1=======\n",
      "Pokemon 1: pikachu 90\n",
      "Pokemon 2: charmander 60\n",
      "Combined Power: 1500\n",
      "=======Team 2=======\n",
      "Pokemon 1: bulbasaur\n",
      "Pokemon 2: squirtle\n",
      "Combined Power:  1350\n",
      "program ended successfully\n"
     ]
    }
   ],
   "source": [
    "class Pokemon:\n",
    "    def __init__(self, name1 , name2, pwr1 , pwr2 , dmgrate ):#constructor [innitated after object creation]\n",
    "        self.pokemon1_name=name1\n",
    "        self.pokemon2_name=name2\n",
    "        self.pokemon1_power=pwr1\n",
    "        self.pokemon2_power=pwr2\n",
    "        self.damage_rate=dmgrate\n",
    "\n",
    "\n",
    "team_pika = Pokemon('pikachu', 'charmander', 90, 60, 10)\n",
    "print('=======Team 1=======')\n",
    "print('Pokemon 1:',team_pika.pokemon1_name, team_pika.pokemon1_power)\n",
    "print('Pokemon 2:',team_pika.pokemon2_name, team_pika.pokemon2_power)\n",
    "pika_combined_power = (team_pika.pokemon1_power + team_pika.pokemon2_power) * team_pika.damage_rate\n",
    "print('Combined Power:', pika_combined_power)\n",
    "\n",
    "team_bulb=Pokemon('bulbasaur', 'squirtle', 80, 70, 9)\n",
    "print(\"=======Team 2=======\")\n",
    "print(f\"Pokemon 1: {team_bulb.pokemon1_name}\")\n",
    "print(f\"Pokemon 2: {team_bulb.pokemon2_name}\")\n",
    "bulb_combined_power=((team_bulb.pokemon1_power+team_bulb.pokemon2_power)*team_bulb.damage_rate)\n",
    "print(\"Combined Power: \", bulb_combined_power)\n",
    "print(\"program ended successfully\")"
   ]
  },
  {
   "cell_type": "markdown",
   "metadata": {},
   "source": [
    "# Task 3"
   ]
  },
  {
   "cell_type": "markdown",
   "metadata": {},
   "source": [
    "**Part A**"
   ]
  },
  {
   "cell_type": "code",
   "execution_count": 10,
   "metadata": {},
   "outputs": [
    {
     "name": "stdout",
     "output_type": "stream",
     "text": [
      "Box 1\n",
      "Creating a Box!\n",
      "=========================\n",
      "Height: 10\n",
      "Width: 10\n",
      "Breadth: 10\n",
      "Volume of the box is 1000 cubic units.\n",
      "-------------------------\n",
      "Box 2\n",
      "Creating a Box!\n",
      "=========================\n",
      "Height: 30\n",
      "Width: 10\n",
      "Breadth: 10\n",
      "Volume of the box is 3000 cubic units.\n",
      "Updating Box 2!\n",
      "Height: 300\n",
      "Width: 10\n",
      "Breadth: 10\n",
      "Volume of the box is 30000 cubic units.\n",
      "-------------------------\n",
      "Box 3\n",
      "Height: 300\n",
      "Width: 10\n",
      "Breadth: 10\n",
      "Volume of the box is 30000 cubic units.\n"
     ]
    }
   ],
   "source": [
    "class box:\n",
    "    \n",
    "    def __init__(self,list):\n",
    "        print(\"Creating a Box!\")\n",
    "        self.height=list[0]\n",
    "        self.width=list[1]\n",
    "        self.breadth=list[2]\n",
    "        \n",
    "\n",
    "print(\"Box 1\")\n",
    "b1 = box([10,10,10])\n",
    "print(\"=========================\")\n",
    "print(\"Height:\", b1.height)\n",
    "print(\"Width:\", b1.width)\n",
    "print(\"Breadth:\", b1.breadth) \n",
    "volume = b1.height * b1.width * b1.breadth\n",
    "print(f\"Volume of the box is {volume} cubic units.\")\n",
    "print(\"-------------------------\")\n",
    "print(\"Box 2\") \n",
    "b2 = box((30,10,10))\n",
    "print(\"=========================\")\n",
    "print(\"Height:\", b2.height)\n",
    "print(\"Width:\", b2.width)\n",
    "print(\"Breadth:\", b2.breadth)\n",
    "volume = b2.height * b2.width * b2.breadth\n",
    "print(f\"Volume of the box is {volume} cubic units.\") \n",
    "b2.height = 300\n",
    "print(\"Updating Box 2!\")\n",
    "print(\"Height:\", b2.height)\n",
    "print(\"Width:\", b2.width)\n",
    "print(\"Breadth:\", b2.breadth) \n",
    "volume = b2.height * b2.width * b2.breadth\n",
    "print(f\"Volume of the box is {volume} cubic units.\")\n",
    "print(\"-------------------------\")\n",
    "print(\"Box 3\")\n",
    "b3 = b2\n",
    "print(\"Height:\", b3.height)\n",
    "print(\"Width:\", b3.width)\n",
    "print(\"Breadth:\", b3.breadth) \n",
    "volume = b3.height * b3.width * b3.breadth\n",
    "print(f\"Volume of the box is {volume} cubic units.\")\n"
   ]
  },
  {
   "cell_type": "code",
   "execution_count": 11,
   "metadata": {},
   "outputs": [
    {
     "name": "stdout",
     "output_type": "stream",
     "text": [
      "True True\n",
      "100\n"
     ]
    }
   ],
   "source": [
    "one = (b3 == b2)\n",
    "b3.width = 100\n",
    "two = (b3 == b2)\n",
    "\n",
    "print(one,two)\n",
    "print(b2.width)"
   ]
  },
  {
   "cell_type": "markdown",
   "metadata": {},
   "source": [
    "# Task 4"
   ]
  },
  {
   "cell_type": "code",
   "execution_count": 4,
   "metadata": {},
   "outputs": [
    {
     "name": "stdout",
     "output_type": "stream",
     "text": [
      "['Chicken_Cheeseburger', 2, 498, 'Fries', 3, 417, 'Soft_Drinks', 3, 150]\n",
      "\n",
      "-----------------------------------\n",
      "Item x Quantity : Price\n",
      "-------------- -------- -------\n",
      "Chicken_Cheeseburger x  2 :  498.00\n",
      "Fries                x  3 :  417.00\n",
      "Soft_Drinks          x  3 :  150.00\n",
      "-----------------------------------\n",
      "Total: 1065.00\n",
      "-----------------------------------\n"
     ]
    }
   ],
   "source": [
    "class Order:\n",
    "    def __init__(self, menu, order):\n",
    "        self.items = []\n",
    "        order_items = order.split(\", \")\n",
    "\n",
    "        for item in order_items:\n",
    "            name, quantity = item.split(\"-\")\n",
    "            quantity = int(quantity)\n",
    "            price = menu[name] * quantity\n",
    "            # self.items.extend([name, quantity, price])\n",
    "            self.items.append(name)\n",
    "            self.items.append(quantity)\n",
    "            self.items.append(price)\n",
    "        # print(order_items)\n",
    "menu = {\n",
    "'Chicken_Cheeseburger' : 249,\n",
    "'Mega_Cheeseburger' : 289,\n",
    "'Fries' : 139,\n",
    "'Hot_Wings' : 99,\n",
    "'Rice_Bowl' : 299,\n",
    "'Soft_Drinks' : 50\n",
    "}\n",
    "order1 = Order(menu, \"Chicken_Cheeseburger-2, Fries-3, Soft_Drinks-3\")\n",
    "print(order1.items)\n",
    "print()\n",
    "print('-'*35)\n",
    "print('Item x Quantity : Price')\n",
    "print('-------------- -------- -------')\n",
    "index = 0\n",
    "total = 0\n",
    "while index < len(order1.items):\n",
    "    item = order1.items[index]\n",
    "    quantity = order1.items[index+1]\n",
    "    price = order1.items[index+2]\n",
    "    print(f'{item:20} x {quantity:2} : {price:7.2f}')\n",
    "    total += price\n",
    "    index += 3 # Going to next item\n",
    "print('-'*35)\n",
    "print(f'Total: {total:7.2f}')\n",
    "print('-'*35)"
   ]
  }
 ],
 "metadata": {
  "kernelspec": {
   "display_name": "Python 3",
   "language": "python",
   "name": "python3"
  },
  "language_info": {
   "codemirror_mode": {
    "name": "ipython",
    "version": 3
   },
   "file_extension": ".py",
   "mimetype": "text/x-python",
   "name": "python",
   "nbconvert_exporter": "python",
   "pygments_lexer": "ipython3",
   "version": "3.11.8"
  }
 },
 "nbformat": 4,
 "nbformat_minor": 2
}
