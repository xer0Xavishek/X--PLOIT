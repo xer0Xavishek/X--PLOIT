{
  "cells": [
    {
      "cell_type": "markdown",
      "metadata": {
        "id": "Z79wsHIJ2DAJ"
      },
      "source": [
        "# Intro to Basic Pattern"
      ]
    },
    {
      "cell_type": "code",
      "execution_count": null,
      "metadata": {
        "colab": {
          "base_uri": "https://localhost:8080/"
        },
        "id": "JrBxier7SFYy",
        "outputId": "69dc7f1a-ccc7-4bdc-ae9b-cb7dd6e0efa0"
      },
      "outputs": [
        {
          "name": "stdout",
          "output_type": "stream",
          "text": [
            "Please enter a value  3\n",
            "123"
          ]
        }
      ],
      "source": [
        "n = int(input(\"Please enter a value  \"))\n",
        "for c in range(1,n+1):\n",
        "  print(c, end = \"\")"
      ]
    },
    {
      "cell_type": "markdown",
      "metadata": {
        "id": "Ursr0EbS2Pic"
      },
      "source": [
        "### Rectangle/Square"
      ]
    },
    {
      "cell_type": "code",
      "execution_count": 1,
      "metadata": {
        "colab": {
          "base_uri": "https://localhost:8080/"
        },
        "id": "oMD0RcVpyij8",
        "outputId": "ee019b53-d596-47cc-db4d-2f9ff19069a0"
      },
      "outputs": [
        {
          "name": "stdout",
          "output_type": "stream",
          "text": [
            "****\n",
            "****\n"
          ]
        }
      ],
      "source": [
        "row = 2 #there are 5 rows\n",
        "col = 4 #there are 3 columns\n",
        "\n",
        "#r = 2\n",
        "#c = 5\n",
        "for r in range(row):      #The outer loop controls the row\n",
        "     for c in range(col): #The inner loop controls the column\n",
        "         print(\"*\",end=\"\")    #The * is printed on the same line\n",
        "\n",
        "     print()   #Outside inner loop & inside outer loop. Adds a space after a row"
      ]
    },
    {
      "cell_type": "code",
      "execution_count": null,
      "metadata": {
        "colab": {
          "base_uri": "https://localhost:8080/"
        },
        "id": "k5CUOZ--4tZC",
        "outputId": "6853b882-8ab2-4a7d-866f-646f00a2c295"
      },
      "outputs": [
        {
          "name": "stdout",
          "output_type": "stream",
          "text": [
            "1234\n",
            "1234\n"
          ]
        }
      ],
      "source": [
        "row = 2 #there are 5 rows\n",
        "col = 4 #there are 3 columns\n",
        "\n",
        "\n",
        "for r in range(1,row+1):      #The outer loop controls the row\n",
        "     for c in range(1,col+1): #The inner loop controls the column\n",
        "         print(c,end=\"\")    #The * is printed on the same line\n",
        "\n",
        "     print()   #Outside inner loop & inside outer loop. Adds a space after a row"
      ]
    },
    {
      "cell_type": "markdown",
      "metadata": {
        "id": "sY20bQS53k0S"
      },
      "source": [
        "### Left Triangle"
      ]
    },
    {
      "cell_type": "code",
      "execution_count": null,
      "metadata": {
        "colab": {
          "base_uri": "https://localhost:8080/"
        },
        "id": "I7Ll6JDT3ndH",
        "outputId": "3e34b110-b138-4754-a5a3-25724b546e00"
      },
      "outputs": [
        {
          "name": "stdout",
          "output_type": "stream",
          "text": [
            "*\n",
            "**\n",
            "***\n",
            "****\n",
            "*****\n"
          ]
        }
      ],
      "source": [
        "n = 5 #there are 3 rows\n",
        "\n",
        "\n",
        "\n",
        "for r in range(1,n+1):      #The outer loop controls the row\n",
        "     for c in range(1,r+1): #The inner loop controls the column\n",
        "         print(\"*\",end=\"\")    #The * is printed on the same line\n",
        "\n",
        "     print()   #Outside inner loop & inside outer loop. Adds a space after a row"
      ]
    },
    {
      "cell_type": "markdown",
      "metadata": {
        "id": "IP9vCn6636CJ"
      },
      "source": [
        "# Inner Whitespace for basic pattern"
      ]
    },
    {
      "cell_type": "markdown",
      "metadata": {
        "id": "03A9HC7F5Zm8"
      },
      "source": []
    },
    {
      "cell_type": "code",
      "execution_count": null,
      "metadata": {
        "colab": {
          "base_uri": "https://localhost:8080/"
        },
        "id": "rlUcwMRg38EZ",
        "outputId": "82198241-28e1-41ab-b9a5-60b25fa512e8"
      },
      "outputs": [
        {
          "name": "stdout",
          "output_type": "stream",
          "text": [
            "*****\n",
            "*   *\n",
            "*   *\n",
            "*****\n"
          ]
        }
      ],
      "source": [
        "row = 4 #there are 5 rows\n",
        "col = 5 #there are 3 columns\n",
        "\n",
        "\n",
        "for r in range(1,row+1):      #The outer loop controls the row\n",
        "     for c in range(1,col+1): #The inner loop controls the column\n",
        "         if r==1 or r==row or c==1 or c==col:\n",
        "             print(\"*\",end=\"\")    #The * is printed on the same line\n",
        "         else:\n",
        "             print(\" \",end=\"\")\n",
        "\n",
        "     print()   #Outside inner loop & inside outer loop. Adds a space after a row"
      ]
    },
    {
      "cell_type": "markdown",
      "metadata": {
        "id": "71iLdOxl5aqx"
      },
      "source": []
    },
    {
      "cell_type": "code",
      "execution_count": null,
      "metadata": {
        "colab": {
          "base_uri": "https://localhost:8080/"
        },
        "id": "HFs3z-I05YoZ",
        "outputId": "54aa62f5-e6a0-47a1-f1f5-dccd6c1f723a"
      },
      "outputs": [
        {
          "name": "stdout",
          "output_type": "stream",
          "text": [
            "*\n",
            "**\n",
            "* *\n",
            "*  *\n",
            "*****\n"
          ]
        }
      ],
      "source": [
        "row = 5 #there are 5 rows\n",
        "\n",
        "\n",
        "\n",
        "for r in range(1,row+1):      #The outer loop controls the row\n",
        "     for c in range(1,r+1): #The inner loop controls the column\n",
        "       if r==1 or r==row or c==1 or c==r:\n",
        "            print(\"*\",end=\"\")    #The * is printed on the same line\n",
        "       else:\n",
        "            print(\" \",end=\"\")    #The * is printed on the same line\n",
        "\n",
        "     print()   #Outside inner loop & inside outer loop. Adds a space after a row"
      ]
    },
    {
      "cell_type": "markdown",
      "metadata": {
        "id": "GXCvvJyT675z"
      },
      "source": []
    },
    {
      "cell_type": "code",
      "execution_count": null,
      "metadata": {
        "colab": {
          "base_uri": "https://localhost:8080/"
        },
        "id": "_oMSTkGR68Bx",
        "outputId": "9482c690-dea1-4974-a5fc-6128a18e88d4"
      },
      "outputs": [
        {
          "name": "stdout",
          "output_type": "stream",
          "text": [
            "   *\n",
            "  **\n",
            " ***\n",
            "****\n"
          ]
        }
      ],
      "source": [
        "row = 4 #there are 5 rows\n",
        "\n",
        "#r = 4\n",
        "#k = 1\n",
        "for r in range(1,row+1):      #The outer loop controls the row\n",
        "     for k in range(1,row-r+1):\n",
        "       print(\" \",end=\"\")\n",
        "     for c in range(1,r+1):\n",
        "          print(\"*\",end=\"\")    #The * is printed on the same line\n",
        "\n",
        "     print()"
      ]
    },
    {
      "cell_type": "code",
      "execution_count": null,
      "metadata": {
        "colab": {
          "base_uri": "https://localhost:8080/"
        },
        "id": "YtcqF4GQsO6G",
        "outputId": "f99e1f57-18f8-4154-a695-1e2f24274b4e"
      },
      "outputs": [
        {
          "name": "stdout",
          "output_type": "stream",
          "text": [
            "1\n",
            "123\n",
            "12345\n",
            "1234567\n"
          ]
        }
      ],
      "source": [
        "row = 4 #there are 5 rows\n",
        "\n",
        "\n",
        "\n",
        "for r in range(1,row+1):      #The outer loop controls the row\n",
        "     for c in range(1,2*r): #The inner loop controls the column\n",
        "         print(c,end=\"\")    #The * is printed on the same line\n",
        "\n",
        "     print()"
      ]
    },
    {
      "cell_type": "code",
      "execution_count": null,
      "metadata": {
        "colab": {
          "base_uri": "https://localhost:8080/"
        },
        "id": "6WRerwf7sdhT",
        "outputId": "8dca80a6-42c7-498d-f083-c45a39ef3899"
      },
      "outputs": [
        {
          "name": "stdout",
          "output_type": "stream",
          "text": [
            "  1\n",
            " 123\n",
            "12345\n"
          ]
        }
      ],
      "source": [
        "row = 3 #there are 4 rows\n",
        "\n",
        "\n",
        "\n",
        "for r in range(1,row+1):\n",
        "     for k in range(1,row-r+1):\n",
        "       print(\" \",end=\"\")     #The outer loop controls the row\n",
        "     for c in range(1,2*r): #The inner loop controls the column\n",
        "         print(c,end=\"\")    #The * is printed on the same line\n",
        "\n",
        "     print()"
      ]
    },
    {
      "cell_type": "markdown",
      "metadata": {
        "id": "WBf4rihURDbE"
      },
      "source": [
        "### Extra"
      ]
    },
    {
      "cell_type": "code",
      "execution_count": null,
      "metadata": {
        "colab": {
          "base_uri": "https://localhost:8080/"
        },
        "id": "A-le51HcQdDG",
        "outputId": "4c9f128b-daff-49a2-cb6a-d52c27dc3f08"
      },
      "outputs": [
        {
          "name": "stdout",
          "output_type": "stream",
          "text": [
            "1,1\n",
            "1,2\n",
            "1,3\n",
            "2,1\n",
            "2,2\n",
            "2,3\n"
          ]
        }
      ],
      "source": [
        "\n",
        "for i in range(1,3):\n",
        "    for j in range(1,4):\n",
        "       print(f\"{i},{j}\")\n"
      ]
    }
  ],
  "metadata": {
    "colab": {
      "provenance": []
    },
    "kernelspec": {
      "display_name": "Python 3",
      "name": "python3"
    },
    "language_info": {
      "codemirror_mode": {
        "name": "ipython",
        "version": 3
      },
      "file_extension": ".py",
      "mimetype": "text/x-python",
      "name": "python",
      "nbconvert_exporter": "python",
      "pygments_lexer": "ipython3",
      "version": "3.11.6"
    }
  },
  "nbformat": 4,
  "nbformat_minor": 0
}
