{
  "nbformat": 4,
  "nbformat_minor": 0,
  "metadata": {
    "colab": {
      "provenance": []
    },
    "kernelspec": {
      "name": "python3",
      "display_name": "Python 3"
    },
    "language_info": {
      "name": "python"
    }
  },
  "cells": [
    {
      "cell_type": "markdown",
      "source": [
        "# Intro to Basic Pattern"
      ],
      "metadata": {
        "id": "Z79wsHIJ2DAJ"
      }
    },
    {
      "cell_type": "code",
      "source": [
        "n = int(input(\"Please enter a value  \"))\n",
        "for c in range(1,n+1):\n",
        "  print(c, end = \"\")"
      ],
      "metadata": {
        "colab": {
          "base_uri": "https://localhost:8080/"
        },
        "id": "JrBxier7SFYy",
        "outputId": "69dc7f1a-ccc7-4bdc-ae9b-cb7dd6e0efa0"
      },
      "execution_count": null,
      "outputs": [
        {
          "output_type": "stream",
          "name": "stdout",
          "text": [
            "Please enter a value  3\n",
            "123"
          ]
        }
      ]
    },
    {
      "cell_type": "markdown",
      "source": [
        "### Rectangle/Square"
      ],
      "metadata": {
        "id": "Ursr0EbS2Pic"
      }
    },
    {
      "cell_type": "code",
      "execution_count": null,
      "metadata": {
        "colab": {
          "base_uri": "https://localhost:8080/"
        },
        "id": "oMD0RcVpyij8",
        "outputId": "ee019b53-d596-47cc-db4d-2f9ff19069a0"
      },
      "outputs": [
        {
          "output_type": "stream",
          "name": "stdout",
          "text": [
            "****\n",
            "****\n"
          ]
        }
      ],
      "source": [
        "row = 2 #there are 5 rows\n",
        "col = 4 #there are 3 columns\n",
        "\n",
        "#r = 2\n",
        "#c = 5\n",
        "for r in range(1,row+1):      #The outer loop controls the row\n",
        "     for c in range(1,col+1): #The inner loop controls the column\n",
        "         print(\"*\",end=\"\")    #The * is printed on the same line\n",
        "\n",
        "     print()   #Outside inner loop & inside outer loop. Adds a space after a row"
      ]
    },
    {
      "cell_type": "code",
      "source": [
        "row = 2 #there are 5 rows\n",
        "col = 4 #there are 3 columns\n",
        "\n",
        "\n",
        "for r in range(1,row+1):      #The outer loop controls the row\n",
        "     for c in range(1,col+1): #The inner loop controls the column\n",
        "         print(c,end=\"\")    #The * is printed on the same line\n",
        "\n",
        "     print()   #Outside inner loop & inside outer loop. Adds a space after a row"
      ],
      "metadata": {
        "colab": {
          "base_uri": "https://localhost:8080/"
        },
        "id": "k5CUOZ--4tZC",
        "outputId": "6853b882-8ab2-4a7d-866f-646f00a2c295"
      },
      "execution_count": null,
      "outputs": [
        {
          "output_type": "stream",
          "name": "stdout",
          "text": [
            "1234\n",
            "1234\n"
          ]
        }
      ]
    },
    {
      "cell_type": "markdown",
      "source": [
        "### Left Triangle"
      ],
      "metadata": {
        "id": "sY20bQS53k0S"
      }
    },
    {
      "cell_type": "code",
      "source": [
        "n = 5 #there are 3 rows\n",
        "\n",
        "\n",
        "\n",
        "for r in range(1,n+1):      #The outer loop controls the row\n",
        "     for c in range(1,r+1): #The inner loop controls the column\n",
        "         print(\"*\",end=\"\")    #The * is printed on the same line\n",
        "\n",
        "     print()   #Outside inner loop & inside outer loop. Adds a space after a row"
      ],
      "metadata": {
        "colab": {
          "base_uri": "https://localhost:8080/"
        },
        "id": "I7Ll6JDT3ndH",
        "outputId": "3e34b110-b138-4754-a5a3-25724b546e00"
      },
      "execution_count": null,
      "outputs": [
        {
          "output_type": "stream",
          "name": "stdout",
          "text": [
            "*\n",
            "**\n",
            "***\n",
            "****\n",
            "*****\n"
          ]
        }
      ]
    },
    {
      "cell_type": "markdown",
      "source": [
        "# Inner Whitespace for basic pattern"
      ],
      "metadata": {
        "id": "IP9vCn6636CJ"
      }
    },
    {
      "cell_type": "markdown",
      "source": [],
      "metadata": {
        "id": "03A9HC7F5Zm8"
      }
    },
    {
      "cell_type": "code",
      "source": [
        "row = 4 #there are 5 rows\n",
        "col = 5 #there are 3 columns\n",
        "\n",
        "\n",
        "for r in range(1,row+1):      #The outer loop controls the row\n",
        "     for c in range(1,col+1): #The inner loop controls the column\n",
        "         if r==1 or r==row or c==1 or c==col:\n",
        "             print(\"*\",end=\"\")    #The * is printed on the same line\n",
        "         else:\n",
        "             print(\" \",end=\"\")\n",
        "\n",
        "     print()   #Outside inner loop & inside outer loop. Adds a space after a row"
      ],
      "metadata": {
        "colab": {
          "base_uri": "https://localhost:8080/"
        },
        "id": "rlUcwMRg38EZ",
        "outputId": "82198241-28e1-41ab-b9a5-60b25fa512e8"
      },
      "execution_count": null,
      "outputs": [
        {
          "output_type": "stream",
          "name": "stdout",
          "text": [
            "*****\n",
            "*   *\n",
            "*   *\n",
            "*****\n"
          ]
        }
      ]
    },
    {
      "cell_type": "markdown",
      "source": [],
      "metadata": {
        "id": "71iLdOxl5aqx"
      }
    },
    {
      "cell_type": "code",
      "source": [
        "row = 5 #there are 5 rows\n",
        "\n",
        "\n",
        "\n",
        "for r in range(1,row+1):      #The outer loop controls the row\n",
        "     for c in range(1,r+1): #The inner loop controls the column\n",
        "       if r==1 or r==row or c==1 or c==r:\n",
        "            print(\"*\",end=\"\")    #The * is printed on the same line\n",
        "       else:\n",
        "            print(\" \",end=\"\")    #The * is printed on the same line\n",
        "\n",
        "     print()   #Outside inner loop & inside outer loop. Adds a space after a row"
      ],
      "metadata": {
        "colab": {
          "base_uri": "https://localhost:8080/"
        },
        "id": "HFs3z-I05YoZ",
        "outputId": "54aa62f5-e6a0-47a1-f1f5-dccd6c1f723a"
      },
      "execution_count": null,
      "outputs": [
        {
          "output_type": "stream",
          "name": "stdout",
          "text": [
            "*\n",
            "**\n",
            "* *\n",
            "*  *\n",
            "*****\n"
          ]
        }
      ]
    },
    {
      "cell_type": "markdown",
      "source": [],
      "metadata": {
        "id": "GXCvvJyT675z"
      }
    },
    {
      "cell_type": "code",
      "source": [
        "row = 4 #there are 5 rows\n",
        "\n",
        "#r = 4\n",
        "#k = 1\n",
        "for r in range(1,row+1):      #The outer loop controls the row\n",
        "     for k in range(1,row-r+1):\n",
        "       print(\" \",end=\"\")\n",
        "     for c in range(1,r+1):\n",
        "          print(\"*\",end=\"\")    #The * is printed on the same line\n",
        "\n",
        "     print()"
      ],
      "metadata": {
        "id": "_oMSTkGR68Bx",
        "colab": {
          "base_uri": "https://localhost:8080/"
        },
        "outputId": "9482c690-dea1-4974-a5fc-6128a18e88d4"
      },
      "execution_count": null,
      "outputs": [
        {
          "output_type": "stream",
          "name": "stdout",
          "text": [
            "   *\n",
            "  **\n",
            " ***\n",
            "****\n"
          ]
        }
      ]
    },
    {
      "cell_type": "code",
      "source": [
        "row = 4 #there are 5 rows\n",
        "\n",
        "\n",
        "\n",
        "for r in range(1,row+1):      #The outer loop controls the row\n",
        "     for c in range(1,2*r): #The inner loop controls the column\n",
        "         print(c,end=\"\")    #The * is printed on the same line\n",
        "\n",
        "     print()"
      ],
      "metadata": {
        "colab": {
          "base_uri": "https://localhost:8080/"
        },
        "id": "YtcqF4GQsO6G",
        "outputId": "f99e1f57-18f8-4154-a695-1e2f24274b4e"
      },
      "execution_count": null,
      "outputs": [
        {
          "output_type": "stream",
          "name": "stdout",
          "text": [
            "1\n",
            "123\n",
            "12345\n",
            "1234567\n"
          ]
        }
      ]
    },
    {
      "cell_type": "code",
      "source": [
        "row = 3 #there are 4 rows\n",
        "\n",
        "\n",
        "\n",
        "for r in range(1,row+1):\n",
        "     for k in range(1,row-r+1):\n",
        "       print(\" \",end=\"\")     #The outer loop controls the row\n",
        "     for c in range(1,2*r): #The inner loop controls the column\n",
        "         print(c,end=\"\")    #The * is printed on the same line\n",
        "\n",
        "     print()"
      ],
      "metadata": {
        "colab": {
          "base_uri": "https://localhost:8080/"
        },
        "id": "6WRerwf7sdhT",
        "outputId": "8dca80a6-42c7-498d-f083-c45a39ef3899"
      },
      "execution_count": null,
      "outputs": [
        {
          "output_type": "stream",
          "name": "stdout",
          "text": [
            "  1\n",
            " 123\n",
            "12345\n"
          ]
        }
      ]
    },
    {
      "cell_type": "markdown",
      "source": [
        "### Extra"
      ],
      "metadata": {
        "id": "WBf4rihURDbE"
      }
    },
    {
      "cell_type": "code",
      "source": [
        "\n",
        "for i in range(1,3):\n",
        "    for j in range(1,4):\n",
        "       print(f\"{i},{j}\")\n"
      ],
      "metadata": {
        "colab": {
          "base_uri": "https://localhost:8080/"
        },
        "id": "A-le51HcQdDG",
        "outputId": "4c9f128b-daff-49a2-cb6a-d52c27dc3f08"
      },
      "execution_count": null,
      "outputs": [
        {
          "output_type": "stream",
          "name": "stdout",
          "text": [
            "1,1\n",
            "1,2\n",
            "1,3\n",
            "2,1\n",
            "2,2\n",
            "2,3\n"
          ]
        }
      ]
    }
  ]
}