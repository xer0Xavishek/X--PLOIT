{
  "nbformat": 4,
  "nbformat_minor": 0,
  "metadata": {
    "colab": {
      "provenance": []
    },
    "kernelspec": {
      "name": "python3",
      "display_name": "Python 3"
    },
    "language_info": {
      "name": "python"
    }
  },
  "cells": [
    {
      "cell_type": "code",
      "execution_count": null,
      "metadata": {
        "id": "RmG9SHc-A_NY"
      },
      "outputs": [],
      "source": [
        "import numpy as np"
      ]
    },
    {
      "cell_type": "code",
      "source": [
        "n = int(input())\n",
        "\n",
        "array1 = np.zeros(shape = n, dtype = int)  #[0. 0. 0.]\n",
        "\n",
        "for i in range(n):\n",
        "     array1[i] = int(input())  #[7. 8.  9.]\n",
        "\n",
        "print(array1)"
      ],
      "metadata": {
        "colab": {
          "base_uri": "https://localhost:8080/"
        },
        "id": "tNiPHOBCBCVU",
        "outputId": "ebd26f7c-522d-4155-f15f-d05c936963da"
      },
      "execution_count": null,
      "outputs": [
        {
          "output_type": "stream",
          "name": "stdout",
          "text": [
            "3\n",
            "7\n",
            "8\n",
            "9\n",
            "[7 8 9]\n"
          ]
        }
      ]
    },
    {
      "cell_type": "code",
      "source": [
        "var = int(input())\n",
        "\n",
        "array2 = np.zeros(n+1,dtype = int) # [0 0 0 0]\n",
        "\n",
        "for i in range(n):\n",
        "     array2[i] = array1[i]  # [7 8 9 0]\n",
        "\n",
        "print(array2)\n",
        "\n",
        "array2[- 1] = var # [7 8 9 4]\n",
        "\n",
        "print(array2)"
      ],
      "metadata": {
        "colab": {
          "base_uri": "https://localhost:8080/"
        },
        "id": "CpItp1dqCwut",
        "outputId": "a0f54573-8bf2-4f26-de6c-982e95773b31"
      },
      "execution_count": null,
      "outputs": [
        {
          "output_type": "stream",
          "name": "stdout",
          "text": [
            "4\n",
            "[7 8 9 0]\n",
            "[7 8 9 4]\n"
          ]
        }
      ]
    },
    {
      "cell_type": "code",
      "source": [
        "print(len(array1))\n",
        "print(len(array2))"
      ],
      "metadata": {
        "colab": {
          "base_uri": "https://localhost:8080/"
        },
        "id": "F03jo7K2DvK_",
        "outputId": "59c2885d-f17c-4c21-9db6-e04647ab3842"
      },
      "execution_count": null,
      "outputs": [
        {
          "output_type": "stream",
          "name": "stdout",
          "text": [
            "3\n",
            "4\n"
          ]
        }
      ]
    },
    {
      "cell_type": "markdown",
      "source": [
        "### T3"
      ],
      "metadata": {
        "id": "PFwjv5L5E4fQ"
      }
    },
    {
      "cell_type": "code",
      "source": [
        "def reverseArray(arr):\n",
        "\n",
        "     #rev =  - 1\n",
        "  for i in range(n//2):\n",
        "\n",
        "        #swapping of element at i and rev\n",
        "        rev -= 1"
      ],
      "metadata": {
        "id": "PjVs6OVmFKP8"
      },
      "execution_count": null,
      "outputs": []
    },
    {
      "cell_type": "code",
      "source": [
        "arr1 = np.array([11,12,13])\n",
        "\n",
        "flag = False\n",
        "\n",
        "for i in range(0,len(arr1)-1):\n",
        "    for j in range(i+1, len(arr1)):\n",
        "         arr1[i] +arr1[j]\n",
        "         #if summation == target ?\n",
        "             # flag = True\n",
        "             #print the summation\n",
        "\n",
        "\n",
        "#if flag false, then print pair not found"
      ],
      "metadata": {
        "id": "YR-L8JAvK39s"
      },
      "execution_count": null,
      "outputs": []
    },
    {
      "cell_type": "markdown",
      "source": [
        "### T5"
      ],
      "metadata": {
        "id": "F0Y1_Mz1MMKv"
      }
    },
    {
      "cell_type": "code",
      "source": [
        "a = 5  # 10\n",
        "b = 10 # 10\n",
        "\n",
        "tem = a #tem = 5\n",
        "a=b\n",
        "b=tem\n",
        "print(a,b)\n"
      ],
      "metadata": {
        "colab": {
          "base_uri": "https://localhost:8080/"
        },
        "id": "wFBTBL3qf62a",
        "outputId": "804acc4d-3dd5-4f78-a8b4-0763cc49e9f5"
      },
      "execution_count": null,
      "outputs": [
        {
          "output_type": "stream",
          "name": "stdout",
          "text": [
            "10 5\n"
          ]
        }
      ]
    },
    {
      "cell_type": "code",
      "source": [
        "a = 5\n",
        "b = 10\n",
        "\n",
        "a,b = b,a\n",
        "print(a,b)"
      ],
      "metadata": {
        "colab": {
          "base_uri": "https://localhost:8080/"
        },
        "id": "yy1f_fIrgVFv",
        "outputId": "df018800-e5d9-45e5-8a3b-bf2aedadbe3e"
      },
      "execution_count": null,
      "outputs": [
        {
          "output_type": "stream",
          "name": "stdout",
          "text": [
            "10 5\n"
          ]
        }
      ]
    },
    {
      "cell_type": "code",
      "source": [
        "vec1 = np.array([1,2,3])\n",
        "vec2 = np.array([4,5,6])\n",
        "\n",
        "sum = 0\n",
        "\n",
        "\n",
        "for i in range(len(vec1)):\n",
        "\n",
        "   sum +=  vec1[i] * vec2[i]\n",
        "\n",
        "\n",
        "print(sum)\n",
        "\n",
        "#if even:\n",
        "#  swap element in even index\n",
        "if sum % 2 ==0:\n",
        "\n",
        "      for i in range(len(vec1)):\n",
        "\n",
        "            if i %2 == 0:\n",
        "                vec1[i], vec2[i] = vec2[i],vec1[i]\n",
        "\n",
        "\n",
        "#else\n",
        "#swap element in odd index"
      ],
      "metadata": {
        "colab": {
          "base_uri": "https://localhost:8080/"
        },
        "id": "o8ScoGp6MLyk",
        "outputId": "8dd47275-116e-4921-dfa6-47800a508aa5"
      },
      "execution_count": null,
      "outputs": [
        {
          "output_type": "stream",
          "name": "stdout",
          "text": [
            "32\n"
          ]
        }
      ]
    },
    {
      "cell_type": "code",
      "source": [
        "a=1\n",
        "b = 5\n",
        "a, b = b,a\n",
        "\n",
        "print(a,b)"
      ],
      "metadata": {
        "colab": {
          "base_uri": "https://localhost:8080/"
        },
        "id": "uwDwAJaGzXIR",
        "outputId": "227b4da1-3488-4d72-c457-7666eaf2e575"
      },
      "execution_count": null,
      "outputs": [
        {
          "output_type": "stream",
          "name": "stdout",
          "text": [
            "5 1\n"
          ]
        }
      ]
    },
    {
      "cell_type": "markdown",
      "source": [
        "T7"
      ],
      "metadata": {
        "id": "jDqKONeB37TM"
      }
    },
    {
      "cell_type": "code",
      "source": [
        "array_2d = np.array([ [1, 2, 3],  [3, 4, 5] ])\n",
        "\n",
        "new_array = np.zeros(shape = array_2d.size)  #[1 2 0 0 0 0]\n",
        "\n",
        "idx = 0 #idx = 1\n",
        "for r in range(0,2):\n",
        "    for c in range(0, 3):\n",
        "\n",
        "       new_array[idx] = array_2d[r][c]\n",
        "       idx +=1\n",
        "\n",
        "\n",
        "print(new_array)"
      ],
      "metadata": {
        "colab": {
          "base_uri": "https://localhost:8080/"
        },
        "id": "YAWVwu_-362a",
        "outputId": "6d7c985d-e79d-4bf9-faed-77042fb1f700"
      },
      "execution_count": null,
      "outputs": [
        {
          "output_type": "stream",
          "name": "stdout",
          "text": [
            "[1. 2. 3. 3. 4. 5.]\n"
          ]
        }
      ]
    },
    {
      "cell_type": "markdown",
      "source": [],
      "metadata": {
        "id": "CUAZNJ5pQk9o"
      }
    },
    {
      "cell_type": "code",
      "source": [
        "array_2d = np.array([[1,0,0], [0,1,0] ,[0,0,1]])\n",
        "\n",
        "print(array_2d)\n",
        "\n",
        "flag = True\n",
        "for r in range(0,3):\n",
        "    for c in range(0, 3):\n",
        "\n",
        "        if r==c: #diagonal\n",
        "            if array_2d[r][c] != 1:\n",
        "               flag = False\n",
        "\n",
        "\n",
        "        else:  #not a diagonal\n",
        "            if array_2d[r][c] != 0:\n",
        "               flag = False\n",
        "\n",
        "print(flag)"
      ],
      "metadata": {
        "colab": {
          "base_uri": "https://localhost:8080/"
        },
        "id": "ZNAABHq1QlaY",
        "outputId": "a833e101-9c1f-43c6-f8be-94d5eff3d551"
      },
      "execution_count": null,
      "outputs": [
        {
          "output_type": "stream",
          "name": "stdout",
          "text": [
            "[[1 0 0]\n",
            " [0 1 0]\n",
            " [0 0 1]]\n",
            "True\n"
          ]
        }
      ]
    },
    {
      "cell_type": "markdown",
      "source": [],
      "metadata": {
        "id": "30lRPi50ScSo"
      }
    },
    {
      "cell_type": "code",
      "source": [
        "print(abs(1-2))\n",
        "print(abs(2-1))"
      ],
      "metadata": {
        "colab": {
          "base_uri": "https://localhost:8080/"
        },
        "id": "mygPPEHCScY0",
        "outputId": "b61125ea-daba-4dee-c884-387ef0f40601"
      },
      "execution_count": null,
      "outputs": [
        {
          "output_type": "stream",
          "name": "stdout",
          "text": [
            "1\n",
            "1\n"
          ]
        }
      ]
    },
    {
      "cell_type": "code",
      "source": [
        "array_2d = np.array([[1,0,0], [0,1,0] ,[0,0,1]])\n",
        "\n",
        "print(array_2d)\n",
        "\n",
        "pri_dia = 0\n",
        "#variable for secondary diagonal\n",
        "\n",
        "\n",
        "for r in range(0,3):\n",
        "    for c in range(0, 3):\n",
        "\n",
        "        if r==c: #primary diagonal\n",
        "           pri_dia += array_2d[r][c]\n",
        "\n",
        "        elif r+c == array_2d.shape[0]-1:#secondary diagonal\n",
        "\n",
        "             #secondary diagonal addition\n",
        "\n",
        "\n",
        "#absolute value"
      ],
      "metadata": {
        "id": "4lHMb5c4S23E"
      },
      "execution_count": null,
      "outputs": []
    },
    {
      "cell_type": "code",
      "source": [
        "abs(2-6)"
      ],
      "metadata": {
        "colab": {
          "base_uri": "https://localhost:8080/"
        },
        "id": "vr_xUN8Db28X",
        "outputId": "b5be0742-0500-4a28-b55a-7c0ca465d419"
      },
      "execution_count": null,
      "outputs": [
        {
          "output_type": "execute_result",
          "data": {
            "text/plain": [
              "4"
            ]
          },
          "metadata": {},
          "execution_count": 6
        }
      ]
    },
    {
      "cell_type": "code",
      "source": [
        "A = np.array([[1,2,3,4],\n",
        "                        [1,4,9,16]])\n",
        "\n",
        "row = A.shape[0]\n",
        "col = A.shape[1]"
      ],
      "metadata": {
        "id": "KkQQcH4R-wC4"
      },
      "execution_count": null,
      "outputs": []
    },
    {
      "cell_type": "code",
      "source": [
        "print(row,col)"
      ],
      "metadata": {
        "colab": {
          "base_uri": "https://localhost:8080/"
        },
        "id": "w0zFP6G_-5I_",
        "outputId": "85e5017a-3b47-4f55-9cd0-969c001f0c31"
      },
      "execution_count": null,
      "outputs": [
        {
          "output_type": "stream",
          "name": "stdout",
          "text": [
            "2 4\n"
          ]
        }
      ]
    },
    {
      "cell_type": "code",
      "source": [
        "transpose_2d = np.zeros(shape = (col,row))\n",
        "\n",
        "transpose_2d"
      ],
      "metadata": {
        "colab": {
          "base_uri": "https://localhost:8080/"
        },
        "id": "Wb2cfj9r-9v4",
        "outputId": "70b4550e-36c7-405c-ecd1-6d9d19cf987a"
      },
      "execution_count": null,
      "outputs": [
        {
          "output_type": "execute_result",
          "data": {
            "text/plain": [
              "array([[0., 0.],\n",
              "       [0., 0.],\n",
              "       [0., 0.],\n",
              "       [0., 0.]])"
            ]
          },
          "metadata": {},
          "execution_count": 42
        }
      ]
    },
    {
      "cell_type": "code",
      "source": [
        "for c in range(0, col):\n",
        "      for r in range(0,row):\n",
        "        transpose_2d[c][r] = A[r][c]"
      ],
      "metadata": {
        "id": "il77y22O_R4K"
      },
      "execution_count": null,
      "outputs": []
    },
    {
      "cell_type": "code",
      "source": [
        "transpose_2d"
      ],
      "metadata": {
        "colab": {
          "base_uri": "https://localhost:8080/"
        },
        "id": "LtNMXWNuAPpW",
        "outputId": "d2471614-0c82-41e1-d99f-2b7642cf7180"
      },
      "execution_count": null,
      "outputs": [
        {
          "output_type": "execute_result",
          "data": {
            "text/plain": [
              "array([[ 1.,  1.],\n",
              "       [ 2.,  4.],\n",
              "       [ 3.,  9.],\n",
              "       [ 4., 16.]])"
            ]
          },
          "metadata": {},
          "execution_count": 45
        }
      ]
    },
    {
      "cell_type": "markdown",
      "source": [],
      "metadata": {
        "id": "lHHlN6xaYcBA"
      }
    },
    {
      "cell_type": "code",
      "source": [
        "round(23.412341,2)"
      ],
      "metadata": {
        "colab": {
          "base_uri": "https://localhost:8080/"
        },
        "id": "8wyvsbdgYcZZ",
        "outputId": "c7ae0118-e59a-4a27-c248-49d9d1c11277"
      },
      "execution_count": null,
      "outputs": [
        {
          "output_type": "execute_result",
          "data": {
            "text/plain": [
              "23.41"
            ]
          },
          "metadata": {},
          "execution_count": 23
        }
      ]
    },
    {
      "cell_type": "code",
      "source": [
        "abs(1)"
      ],
      "metadata": {
        "colab": {
          "base_uri": "https://localhost:8080/"
        },
        "id": "3HAXH1WJG29R",
        "outputId": "d591fea0-1d89-422b-8523-ce49ebcfaa0a"
      },
      "execution_count": null,
      "outputs": [
        {
          "output_type": "execute_result",
          "data": {
            "text/plain": [
              "1"
            ]
          },
          "metadata": {},
          "execution_count": 47
        }
      ]
    }
  ]
}