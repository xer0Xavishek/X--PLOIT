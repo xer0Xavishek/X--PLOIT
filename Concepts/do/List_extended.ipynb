{
 "cells": [
  {
   "cell_type": "code",
   "execution_count": null,
   "metadata": {},
   "outputs": [],
   "source": [
    "#this programme   0 1 2  3 4 5   6 7 8 9 10\n",
    "#               -11 -10 -9 -8 -7 -6 -5 -4 -3 -2 -1\n",
    "usr = input(\" \") #[  5   , -5  , 100 , 1   ,  0  ]\n",
    "\n",
    "usr = usr[1:-1] #5, -5, 100, 1, 0  swaping the second element but why>? x \n",
    "                     #wrong!! we are Just removing the first and last element of the list \"[\" and  \"]\" \n",
    "#                       Only taking the elements in between them \"inclusive comma\" \n",
    "#print(usr)\n",
    "\n",
    "\n",
    "final = []\n",
    "\n",
    "res = \"\"\n",
    "\n",
    "for i in usr:\n",
    "\n",
    "    if i == \",\":\n",
    "       final.append(int(res))  #final += [int(res)]\n",
    "       res = \"\"\n",
    "\n",
    "    else:\n",
    "       res += i\n",
    "\n",
    "final.append(int(res))\n",
    "\n",
    "#print(final)\n",
    "\n",
    "reverse = []\n",
    "\n",
    "for i in range(len(final) -1 , -1 ,-1):            # using for loop method to reverse the list\n",
    "   reverse.append(final[i])\n",
    "\n",
    "print(reverse)"
   ]
  },
  {
   "cell_type": "code",
   "execution_count": 1,
   "metadata": {},
   "outputs": [
    {
     "name": "stdout",
     "output_type": "stream",
     "text": [
      "[5, -5, 100, 1, 0]\n",
      "[100]\n"
     ]
    }
   ],
   "source": [
    "usr = input(\" \") #5, -5, 100, 1, 0\n",
    "\n",
    "\n",
    "#print(usr)\n",
    "\n",
    "\n",
    "final = []\n",
    "\n",
    "res = \"\"\n",
    "\n",
    "for i in usr:\n",
    "\n",
    "    if i == \",\":\n",
    "       final.append(int(res))  #final += [int(res)]\n",
    "       res = \"\"\n",
    "\n",
    "    else:\n",
    "       res += i\n",
    "\n",
    "final.append(int(res))\n",
    "\n",
    "print(final)\n",
    "\n",
    "\n",
    "\n",
    "if (len(final) >= 4):\n",
    "\n",
    "   print(final[2:-2])  \n",
    "\n",
    "else:\n",
    "   print(\"Not possible\")"
   ]
  },
  {
   "cell_type": "code",
   "execution_count": null,
   "metadata": {},
   "outputs": [],
   "source": [
    "l1 = [1, 4, 3, 2, 5]\n",
    "l2 = [8, 7, 6, 9]\n",
    "\n",
    "\n",
    "flag =False  #F\n",
    "\n",
    "for elem in l1:\n",
    "   if elem in l2:\n",
    "     flag = True\n",
    "\n",
    "\n",
    "print(flag)"
   ]
  },
  {
   "cell_type": "code",
   "execution_count": null,
   "metadata": {},
   "outputs": [],
   "source": [
    "list1 = [1, 2, 3, 4, 5, 6, 7, 8, 9]\n",
    "\n",
    "final = []\n",
    "\n",
    "for elem in list1:\n",
    "\n",
    "   if elem % 2 == 0:\n",
    "      final.append(elem)\n",
    "\n",
    "print(final)\n",
    "\n",
    "#loop over list2 and find even elements"
   ]
  },
  {
   "cell_type": "code",
   "execution_count": 2,
   "metadata": {},
   "outputs": [
    {
     "name": "stdout",
     "output_type": "stream",
     "text": [
      "[['4', '3', '2', '5', '6'], [''], [''], [''], ['']]\n"
     ]
    }
   ],
   "source": [
    "final = []\n",
    "\n",
    "\n",
    "for i in range(5):\n",
    "                  usr = input()[1:-1]  #[syed,4.0] --> syed,4.0\n",
    "\n",
    "                  inter = []\n",
    "\n",
    "                  res = \"\"\n",
    "\n",
    "                  for chr in usr:\n",
    "\n",
    "                      if chr == \",\":\n",
    "                        inter .append(res)  #final += [(res)]\n",
    "                        res = \"\"\n",
    "\n",
    "                      else:\n",
    "                        res += chr\n",
    "\n",
    "                  inter.append(res)\n",
    "\n",
    "                  #print(inter) #['syed','4.0']\n",
    "\n",
    "                  final.append(inter) #[ ['arif','3.7'] ,['syed','4.0'] ]\n",
    "print(final)"
   ]
  },
  {
   "cell_type": "code",
   "execution_count": null,
   "metadata": {},
   "outputs": [],
   "source": [
    "list1 = [1,2,3]\n",
    "\n",
    "print(type(list1))"
   ]
  },
  {
   "cell_type": "code",
   "execution_count": null,
   "metadata": {},
   "outputs": [],
   "source": [
    "list1  = [[1,2], [3,4]]\n",
    "\n",
    "list1[1][2]"
   ]
  },
  {
   "cell_type": "code",
   "execution_count": 1,
   "metadata": {},
   "outputs": [
    {
     "name": "stdout",
     "output_type": "stream",
     "text": [
      "['start', 10, 5, 8, 'Done']\n"
     ]
    }
   ],
   "source": [
    "final = []\n",
    "\n",
    "list1 = [\"start\", 10, [5, 8], \"Done\"]\n",
    "\n",
    "\n",
    "for i in range(len(list1)):\n",
    "\n",
    "      if type(list1[i]) != list:\n",
    "        final.append(list1[i])\n",
    "\n",
    "      else:\n",
    "          for j in range(len(list1[i])): #list1[3] : [5,8]\n",
    "                final.append(list1[i][j])\n",
    "\n",
    "\n",
    "print(final)"
   ]
  },
  {
   "cell_type": "code",
   "execution_count": null,
   "metadata": {},
   "outputs": [],
   "source": [
    "def nested_to_linear(ori , idx, final ): #final = [start, 10,4,2], idx = 0\n",
    "\n",
    "       if len(ori) == idx: #base\n",
    "         return final\n",
    "\n",
    "       elif type(ori[idx]) != list:\n",
    "         final.append(ori[idx])\n",
    "\n",
    "       else:\n",
    "          nested_to_linear(ori[idx], 0, final) #list with list\n",
    "\n",
    "       nested_to_linear(ori, idx + 1, final)  #next index of the list\n",
    "\n",
    "\n",
    "\n",
    "\n",
    "nested_to_linear([\"start\", 10, [4, 2, [11, [9, \"mid\", 3, [1, 0], 6]], 8], \"Done\"],   0 ,   [])"
   ]
  },
  {
   "cell_type": "code",
   "execution_count": 1,
   "metadata": {},
   "outputs": [
    {
     "name": "stdout",
     "output_type": "stream",
     "text": [
      "[1, 2, 3, 4, 5, 6, 7, 8, 9, 10, 8]\n"
     ]
    }
   ],
   "source": [
    "lst=[1,2,3,4,5,6,7,8,9,10]\n",
    "\n",
    "makrs=lst[-3]# creating a variable to store the value of the last third element of the list \n",
    "lst.append(makrs)\n",
    "print(lst)"
   ]
  }
 ],
 "metadata": {
  "kernelspec": {
   "display_name": "Python 3",
   "language": "python",
   "name": "python3"
  },
  "language_info": {
   "codemirror_mode": {
    "name": "ipython",
    "version": 3
   },
   "file_extension": ".py",
   "mimetype": "text/x-python",
   "name": "python",
   "nbconvert_exporter": "python",
   "pygments_lexer": "ipython3",
   "version": "3.11.6"
  }
 },
 "nbformat": 4,
 "nbformat_minor": 2
}
