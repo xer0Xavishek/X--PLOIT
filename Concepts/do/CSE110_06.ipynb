{
  "nbformat": 4,
  "nbformat_minor": 0,
  "metadata": {
    "colab": {
      "provenance": []
    },
    "kernelspec": {
      "name": "python3",
      "display_name": "Python 3"
    },
    "language_info": {
      "name": "python"
    }
  },
  "cells": [
    {
      "cell_type": "markdown",
      "source": [
        "## Before Mid"
      ],
      "metadata": {
        "id": "vx51eZuHvOsZ"
      }
    },
    {
      "cell_type": "code",
      "execution_count": null,
      "metadata": {
        "colab": {
          "base_uri": "https://localhost:8080/"
        },
        "id": "JdfqOuei4zoR",
        "outputId": "9db0a314-5a15-44c1-a95e-0932545f115c"
      },
      "outputs": [
        {
          "output_type": "stream",
          "name": "stdout",
          "text": [
            "Hello World\n"
          ]
        }
      ],
      "source": [
        "hw = \"Hello World\"\n",
        "print( hw )"
      ]
    },
    {
      "cell_type": "code",
      "source": [
        "print(\"Hello World\")"
      ],
      "metadata": {
        "colab": {
          "base_uri": "https://localhost:8080/"
        },
        "id": "HgklDRNf-HoQ",
        "outputId": "3d814de5-872a-4bf5-cfff-56be62611763"
      },
      "execution_count": null,
      "outputs": [
        {
          "output_type": "stream",
          "name": "stdout",
          "text": [
            "Hello World\n"
          ]
        }
      ]
    },
    {
      "cell_type": "code",
      "source": [
        "print(2**(1/2))"
      ],
      "metadata": {
        "colab": {
          "base_uri": "https://localhost:8080/"
        },
        "id": "q2IRtp3qQKcq",
        "outputId": "49945cb2-95a5-4072-c41a-db85d388d065"
      },
      "execution_count": null,
      "outputs": [
        {
          "output_type": "stream",
          "name": "stdout",
          "text": [
            "1.4142135623730951\n"
          ]
        }
      ]
    },
    {
      "cell_type": "code",
      "source": [
        "x = int( input() )\n",
        "print(x)"
      ],
      "metadata": {
        "colab": {
          "base_uri": "https://localhost:8080/"
        },
        "id": "rs7Rn79HR1MN",
        "outputId": "0a7214f3-3e87-4255-c96a-91eb2251c04e"
      },
      "execution_count": null,
      "outputs": [
        {
          "output_type": "stream",
          "name": "stdout",
          "text": [
            "34\n",
            "34\n"
          ]
        }
      ]
    },
    {
      "cell_type": "code",
      "source": [
        "print(  not(3<=2) or (6>2)  )"
      ],
      "metadata": {
        "colab": {
          "base_uri": "https://localhost:8080/"
        },
        "id": "WQFniIZFDk5u",
        "outputId": "a70ec0f6-1392-4ce3-f2a0-8c716ed6e25d"
      },
      "execution_count": null,
      "outputs": [
        {
          "output_type": "stream",
          "name": "stdout",
          "text": [
            "True\n"
          ]
        }
      ]
    },
    {
      "cell_type": "code",
      "source": [
        "print(2*5/5)"
      ],
      "metadata": {
        "id": "xXTpS4qATDe7",
        "outputId": "efcb27a5-e2ed-441d-f55f-97c783f343f0",
        "colab": {
          "base_uri": "https://localhost:8080/"
        }
      },
      "execution_count": null,
      "outputs": [
        {
          "output_type": "stream",
          "name": "stdout",
          "text": [
            "2.0\n"
          ]
        }
      ]
    },
    {
      "cell_type": "code",
      "source": [
        "name = input(\"Please Enter your name: \")\n",
        "id = input(\"Please Enter your id: \")\n",
        "print(\"Name:\",name,\", ID:\",id)\n",
        "print( f\"Name: {name} , ID: {id}\" )"
      ],
      "metadata": {
        "colab": {
          "base_uri": "https://localhost:8080/"
        },
        "id": "hZHwRIZS0cI8",
        "outputId": "a99b13e4-25bc-40d9-f1f5-507f31fb273b"
      },
      "execution_count": null,
      "outputs": [
        {
          "output_type": "stream",
          "name": "stdout",
          "text": [
            "Please Enter your name: Iqra\n",
            "Please Enter your id: 12345\n",
            "Name: Iqra , ID: 12345\n",
            "Name: Iqra , ID: 12345\n"
          ]
        }
      ]
    },
    {
      "cell_type": "code",
      "source": [
        "n1 = int(input(\"Please Enter First Number: \"))\n",
        "n2 = int(input(\"Please Enter Second Number: \"))\n",
        "print( f\"{n1} / {n2} = {n1/n2}\" )"
      ],
      "metadata": {
        "colab": {
          "base_uri": "https://localhost:8080/"
        },
        "id": "1bRSqwtC10-R",
        "outputId": "645a4ccc-1035-4735-fbb8-bee279b76a2a"
      },
      "execution_count": null,
      "outputs": [
        {
          "output_type": "stream",
          "name": "stdout",
          "text": [
            "Please Enter First Number: 3\n",
            "Please Enter Second Number: 2\n",
            "3 / 2\n"
          ]
        }
      ]
    },
    {
      "cell_type": "code",
      "source": [
        "#Take an integer input from the user\n",
        "#Print the square of integer if it's a positive number\n",
        "n = int(input(\"Please Enter a Number: \"))\n",
        "if n>=0:\n",
        "    print(n**2)"
      ],
      "metadata": {
        "colab": {
          "base_uri": "https://localhost:8080/"
        },
        "id": "UZ-TsCxE4TiJ",
        "outputId": "f64a0a7a-a055-49f4-b7b6-be626d179522"
      },
      "execution_count": null,
      "outputs": [
        {
          "name": "stdout",
          "output_type": "stream",
          "text": [
            "Please Enter a Number: -7\n"
          ]
        }
      ]
    },
    {
      "cell_type": "code",
      "source": [
        "n1 = int(input(\"Please Enter First Number: \"))\n",
        "n2 = int(input(\"Please Enter Second Number: \"))\n",
        "\n",
        "if n1>=n2:\n",
        "    print(\"The largest number is\",n1)\n",
        "elif n1==n2:\n",
        "    print(\"Both numbers are equal\")\n",
        "else:\n",
        "    print(\"The largest number is\",n2)\n",
        "print(\"The End\")"
      ],
      "metadata": {
        "colab": {
          "base_uri": "https://localhost:8080/"
        },
        "id": "n92JKpAi2t6i",
        "outputId": "ace09e1f-26af-458c-cc1b-787346ddcb2b"
      },
      "execution_count": null,
      "outputs": [
        {
          "output_type": "stream",
          "name": "stdout",
          "text": [
            "Please Enter First Number: 100\n",
            "Please Enter Second Number: 100\n",
            "The largest number is 100\n",
            "Both numbers are equal\n",
            "The End\n"
          ]
        }
      ]
    },
    {
      "cell_type": "code",
      "source": [
        "x = 10 > 6 + 5 or True\n",
        "if x:\n",
        "    print('wtf')"
      ],
      "metadata": {
        "colab": {
          "base_uri": "https://localhost:8080/"
        },
        "id": "K6gFYXG7-LuE",
        "outputId": "abe4146a-b932-402d-c4ab-c84157aa6b55"
      },
      "execution_count": null,
      "outputs": [
        {
          "output_type": "stream",
          "name": "stdout",
          "text": [
            "wtf\n"
          ]
        }
      ]
    },
    {
      "cell_type": "markdown",
      "source": [
        " Take 3 inputs from the user.\\\n",
        " First two inputs are float numbers.\\\n",
        " The third input would be a symbol among the 4 math operators (+, -, *, /).\\\n",
        " Show the corresponding output depending on the symbol.\\\n",
        "Sample Input 1:\\\n",
        "5.0\\\n",
        "6.0\\\n",
        "*\\\n",
        "Sample output 1:\\\n",
        "5.0 * 6.0 = 30.0\\\n",
        "\\\n",
        "Sample Input 2:\\\n",
        "5.0\\\n",
        "2.0\\\n",
        "/\\\n",
        "Sample output 2:\\\n",
        "5.0 / 2.0 = 2.5\\"
      ],
      "metadata": {
        "id": "GeRFZj5yAQgM"
      }
    },
    {
      "cell_type": "code",
      "source": [
        "n1 = float(input())\n",
        "n2 = float(input())\n",
        "sym = input()\n",
        "\n",
        "if sym == '+':\n",
        "    print( f\"{n1} + {n2} = {n1+n2}\" )\n",
        "else:\n",
        "    print( f\"{n1} - {n2} = {n1-n2}\" )\n",
        "if sym == '*':\n",
        "    print( f\"{n1} * {n2} = {n1*n2}\" )\n",
        "else:\n",
        "    print( f\"{n1} / {n2} = {n1/n2}\" )"
      ],
      "metadata": {
        "colab": {
          "base_uri": "https://localhost:8080/"
        },
        "id": "deryfIiFAPfR",
        "outputId": "227927b6-217e-4713-d9d6-b7a4d2b6981a"
      },
      "execution_count": null,
      "outputs": [
        {
          "name": "stdout",
          "output_type": "stream",
          "text": [
            "4\n"
          ]
        }
      ]
    },
    {
      "cell_type": "code",
      "source": [
        "s1 = \"abc\"\n",
        "s2 = \"b\"\n",
        "print( s1*5 )"
      ],
      "metadata": {
        "id": "y48ZZC_EETLc",
        "colab": {
          "base_uri": "https://localhost:8080/"
        },
        "outputId": "4a864e4f-7f06-4fce-c8bb-524b78284b3d"
      },
      "execution_count": null,
      "outputs": [
        {
          "output_type": "stream",
          "name": "stdout",
          "text": [
            "abc-abc-abc-abc-abc-\n"
          ]
        }
      ]
    },
    {
      "cell_type": "code",
      "source": [
        "brand = input(\"Enter the car brand: \")\n",
        "wheel = input(\"Wheel Left or Right?: \")\n",
        "hp = int( input(\"HorsePower? : \") )\n",
        "tax = 0\n",
        "if brand == 'Ferrari':\n",
        "    tax += 30\n",
        "elif brand == 'Ford':\n",
        "    tax += 25\n",
        "if wheel == 'Left':\n",
        "    tax += 10\n",
        "if hp > 2000:\n",
        "    tax += 10\n",
        "print(f\"Extra Tax: {tax}%\")"
      ],
      "metadata": {
        "colab": {
          "base_uri": "https://localhost:8080/"
        },
        "id": "aYohoR34PMHl",
        "outputId": "4bef8af5-d7a0-4c8a-a131-ec6147d4956e"
      },
      "execution_count": null,
      "outputs": [
        {
          "output_type": "stream",
          "name": "stdout",
          "text": [
            "Enter the car brand: Ferrari\n",
            "Wheel Left or Right?: Left\n",
            "HorsePower? : 2000\n",
            "Extra Tax: 40%\n"
          ]
        }
      ]
    },
    {
      "cell_type": "code",
      "source": [
        "x = input()\n",
        "if '6' in '0123456789':\n",
        "    print(\"It's a number\")\n",
        "else:\n",
        "    print(\"Not a number\")"
      ],
      "metadata": {
        "colab": {
          "base_uri": "https://localhost:8080/"
        },
        "id": "4gy5kbKSRz1z",
        "outputId": "77ac3f7d-c279-4d22-d8dd-4fddc8c3dcce"
      },
      "execution_count": null,
      "outputs": [
        {
          "output_type": "stream",
          "name": "stdout",
          "text": [
            "6\n",
            "It's a number\n"
          ]
        }
      ]
    },
    {
      "cell_type": "code",
      "source": [
        "print('21' in '0123456789')"
      ],
      "metadata": {
        "id": "FpFfHy-VSZZU",
        "outputId": "5e704262-0a3c-4244-eed1-dd8be71ad864",
        "colab": {
          "base_uri": "https://localhost:8080/"
        }
      },
      "execution_count": null,
      "outputs": [
        {
          "output_type": "stream",
          "name": "stdout",
          "text": [
            "False\n"
          ]
        }
      ]
    },
    {
      "cell_type": "code",
      "source": [
        "i=1\n",
        "while i<=5:\n",
        "    print(i)\n",
        "    i+=1\n",
        "print(i)"
      ],
      "metadata": {
        "colab": {
          "base_uri": "https://localhost:8080/"
        },
        "id": "Tez1wb9e6u2U",
        "outputId": "a52591f5-2f14-4aa6-affe-a95365c5d2c8"
      },
      "execution_count": null,
      "outputs": [
        {
          "output_type": "stream",
          "name": "stdout",
          "text": [
            "1\n",
            "2\n",
            "3\n",
            "4\n",
            "5\n",
            "6\n"
          ]
        }
      ]
    },
    {
      "cell_type": "code",
      "source": [
        "name = input(\"Enter your name: \")\n",
        "n = int(input(\"How many times print?\"))\n",
        "i=1\n",
        "while i<n*10:\n",
        "    print(name)\n",
        "    i*=2"
      ],
      "metadata": {
        "colab": {
          "base_uri": "https://localhost:8080/"
        },
        "id": "_6uJeN3B9sfk",
        "outputId": "dba10726-cf13-4473-e9a3-533269439997"
      },
      "execution_count": null,
      "outputs": [
        {
          "output_type": "stream",
          "name": "stdout",
          "text": [
            "Enter your name: Iqra\n",
            "How many times print?2\n",
            "Iqra\n"
          ]
        }
      ]
    },
    {
      "cell_type": "code",
      "source": [
        "n = int( input(\"Enter a number: \") )\n",
        "i=1\n",
        "while i<=n:\n",
        "    print(i, end=' ')\n",
        "    i+=1"
      ],
      "metadata": {
        "colab": {
          "base_uri": "https://localhost:8080/"
        },
        "id": "QGaVJnGDA8k9",
        "outputId": "ef341377-4981-44fb-fffe-e5f31e7fd0ed"
      },
      "execution_count": null,
      "outputs": [
        {
          "output_type": "stream",
          "name": "stdout",
          "text": [
            "Enter a number: 5\n",
            "1 2 3 4 5 "
          ]
        }
      ]
    },
    {
      "cell_type": "code",
      "source": [
        "i=1\n",
        "while i<=100:\n",
        "    if i%7==0 or i%3==0:\n",
        "        print(i, end=' ')\n",
        "    i+=1"
      ],
      "metadata": {
        "id": "DEwW0kcyDK3j"
      },
      "execution_count": null,
      "outputs": []
    },
    {
      "cell_type": "code",
      "source": [
        "i=1\n",
        "while i<=100:\n",
        "    if i%2==0:\n",
        "        print(\"Even\",i)\n",
        "    else:\n",
        "        print(\"Odd\",i)\n",
        "    i+=1\n"
      ],
      "metadata": {
        "id": "K5BSsLNWFZkp"
      },
      "execution_count": null,
      "outputs": []
    },
    {
      "cell_type": "code",
      "source": [
        "print(7%3)\n",
        "print(-7%-3)\n",
        "print(-7%3)\n",
        "print(7%-3)"
      ],
      "metadata": {
        "colab": {
          "base_uri": "https://localhost:8080/"
        },
        "id": "n53D9F0hG8e9",
        "outputId": "d6a65231-47c5-46e9-81ff-188a018b31cd"
      },
      "execution_count": null,
      "outputs": [
        {
          "output_type": "stream",
          "name": "stdout",
          "text": [
            "1\n",
            "-1\n",
            "2\n",
            "-2\n"
          ]
        }
      ]
    },
    {
      "cell_type": "code",
      "source": [
        "n= int(input())\n",
        "if (n%5==0 or n%7==0) and not(n%5==0 and n%7==0):\n",
        "    print('Yes')\n",
        "else:\n",
        "    print('No')"
      ],
      "metadata": {
        "colab": {
          "base_uri": "https://localhost:8080/"
        },
        "id": "hFqcyZToSH8Z",
        "outputId": "5c1ae282-f381-4f9e-dd7e-319a684e65ce"
      },
      "execution_count": null,
      "outputs": [
        {
          "output_type": "stream",
          "name": "stdout",
          "text": [
            "25\n",
            "Yes\n"
          ]
        }
      ]
    },
    {
      "cell_type": "code",
      "source": [
        "x = float('inf')\n",
        "print(x)\n",
        "x = float('-inf')\n",
        "print(x)"
      ],
      "metadata": {
        "colab": {
          "base_uri": "https://localhost:8080/"
        },
        "id": "mw08HAFSYAR8",
        "outputId": "34a7e44f-f364-4385-dbf2-04f10346dd3e"
      },
      "execution_count": null,
      "outputs": [
        {
          "output_type": "stream",
          "name": "stdout",
          "text": [
            "inf\n",
            "-inf\n"
          ]
        }
      ]
    },
    {
      "cell_type": "code",
      "source": [
        "# 1 5 4 10 7 15 10 20 13 25 16 30 ..........\n",
        "n=12\n",
        "i=1\n",
        "j=1\n",
        "k=5\n",
        "while i<=n:\n",
        "    if i%2==0:\n",
        "        print(k,end=' ')\n",
        "        k+=5\n",
        "    else:\n",
        "        print(j,end=' ')\n",
        "        j+=3\n",
        "    i+=1\n",
        "print()"
      ],
      "metadata": {
        "colab": {
          "base_uri": "https://localhost:8080/"
        },
        "id": "ZgoxH9fbjQ3Q",
        "outputId": "cca8916f-ac08-41c7-f9ba-37ddfee95cde"
      },
      "execution_count": null,
      "outputs": [
        {
          "output_type": "stream",
          "name": "stdout",
          "text": [
            "1 5 4 10 7 15 10 20 13 25 16 30 \n"
          ]
        }
      ]
    },
    {
      "cell_type": "code",
      "source": [
        "# Take 5 integer inputs from the user to find the maximum value among them\n",
        "max = int(input())\n",
        "i=0\n",
        "while i<4:\n",
        "    x = int(input())\n",
        "    if x > max:\n",
        "        max = x\n",
        "    i+=1\n",
        "print('The Maximum number is:',max)"
      ],
      "metadata": {
        "colab": {
          "base_uri": "https://localhost:8080/"
        },
        "id": "a7wOB4uQkPDp",
        "outputId": "c8b77892-c187-4242-b3ba-92afeed24b0a"
      },
      "execution_count": null,
      "outputs": [
        {
          "output_type": "stream",
          "name": "stdout",
          "text": [
            "4\n",
            "9\n",
            "10\n",
            "-2\n",
            "4\n",
            "The Maximum number is: 10\n"
          ]
        }
      ]
    },
    {
      "cell_type": "code",
      "source": [
        "# Take 5 integer inputs from the user to find the maximum value among them\n",
        "min = int(input())\n",
        "i=0\n",
        "while i<4:\n",
        "    x = int(input())\n",
        "    if x < min:\n",
        "        min = x\n",
        "    i+=1\n",
        "print('The Minimum number is:',min)"
      ],
      "metadata": {
        "colab": {
          "base_uri": "https://localhost:8080/"
        },
        "id": "qy2EvDPYoV92",
        "outputId": "d06f7c34-f30d-414a-be40-2daa2950f677"
      },
      "execution_count": null,
      "outputs": [
        {
          "output_type": "stream",
          "name": "stdout",
          "text": [
            "43\n",
            "-43\n",
            "0\n",
            "3\n",
            "-30\n",
            "The Minimum number is: -43\n"
          ]
        }
      ]
    },
    {
      "cell_type": "code",
      "source": [
        "cred = int(input())\n",
        "cg = float(input())\n",
        "fee = cred*8000\n",
        "sch = 0\n",
        "if cg==4.0:\n",
        "    sch = 100\n",
        "elif cg>=3.9:\n",
        "    sch = 75\n",
        "elif cg>=3.85:\n",
        "    sch = 25\n",
        "elif cg>=3.8:\n",
        "    sch = 10\n",
        "print(fee)\n",
        "print(fee-fee*sch/100)"
      ],
      "metadata": {
        "id": "tbFckiFcCpV3"
      },
      "execution_count": null,
      "outputs": []
    },
    {
      "cell_type": "code",
      "source": [
        "i=10\n",
        "while i<50:\n",
        "    print(i,end=\" \")\n",
        "    i-=10"
      ],
      "metadata": {
        "colab": {
          "base_uri": "https://localhost:8080/"
        },
        "id": "KULDjQRIGH0W",
        "outputId": "561ca5e7-8195-49a4-fa83-41b1330d8684"
      },
      "execution_count": null,
      "outputs": [
        {
          "output_type": "stream",
          "name": "stdout",
          "text": [
            "10 "
          ]
        }
      ]
    },
    {
      "cell_type": "code",
      "source": [
        "for i in range(1,21,1):\n",
        "    if i%2==0:\n",
        "        print(i,end=' ')"
      ],
      "metadata": {
        "colab": {
          "base_uri": "https://localhost:8080/"
        },
        "id": "WCk16tOBD_Nd",
        "outputId": "4f08c030-5f34-4fae-bcf5-43d126e5d57c"
      },
      "execution_count": null,
      "outputs": [
        {
          "output_type": "stream",
          "name": "stdout",
          "text": [
            "2 4 6 8 10 12 14 16 18 20 "
          ]
        }
      ]
    },
    {
      "cell_type": "code",
      "source": [
        "x = float(\"-inf\")\n",
        "print(x)"
      ],
      "metadata": {
        "colab": {
          "base_uri": "https://localhost:8080/"
        },
        "id": "SbnDSJYMJBQq",
        "outputId": "8cf28443-2fe9-485c-914e-fb847bb9ab7b"
      },
      "execution_count": null,
      "outputs": [
        {
          "output_type": "stream",
          "name": "stdout",
          "text": [
            "True\n"
          ]
        }
      ]
    },
    {
      "cell_type": "code",
      "source": [
        "n = int(input(\"How many numbers to take input? \"))\n",
        "for i in range(n):\n",
        "    x = int(input())\n",
        "    if x%2==0:\n",
        "        break\n",
        "print(\"The end\")"
      ],
      "metadata": {
        "colab": {
          "base_uri": "https://localhost:8080/"
        },
        "id": "QoZ2KZ06Pm5u",
        "outputId": "fb77f523-6a6d-4b0c-e319-7d92d6208fec"
      },
      "execution_count": null,
      "outputs": [
        {
          "output_type": "stream",
          "name": "stdout",
          "text": [
            "How many numbers to take input? 5\n",
            "34\n",
            "The end\n"
          ]
        }
      ]
    },
    {
      "cell_type": "markdown",
      "source": [
        "Take 10 inputs from the user and print their summation.\n",
        "While summing up the input value if the summation turns into an even number you'll stop taking inputs and print the summation. Otherwise, print the summation after taking 10 inputs."
      ],
      "metadata": {
        "id": "FMoVqtBDTm5r"
      }
    },
    {
      "cell_type": "code",
      "source": [
        "sum = 0\n",
        "for i in range(10):\n",
        "    x = int(input())\n",
        "    if x%2==0:\n",
        "        continue\n",
        "        print(\"Even\")\n",
        "    else:\n",
        "        print(\"Odd\")"
      ],
      "metadata": {
        "id": "OY0qSeW2TqdQ"
      },
      "execution_count": null,
      "outputs": []
    },
    {
      "cell_type": "markdown",
      "source": [
        "Take one input from the user. Find all divisors of the user input."
      ],
      "metadata": {
        "id": "RlxUiddnWfaP"
      }
    },
    {
      "cell_type": "code",
      "source": [
        "n = int(input())\n",
        "#for i in range(1,n+1):\n",
        "    if n%i==0:\n",
        "        print(i, end=' ')"
      ],
      "metadata": {
        "colab": {
          "base_uri": "https://localhost:8080/"
        },
        "id": "P5DTtDW3Wcqg",
        "outputId": "f9616096-1c09-4921-ee23-5bd044852eef"
      },
      "execution_count": null,
      "outputs": [
        {
          "output_type": "stream",
          "name": "stdout",
          "text": [
            "5\n",
            "1 5 "
          ]
        }
      ]
    },
    {
      "cell_type": "code",
      "source": [
        "s = \"Python Fun\"\n",
        "for i in range(len(s)):\n",
        "    print(i, s[i])"
      ],
      "metadata": {
        "colab": {
          "base_uri": "https://localhost:8080/"
        },
        "id": "tG-fxmDCQM9_",
        "outputId": "83f36b9a-7481-48c9-c8a3-136ee479cb13"
      },
      "execution_count": null,
      "outputs": [
        {
          "output_type": "stream",
          "name": "stdout",
          "text": [
            "0 P\n",
            "1 y\n",
            "2 t\n",
            "3 h\n",
            "4 o\n",
            "5 n\n",
            "6  \n",
            "7 F\n",
            "8 u\n",
            "9 n\n"
          ]
        }
      ]
    },
    {
      "cell_type": "markdown",
      "source": [
        "Take a string input from the user and print only the characters in the odd indices of the string."
      ],
      "metadata": {
        "id": "o2T-FEPiWQ1i"
      }
    },
    {
      "cell_type": "code",
      "source": [
        "s = input()\n",
        "for i in range(len(s)):\n",
        "    if i%2==1:\n",
        "        print(s[i],end='')"
      ],
      "metadata": {
        "colab": {
          "base_uri": "https://localhost:8080/"
        },
        "id": "ldl5fMbyWdzb",
        "outputId": "4ace1ab3-700b-41d5-b367-a1553d0f8fc9"
      },
      "execution_count": null,
      "outputs": [
        {
          "name": "stdout",
          "output_type": "stream",
          "text": [
            "Python\n"
          ]
        }
      ]
    },
    {
      "cell_type": "code",
      "source": [
        "s = input()\n",
        "for i in range(1,len(s),2):\n",
        "    print(s[i],end='')"
      ],
      "metadata": {
        "colab": {
          "base_uri": "https://localhost:8080/"
        },
        "id": "k8YmjBnnYtSD",
        "outputId": "50bf1bd9-e810-41b7-92ca-467427292fb9"
      },
      "execution_count": null,
      "outputs": [
        {
          "output_type": "stream",
          "name": "stdout",
          "text": [
            "Python\n",
            "yhn"
          ]
        }
      ]
    },
    {
      "cell_type": "code",
      "source": [
        "#     0123456789\n",
        "s =  \"Python Fun\"\n",
        "#neg 10987654321\n",
        "print( s[::-1] )"
      ],
      "metadata": {
        "colab": {
          "base_uri": "https://localhost:8080/"
        },
        "id": "HtNGEZvFc55U",
        "outputId": "7d6cd69a-132e-4f23-9d4a-01a533454a03"
      },
      "execution_count": null,
      "outputs": [
        {
          "output_type": "stream",
          "name": "stdout",
          "text": [
            "nuF nohtyP\n"
          ]
        }
      ]
    },
    {
      "cell_type": "code",
      "source": [
        "l = [50,25,90,60,1005,12,30]\n",
        "\n",
        "for n in l:\n",
        "    print(f\"Divisors of {n}\",end=': ')\n",
        "    for i in range(1,n+1,1):\n",
        "        if n%i==0:\n",
        "            print(i,end=',')\n",
        "    print(chr(8))"
      ],
      "metadata": {
        "colab": {
          "base_uri": "https://localhost:8080/"
        },
        "id": "jlZflQQhtgtk",
        "outputId": "dd8f22f0-295f-466d-fd13-58493056e571"
      },
      "execution_count": null,
      "outputs": [
        {
          "output_type": "stream",
          "name": "stdout",
          "text": [
            "Divisors of 50: 1,2,5,10,25,50,\b\n",
            "Divisors of 25: 1,5,25,\b\n",
            "Divisors of 90: 1,2,3,5,6,9,10,15,18,30,45,90,\b\n",
            "Divisors of 60: 1,2,3,4,5,6,10,12,15,20,30,60,\b\n",
            "Divisors of 1005: 1,3,5,15,67,201,335,1005,\b\n",
            "Divisors of 12: 1,2,3,4,6,12,\b\n",
            "Divisors of 30: 1,2,3,5,6,10,15,30,\b\n"
          ]
        }
      ]
    },
    {
      "cell_type": "code",
      "source": [
        "print(123,end='\\n')\n",
        "print()\n",
        "print(13,end='')\n",
        "print()\n",
        "print(23,end='')\n",
        "print(3,end='')\n",
        "print(1,end='')\n"
      ],
      "metadata": {
        "colab": {
          "base_uri": "https://localhost:8080/"
        },
        "id": "7e7vB2cNCsI5",
        "outputId": "56dfff29-d564-4b92-a8ce-79e316a9b627"
      },
      "execution_count": null,
      "outputs": [
        {
          "output_type": "stream",
          "name": "stdout",
          "text": [
            "123\n",
            "\n",
            "13\n",
            "2331"
          ]
        }
      ]
    },
    {
      "cell_type": "code",
      "source": [
        "s = input()\n",
        "up=0\n",
        "for i in range(len(s)):\n",
        "    if ord(\"0\") <= ord(s[i]) <= ord(\"9\"):\n",
        "        up+=1\n",
        "print(up)"
      ],
      "metadata": {
        "colab": {
          "base_uri": "https://localhost:8080/"
        },
        "id": "Sh6kakNEo-N3",
        "outputId": "2831cd64-316e-4fba-ac5f-f6b661f378fd"
      },
      "execution_count": null,
      "outputs": [
        {
          "output_type": "stream",
          "name": "stdout",
          "text": [
            "JDS34sd\n",
            "3\n"
          ]
        }
      ]
    },
    {
      "cell_type": "code",
      "source": [
        "print(\"Pyhton\"+chr(8))"
      ],
      "metadata": {
        "colab": {
          "base_uri": "https://localhost:8080/"
        },
        "id": "4FasRnzcp0WH",
        "outputId": "5ee57564-3b4e-4716-da8a-c5d4a0560f49"
      },
      "execution_count": null,
      "outputs": [
        {
          "output_type": "stream",
          "name": "stdout",
          "text": [
            "\b\n"
          ]
        }
      ]
    },
    {
      "cell_type": "code",
      "source": [
        "#Write a python program to find whether a user input contains \"S\" or not.\n",
        "x = input()\n",
        "if \"S\" in x:\n",
        "    print(\"Yes\")\n",
        "else:\n",
        "    print(\"No\")"
      ],
      "metadata": {
        "colab": {
          "base_uri": "https://localhost:8080/"
        },
        "id": "bqS0SMabU5iI",
        "outputId": "176c6cee-6b92-43fe-e61a-2ef15c401b91"
      },
      "execution_count": null,
      "outputs": [
        {
          "output_type": "stream",
          "name": "stdout",
          "text": [
            "grdfdS\n",
            "Yes\n"
          ]
        }
      ]
    },
    {
      "cell_type": "code",
      "source": [
        "#Write a python program to extract the vowels from a string and print it.\n",
        "s=\"dsaeifkInldU\"\n",
        "out=''\n",
        "for i in range(len(s)):\n",
        "    if s[i] in \"aeiouAEIOU\":\n",
        "        out += s[i]\n",
        "print(out)"
      ],
      "metadata": {
        "colab": {
          "base_uri": "https://localhost:8080/"
        },
        "id": "vw0sgOkxr2JN",
        "outputId": "43de1d8f-2374-407c-bc80-9ad4b3977c88"
      },
      "execution_count": null,
      "outputs": [
        {
          "output_type": "stream",
          "name": "stdout",
          "text": [
            "aeiIU\n"
          ]
        }
      ]
    },
    {
      "cell_type": "code",
      "source": [
        "s=\"ABCD, efgh\"\n",
        "out1=\"\"\n",
        "out2=\"\"\n",
        "found = False\n",
        "for i in range(len(s)):\n",
        "    if s[i]==',':\n",
        "        found=True\n",
        "    elif not found:\n",
        "        out1+=s[i]\n",
        "    elif s[i]!=' ':\n",
        "        out2+=s[i]\n",
        "print(out1)\n",
        "print(out1)"
      ],
      "metadata": {
        "colab": {
          "base_uri": "https://localhost:8080/"
        },
        "id": "5Uf4bzGoa721",
        "outputId": "9f93d3f2-cdf1-4c72-b81b-384f18b5919c"
      },
      "execution_count": null,
      "outputs": [
        {
          "output_type": "stream",
          "name": "stdout",
          "text": [
            "ABCD\n",
            "efgh\n"
          ]
        }
      ]
    },
    {
      "cell_type": "code",
      "source": [
        "#Lab 1 - I/O\n",
        "#Lab 2 - Branching\n",
        "\n",
        "#Lab 3 - Loop [ while / for ]\n",
        "#Lab 4 - String [ indexing, slicing, loop, ASCII, in, newString ]\n",
        "\n",
        "# CODING\n",
        "# TRACING [ marking the loop, trace table, precedence, %, //, break, continue ]"
      ],
      "metadata": {
        "id": "h43rH3h1gmRZ"
      },
      "execution_count": null,
      "outputs": []
    },
    {
      "cell_type": "markdown",
      "source": [
        "## After Mid"
      ],
      "metadata": {
        "id": "UwWF4KQAtZgg"
      }
    },
    {
      "cell_type": "markdown",
      "source": [
        "### Functions"
      ],
      "metadata": {
        "id": "--gNEgGQvW6C"
      }
    },
    {
      "cell_type": "code",
      "source": [
        "#functin definition\n",
        "def addTwo(x,y): #2 #5\n",
        "    print(x+y) #3 #6\n",
        "#Fucniton Calling\n",
        "addTwo(8,15) #1\n",
        "addTwo(10,54) #4\n",
        "#The #1, #2, #3 are sequence of code execution"
      ],
      "metadata": {
        "colab": {
          "base_uri": "https://localhost:8080/"
        },
        "id": "KgF_57eHKx12",
        "outputId": "4c9b26c7-9ebf-4bc5-b7da-e71e4a6d58ea"
      },
      "execution_count": null,
      "outputs": [
        {
          "output_type": "stream",
          "name": "stdout",
          "text": [
            "23\n",
            "64\n"
          ]
        }
      ]
    },
    {
      "cell_type": "markdown",
      "source": [
        "Using Return statements"
      ],
      "metadata": {
        "id": "txD2nAVTxnzU"
      }
    },
    {
      "cell_type": "code",
      "source": [
        "#The #1, #2, ..... #6 are sequence of code execution\n",
        "#the following function returns the square if the parameter's number is even otherwise returns cube\n",
        "def calc(x):#2\n",
        "    if x%2==0: #3\n",
        "        return x**2 #4\n",
        "    else:\n",
        "        return x**3\n",
        "# since the function is returning something we can store the returned value\n",
        "# after storing the returned value we can use it to further calculate something else as well\n",
        "n = calc(6) #1 #5 #In this line 36 is being returned and it's being stored in n variable\n",
        "print(n) #6\n",
        "print(n+4) #7"
      ],
      "metadata": {
        "colab": {
          "base_uri": "https://localhost:8080/"
        },
        "id": "GOEtch1sxoTA",
        "outputId": "0ce67385-33da-4e32-b64f-d7d9a886f294"
      },
      "execution_count": null,
      "outputs": [
        {
          "output_type": "stream",
          "name": "stdout",
          "text": [
            "36\n",
            "40\n"
          ]
        }
      ]
    },
    {
      "cell_type": "markdown",
      "source": [
        "A function always returns in order to exit from the function. Even if we don't explicitely don't mention returning, by default function will return None."
      ],
      "metadata": {
        "id": "mqAey-WEtgv1"
      }
    },
    {
      "cell_type": "code",
      "source": [
        "#The #1, #2, #3, #4 ..... #21 are sequence of code execution\n",
        "# \"#1\" means this line will be executed first, #2 means it'll be executed second.. etc etc.\n",
        "#functin definition\n",
        "def even_or_odd(n):   #2 | #8 | #15\n",
        "    if n%2==0:        #3 | #9 | #16\n",
        "        print(\"even\") #4 |\n",
        "    else:             #10| #14| #17\n",
        "        print(\"odd\")  #11| #15| #18\n",
        "    #return None      #5 | #12| #19   #This line is invisible!!\n",
        "#Fucniton Calling\n",
        "even_or_odd(26)       #1 | #6 |\n",
        "even_or_odd(29)       #7 | #13|\n",
        "# In the following line the retunred None is being stored in x\n",
        "x = even_or_odd(29)   #14| #16 | #20\n",
        "print(x)#                      | #21"
      ],
      "metadata": {
        "colab": {
          "base_uri": "https://localhost:8080/"
        },
        "id": "HiMs-Cd8s7FR",
        "outputId": "b9244012-7631-4160-e7fe-15999a5d00c9"
      },
      "execution_count": null,
      "outputs": [
        {
          "output_type": "stream",
          "name": "stdout",
          "text": [
            "even\n",
            "odd\n",
            "odd\n",
            "None\n"
          ]
        }
      ]
    },
    {
      "cell_type": "markdown",
      "source": [
        "Calling one function inside another function"
      ],
      "metadata": {
        "id": "xL59bXUfyxl2"
      }
    },
    {
      "cell_type": "code",
      "source": [
        "#The #1, #2, ..... #11 are sequence of code execution\n",
        "#the following function returns the True if the parameter's number is even otherwise returns false\n",
        "def is_even(n): #4\n",
        "    if n%2==0:  #5\n",
        "        return True #6\n",
        "    else:\n",
        "        return False\n",
        "def new_calc(x):#2\n",
        "    if is_even(x)==True: #3 #7 #In this line is_even() function is returning True\n",
        "        return x**2 #8\n",
        "    else:\n",
        "        return x**3\n",
        "val = new_calc(6) #1 #9\n",
        "print(val) #10\n",
        "print(val+4) #11"
      ],
      "metadata": {
        "colab": {
          "base_uri": "https://localhost:8080/"
        },
        "id": "Cgk81dNcy062",
        "outputId": "e13a85fb-68ee-4364-ae09-4243bfa2ea65"
      },
      "execution_count": null,
      "outputs": [
        {
          "output_type": "stream",
          "name": "stdout",
          "text": [
            "36\n",
            "40\n"
          ]
        }
      ]
    },
    {
      "cell_type": "code",
      "source": [
        "def make_power(num, power): #6 #15 #24\n",
        "    result = num ** power #7 #16 #25\n",
        "    return result #8 #17 #26\n",
        "\n",
        "def make_cube(num): #4 #13 #22\n",
        "    result = make_power(num, 3) #5 #9 #14 #18 #23 #27\n",
        "    return result #10 #19 #28\n",
        "\n",
        "def sum_up(num1, num2, num3): #2\n",
        "    s1 = make_cube(num1) #3 #11\n",
        "    s2 = make_cube(num2) #12 #20\n",
        "    s3 = make_cube(num3) #21 #29\n",
        "    return s1 + s2 + s3 #30\n",
        "\n",
        "print(sum_up(1, 2, 3)) #1 #31"
      ],
      "metadata": {
        "colab": {
          "base_uri": "https://localhost:8080/"
        },
        "id": "znAmqvGr3gNb",
        "outputId": "3f51370a-a606-4308-9bf9-60bc699c0d07"
      },
      "execution_count": null,
      "outputs": [
        {
          "output_type": "stream",
          "name": "stdout",
          "text": [
            "36\n"
          ]
        }
      ]
    },
    {
      "cell_type": "markdown",
      "source": [
        "Global and Local Scopes"
      ],
      "metadata": {
        "id": "QVnqDRZx2GA7"
      }
    },
    {
      "cell_type": "code",
      "source": [
        "#s=50 has falls under the global scope of the whole code\n",
        "#the s inside the function falls under the local scope of the function\n",
        "s=50 #Global Variable s has value of 50\n",
        "def sum(a,b):\n",
        "    #a,b,s are local variables inside the function\n",
        "    #a,b,s are destroyed once the function ends\n",
        "    s = a+b\n",
        "    print(s)\n",
        "sum(2,5)\n",
        "print(s)"
      ],
      "metadata": {
        "colab": {
          "base_uri": "https://localhost:8080/"
        },
        "id": "6UD5CaFh2H7B",
        "outputId": "f68063e8-d788-486c-9757-051dec277e12"
      },
      "execution_count": null,
      "outputs": [
        {
          "output_type": "stream",
          "name": "stdout",
          "text": [
            "7\n",
            "50\n"
          ]
        }
      ]
    },
    {
      "cell_type": "markdown",
      "source": [
        "### Recursion"
      ],
      "metadata": {
        "id": "J7N6PW6P2IWk"
      }
    },
    {
      "cell_type": "code",
      "source": [
        "print('Using Loop')\n",
        "i=1\n",
        "while i<=10:\n",
        "    print(i)\n",
        "    i+=1\n",
        "print('Using Recursion')\n",
        "def show1to10(i):\n",
        "    #Base Case\n",
        "    if i>10:\n",
        "        return\n",
        "    #Recursive Case\n",
        "    else:\n",
        "        print(i)\n",
        "        show1to10(i+1)\n",
        "show1to10(1)"
      ],
      "metadata": {
        "id": "s5PlIcteGa8Y"
      },
      "execution_count": null,
      "outputs": []
    },
    {
      "cell_type": "code",
      "source": [
        "def show10to1(i):\n",
        "    #Base Case\n",
        "    if i==0:\n",
        "        return\n",
        "    #Recursive Case\n",
        "    else:\n",
        "        print(i)\n",
        "        show10to1(i-1)\n",
        "show10to1(10)"
      ],
      "metadata": {
        "colab": {
          "base_uri": "https://localhost:8080/"
        },
        "id": "ROqWuugjR3ec",
        "outputId": "8b0a5b5a-77d6-4aff-8ed6-cc3ffca4931f"
      },
      "execution_count": null,
      "outputs": [
        {
          "output_type": "stream",
          "name": "stdout",
          "text": [
            "10\n",
            "9\n",
            "8\n",
            "7\n",
            "6\n",
            "5\n",
            "4\n",
            "3\n",
            "2\n",
            "1\n"
          ]
        }
      ]
    },
    {
      "cell_type": "code",
      "source": [
        "def show_N_to_1(n):\n",
        "    if n==0:\n",
        "        return\n",
        "    else:\n",
        "        print(n,end=' ')\n",
        "        show_N_to_1(n-1)\n",
        "n=int(input())\n",
        "show_N_to_1(n)"
      ],
      "metadata": {
        "id": "uB5SaJo1SIPi"
      },
      "execution_count": null,
      "outputs": []
    },
    {
      "cell_type": "code",
      "source": [
        "print(\"Using Loop\")\n",
        "#1+2+3+4+5+6+7+8+9+10+.....+N\n",
        "N=int(input())\n",
        "sum=0\n",
        "i=1\n",
        "while i<=N:\n",
        "    sum+=i\n",
        "    i+=1\n",
        "print(sum)\n",
        "\n",
        "print(\"Using Recursion\")\n",
        "#1+2+3+4+5+6+7+8+9+10+.....+n\n",
        "#1+sum(2,n)\n",
        "#1+2+sum(3,n)\n",
        "#1+2+3+sum(4,n)\n",
        "def sum1toN(i,n):\n",
        "    if i==n:\n",
        "        return n\n",
        "    else:\n",
        "        return i+sum1toN(i+1, n)\n",
        "n = int(input())\n",
        "x=sum1toN(1,n)\n",
        "print(x)"
      ],
      "metadata": {
        "id": "fljbydwXDxv3"
      },
      "execution_count": null,
      "outputs": []
    },
    {
      "cell_type": "markdown",
      "source": [
        "[Factorial Recursion Slide](https://docs.google.com/presentation/d/1AIx9x36AWPxbuMstqqsipertBPBE-SIxgLQd-Sp6lOU/edit#slide=id.g27f752b020e_2_0)"
      ],
      "metadata": {
        "id": "uhi80A4kT0pa"
      }
    },
    {
      "cell_type": "code",
      "source": [
        "def fact(n):\n",
        "    if n==0 or n==1:\n",
        "        return 1\n",
        "    else:\n",
        "        return n*fact(n-1)\n",
        "\n",
        "print( fact(4) )"
      ],
      "metadata": {
        "id": "JRd9s6Lm2I3q"
      },
      "execution_count": null,
      "outputs": []
    },
    {
      "cell_type": "markdown",
      "source": [
        "### Python Lists"
      ],
      "metadata": {
        "id": "m3PzcdLI-1n9"
      }
    },
    {
      "cell_type": "code",
      "source": [
        "#    0   1  2  3  4 5  6\n",
        "l = [23,432,4,234,1,2,312]\n",
        "print( l )\n",
        "print( l[4] )\n",
        "l[4] = 100\n",
        "print( l )"
      ],
      "metadata": {
        "colab": {
          "base_uri": "https://localhost:8080/"
        },
        "id": "FwUdbVQB-uBQ",
        "outputId": "e1a5cef6-8aae-4841-bf15-e62eb6125ad9"
      },
      "execution_count": null,
      "outputs": [
        {
          "output_type": "stream",
          "name": "stdout",
          "text": [
            "[23, 432, 4, 234, 1, 2, 312]\n",
            "1\n",
            "[23, 432, 4, 234, 100, 2, 312]\n"
          ]
        }
      ]
    },
    {
      "cell_type": "code",
      "source": [
        "for i in range(len(l)):\n",
        "    print(l[i],end=' ')\n",
        "print()\n",
        "for i in range(len(l)-1,-1,-1):\n",
        "    print(l[i],end=' ')\n",
        "print()"
      ],
      "metadata": {
        "colab": {
          "base_uri": "https://localhost:8080/"
        },
        "id": "cIhUIR9p0GuX",
        "outputId": "b56f3490-7c3d-4fe0-83e7-c08a76e48f55"
      },
      "execution_count": null,
      "outputs": [
        {
          "output_type": "stream",
          "name": "stdout",
          "text": [
            "23 432 4 234 100 2 312 \n",
            "312 2 100 234 4 432 23 \n"
          ]
        }
      ]
    },
    {
      "cell_type": "code",
      "source": [
        "lst=[]\n",
        "n = int(input(\"How many numbers you want to enter? \"))\n",
        "for i in range(n):\n",
        "    x=int(input())\n",
        "    lst.append( x )\n",
        "print(lst)"
      ],
      "metadata": {
        "colab": {
          "base_uri": "https://localhost:8080/"
        },
        "id": "97Aww1Ev0S_t",
        "outputId": "13a922d1-7ea2-442d-f1b4-8076f38f6268"
      },
      "execution_count": null,
      "outputs": [
        {
          "output_type": "stream",
          "name": "stdout",
          "text": [
            "How many numbers you want to enter? 4\n",
            "213\n",
            "33\n",
            "-32\n",
            "-43\n",
            "[213, 33, -32, -43]\n"
          ]
        }
      ]
    },
    {
      "cell_type": "code",
      "source": [
        "#summing up all times from a list\n",
        "l = [-23,432,4,234,-1,2,-312]\n",
        "summ=0\n",
        "for i in range(len(l)):\n",
        "    summ+=l[i]\n",
        "print(l)\n",
        "print(\"Summation:\",summ)"
      ],
      "metadata": {
        "colab": {
          "base_uri": "https://localhost:8080/"
        },
        "id": "inHVvsXy1T9p",
        "outputId": "15dd2c34-a4c7-4121-de41-882260084f03"
      },
      "execution_count": null,
      "outputs": [
        {
          "output_type": "stream",
          "name": "stdout",
          "text": [
            "[-23, 432, 4, 234, -1, 2, -312]\n",
            "Summation: 336\n"
          ]
        }
      ]
    },
    {
      "cell_type": "code",
      "source": [
        "#finding the max and min from a list\n",
        "l = [-23,432,4,234,-1,2,-312]\n",
        "max = min = l[0]\n",
        "for i in range(1,len(l)):\n",
        "    if l[i]>max:\n",
        "        max = l[i]\n",
        "    if l[i]<min:\n",
        "        min = l[i]\n",
        "print(lst)\n",
        "print(\"Max:\",max)\n",
        "print(\"Min:\",min)"
      ],
      "metadata": {
        "colab": {
          "base_uri": "https://localhost:8080/"
        },
        "id": "5nZv7kX60vpQ",
        "outputId": "598b8ea4-cc77-499c-cf7d-7b4581fd2867"
      },
      "execution_count": null,
      "outputs": [
        {
          "output_type": "stream",
          "name": "stdout",
          "text": [
            "[213, 33, -32, -43]\n",
            "Max: 432\n",
            "Min: -312\n"
          ]
        }
      ]
    },
    {
      "cell_type": "code",
      "source": [
        "#Try to count the even numbers in a list\n",
        "#Try to find the prime numbers in a list\n",
        "#Try to create more examples and solve them on your own"
      ],
      "metadata": {
        "id": "1n4oNoPh1IGU"
      },
      "execution_count": null,
      "outputs": []
    },
    {
      "cell_type": "code",
      "source": [
        "n = int(input())\n",
        "c=0\n",
        "for i in range(1,n+1):\n",
        "    if n%i==0:\n",
        "        c+=1\n",
        "if c==2:\n",
        "    print(n,\"is Prime\")\n",
        "else:\n",
        "    print(n,\"is Not prime\")"
      ],
      "metadata": {
        "colab": {
          "base_uri": "https://localhost:8080/"
        },
        "id": "V4vBcHRUg1dH",
        "outputId": "41bfc988-9b62-445f-d8cb-1391c58d5f7b"
      },
      "execution_count": null,
      "outputs": [
        {
          "output_type": "stream",
          "name": "stdout",
          "text": [
            "18\n",
            "18 is Not prime\n"
          ]
        }
      ]
    },
    {
      "cell_type": "code",
      "source": [
        "l = [1,2,3,4,5,6,7,8,9,10,11,12,423,123,234,456,123,7,4,2342,123,431,432]\n",
        "for i in range(len(l)):\n",
        "    n=l[i]\n",
        "    c=0\n",
        "    for j in range(1,n+1):\n",
        "        if n%j==0:\n",
        "            c+=1\n",
        "    if c==2:\n",
        "        print(n,\"is Prime\")"
      ],
      "metadata": {
        "colab": {
          "base_uri": "https://localhost:8080/"
        },
        "id": "pVKydvWbj3h-",
        "outputId": "3532b321-6eee-4ff4-befc-1aa9340254a1"
      },
      "execution_count": null,
      "outputs": [
        {
          "output_type": "stream",
          "name": "stdout",
          "text": [
            "2 is Prime\n",
            "3 is Prime\n",
            "5 is Prime\n",
            "7 is Prime\n",
            "11 is Prime\n",
            "7 is Prime\n",
            "431 is Prime\n"
          ]
        }
      ]
    },
    {
      "cell_type": "code",
      "source": [
        "#write a python code that finds all the prime numbers from a list\n",
        "#then store them in another list. Then print the new list.\n",
        "l = [1,2,3,4,5,6,7,8,9,10,11,12,423,123,234,456,123,7,4,2342,123,431,432]\n",
        "primes = []\n",
        "for i in range(len(l)):\n",
        "    n=l[i]\n",
        "    c=0\n",
        "    for j in range(1,n+1):\n",
        "        if n%j==0:\n",
        "            c+=1\n",
        "    if c==2:\n",
        "        primes.append( n )\n",
        "print(primes)"
      ],
      "metadata": {
        "colab": {
          "base_uri": "https://localhost:8080/"
        },
        "id": "AEPKd2EslpJK",
        "outputId": "b4e2832f-5db2-4b25-f12d-158a695402dd"
      },
      "execution_count": null,
      "outputs": [
        {
          "output_type": "stream",
          "name": "stdout",
          "text": [
            "[2, 3, 5, 7, 11, 7, 431]\n"
          ]
        }
      ]
    },
    {
      "cell_type": "code",
      "source": [
        "l = ['Hello','World.',\"I\", \"Love\", \"Python\"]\n",
        "new_l = []\n",
        "for i in range(len(l)):\n",
        "    if len(l[i])%2==0:\n",
        "        new_l.append( l[i] )\n",
        "print(new_l)"
      ],
      "metadata": {
        "colab": {
          "base_uri": "https://localhost:8080/"
        },
        "id": "e6WfUHO7nLZs",
        "outputId": "627c3624-1a42-415d-9ce5-c3235888a6fc"
      },
      "execution_count": null,
      "outputs": [
        {
          "output_type": "stream",
          "name": "stdout",
          "text": [
            "['World.', 'Love', 'Python']\n"
          ]
        }
      ]
    },
    {
      "cell_type": "code",
      "source": [
        "#the only valid symbols are + and -\n",
        "exprsns = [ [5,'+',4], [3,'-',2], [9,'-',1], [4,'+',4] ]\n",
        "#The output must be\n",
        "#[ 9, 1, 8, 8 ]\n",
        "\n",
        "output = []\n",
        "for i in range(len(exprsns)):\n",
        "    exprsn = exprsns[i]\n",
        "    if exprsn[1]=='+':\n",
        "        calc = exprsn[0]+exprsn[2]\n",
        "        output.append(calc)\n",
        "    elif exprsn[1]=='-':\n",
        "        calc = exprsn[0]-exprsn[2]\n",
        "        output.append(calc)\n",
        "print(output)"
      ],
      "metadata": {
        "colab": {
          "base_uri": "https://localhost:8080/"
        },
        "id": "FpN43AoxOk-j",
        "outputId": "2877b247-8cac-4371-97e8-87705c0d269c"
      },
      "execution_count": null,
      "outputs": [
        {
          "output_type": "stream",
          "name": "stdout",
          "text": [
            "[9, 1, 8, 8]\n"
          ]
        }
      ]
    },
    {
      "cell_type": "code",
      "source": [
        "#             0      1      2      3\n",
        "exprsns = [ [5,4], [3,2], [9,1], [4,4] ]\n",
        "x = exprsns[1]\n",
        "x.append(1)\n",
        "print(x)\n",
        "print(exprsns)"
      ],
      "metadata": {
        "colab": {
          "base_uri": "https://localhost:8080/"
        },
        "id": "HVf1HYr0R2E2",
        "outputId": "758f0dc3-7cc6-49ca-e45d-3e83ac9f614a"
      },
      "execution_count": null,
      "outputs": [
        {
          "output_type": "stream",
          "name": "stdout",
          "text": [
            "[3, 2, 1]\n",
            "[[5, 4], [3, 2, 1], [9, 1], [4, 4]]\n"
          ]
        }
      ]
    },
    {
      "cell_type": "code",
      "source": [
        "#             0      1      2      3\n",
        "exprsns = [ [5,4], [3,2], [9,1], [4,4] ]\n",
        "x = exprsns[1]\n",
        "x = x[:]\n",
        "x.append(1)\n",
        "print(x)\n",
        "print(exprsns)"
      ],
      "metadata": {
        "colab": {
          "base_uri": "https://localhost:8080/"
        },
        "id": "9szk3ackSow9",
        "outputId": "898c19a7-a35c-4483-a83a-68e7af79d4dd"
      },
      "execution_count": null,
      "outputs": [
        {
          "output_type": "stream",
          "name": "stdout",
          "text": [
            "[3, 2, 1]\n",
            "[[5, 4], [3, 2], [9, 1], [4, 4]]\n"
          ]
        }
      ]
    },
    {
      "cell_type": "code",
      "source": [
        "#a house-14\n",
        "a = [1,2,3]\n",
        "#x house-15\n",
        "x = a[:]\n",
        "a.append(100)\n",
        "print(a)\n",
        "print(x)"
      ],
      "metadata": {
        "colab": {
          "base_uri": "https://localhost:8080/"
        },
        "id": "ZwJPTwiMTye8",
        "outputId": "f7834834-5d7f-48a9-872c-0ff02536b6a4"
      },
      "execution_count": null,
      "outputs": [
        {
          "output_type": "stream",
          "name": "stdout",
          "text": [
            "[1, 2, 3, 100]\n",
            "[1, 2, 3, 100]\n"
          ]
        }
      ]
    },
    {
      "cell_type": "markdown",
      "source": [
        "### Functions & List"
      ],
      "metadata": {
        "id": "KPglr7pwvtlk"
      }
    },
    {
      "cell_type": "code",
      "source": [
        "def check_prime(n):\n",
        "    c=0\n",
        "    for i in range(1,n+1):\n",
        "        if n%i==0:\n",
        "            c+=1\n",
        "    if c==2:\n",
        "        print(n,\"is Prime\")\n",
        "    else:\n",
        "        print(n,\"is Not prime\")"
      ],
      "metadata": {
        "id": "HDJoYMQnpz5H"
      },
      "execution_count": null,
      "outputs": []
    },
    {
      "cell_type": "code",
      "source": [
        "def return_prime_list(lst):\n",
        "    primes = []\n",
        "    for i in range(len(lst)):\n",
        "        n=lst[i]\n",
        "        c=0\n",
        "        for j in range(1,n+1):\n",
        "            if n%j==0:\n",
        "                c+=1\n",
        "        if c==2:\n",
        "            primes.append( n )\n",
        "    return primes\n",
        "\n",
        "\n",
        "l = [1,2,3,4,5,6,7,8,9,10,11,12,423,123,234,456,123,7,4,2342,123,431,432]\n",
        "x = return_prime_list(l)\n",
        "print(x)"
      ],
      "metadata": {
        "colab": {
          "base_uri": "https://localhost:8080/"
        },
        "id": "Ri2AJnywq5c0",
        "outputId": "e86122db-7c9b-49fd-8229-a087ee9e5a09"
      },
      "execution_count": null,
      "outputs": [
        {
          "output_type": "stream",
          "name": "stdout",
          "text": [
            "[2, 3, 5, 7, 11, 7, 431]\n"
          ]
        }
      ]
    },
    {
      "cell_type": "code",
      "source": [
        "l = [1,2,3,4,5,6,7,8,9,10,11,12,423,123,234,456,123,7,4,2342,123,431,432]\n",
        "\n",
        "for i in range(len(l)):\n",
        "    check_prime(l[i])"
      ],
      "metadata": {
        "id": "L-V7BWfEqJLQ"
      },
      "execution_count": null,
      "outputs": []
    },
    {
      "cell_type": "markdown",
      "source": [
        "### Numpy Array"
      ],
      "metadata": {
        "id": "gj4SlNujVVQi"
      }
    },
    {
      "cell_type": "markdown",
      "source": [
        "np.zeros()"
      ],
      "metadata": {
        "id": "ME7EttKua7nX"
      }
    },
    {
      "cell_type": "code",
      "source": [
        "import numpy as np\n",
        "\n",
        "arr = np.zeros( 6, dtype=int )\n",
        "print(\"Before:\",arr)\n",
        "arr[2] = 100\n",
        "print(\"After:\",arr)"
      ],
      "metadata": {
        "colab": {
          "base_uri": "https://localhost:8080/"
        },
        "id": "ePUCmLKbVURb",
        "outputId": "1fa79aa3-9c14-47c3-b5b1-054cf34585cb"
      },
      "execution_count": null,
      "outputs": [
        {
          "output_type": "stream",
          "name": "stdout",
          "text": [
            "Before: [0 0 0 0 0 0]\n",
            "After: [  0   0 100   0   0   0]\n"
          ]
        }
      ]
    },
    {
      "cell_type": "markdown",
      "source": [
        "np.ones()"
      ],
      "metadata": {
        "id": "3TMOWOuLa9aA"
      }
    },
    {
      "cell_type": "code",
      "source": [
        "import numpy as np\n",
        "\n",
        "arr = np.ones( 5, dtype=int )\n",
        "print(\"Before:\",arr)\n",
        "arr[2] = 12\n",
        "print(\"After:\",arr)"
      ],
      "metadata": {
        "colab": {
          "base_uri": "https://localhost:8080/"
        },
        "id": "3ul9jghwahJM",
        "outputId": "8fd688d4-b5f0-4545-a7ae-fba6467ed1fc"
      },
      "execution_count": null,
      "outputs": [
        {
          "output_type": "stream",
          "name": "stdout",
          "text": [
            "Before: [1 1 1 1 1]\n",
            "After: [ 1  1 12  1  1]\n"
          ]
        }
      ]
    },
    {
      "cell_type": "markdown",
      "source": [
        "np.array()"
      ],
      "metadata": {
        "id": "Jh_V-030a_yZ"
      }
    },
    {
      "cell_type": "code",
      "source": [
        "import numpy as np\n",
        "\n",
        "arr = np.array( [1,2,3,4,5] )\n",
        "print(\"Before:\",arr)\n",
        "arr[2] = 12\n",
        "print(\"After:\",arr)"
      ],
      "metadata": {
        "colab": {
          "base_uri": "https://localhost:8080/"
        },
        "id": "IGq_jMT6a5q6",
        "outputId": "b25c9511-5775-4310-bf7c-785eca6d464b"
      },
      "execution_count": null,
      "outputs": [
        {
          "output_type": "stream",
          "name": "stdout",
          "text": [
            "Before: [1 2 3 4 5]\n",
            "After: [ 1  2 12  4  5]\n"
          ]
        }
      ]
    },
    {
      "cell_type": "code",
      "source": [
        "import numpy as np\n",
        "\n",
        "arr = np.zeros( 5, dtype=float )\n",
        "print(\"Before:\",arr)\n",
        "arr[2] = 12.5\n",
        "print(\"After:\",arr)"
      ],
      "metadata": {
        "colab": {
          "base_uri": "https://localhost:8080/"
        },
        "id": "JeHA5xFibb2J",
        "outputId": "54a4a0a8-8d8d-4a68-c680-7056846b3b50"
      },
      "execution_count": null,
      "outputs": [
        {
          "output_type": "stream",
          "name": "stdout",
          "text": [
            "Before: [0. 0. 0. 0. 0.]\n",
            "After: [ 0.   0.  12.5  0.   0. ]\n"
          ]
        }
      ]
    },
    {
      "cell_type": "code",
      "source": [
        "import numpy as np\n",
        "\n",
        "arr = np.ones( 5, dtype=int )\n",
        "\n",
        "print(\"Before:\",arr)\n",
        "arr[2] = 12.42\n",
        "print(\"After:\",arr)"
      ],
      "metadata": {
        "colab": {
          "base_uri": "https://localhost:8080/"
        },
        "id": "fiAQ6AtZbbqh",
        "outputId": "0e7bb4bb-ef14-4007-d568-64fd54557af6"
      },
      "execution_count": null,
      "outputs": [
        {
          "output_type": "stream",
          "name": "stdout",
          "text": [
            "float64\n"
          ]
        }
      ]
    },
    {
      "cell_type": "code",
      "source": [
        "import numpy as np\n",
        "\n",
        "arr = np.array( [-11,22,3,24,5] )\n",
        "\n",
        "max = arr[0]\n",
        "for i in range(1,arr.size):\n",
        "    if arr[i]>max:\n",
        "        max = arr[i]\n",
        "print(max)\n",
        "\n",
        "min = arr[0]\n",
        "for i in range(1,arr.size):\n",
        "    if arr[i]<min:\n",
        "        min = arr[i]\n",
        "print(min)"
      ],
      "metadata": {
        "colab": {
          "base_uri": "https://localhost:8080/"
        },
        "id": "d2IkyAg9cQ37",
        "outputId": "78f73b81-f5b0-4f42-e263-902d39978a83"
      },
      "execution_count": null,
      "outputs": [
        {
          "output_type": "stream",
          "name": "stdout",
          "text": [
            "24\n",
            "-11\n"
          ]
        }
      ]
    },
    {
      "cell_type": "markdown",
      "source": [
        "### Sorting"
      ],
      "metadata": {
        "id": "F97252IzhXfj"
      }
    },
    {
      "cell_type": "code",
      "source": [
        "#SWAPPING\n",
        "#      0  1  2  3 4 5\n",
        "lst = [11,2,44,43,3,2]\n",
        "print(lst)\n",
        "bckup = lst[0]\n",
        "lst[0] = lst[2]\n",
        "lst[2] = bckup\n",
        "print(lst)"
      ],
      "metadata": {
        "id": "8xRv44tGj1A3"
      },
      "execution_count": null,
      "outputs": []
    },
    {
      "cell_type": "code",
      "source": [
        "import numpy as np\n",
        "#Selection Sort\n",
        "\n",
        "\n",
        "arr = np.array( [22,24,-3,1,-5] )\n",
        "print(\"###########################\")\n",
        "#Find the minimum number from an array\n",
        "#Then swap the minimum number with the \"first\" element of the array\n",
        "print(\"Before:\",arr)\n",
        "min_i = 0\n",
        "for i in range(1,arr.size):\n",
        "    if arr[i]<arr[min_i]:\n",
        "        min_i = i\n",
        "temp = arr[0]\n",
        "arr[0] = arr[min_i]\n",
        "arr[min_i] = temp\n",
        "print(\"After:\",arr)\n",
        "print(\"###########################\")\n",
        "#Find the \"second\" minimum number from an array\n",
        "#Then swap the minimum number with the \"second\" element of the array\n",
        "print(\"Before:\",arr)\n",
        "min_i = 1\n",
        "for i in range(2,arr.size):\n",
        "    if arr[i]<arr[min_i]:\n",
        "        min_i = i\n",
        "temp = arr[1]\n",
        "arr[1] = arr[min_i]\n",
        "arr[min_i] = temp\n",
        "print(\"After:\",arr)\n",
        "print(\"###########################\")\n",
        "print(\"Before:\",arr)\n",
        "min_i = 2\n",
        "for i in range(3,arr.size):\n",
        "    if arr[i]<arr[min_i]:\n",
        "        min_i = i\n",
        "temp = arr[2]\n",
        "arr[2] = arr[min_i]\n",
        "arr[min_i] = temp\n",
        "print(\"After:\",arr)\n",
        "print(\"###########################\")\n",
        "print(\"Before:\",arr)\n",
        "min_i = 3\n",
        "for i in range(4,arr.size):\n",
        "    if arr[i]<arr[min_i]:\n",
        "        min_i = i\n",
        "temp = arr[3]\n",
        "arr[3] = arr[min_i]\n",
        "arr[min_i] = temp\n",
        "print(\"After:\",arr)\n",
        "print(\"###########################\")"
      ],
      "metadata": {
        "colab": {
          "base_uri": "https://localhost:8080/"
        },
        "id": "3cEqqHvIhEPa",
        "outputId": "e344cd69-c5b2-41e3-fc57-f774fe7e5db0"
      },
      "execution_count": null,
      "outputs": [
        {
          "output_type": "stream",
          "name": "stdout",
          "text": [
            "###########################\n",
            "Before: [22 24 -3  1 -5]\n",
            "After: [-5 24 -3  1 22]\n",
            "###########################\n",
            "Before: [-5 24 -3  1 22]\n",
            "After: [-5 -3 24  1 22]\n",
            "###########################\n",
            "Before: [-5 -3 24  1 22]\n",
            "After: [-5 -3  1 24 22]\n",
            "###########################\n",
            "Before: [-5 -3  1 24 22]\n",
            "After: [-5 -3  1 22 24]\n",
            "###########################\n"
          ]
        }
      ]
    },
    {
      "cell_type": "code",
      "source": [
        "import numpy as np\n",
        "#Selection Sort\n",
        "arr = np.array( [100,54,213,22,-24,-3,1,-5] )\n",
        "\n",
        "print(\"Before:\",arr)\n",
        "for j in range(0,arr.size,1):\n",
        "    min_i = j\n",
        "    for i in range(j+1,arr.size,1):\n",
        "        if arr[i]<arr[min_i]:\n",
        "            min_i = i\n",
        "    temp = arr[j]\n",
        "    arr[j] = arr[min_i]\n",
        "    arr[min_i] = temp\n",
        "print(\"After:\",arr)"
      ],
      "metadata": {
        "colab": {
          "base_uri": "https://localhost:8080/"
        },
        "id": "DjtHl5mQmIrm",
        "outputId": "e5f76f9b-6634-4635-ea91-2a21869a5cb1"
      },
      "execution_count": null,
      "outputs": [
        {
          "output_type": "stream",
          "name": "stdout",
          "text": [
            "Before: [100  54 213  22 -24  -3   1  -5]\n",
            "After: [-24  -5  -3   1  22  54 100 213]\n"
          ]
        }
      ]
    },
    {
      "cell_type": "code",
      "source": [
        "def sel_sort(np_arr):\n",
        "    for j in range(0,np_arr.size,1):\n",
        "        min_i = j\n",
        "        for i in range(j+1,np_arr.size,1):\n",
        "            if np_arr[i]<np_arr[min_i]:\n",
        "                min_i = i\n",
        "        temp = np_arr[j]\n",
        "        np_arr[j] = np_arr[min_i]\n",
        "        np_arr[min_i] = temp\n",
        "\n",
        "import numpy as np\n",
        "#Selection Sort\n",
        "arr = np.array( [3,413,22,-32,12,65,1,-5] )\n",
        "print(\"Before Sel Sort:\",arr)\n",
        "sel_sort(arr)\n",
        "print(\"After Sel Sort:\",arr)"
      ],
      "metadata": {
        "colab": {
          "base_uri": "https://localhost:8080/"
        },
        "id": "EvbmyI1EnOhi",
        "outputId": "da37e8c1-33e7-4f2a-d34d-9fb944716a7d"
      },
      "execution_count": null,
      "outputs": [
        {
          "output_type": "stream",
          "name": "stdout",
          "text": [
            "Before Sel Sort: [  3 413  22 -32  12  65   1  -5]\n",
            "After Sel Sort: [-32  -5   1   3  12  22  65 413]\n"
          ]
        }
      ]
    },
    {
      "cell_type": "markdown",
      "source": [
        " ### 2D Numpy Array"
      ],
      "metadata": {
        "id": "RwaIODsppkWz"
      }
    },
    {
      "cell_type": "code",
      "source": [
        "import numpy as np\n",
        "\n",
        "#    row id            0           1          2\n",
        "arr2D = np.array( [ [1,2,3,4], [9,8,7,2], [5,3,2,1] ] )\n",
        "#    col id          0 1 2 3    0 1 2 3    0 1 2 3\n",
        "#   row x col = (3x4)\n",
        "print(arr2D)\n",
        "print(arr2D.shape)"
      ],
      "metadata": {
        "colab": {
          "base_uri": "https://localhost:8080/"
        },
        "id": "cV0j4v_bpoP6",
        "outputId": "0b5c51dd-7bcd-4d18-fb29-0b2335d5c29c"
      },
      "execution_count": null,
      "outputs": [
        {
          "output_type": "stream",
          "name": "stdout",
          "text": [
            "[[1 2 3 4]\n",
            " [9 8 7 2]\n",
            " [5 3 2 1]]\n",
            "(3, 4)\n"
          ]
        }
      ]
    },
    {
      "cell_type": "code",
      "source": [
        "arr = np.zeros( (5,4) , dtype=int )\n",
        "print(arr)\n",
        "print(\"============\")\n",
        "row_index = 2\n",
        "col_index = 2\n",
        "arr[row_index][col_index]=100\n",
        "print(arr)\n",
        "print(\"============\")\n",
        "row_index = 0\n",
        "col_index = 0\n",
        "arr[row_index][col_index]=99\n",
        "print(arr)\n",
        "print(\"============\")\n",
        "row_index = 4\n",
        "col_index = 3\n",
        "arr[row_index][col_index]=99\n",
        "print(arr)\n",
        "print(\"============\")"
      ],
      "metadata": {
        "colab": {
          "base_uri": "https://localhost:8080/"
        },
        "id": "avIG7xV7qVWI",
        "outputId": "84d6ec8a-12da-458b-ca87-27995157ba55"
      },
      "execution_count": null,
      "outputs": [
        {
          "output_type": "stream",
          "name": "stdout",
          "text": [
            "[[0 0 0 0]\n",
            " [0 0 0 0]\n",
            " [0 0 0 0]\n",
            " [0 0 0 0]\n",
            " [0 0 0 0]]\n",
            "============\n",
            "[[  0   0   0   0]\n",
            " [  0   0   0   0]\n",
            " [  0   0 100   0]\n",
            " [  0   0   0   0]\n",
            " [  0   0   0   0]]\n",
            "============\n",
            "[[ 99   0   0   0]\n",
            " [  0   0   0   0]\n",
            " [  0   0 100   0]\n",
            " [  0   0   0   0]\n",
            " [  0   0   0   0]]\n",
            "============\n",
            "[[ 99   0   0   0]\n",
            " [  0   0   0   0]\n",
            " [  0   0 100   0]\n",
            " [  0   0   0   0]\n",
            " [  0   0   0  99]]\n",
            "============\n"
          ]
        }
      ]
    },
    {
      "cell_type": "code",
      "source": [
        "#    row id               0           1             2\n",
        "arr2D = np.array( [ [1,2,3,4,5], [9,8,7,2,1], [5,3,2,1,5] ] )\n",
        "#    col id          0 1 2 3 4    0 1 2 3 4    0 1 2 3 4\n",
        "#   row x col = (3x5)\n",
        "row_len, col_len = arr2D.shape\n",
        "\n",
        "for r in range(row_len):\n",
        "    for c in range(col_len):\n",
        "        print(arr2D[r][c],end=' ')\n",
        "    print()"
      ],
      "metadata": {
        "colab": {
          "base_uri": "https://localhost:8080/"
        },
        "id": "i7O0s2_Fwxsp",
        "outputId": "39783602-df73-41a3-c517-c23bdf4da497"
      },
      "execution_count": null,
      "outputs": [
        {
          "output_type": "stream",
          "name": "stdout",
          "text": [
            "1 2 3 4 5 \n",
            "9 8 7 2 1 \n",
            "5 3 2 1 5 \n"
          ]
        }
      ]
    },
    {
      "cell_type": "code",
      "source": [
        "#    row id               0           1             2\n",
        "arr2D = np.array( [ [1,2,3,4,5], [9,8,7,2,1], [5,3,2,1,5] ] )\n",
        "#    col id          0 1 2 3 4    0 1 2 3 4    0 1 2 3 4\n",
        "#   row x col = (3x5)\n",
        "row_len, col_len = arr2D.shape\n",
        "\n",
        "for r in range(row_len):\n",
        "    for c in range(col_len):\n",
        "        if r==1 or c==2:\n",
        "            arr2D[r][c]=0\n",
        "print(arr2D)"
      ],
      "metadata": {
        "colab": {
          "base_uri": "https://localhost:8080/"
        },
        "id": "Qz6jnDoFuROC",
        "outputId": "d456470e-f7cf-446a-fe5b-e4a1ab8dcdf5"
      },
      "execution_count": null,
      "outputs": [
        {
          "output_type": "stream",
          "name": "stdout",
          "text": [
            "[[1 2 0 4 5]\n",
            " [0 0 0 0 0]\n",
            " [5 3 0 1 5]]\n"
          ]
        }
      ]
    },
    {
      "cell_type": "code",
      "source": [
        "import numpy as np\n",
        "arr2D = np.array( [ [1,2,3,4],\n",
        "                    [9,8,7,2],\n",
        "                    [5,3,2,1] ] )\n",
        "#   row x col = (3x4)\n",
        "\n",
        "def print2D(arr2D):\n",
        "    row_len, col_len = arr2D.shape\n",
        "    for r in range(row_len):\n",
        "        for c in range(col_len):\n",
        "            print(arr2D[r][c],end=' ')\n",
        "        print()\n",
        "print('================')\n",
        "for c in range(col_len):\n",
        "    for r in range(row_len):\n",
        "        print(arr2D[r][c],end=' ')\n",
        "    print()"
      ],
      "metadata": {
        "colab": {
          "base_uri": "https://localhost:8080/"
        },
        "id": "dUqGPRSeRNdh",
        "outputId": "a84910a3-7d9e-4a45-a54d-a7f515f27fd7"
      },
      "execution_count": null,
      "outputs": [
        {
          "output_type": "stream",
          "name": "stdout",
          "text": [
            "================\n",
            "1 9 5 \n",
            "2 8 3 \n",
            "3 7 2 \n",
            "4 2 1 \n"
          ]
        }
      ]
    },
    {
      "cell_type": "markdown",
      "source": [
        "#### Scalar Matrix Multiplication"
      ],
      "metadata": {
        "id": "TtcLAJAd1Rv1"
      }
    },
    {
      "cell_type": "code",
      "source": [
        "def scaler_Matrix_Mul(arr2D,x):\n",
        "    for r in range(row_len):\n",
        "        for c in range(col_len):\n",
        "            arr2D[r][c] = x*arr2D[r][c]\n",
        "\n",
        "arr2D = np.array( [ [1,2,3,4],\n",
        "                    [9,8,7,2],\n",
        "                    [5,3,2,1] ] )\n",
        "\n",
        "print(\"Before:\")\n",
        "print(arr2D)\n",
        "scaler_Matrix_Mul(arr2D, 2)\n",
        "print(\"After:\")\n",
        "print(arr2D)"
      ],
      "metadata": {
        "colab": {
          "base_uri": "https://localhost:8080/"
        },
        "id": "wqAedEuaUPMk",
        "outputId": "9a89e714-1f03-4444-b1a8-ac77e7ab6fc4"
      },
      "execution_count": null,
      "outputs": [
        {
          "output_type": "stream",
          "name": "stdout",
          "text": [
            "Before:\n",
            "[[1 2 3 4]\n",
            " [9 8 7 2]\n",
            " [5 3 2 1]]\n",
            "After:\n",
            "[[ 2  4  6  8]\n",
            " [18 16 14  4]\n",
            " [10  6  4  2]]\n"
          ]
        }
      ]
    },
    {
      "cell_type": "markdown",
      "source": [
        "#### Matrix Matrix multiplication"
      ],
      "metadata": {
        "id": "Nn7Yh7p21VCw"
      }
    },
    {
      "cell_type": "code",
      "source": [
        "#Matrix_Mul is a function that takes two Matrices\n",
        "# and returns the new multiplied matrix\n",
        "def Matrix_Mul(m1, m2):\n",
        "    m1_row_len, m1_col_len = m1.shape\n",
        "    m2_row_len, m2_col_len = m2.shape\n",
        "    if m1_col_len != m2_row_len:\n",
        "        print(\"Dimension Mismatch\")\n",
        "        return None\n",
        "\n",
        "    m3 = np.zeros( (m1_row_len, m2_col_len), dtype=\"int\" )\n",
        "    m3_row, m3_col = m3.shape\n",
        "    for r in range(m3_row):\n",
        "        for c in range(m3_col):\n",
        "            sum=0\n",
        "            for k in range(m1_col_len):\n",
        "                sum += (m1[r][k] * m2[k][c])\n",
        "            m3[r][c] = sum\n",
        "    return m3\n",
        "\n",
        "mat1 = np.array([[1,2,3],\n",
        "                 [3,2,1]])\n",
        "mat2 = np.array([[1,2],\n",
        "                 [0,1],\n",
        "                 [1,0]])\n",
        "mat3 = Matrix_Mul(mat1, mat2)\n",
        "print2D(mat1)\n",
        "print(\"X\")\n",
        "print2D(mat2)\n",
        "print(\"=\")\n",
        "print2D(mat3)"
      ],
      "metadata": {
        "colab": {
          "base_uri": "https://localhost:8080/"
        },
        "id": "hpK3J7eqVuiw",
        "outputId": "77c746af-2805-4bc3-bcc7-f3d723ea1815"
      },
      "execution_count": null,
      "outputs": [
        {
          "output_type": "stream",
          "name": "stdout",
          "text": [
            "1 2 3 \n",
            "3 2 1 \n",
            "X\n",
            "1 2 \n",
            "0 1 \n",
            "1 0 \n",
            "=\n",
            "4 4 \n",
            "4 8 \n"
          ]
        }
      ]
    },
    {
      "cell_type": "markdown",
      "source": [
        "### Dictionary"
      ],
      "metadata": {
        "id": "lrA7_WRSi_0Y"
      }
    },
    {
      "cell_type": "code",
      "source": [
        "#            keys   values\n",
        "stdnt_1 = { \"name\":\"Rayan\",\n",
        "            \"id\"  : 123,\n",
        "            \"dept\":\"CSE\"}\n",
        "\n",
        "print(stdnt_1)\n",
        "stdnt_1[\"name\"]=\"Iqra\"\n",
        "print(stdnt_1,\"| length\",len(stdnt_1))\n",
        "stdnt_1[\"cg\"] = 2.3\n",
        "print(stdnt_1,\"| length\",len(stdnt_1))"
      ],
      "metadata": {
        "colab": {
          "base_uri": "https://localhost:8080/"
        },
        "id": "Dn0QC5fyjCoV",
        "outputId": "14886b37-1733-4d45-952b-863340c2f039"
      },
      "execution_count": null,
      "outputs": [
        {
          "output_type": "stream",
          "name": "stdout",
          "text": [
            "{'name': 'Rayan', 'id': 123, 'dept': 'CSE'}\n",
            "{'name': 'Iqra', 'id': 123, 'dept': 'CSE'} | length 3\n",
            "{'name': 'Iqra', 'id': 123, 'dept': 'CSE', 'cg': 2.3} | length 4\n"
          ]
        }
      ]
    },
    {
      "cell_type": "code",
      "source": [
        "d = {\n",
        "    \"a\":\"A\",\n",
        "    \"b\":\"B\",\n",
        "    \"c\":\"C\"\n",
        "}\n",
        "\n",
        "# for k in d.keys():\n",
        "#     print(k,\"->\",d[k])\n",
        "# for v in d.values():\n",
        "#     print(v)\n",
        "# for kv in d.items():\n",
        "#     print(kv[0],\"->\",kv[1])\n",
        "# for k, v in d.items():\n",
        "#     print(k,\"->\",v)"
      ],
      "metadata": {
        "colab": {
          "base_uri": "https://localhost:8080/"
        },
        "id": "3MydRgBPtfDJ",
        "outputId": "4ca34055-f37c-4e55-ef4b-29f7fd1e2642"
      },
      "execution_count": null,
      "outputs": [
        {
          "output_type": "stream",
          "name": "stdout",
          "text": [
            "a -> A\n",
            "b -> B\n",
            "c -> C\n"
          ]
        }
      ]
    }
  ]
}