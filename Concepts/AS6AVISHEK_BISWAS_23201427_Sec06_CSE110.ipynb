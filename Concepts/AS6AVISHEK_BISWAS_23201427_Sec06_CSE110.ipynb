{
 "cells": [
  {
   "cell_type": "code",
   "execution_count": 3,
   "metadata": {},
   "outputs": [
    {
     "name": "stdout",
     "output_type": "stream",
     "text": [
      "[5]\n",
      "[5, 30]\n",
      "[5, 30, 2]\n",
      "[5, 30, 2, 4]\n",
      "[5, 30, 2, 4, -6]\n"
     ]
    }
   ],
   "source": [
    "#Task1(using append method)\n",
    "lst=[]\n",
    "for i in range(5):\n",
    "    x = int(input())\n",
    "    lst.append(x)\n",
    "    print(lst)"
   ]
  },
  {
   "cell_type": "code",
   "execution_count": 7,
   "metadata": {},
   "outputs": [
    {
     "name": "stdout",
     "output_type": "stream",
     "text": [
      "[5]\n",
      "[5, 30]\n",
      "[5, 30, 2]\n",
      "[5, 30, 2, 4]\n",
      "[5, 30, 2, 4, -6]\n"
     ]
    }
   ],
   "source": [
    "#Task1(not using append method)\n",
    "lst=[]\n",
    "for i in range(5):\n",
    "    x = int(input(\"enter\"))\n",
    "    lst+= [x] #We need to  add a list with a list (not another datatype)\n",
    "    print(lst)"
   ]
  },
  {
   "cell_type": "code",
   "execution_count": 30,
   "metadata": {},
   "outputs": [
    {
     "name": "stdout",
     "output_type": "stream",
     "text": [
      "[0, 1, 100, -5, 5]\n"
     ]
    }
   ],
   "source": [
    "#Task 2\n",
    "inlist = input(\"Enter a list of 5 elements: \")[1:-1]  # string input [5, -5, 100, 1, 0]\n",
    "\n",
    "finList = []\n",
    "res = \"\"#number stores here temporarily\n",
    "\n",
    "for i in range(len(inlist)):#   or > for i in inlist:\n",
    "                                    #if i == \",\":\n",
    "                                        #finList.append(int(res))\n",
    "                                        #res = \"\"\n",
    "                                    #else:\n",
    "                                        #res += i\n",
    "    if inlist[i] == \",\":\n",
    "        finList.append(int(res))\n",
    "        res = \"\"\n",
    "    else:\n",
    "        res += inlist[i]# inlist er  i idx er value ta res e add korbe\n",
    "\n",
    "# last element after the loop\n",
    "finList.append(int(res))\n",
    "\n",
    "# Reversing the list\n",
    "list_length = len(finList)\n",
    "reversed_list = []\n",
    "for i in range(list_length - 1, -1, -1):\n",
    "    reversed_list.append(finList[i])\n",
    "\n",
    "# reversed\n",
    "print(reversed_list)\n",
    "\n"
   ]
  },
  {
   "cell_type": "code",
   "execution_count": 34,
   "metadata": {},
   "outputs": [
    {
     "name": "stdout",
     "output_type": "stream",
     "text": [
      "Not possible\n"
     ]
    }
   ],
   "source": [
    "#Task 3\n",
    "givenlst=input(\"Enter a list\")\n",
    "newlst=[]\n",
    "res=\"\"\n",
    "for i in range(len(givenlst)):\n",
    "    if givenlst[i]==\",\":\n",
    "        newlst.append(int(res))\n",
    "        res=\"\"\n",
    "    else:\n",
    "        res+=givenlst[i]#givenlist er idx 0 theke add hobe\n",
    "\n",
    "\n",
    "newlst.append(int(res))\n",
    "\n",
    "if len(newlst)>=4:\n",
    "    print(newlst[2:-2])\n",
    "else:\n",
    "    print(\"Not possible\")\n",
    "        \n"
   ]
  },
  {
   "cell_type": "code",
   "execution_count": 8,
   "metadata": {},
   "outputs": [
    {
     "name": "stdout",
     "output_type": "stream",
     "text": [
      "False\n"
     ]
    }
   ],
   "source": [
    "#Task4\n",
    "List_i =[1, 4, 3, 2, 5]\n",
    "List_ii = [8, 7, 6, 9]\n",
    "\n",
    "flag=False\n",
    "for i in range(len(List_i)):\n",
    "    for j in range (len(List_ii)):\n",
    "        if List_i[i]==List_ii[j]:\n",
    "            flag=True\n",
    "            break\n",
    "        else:\n",
    "            flag=False\n",
    "        if flag:\n",
    "            break\n",
    "print(flag)"
   ]
  },
  {
   "cell_type": "code",
   "execution_count": 12,
   "metadata": {},
   "outputs": [
    {
     "name": "stdout",
     "output_type": "stream",
     "text": [
      "[1, 4, 3, 2]\n"
     ]
    },
    {
     "data": {
      "text/plain": [
       "' for i in range (len(List_2)):\\n    \\n    List_1.append(List_2[i])\\n\\nList_1[-1]=List_2\\nprint(List_1)\\n     '"
      ]
     },
     "execution_count": 12,
     "metadata": {},
     "output_type": "execute_result"
    }
   ],
   "source": [
    "#Task 5\n",
    "List_1 =[1, 4, 3, 2, 5]\n",
    "List_2 = [8, 7, 6, 9]\n",
    "List_2[1:-1]\n",
    "List_1[:-1]\n",
    "for i in range (len(List_2)):\n",
    "    \n",
    "    List_1.append(List_2[i])\n",
    "\n",
    "List_1[-1]=List_2\n",
    "print(List_1)\n",
    "    "
   ]
  }
 ],
 "metadata": {
  "kernelspec": {
   "display_name": "Python 3",
   "language": "python",
   "name": "python3"
  },
  "language_info": {
   "codemirror_mode": {
    "name": "ipython",
    "version": 3
   },
   "file_extension": ".py",
   "mimetype": "text/x-python",
   "name": "python",
   "nbconvert_exporter": "python",
   "pygments_lexer": "ipython3",
   "version": "3.11.6"
  }
 },
 "nbformat": 4,
 "nbformat_minor": 2
}
