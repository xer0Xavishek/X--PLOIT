{
 "cells": [
  {
   "cell_type": "code",
   "execution_count": 3,
   "metadata": {},
   "outputs": [
    {
     "name": "stdout",
     "output_type": "stream",
     "text": [
      "[5]\n",
      "[5, 30]\n",
      "[5, 30, 2]\n",
      "[5, 30, 2, 4]\n",
      "[5, 30, 2, 4, -6]\n"
     ]
    }
   ],
   "source": [
    "#Task1(using append method)\n",
    "lst=[]\n",
    "for i in range(5):\n",
    "    x = int(input())\n",
    "    lst.append(x)\n",
    "    print(lst)"
   ]
  },
  {
   "cell_type": "code",
   "execution_count": 7,
   "metadata": {},
   "outputs": [
    {
     "name": "stdout",
     "output_type": "stream",
     "text": [
      "[5]\n",
      "[5, 30]\n",
      "[5, 30, 2]\n",
      "[5, 30, 2, 4]\n",
      "[5, 30, 2, 4, -6]\n"
     ]
    }
   ],
   "source": [
    "#Task1(not using append method)\n",
    "lst=[]\n",
    "for i in range(5):\n",
    "    x = int(input(\"enter\"))\n",
    "    lst+= [x] #We need to  add a list with a list (not another datatype)\n",
    "    print(lst)"
   ]
  },
  {
   "cell_type": "code",
   "execution_count": 17,
   "metadata": {},
   "outputs": [
    {
     "name": "stdout",
     "output_type": "stream",
     "text": [
      "[]\n"
     ]
    }
   ],
   "source": [
    "inlist=input(\"Enter a list of 5 elements: \")[1:-1]#string input 5, -5, 100, 1, 0\n",
    "\n",
    "finList=[]\n",
    "res=\"\"\n",
    "for i in range(len(inlist)):\n",
    "    if i==\",\":\n",
    "        finList.append(int(res))\n",
    "        res=\"\"\n",
    "    else:\n",
    "        res+=str(i)\n",
    "        \n",
    "\n",
    "print(finList)\n",
    "    \n",
    "\n"
   ]
  },
  {
   "cell_type": "code",
   "execution_count": 19,
   "metadata": {},
   "outputs": [
    {
     "name": "stdout",
     "output_type": "stream",
     "text": [
      "[0, 1, 100, -5, 5]\n"
     ]
    }
   ],
   "source": [
    "inlist = input(\"Enter a list of 5 elements: \")[1:-1]  # string input 5, -5, 100, 1, 0\n",
    "\n",
    "finList = []\n",
    "res = \"\"\n",
    "\n",
    "for i in range(len(inlist)):\n",
    "    if inlist[i] == \",\":\n",
    "        finList.append(int(res))\n",
    "        res = \"\"\n",
    "    else:\n",
    "        res += inlist[i]\n",
    "\n",
    "#last element after the loop\n",
    "finList.append(int(res))#normal order\n",
    "\n",
    "# Reversing the list\n",
    "reversed_list = []\n",
    "for i in range(len(finList)- 1, -1, -1):\n",
    "    reversed_list.append(finList[i])\n",
    "\n",
    "# Printing the reversed list\n",
    "print(reversed_list)\n"
   ]
  }
 ],
 "metadata": {
  "kernelspec": {
   "display_name": "Python 3",
   "language": "python",
   "name": "python3"
  },
  "language_info": {
   "codemirror_mode": {
    "name": "ipython",
    "version": 3
   },
   "file_extension": ".py",
   "mimetype": "text/x-python",
   "name": "python",
   "nbconvert_exporter": "python",
   "pygments_lexer": "ipython3",
   "version": "3.11.6"
  }
 },
 "nbformat": 4,
 "nbformat_minor": 2
}
