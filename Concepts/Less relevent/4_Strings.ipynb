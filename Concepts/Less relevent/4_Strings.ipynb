{
  "nbformat": 4,
  "nbformat_minor": 0,
  "metadata": {
    "colab": {
      "provenance": []
    },
    "kernelspec": {
      "name": "python3",
      "display_name": "Python 3"
    },
    "language_info": {
      "name": "python"
    }
  },
  "cells": [
    {
      "cell_type": "markdown",
      "metadata": {
        "id": "V3Ej9OLIu9cC"
      },
      "source": [
        "NOTE : Using In Built Function are heavily scrutanized so please ask your section faculty before using any in exams.\n",
        "\n",
        "\n",
        "```\n",
        "Manual Implementation needed for exam:\n",
        "find() , index()\n",
        "endswith()\n",
        "count()\n",
        "replace()\n",
        "upper() ,lower() , title() , capitalize()\n",
        "\n",
        "```\n",
        "\n",
        "\n",
        "\n",
        "You can use len()"
      ]
    },
    {
      "cell_type": "markdown",
      "metadata": {
        "id": "QdkbUjc7u_EB"
      },
      "source": [
        "# Strings : Intro"
      ]
    },
    {
      "cell_type": "markdown",
      "metadata": {
        "id": "8ir7ewGd2MxE"
      },
      "source": [
        "**Concatenation**\n",
        "\n",
        "\n"
      ]
    },
    {
      "cell_type": "code",
      "metadata": {
        "colab": {
          "base_uri": "https://localhost:8080/"
        },
        "id": "tWgH2Zsj2JxI",
        "outputId": "f0d0bacd-0d4f-491f-bfc9-df0084adb4b6"
      },
      "source": [
        "#Woring with integer\n",
        "\n",
        "a = 2 + 3   #This simply adds numerically\n",
        "print(a)\n",
        "\n",
        "\n",
        "\n",
        "a = \"2\" +\"3\"   #These two are strings so they concatenate (attach) to one another\n",
        "\n",
        "print(a)\n",
        "\n",
        "b = \"2\"+\"4\"+\"1\"\n",
        "print(b)\n",
        "b =  \"2\"+\"4\"+\"1.4\"\n",
        "print(b)\n",
        "\n",
        "c = \"2 \"+\"4\"+\" Hello World\"\n",
        "print(c)\n"
      ],
      "execution_count": null,
      "outputs": [
        {
          "output_type": "stream",
          "text": [
            "5\n",
            "23\n",
            "241\n",
            "241.4\n",
            "2 4 Hello World\n"
          ],
          "name": "stdout"
        }
      ]
    },
    {
      "cell_type": "markdown",
      "metadata": {
        "id": "FyvWUdXY3Fco"
      },
      "source": [
        "# Indexing\n",
        "\n",
        "\n",
        "```\n",
        "len(\"ABCD\") --> 4\n",
        "```\n",
        "\n"
      ]
    },
    {
      "cell_type": "code",
      "source": [
        "strng= \"Hello World\"\n",
        "#       012345678910\n",
        "\n",
        "print(strng)  #This prints the entire string"
      ],
      "metadata": {
        "colab": {
          "base_uri": "https://localhost:8080/"
        },
        "id": "9ZIc36Ffmze4",
        "outputId": "ddb53cf3-373e-4cad-c117-32b2135854c6"
      },
      "execution_count": null,
      "outputs": [
        {
          "output_type": "stream",
          "name": "stdout",
          "text": [
            "Hello World\n"
          ]
        }
      ]
    },
    {
      "cell_type": "code",
      "source": [
        "print(strng[0])\n",
        "print(strng[1])\n",
        "print(strng[4])\n",
        "print(strng[5])"
      ],
      "metadata": {
        "colab": {
          "base_uri": "https://localhost:8080/"
        },
        "id": "zn1H1fWUm19H",
        "outputId": "2600a98f-fab3-42c3-a400-fdc9c49d5ddf"
      },
      "execution_count": null,
      "outputs": [
        {
          "output_type": "stream",
          "name": "stdout",
          "text": [
            "H\n",
            "e\n",
            "o\n",
            " \n"
          ]
        }
      ]
    },
    {
      "cell_type": "code",
      "source": [
        "print(len(strng))\n",
        "print(len(strng)-1)\n",
        "\n",
        "print(\"\\nPrinting the last Character\")\n",
        "print(strng[10])\n",
        "print(strng[len(strng)-1])"
      ],
      "metadata": {
        "colab": {
          "base_uri": "https://localhost:8080/"
        },
        "id": "XwkIcDNsm_4Z",
        "outputId": "ce2505aa-8605-4f9d-ffa6-637e75abff1d"
      },
      "execution_count": null,
      "outputs": [
        {
          "output_type": "stream",
          "name": "stdout",
          "text": [
            "11\n",
            "10\n",
            "\n",
            "Printing the last Character\n",
            "d\n",
            "d\n"
          ]
        }
      ]
    },
    {
      "cell_type": "code",
      "source": [
        "s = \"ABCDEFGHIJHKL\"\n",
        "\n",
        "print(f\"Length of this string {len(s)}\")\n",
        "print(f\"Printing index 10: {s[10]}\")\n",
        "print(f\"Printing to get last character: {s[len(s)-1]}\")"
      ],
      "metadata": {
        "colab": {
          "base_uri": "https://localhost:8080/"
        },
        "id": "1QUn9uFvnemq",
        "outputId": "9034479b-dbfe-4f54-da4c-b8e2dcde9d1a"
      },
      "execution_count": null,
      "outputs": [
        {
          "output_type": "stream",
          "name": "stdout",
          "text": [
            "Length of this string 13\n",
            "Printing index 10: H\n",
            "Printing to get last character: L\n"
          ]
        }
      ]
    },
    {
      "cell_type": "markdown",
      "metadata": {
        "id": "qvVebqsM4VMc"
      },
      "source": [
        "### Negative Indexing\n"
      ]
    },
    {
      "cell_type": "code",
      "metadata": {
        "colab": {
          "base_uri": "https://localhost:8080/"
        },
        "id": "XNrxO1bl4Xdk",
        "outputId": "6d849d64-0eff-4067-c4da-5aa0debe5d1c"
      },
      "source": [
        "strng= \"Hello World\"\n",
        "\n",
        "print(strng[-1])\n",
        "print(strng[-5])\n",
        "print(strng[-11])"
      ],
      "execution_count": null,
      "outputs": [
        {
          "output_type": "stream",
          "name": "stdout",
          "text": [
            "d\n",
            "W\n",
            "H\n"
          ]
        }
      ]
    },
    {
      "cell_type": "markdown",
      "metadata": {
        "id": "qzO73FPzo9Vx"
      },
      "source": [
        "**Ways for printing the last character**"
      ]
    },
    {
      "cell_type": "code",
      "metadata": {
        "colab": {
          "base_uri": "https://localhost:8080/"
        },
        "id": "-IvthkO-o9gw",
        "outputId": "82e17859-2b1b-47c1-d941-f7e6a62d4e1f"
      },
      "source": [
        "strng= \"Hello World\"\n",
        "#       012345678910\n",
        "print(strng[len(strng)-1])   #Method 01 - Using len() function\n",
        "\n",
        "print(strng[-1])             #Method 02 - Using negative indexing\n",
        "\n",
        "print(strng[10])             #Method 03 - [Highly discouraged] Manually using the positive last index. This wont work for string of different length\n"
      ],
      "execution_count": null,
      "outputs": [
        {
          "output_type": "stream",
          "name": "stdout",
          "text": [
            "d\n",
            "d\n",
            "d\n"
          ]
        }
      ]
    },
    {
      "cell_type": "markdown",
      "metadata": {
        "id": "FL2i5bn66h58"
      },
      "source": [
        "# Slicing\n",
        "\n",
        "\n",
        "```\n",
        "[start:end:change] .  End NOT inclusive, like for loop.\n",
        "For Eg: [0:10:1]. This means from index 0 to 9(inclusive). Or 0 to until 10. Incerement by 1 each iteration\n",
        "```\n",
        "\n",
        "\n",
        "\n",
        "> 1 colon -->> Two slots. [start : end].\n",
        "\n",
        "> 2 colon -->> Three slots. [start : end : change].  \n",
        "\n",
        "`Slots can be kept empty. Default values will fill it up. Default value will make sure a substring of maximum length is taken`\n",
        "\n",
        "```\n",
        "~~Comparing range() and slicing~~\n",
        "range():\n",
        "end is exclusive\n",
        "end must be manually given in code\n",
        ",(coma) used\n",
        "\n",
        "slicing:\n",
        "end is exclusive\n",
        "end can be EXCLUDED in code\n",
        ":(colon) used\n",
        "\n",
        "```\n",
        "\n",
        "![image.png](data:image/png;base64,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)\n",
        "\n"
      ]
    },
    {
      "cell_type": "markdown",
      "metadata": {
        "id": "OPBv3Nurp90m"
      },
      "source": [
        "## Different ways to print the whole String\n",
        "\n",
        "### Forward Print\n",
        "\n",
        "**Positive Indexing**"
      ]
    },
    {
      "cell_type": "code",
      "metadata": {
        "colab": {
          "base_uri": "https://localhost:8080/"
        },
        "id": "_QzMmjCl6jHU",
        "outputId": "93a69b15-6584-4dfe-90bc-b596660b1eca"
      },
      "source": [
        "strng= \"Hello World\"\n",
        "#       012345678910\n",
        "\n",
        "\n",
        "\n",
        "print(strng[0:11])\n",
        "print(strng[0:len(strng)])\n",
        "print(strng)\n",
        "print(\"--\")\n",
        "\n",
        "#NOTE : If we keep a slot (start/end/change) then python sets a default variable\n",
        "print(strng[0:])\n",
        "print(strng[:11])\n",
        "print(strng[:len(strng)]) #0<=strng<=10\n",
        "print(strng[:])\n",
        "print(\"--\")\n",
        "\n",
        "#By default the the change is 1(positive 1) so manually writing 1 does not make a difference.\n",
        "print(strng[0:11:1])\n",
        "print(strng[0:len(strng):1])\n",
        "print(strng[:len(strng):1])\n",
        "print(strng[0::1])\n",
        "print(strng[::1])\n",
        "print(strng[::])\n",
        "print(strng[0::])\n",
        "print(strng[0:len(strng):])\n",
        "print(strng[:len(strng):])"
      ],
      "execution_count": null,
      "outputs": [
        {
          "output_type": "stream",
          "name": "stdout",
          "text": [
            "Hello World\n",
            "Hello World\n",
            "Hello World\n",
            "--\n",
            "Hello World\n",
            "Hello World\n",
            "Hello World\n",
            "Hello World\n",
            "--\n",
            "Hello World\n",
            "Hello World\n",
            "Hello World\n",
            "Hello World\n",
            "Hello World\n",
            "Hello World\n",
            "Hello World\n",
            "Hello World\n",
            "Hello World\n"
          ]
        }
      ]
    },
    {
      "cell_type": "markdown",
      "source": [
        "### Reverse Print\n",
        "\n",
        "\n",
        "`\n",
        "Have to keep change as -1\n",
        "`\n",
        "\n",
        "**Positive indexing**\n"
      ],
      "metadata": {
        "id": "aRmX1GELpmHn"
      }
    },
    {
      "cell_type": "code",
      "source": [
        "print(strng[::-1])\n",
        "print(strng[len(strng)-1::-1])\n",
        "print(strng[len(strng)-1:-1:-1])  #uncomment to see the case. Unique case"
      ],
      "metadata": {
        "colab": {
          "base_uri": "https://localhost:8080/"
        },
        "id": "ctzASf7D2HQi",
        "outputId": "b970cd73-37e6-489a-ef23-f25969a98de2"
      },
      "execution_count": null,
      "outputs": [
        {
          "output_type": "stream",
          "name": "stdout",
          "text": [
            "dlroW olleH\n",
            "dlroW olleH\n",
            "\n"
          ]
        }
      ]
    },
    {
      "cell_type": "markdown",
      "source": [
        "**Negative indexing**"
      ],
      "metadata": {
        "id": "FWJ8HKhz8jSm"
      }
    },
    {
      "cell_type": "code",
      "source": [
        "print(strng[-1::-1])\n",
        "print(strng[-1:-len(strng)-1:-1])"
      ],
      "metadata": {
        "colab": {
          "base_uri": "https://localhost:8080/"
        },
        "id": "6luxVY9n8hWD",
        "outputId": "17b0ae21-7eab-4c18-a8ae-8fc2fe069c4d"
      },
      "execution_count": null,
      "outputs": [
        {
          "output_type": "stream",
          "name": "stdout",
          "text": [
            "dlroW olleH\n",
            "dlroW olleH\n"
          ]
        }
      ]
    },
    {
      "cell_type": "markdown",
      "metadata": {
        "id": "GX9O_Op3q6oD"
      },
      "source": [
        "\n",
        "\n",
        "\n",
        "---\n",
        "\n",
        "\n",
        "\n",
        "---\n",
        "\n",
        "\n",
        "---\n",
        "\n",
        "\n",
        "\n",
        "---\n",
        "\n",
        "\n",
        "## Partial String Slicing"
      ]
    },
    {
      "cell_type": "markdown",
      "source": [
        "### Forward Print\n",
        "\n",
        "\n",
        "```\n",
        "If we are starting from the beginning: end must be mentioned in code\n",
        "If we are ending at the end : start must be mentioned\n",
        "\n",
        "```\n",
        "\n",
        "\n",
        "\n",
        "\n",
        "**Positive Indexing**\n",
        "\n",
        "> Use substring to print the FIRST 6 characters\n",
        "\n",
        "`start is optional`\n"
      ],
      "metadata": {
        "id": "EW78mytbpPrn"
      }
    },
    {
      "cell_type": "code",
      "metadata": {
        "colab": {
          "base_uri": "https://localhost:8080/"
        },
        "id": "-JU4BR9eDIuJ",
        "outputId": "ae5fce12-990d-4e4b-b45c-cba811dcffa4"
      },
      "source": [
        "strng= \"Hello World\"\n",
        "#       012345678910\n",
        "\n",
        "print(strng[0:7])\n",
        "print(strng[:7])\n",
        "print(strng[0:7:1])\n",
        "print(strng[:7:1])\n"
      ],
      "execution_count": null,
      "outputs": [
        {
          "output_type": "stream",
          "name": "stdout",
          "text": [
            "Hello W\n",
            "Hello W\n",
            "Hello W\n",
            "Hello W\n"
          ]
        }
      ]
    },
    {
      "cell_type": "markdown",
      "source": [
        "\n",
        "\n",
        "\n",
        "\n",
        "> Use substring to print Last 5 characters\n",
        "\n",
        "`end is optional`\n",
        "\n",
        "\n",
        "\n"
      ],
      "metadata": {
        "id": "shF2OvvRhATH"
      }
    },
    {
      "cell_type": "code",
      "source": [
        "print(strng[-5:len(strng)])\n",
        "print(strng[-5:])\n",
        "print(strng[-5:len(strng):1])\n",
        "print(strng[-5::1])"
      ],
      "metadata": {
        "colab": {
          "base_uri": "https://localhost:8080/"
        },
        "id": "yxLR59Z_hGOx",
        "outputId": "3ed61ecd-3bf3-4b9b-bab7-4d58634af835"
      },
      "execution_count": null,
      "outputs": [
        {
          "output_type": "stream",
          "name": "stdout",
          "text": [
            "World\n",
            "World\n",
            "World\n",
            "World\n"
          ]
        }
      ]
    },
    {
      "cell_type": "markdown",
      "source": [
        "### Reverse Print\n",
        "\n",
        "```\n",
        " change must be -1\n",
        " If we are starting from the end(right), start is optional\n",
        " If we ending at the start(left), end is optional\n",
        "```\n",
        "> Use substring to print the last 7 characters in reverse\n",
        "\n",
        "`start is optional`\n"
      ],
      "metadata": {
        "id": "tLgfY585p0jO"
      }
    },
    {
      "cell_type": "code",
      "source": [
        "print(strng[len(strng)-1:-8:-1])"
      ],
      "metadata": {
        "colab": {
          "base_uri": "https://localhost:8080/"
        },
        "id": "gbIyPHbQ7F8_",
        "outputId": "74af2d37-c890-4749-f633-56e89434f8a5"
      },
      "execution_count": null,
      "outputs": [
        {
          "output_type": "stream",
          "name": "stdout",
          "text": [
            "dlroW o\n"
          ]
        }
      ]
    },
    {
      "cell_type": "code",
      "source": [
        "print(strng[-1:-8:-1])\n",
        "print(strng[:-8:-1])"
      ],
      "metadata": {
        "colab": {
          "base_uri": "https://localhost:8080/"
        },
        "id": "Cne3mshS0QeS",
        "outputId": "7c7deb2b-e129-441e-cd6d-953f23bb371d"
      },
      "execution_count": null,
      "outputs": [
        {
          "output_type": "stream",
          "name": "stdout",
          "text": [
            "dlroW o\n",
            "dlroW o\n"
          ]
        }
      ]
    },
    {
      "cell_type": "markdown",
      "source": [
        "\n",
        "\n",
        "\n",
        "\n",
        "> Use subsstring to print first 5 characters in reverse\n",
        "\n",
        "`end is optional`\n",
        "\n"
      ],
      "metadata": {
        "id": "SpMlVD6vjBSF"
      }
    },
    {
      "cell_type": "code",
      "source": [
        "print(strng[4:-len(strng)-1:-1])\n",
        "print(strng[4::-1])"
      ],
      "metadata": {
        "colab": {
          "base_uri": "https://localhost:8080/"
        },
        "id": "93XPcKF9jJtX",
        "outputId": "b04ecb37-9f08-46de-8e08-763919184d9d"
      },
      "execution_count": null,
      "outputs": [
        {
          "output_type": "stream",
          "name": "stdout",
          "text": [
            "olleH\n",
            "olleH\n"
          ]
        }
      ]
    },
    {
      "cell_type": "markdown",
      "source": [
        "## Partial String More Examples"
      ],
      "metadata": {
        "id": "mUYJk2L9rfno"
      }
    },
    {
      "cell_type": "markdown",
      "source": [
        "\n",
        "\n",
        "> Print the substring without first and last character\n",
        "\n"
      ],
      "metadata": {
        "id": "6sbPAOS7kLAD"
      }
    },
    {
      "cell_type": "code",
      "source": [
        "strng= \"Hello World\"\n",
        "#       012345678910\n",
        "\n",
        "print(strng[1:-1]) #\n",
        "print(strng[1:len(strng)-1])"
      ],
      "metadata": {
        "id": "vPegD1N-rrQ6",
        "colab": {
          "base_uri": "https://localhost:8080/"
        },
        "outputId": "5a1530a5-5c1d-4153-8eb1-2a529c1f8faf"
      },
      "execution_count": null,
      "outputs": [
        {
          "output_type": "stream",
          "name": "stdout",
          "text": [
            "ello Worl\n",
            "ello Worl\n"
          ]
        }
      ]
    },
    {
      "cell_type": "markdown",
      "source": [
        "# Indexing vs Slicing for out of index value"
      ],
      "metadata": {
        "id": "MMIWbaFckwTB"
      }
    },
    {
      "cell_type": "code",
      "source": [
        "s = \"ABC\"\n",
        "#    012\n",
        "\n",
        "print(s[3]) #No characters"
      ],
      "metadata": {
        "colab": {
          "base_uri": "https://localhost:8080/",
          "height": 217
        },
        "id": "uYKr7ha1k4-W",
        "outputId": "5550df10-b5f2-4ff5-b427-e9f197723d4b"
      },
      "execution_count": null,
      "outputs": [
        {
          "output_type": "error",
          "ename": "IndexError",
          "evalue": "ignored",
          "traceback": [
            "\u001b[0;31m---------------------------------------------------------------------------\u001b[0m",
            "\u001b[0;31mIndexError\u001b[0m                                Traceback (most recent call last)",
            "\u001b[0;32m<ipython-input-1-3841aa4bbed4>\u001b[0m in \u001b[0;36m<cell line: 4>\u001b[0;34m()\u001b[0m\n\u001b[1;32m      2\u001b[0m \u001b[0;31m#    012\u001b[0m\u001b[0;34m\u001b[0m\u001b[0;34m\u001b[0m\u001b[0m\n\u001b[1;32m      3\u001b[0m \u001b[0;34m\u001b[0m\u001b[0m\n\u001b[0;32m----> 4\u001b[0;31m \u001b[0mprint\u001b[0m\u001b[0;34m(\u001b[0m\u001b[0ms\u001b[0m\u001b[0;34m[\u001b[0m\u001b[0;36m3\u001b[0m\u001b[0;34m]\u001b[0m\u001b[0;34m)\u001b[0m\u001b[0;34m\u001b[0m\u001b[0;34m\u001b[0m\u001b[0m\n\u001b[0m",
            "\u001b[0;31mIndexError\u001b[0m: string index out of range"
          ]
        }
      ]
    },
    {
      "cell_type": "code",
      "source": [
        "print(s[1:4]) #1,2,3                     --> As there is no character on index = 3, so we only get characters for index= 1 & 2\n",
        "print(s[1:10]) #1,2,3,4,5,6,7,8,9        --> As there is no character on index = 3 to 9, so we only get characters for index= 1 & 2\n",
        "print(s[5:10], len(s[5:10])) #5,6,7,8,9  --> This returns an empty string"
      ],
      "metadata": {
        "colab": {
          "base_uri": "https://localhost:8080/"
        },
        "id": "VXKj12n2lAdG",
        "outputId": "53c65222-20e0-42d9-ff26-9a23df5147f0"
      },
      "execution_count": null,
      "outputs": [
        {
          "output_type": "stream",
          "name": "stdout",
          "text": [
            "BC\n",
            "BC\n",
            " 0\n"
          ]
        }
      ]
    },
    {
      "cell_type": "markdown",
      "metadata": {
        "id": "--Vxy39FtFMA"
      },
      "source": [
        "# String Iterate over For loop\n",
        "### Forward Print\n",
        "\n"
      ]
    },
    {
      "cell_type": "markdown",
      "metadata": {
        "id": "IaxbEkHNZReB"
      },
      "source": [
        "(Way 01)Print every word of a  String first to last"
      ]
    },
    {
      "cell_type": "code",
      "metadata": {
        "colab": {
          "base_uri": "https://localhost:8080/"
        },
        "id": "eJGJLpGIFntg",
        "outputId": "058559c6-6b6c-41e0-8f08-1574707ac059"
      },
      "source": [
        "s = \"Hello World\"\n",
        "for i in s:\n",
        "   print(i,end =\"\")"
      ],
      "execution_count": null,
      "outputs": [
        {
          "output_type": "stream",
          "name": "stdout",
          "text": [
            "Hello World"
          ]
        }
      ]
    },
    {
      "cell_type": "markdown",
      "metadata": {
        "id": "xUuArnuDD4kF"
      },
      "source": [
        "(Way 02)Print every word of a  String using range()"
      ]
    },
    {
      "cell_type": "code",
      "metadata": {
        "colab": {
          "base_uri": "https://localhost:8080/"
        },
        "id": "EoiU6WM0GqRm",
        "outputId": "62e70b60-5075-4f41-a110-2f6407a67a19"
      },
      "source": [
        "s = \"Hello World\"\n",
        "for i in range(0,len(s)):\n",
        "  print(s[i], end =\"\")"
      ],
      "execution_count": null,
      "outputs": [
        {
          "output_type": "stream",
          "name": "stdout",
          "text": [
            "Hello World"
          ]
        }
      ]
    },
    {
      "cell_type": "markdown",
      "source": [
        "### Common Mistakes"
      ],
      "metadata": {
        "id": "ngj7VRp1krUv"
      }
    },
    {
      "cell_type": "code",
      "source": [
        "s = \"Hello World\"\n",
        "for i in s:\n",
        "  print(s[i],end =\"\") #s['H'], s['e']"
      ],
      "metadata": {
        "colab": {
          "base_uri": "https://localhost:8080/",
          "height": 215
        },
        "id": "OG1g6CE1HTNs",
        "outputId": "73db9c4d-312f-4c16-feeb-7ad93a07b561"
      },
      "execution_count": null,
      "outputs": [
        {
          "output_type": "error",
          "ename": "TypeError",
          "evalue": "ignored",
          "traceback": [
            "\u001b[0;31m---------------------------------------------------------------------------\u001b[0m",
            "\u001b[0;31mTypeError\u001b[0m                                 Traceback (most recent call last)",
            "\u001b[0;32m<ipython-input-14-1282a1146033>\u001b[0m in \u001b[0;36m<cell line: 2>\u001b[0;34m()\u001b[0m\n\u001b[1;32m      1\u001b[0m \u001b[0ms\u001b[0m \u001b[0;34m=\u001b[0m \u001b[0;34m\"Hello World\"\u001b[0m\u001b[0;34m\u001b[0m\u001b[0;34m\u001b[0m\u001b[0m\n\u001b[1;32m      2\u001b[0m \u001b[0;32mfor\u001b[0m \u001b[0mi\u001b[0m \u001b[0;32min\u001b[0m \u001b[0ms\u001b[0m\u001b[0;34m:\u001b[0m\u001b[0;34m\u001b[0m\u001b[0;34m\u001b[0m\u001b[0m\n\u001b[0;32m----> 3\u001b[0;31m   \u001b[0mprint\u001b[0m\u001b[0;34m(\u001b[0m\u001b[0ms\u001b[0m\u001b[0;34m[\u001b[0m\u001b[0mi\u001b[0m\u001b[0;34m]\u001b[0m\u001b[0;34m,\u001b[0m\u001b[0mend\u001b[0m \u001b[0;34m=\u001b[0m\u001b[0;34m\"\"\u001b[0m\u001b[0;34m)\u001b[0m \u001b[0;31m#s['H'], s['e']\u001b[0m\u001b[0;34m\u001b[0m\u001b[0;34m\u001b[0m\u001b[0m\n\u001b[0m",
            "\u001b[0;31mTypeError\u001b[0m: string indices must be integers"
          ]
        }
      ]
    },
    {
      "cell_type": "code",
      "source": [
        "s =  int(input(\"Please enter a number \"))\n",
        "\n",
        "for i in s:\n",
        "  print(i, end = \"\")"
      ],
      "metadata": {
        "colab": {
          "base_uri": "https://localhost:8080/",
          "height": 246
        },
        "id": "vN4S6yN7V_z0",
        "outputId": "23fdc7bf-f461-4751-c237-6b6937c3ecee"
      },
      "execution_count": null,
      "outputs": [
        {
          "name": "stdout",
          "output_type": "stream",
          "text": [
            "Please enter a number 123\n"
          ]
        },
        {
          "output_type": "error",
          "ename": "TypeError",
          "evalue": "ignored",
          "traceback": [
            "\u001b[0;31m---------------------------------------------------------------------------\u001b[0m",
            "\u001b[0;31mTypeError\u001b[0m                                 Traceback (most recent call last)",
            "\u001b[0;32m<ipython-input-4-300e32bb9501>\u001b[0m in \u001b[0;36m<cell line: 3>\u001b[0;34m()\u001b[0m\n\u001b[1;32m      1\u001b[0m \u001b[0ms\u001b[0m \u001b[0;34m=\u001b[0m  \u001b[0mint\u001b[0m\u001b[0;34m(\u001b[0m\u001b[0minput\u001b[0m\u001b[0;34m(\u001b[0m\u001b[0;34m\"Please enter a number \"\u001b[0m\u001b[0;34m)\u001b[0m\u001b[0;34m)\u001b[0m\u001b[0;34m\u001b[0m\u001b[0;34m\u001b[0m\u001b[0m\n\u001b[1;32m      2\u001b[0m \u001b[0;34m\u001b[0m\u001b[0m\n\u001b[0;32m----> 3\u001b[0;31m \u001b[0;32mfor\u001b[0m \u001b[0mi\u001b[0m \u001b[0;32min\u001b[0m \u001b[0ms\u001b[0m\u001b[0;34m:\u001b[0m\u001b[0;34m\u001b[0m\u001b[0;34m\u001b[0m\u001b[0m\n\u001b[0m\u001b[1;32m      4\u001b[0m   \u001b[0mprint\u001b[0m\u001b[0;34m(\u001b[0m\u001b[0mi\u001b[0m\u001b[0;34m,\u001b[0m \u001b[0mend\u001b[0m \u001b[0;34m=\u001b[0m \u001b[0;34m\"\"\u001b[0m\u001b[0;34m)\u001b[0m\u001b[0;34m\u001b[0m\u001b[0;34m\u001b[0m\u001b[0m\n",
            "\u001b[0;31mTypeError\u001b[0m: 'int' object is not iterable"
          ]
        }
      ]
    },
    {
      "cell_type": "markdown",
      "source": [
        "### Backward Print"
      ],
      "metadata": {
        "id": "OZ1zjH8CuVOs"
      }
    },
    {
      "cell_type": "markdown",
      "metadata": {
        "id": "TRqYqfi2Hx3I"
      },
      "source": [
        "(Way 01)Print every word of a String last to first"
      ]
    },
    {
      "cell_type": "code",
      "metadata": {
        "colab": {
          "base_uri": "https://localhost:8080/"
        },
        "id": "APE7XjlOH2w2",
        "outputId": "43a4c9c3-30bd-480e-a350-aa3b43b73716"
      },
      "source": [
        "s = \"Hello World\"\n",
        "for i in range(len(s)-1,-1,-1):\n",
        "  print(s[i],end = \"  \")"
      ],
      "execution_count": null,
      "outputs": [
        {
          "output_type": "stream",
          "name": "stdout",
          "text": [
            "d  l  r  o  W     o  l  l  e  H  "
          ]
        }
      ]
    },
    {
      "cell_type": "code",
      "source": [
        "s = \"Hello World\"\n",
        "\n",
        "i = len(s)-1\n",
        "while(i>-1):\n",
        "  print(s[i],end=\"  \")\n",
        "  i -= 1"
      ],
      "metadata": {
        "colab": {
          "base_uri": "https://localhost:8080/"
        },
        "id": "ceWvQaDF0izV",
        "outputId": "cd552dd3-c518-45be-cdea-601bec412a4e"
      },
      "execution_count": null,
      "outputs": [
        {
          "output_type": "stream",
          "name": "stdout",
          "text": [
            "d  l  r  o  W     o  l  l  e  H  "
          ]
        }
      ]
    },
    {
      "cell_type": "code",
      "source": [
        "s = \"Hello World\"\n",
        "for i in range(-1,-len(s)-1,-1):\n",
        "  print(s[i],end=\"  \")"
      ],
      "metadata": {
        "colab": {
          "base_uri": "https://localhost:8080/"
        },
        "id": "-pT0A4khzuJs",
        "outputId": "4ccc68d5-830d-4e89-b214-c2cc75607f95"
      },
      "execution_count": null,
      "outputs": [
        {
          "output_type": "stream",
          "name": "stdout",
          "text": [
            "d  l  r  o  W     o  l  l  e  H  "
          ]
        }
      ]
    },
    {
      "cell_type": "markdown",
      "metadata": {
        "id": "vnczi-uKEniM"
      },
      "source": [
        "(Way 02)Print every word of a String last to first"
      ]
    },
    {
      "cell_type": "code",
      "metadata": {
        "colab": {
          "base_uri": "https://localhost:8080/"
        },
        "id": "5WMZLEGwEm7U",
        "outputId": "46eac767-f113-4131-d237-c088f904f266"
      },
      "source": [
        "s = \"Hello World\"\n",
        "print(s[::-1])"
      ],
      "execution_count": null,
      "outputs": [
        {
          "output_type": "stream",
          "name": "stdout",
          "text": [
            "dlroW olleH\n"
          ]
        }
      ]
    },
    {
      "cell_type": "markdown",
      "source": [
        "### Reverse Print Exception"
      ],
      "metadata": {
        "id": "BLDng-C_D7UH"
      }
    },
    {
      "cell_type": "code",
      "source": [
        "s = \"Hello World\"\n",
        "for i in range(len(s)-1,-1,-1):\n",
        "  print(s[i],end = \"\")"
      ],
      "metadata": {
        "colab": {
          "base_uri": "https://localhost:8080/"
        },
        "id": "-nRrzkIaED8w",
        "outputId": "f912965c-b39e-41c2-ed45-3c1d3299c65b"
      },
      "execution_count": null,
      "outputs": [
        {
          "output_type": "stream",
          "name": "stdout",
          "text": [
            "dlroW olleH"
          ]
        }
      ]
    },
    {
      "cell_type": "code",
      "source": [
        "print(s[len(s)-1:-1:-1])"
      ],
      "metadata": {
        "colab": {
          "base_uri": "https://localhost:8080/"
        },
        "id": "SGEBjJFNEG-9",
        "outputId": "5787d14c-de73-4281-b518-9c0bf3c21f88"
      },
      "execution_count": null,
      "outputs": [
        {
          "output_type": "stream",
          "name": "stdout",
          "text": [
            "\n"
          ]
        }
      ]
    },
    {
      "cell_type": "markdown",
      "metadata": {
        "id": "MoMivSlgs500"
      },
      "source": [
        "# String Advanced"
      ]
    },
    {
      "cell_type": "markdown",
      "metadata": {
        "id": "Zmb_oyXWsfv0"
      },
      "source": [
        "**Testing String Immutability in Python**"
      ]
    },
    {
      "cell_type": "code",
      "metadata": {
        "id": "Wk6YGwfHUaES",
        "colab": {
          "base_uri": "https://localhost:8080/",
          "height": 295
        },
        "outputId": "3b3384cf-ce11-4575-a4e4-948d42bac0f3"
      },
      "source": [
        "\n",
        "a= \"DEF\"\n",
        "print(a)\n",
        "\n",
        "a[1:3] = \"G\"   #Uncomment for error. strings are immutable. Character CAN NOT be changed within a string\n",
        "print(a)\n",
        "\n",
        "\n",
        "a = \"EDA\"    #We are assigning entirely a NEW string in the same variable. Python allows this.\n",
        "print(a)\n",
        "\n",
        "\n",
        "new_str=a    #The whole string is copied to another valriable\n",
        "print(new_str)\n",
        "\n",
        "\n",
        "new_str= a.replace(\"D\",\"Z\") #First python take the string in a then replaces any D with Z and put the string in new_Str. Note: String 'a' is unchanged\n",
        "print(a)\n",
        "print(new_str)"
      ],
      "execution_count": null,
      "outputs": [
        {
          "output_type": "stream",
          "name": "stdout",
          "text": [
            "DEF\n"
          ]
        },
        {
          "output_type": "error",
          "ename": "TypeError",
          "evalue": "ignored",
          "traceback": [
            "\u001b[0;31m---------------------------------------------------------------------------\u001b[0m",
            "\u001b[0;31mTypeError\u001b[0m                                 Traceback (most recent call last)",
            "\u001b[0;32m<ipython-input-29-81cce3038b14>\u001b[0m in \u001b[0;36m<cell line: 4>\u001b[0;34m()\u001b[0m\n\u001b[1;32m      2\u001b[0m \u001b[0mprint\u001b[0m\u001b[0;34m(\u001b[0m\u001b[0ma\u001b[0m\u001b[0;34m)\u001b[0m\u001b[0;34m\u001b[0m\u001b[0;34m\u001b[0m\u001b[0m\n\u001b[1;32m      3\u001b[0m \u001b[0;34m\u001b[0m\u001b[0m\n\u001b[0;32m----> 4\u001b[0;31m \u001b[0ma\u001b[0m\u001b[0;34m[\u001b[0m\u001b[0;36m1\u001b[0m\u001b[0;34m:\u001b[0m\u001b[0;36m3\u001b[0m\u001b[0;34m]\u001b[0m \u001b[0;34m=\u001b[0m \u001b[0;34m\"G\"\u001b[0m   \u001b[0;31m#Uncomment for error. strings are immutable. Character CAN NOT be changed within a string\u001b[0m\u001b[0;34m\u001b[0m\u001b[0;34m\u001b[0m\u001b[0m\n\u001b[0m\u001b[1;32m      5\u001b[0m \u001b[0mprint\u001b[0m\u001b[0;34m(\u001b[0m\u001b[0ma\u001b[0m\u001b[0;34m)\u001b[0m\u001b[0;34m\u001b[0m\u001b[0;34m\u001b[0m\u001b[0m\n\u001b[1;32m      6\u001b[0m \u001b[0;34m\u001b[0m\u001b[0m\n",
            "\u001b[0;31mTypeError\u001b[0m: 'str' object does not support item assignment"
          ]
        }
      ]
    },
    {
      "cell_type": "markdown",
      "source": [
        "**replace()**"
      ],
      "metadata": {
        "id": "PK_kFr7qAwiR"
      }
    },
    {
      "cell_type": "code",
      "source": [
        "old_str = \"DEF\"\n",
        "\n",
        "new_str = old_str.replace(\"D\",\"Z\") #First python take the string in old_str then replaces any D with Z and put the string in new_Str. Note: String old_str is unchanged\n",
        "print(\"old_str->\",old_str)\n",
        "print(\"new_str->\",new_str)"
      ],
      "metadata": {
        "id": "pwlctvfXAu4K",
        "colab": {
          "base_uri": "https://localhost:8080/"
        },
        "outputId": "648d0a34-a0da-461f-bfc3-4b8f691c8d81"
      },
      "execution_count": null,
      "outputs": [
        {
          "output_type": "stream",
          "name": "stdout",
          "text": [
            "old_str-> DEF\n",
            "new_str-> ZEF\n"
          ]
        }
      ]
    },
    {
      "cell_type": "markdown",
      "metadata": {
        "id": "f4Ektd2HMyUd"
      },
      "source": [
        "#ASCII\n",
        "\n",
        "\n",
        "```\n",
        "A-Z ---> 65-90(including 90)\n",
        "a-z ---> 97-122(including 122)\n",
        "```\n",
        "### **ord()**\n",
        "\n",
        "`ord()-> Convert character to Ascii value. Only 1 Character inside ord()\n",
        "\n",
        "\n",
        "\n"
      ]
    },
    {
      "cell_type": "code",
      "metadata": {
        "colab": {
          "base_uri": "https://localhost:8080/"
        },
        "id": "FSXqOfpKMz6m",
        "outputId": "009379dd-a293-48c5-ad18-a88781fd3ce3"
      },
      "source": [
        "\n",
        "#ASCII ord() ---> Used to converted to ASCII values of character(SINGLE). Note: Using ord() to convert multiple characters(string of length > 1) will give an ERROR\n",
        "print(\"Character to Integer\")\n",
        "print(\"Way 01-->\",ord(\"A\"))\n",
        "\n",
        "s = \"A\"\n",
        "print(\"Way 02-->\",ord(s))"
      ],
      "execution_count": null,
      "outputs": [
        {
          "output_type": "stream",
          "name": "stdout",
          "text": [
            "Character to Integer\n",
            "Way 01--> 65\n",
            "Way 02--> 65\n"
          ]
        }
      ]
    },
    {
      "cell_type": "code",
      "source": [
        "s = \"ABC\"\n",
        "print(ord(s))"
      ],
      "metadata": {
        "colab": {
          "base_uri": "https://localhost:8080/",
          "height": 198
        },
        "id": "-_HKYKgn0xoW",
        "outputId": "f253a48b-c161-4b21-9359-21b0a2c9958d"
      },
      "execution_count": null,
      "outputs": [
        {
          "output_type": "error",
          "ename": "TypeError",
          "evalue": "ignored",
          "traceback": [
            "\u001b[0;31m---------------------------------------------------------------------------\u001b[0m",
            "\u001b[0;31mTypeError\u001b[0m                                 Traceback (most recent call last)",
            "\u001b[0;32m<ipython-input-19-15ddff900d79>\u001b[0m in \u001b[0;36m<cell line: 2>\u001b[0;34m()\u001b[0m\n\u001b[1;32m      1\u001b[0m \u001b[0ms\u001b[0m \u001b[0;34m=\u001b[0m \u001b[0;34m\"ABC\"\u001b[0m\u001b[0;34m\u001b[0m\u001b[0;34m\u001b[0m\u001b[0m\n\u001b[0;32m----> 2\u001b[0;31m \u001b[0mprint\u001b[0m\u001b[0;34m(\u001b[0m\u001b[0mord\u001b[0m\u001b[0;34m(\u001b[0m\u001b[0ms\u001b[0m\u001b[0;34m)\u001b[0m\u001b[0;34m)\u001b[0m\u001b[0;34m\u001b[0m\u001b[0;34m\u001b[0m\u001b[0m\n\u001b[0m",
            "\u001b[0;31mTypeError\u001b[0m: ord() expected a character, but string of length 3 found"
          ]
        }
      ]
    },
    {
      "cell_type": "code",
      "source": [
        "for i in s:\n",
        "  print(f\"{i} ascii value is {ord(i)}\")"
      ],
      "metadata": {
        "colab": {
          "base_uri": "https://localhost:8080/"
        },
        "id": "A3kxTcQ5mVOn",
        "outputId": "813c01be-680a-46eb-a37b-832c6120df6d"
      },
      "execution_count": null,
      "outputs": [
        {
          "output_type": "stream",
          "name": "stdout",
          "text": [
            "A ascii value is 65\n",
            "B ascii value is 66\n",
            "C ascii value is 67\n"
          ]
        }
      ]
    },
    {
      "cell_type": "markdown",
      "source": [
        "### **chr()**\n",
        "\n",
        "\n",
        "\n",
        "`chr() --> Convert ascii value to character`\n"
      ],
      "metadata": {
        "id": "YdbwitOLBnU0"
      }
    },
    {
      "cell_type": "code",
      "source": [
        "#chr() --> used to convert ascii value to character\n",
        "\n",
        "print(\"Integer to character\")\n",
        "print(\"Way 01-->\",chr(97))\n",
        "\n",
        "s = 97\n",
        "print(\"Way 02-->\",chr(s))"
      ],
      "metadata": {
        "colab": {
          "base_uri": "https://localhost:8080/"
        },
        "id": "NsPvFwg3-FVF",
        "outputId": "fa7ba345-de99-4930-f7a3-d9683c9d2708"
      },
      "execution_count": null,
      "outputs": [
        {
          "output_type": "stream",
          "name": "stdout",
          "text": [
            "Integer to character\n",
            "Way 01--> a\n",
            "Way 02--> a\n"
          ]
        }
      ]
    },
    {
      "cell_type": "markdown",
      "source": [
        "### **Capital to Small Letter**\n",
        "![image.png](data:image/png;base64,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)"
      ],
      "metadata": {
        "id": "KrhXbtrJM_IL"
      }
    },
    {
      "cell_type": "code",
      "source": [
        "print(\"Step 1\",ord(\"B\"))            #First we find the ascii value of B\n",
        "print(\"Step 2\",ord(\"B\")+32)         #Secondly, we add 32 to the ascii value to convert the ascii value from B to b\n",
        "print(\"Step 3\",chr(ord(\"B\")+32))    #Thirdly, we put the ascii value of b in char() to find the corresponding character b"
      ],
      "metadata": {
        "id": "b5RB-197L__1",
        "colab": {
          "base_uri": "https://localhost:8080/"
        },
        "outputId": "49f65011-845d-4206-e309-b477ebe071d8"
      },
      "execution_count": null,
      "outputs": [
        {
          "output_type": "stream",
          "name": "stdout",
          "text": [
            "Step 1 66\n",
            "Step 2 98\n",
            "Step 3 b\n"
          ]
        }
      ]
    },
    {
      "cell_type": "code",
      "source": [
        "print(chr(ord(\"B\")+32))"
      ],
      "metadata": {
        "colab": {
          "base_uri": "https://localhost:8080/"
        },
        "id": "BqX7drK-hbI_",
        "outputId": "bb5e5947-2a49-4bbf-bf8d-b15cf5f0fe5e"
      },
      "execution_count": null,
      "outputs": [
        {
          "output_type": "stream",
          "name": "stdout",
          "text": [
            "b\n"
          ]
        }
      ]
    },
    {
      "cell_type": "code",
      "source": [
        "print(chr(ord(\"A\")+1))    #Next character\n",
        "print(chr(ord(\"D\")+32))   #Capital to Small\n",
        "print(chr(ord(\"d\")-32))   #Small to Capital"
      ],
      "metadata": {
        "colab": {
          "base_uri": "https://localhost:8080/"
        },
        "id": "fmpvqWQX-g0g",
        "outputId": "7cdb2fd6-be8c-4dfe-de03-3fdd4876dad7"
      },
      "execution_count": null,
      "outputs": [
        {
          "output_type": "stream",
          "name": "stdout",
          "text": [
            "B\n",
            "d\n",
            "D\n"
          ]
        }
      ]
    },
    {
      "cell_type": "markdown",
      "source": [
        "### Small to Capital Letter"
      ],
      "metadata": {
        "id": "v9qQrGwKx_uA"
      }
    },
    {
      "cell_type": "markdown",
      "source": [
        "\n",
        "\n",
        "> Wrong Implementation\n",
        "\n"
      ],
      "metadata": {
        "id": "IwUNAAsNm1xr"
      }
    },
    {
      "cell_type": "code",
      "source": [
        "s= \"aBcd11@\"\n",
        "final = \"\"\n",
        "for i in s:\n",
        "     final+=chr(ord(i)-32)  #Problem: Subtracting ascii value 32 from all characters even if they are NOT small letter alphabets\n",
        "\n",
        "print(final)"
      ],
      "metadata": {
        "colab": {
          "base_uri": "https://localhost:8080/"
        },
        "id": "vvPFYvrtyGC0",
        "outputId": "f6d3e02d-bdf3-4a84-d5c6-3bbfb2f5eb5b"
      },
      "execution_count": null,
      "outputs": [
        {
          "output_type": "stream",
          "name": "stdout",
          "text": [
            "A\"CD\u0011\u0011 \n"
          ]
        }
      ]
    },
    {
      "cell_type": "markdown",
      "source": [
        "\n",
        "\n",
        "> Right Implementation\n",
        "\n"
      ],
      "metadata": {
        "id": "Rk5S4JVem50e"
      }
    },
    {
      "cell_type": "code",
      "source": [
        "s= \"aBcd11@\"\n",
        "final = \"\"\n",
        "for i in s:\n",
        "    if \"a\"<= i <= \"z\":  #soltuion: we are checking if our character is small letter\n",
        "     final+=chr(ord(i)-32)   #only then we are making it a capital letter\n",
        "    else:\n",
        "      final += i\n",
        "print(final)"
      ],
      "metadata": {
        "colab": {
          "base_uri": "https://localhost:8080/"
        },
        "id": "S1HOjB__pJqD",
        "outputId": "6103be0a-6f4c-40ee-c308-b4b70953ba01"
      },
      "execution_count": null,
      "outputs": [
        {
          "output_type": "stream",
          "name": "stdout",
          "text": [
            "ABCD11@\n"
          ]
        }
      ]
    },
    {
      "cell_type": "markdown",
      "source": [
        "### Upper vs Capitalize vs Title\n",
        "\n",
        "\n",
        "```\n",
        "Upper: All letter in a sentence are turned to capital letter\n",
        "Capitalize: Only first letter of a sentence is turned to a capital letter\n",
        "Title: Only first letter of each word is turned to a capital letter\n",
        "```\n",
        "\n"
      ],
      "metadata": {
        "id": "qqQ708256XX9"
      }
    },
    {
      "cell_type": "code",
      "source": [
        "txt = \"Hello, this is my world\"\n",
        "\n",
        "print(txt.upper())\n",
        "print(txt.capitalize())\n",
        "print(txt.title())"
      ],
      "metadata": {
        "colab": {
          "base_uri": "https://localhost:8080/"
        },
        "id": "RZT1o-Ta6j4o",
        "outputId": "aa80fa2d-0883-4dae-906b-e318a0993e6d"
      },
      "execution_count": null,
      "outputs": [
        {
          "output_type": "stream",
          "name": "stdout",
          "text": [
            "HELLO, THIS IS MY WORLD\n",
            "Hello, this is my world\n",
            "Hello, This Is My World\n"
          ]
        }
      ]
    },
    {
      "cell_type": "markdown",
      "source": [
        "#Comparison"
      ],
      "metadata": {
        "id": "3-1SwUqjKyXF"
      }
    },
    {
      "cell_type": "markdown",
      "source": [
        "**Case 1: Equal operator**"
      ],
      "metadata": {
        "id": "37dS9oOHViaU"
      }
    },
    {
      "cell_type": "code",
      "source": [
        "character = \"a\"\n",
        "ascii_value = ord(character)\n",
        "\n",
        "if ascii_value == 97:\n",
        "  print(\"It is small letter a\")\n",
        "else:\n",
        "  print(\"Not a small letter a\")"
      ],
      "metadata": {
        "colab": {
          "base_uri": "https://localhost:8080/"
        },
        "id": "mgCqjWmp4wyL",
        "outputId": "c6637908-2897-4258-f413-0665a5aca7f4"
      },
      "execution_count": null,
      "outputs": [
        {
          "output_type": "stream",
          "name": "stdout",
          "text": [
            "It is small letter a\n"
          ]
        }
      ]
    },
    {
      "cell_type": "code",
      "source": [
        "character = \"a\"\n",
        "if character == \"a\":\n",
        "  print(\"It is small letter a\")\n",
        "else:\n",
        "  print(\"Not a small letter a\")"
      ],
      "metadata": {
        "colab": {
          "base_uri": "https://localhost:8080/"
        },
        "id": "8XqBhQSj5AFP",
        "outputId": "014c3213-f1ba-48a3-e893-3609f7109d51"
      },
      "execution_count": null,
      "outputs": [
        {
          "output_type": "stream",
          "name": "stdout",
          "text": [
            "It is small letter a\n"
          ]
        }
      ]
    },
    {
      "cell_type": "markdown",
      "source": [
        "**Case 2: In a range**"
      ],
      "metadata": {
        "id": "U_vzTcWDWWxN"
      }
    },
    {
      "cell_type": "code",
      "source": [
        "capital_letter = \"b\"\n",
        "ascii = ord(capital_letter)\n",
        "\n",
        "if 65<=ascii<=90:\n",
        "  print(\"Capital letter\")\n",
        "else:\n",
        "  print(\"Not a Capital letter\")"
      ],
      "metadata": {
        "colab": {
          "base_uri": "https://localhost:8080/"
        },
        "id": "7inMGNoD5XgC",
        "outputId": "d76986a0-9fd2-47a0-f362-239485c7878e"
      },
      "execution_count": null,
      "outputs": [
        {
          "output_type": "stream",
          "name": "stdout",
          "text": [
            "Not a Capital letter\n"
          ]
        }
      ]
    },
    {
      "cell_type": "code",
      "source": [
        "letter = \"b\"\n",
        "\n",
        "\n",
        "if \"A\"<=letter<=\"Z\":\n",
        "  print(\"Capital letter\")\n",
        "else:\n",
        "  print(\"Not a Capital letter\")"
      ],
      "metadata": {
        "colab": {
          "base_uri": "https://localhost:8080/"
        },
        "id": "iRdoI-HR5oqd",
        "outputId": "b6d331c5-9580-403f-b7ee-f667e4593369"
      },
      "execution_count": null,
      "outputs": [
        {
          "output_type": "stream",
          "name": "stdout",
          "text": [
            "Not a Capital letter\n"
          ]
        }
      ]
    },
    {
      "cell_type": "code",
      "source": [
        "digit = \"5\"\n",
        "\n",
        "\n",
        "if \"0\"<=digit<=\"9\":  #digit.isdigit() --> Is the string a digit\n",
        "  print(\"Number\")\n",
        "else:\n",
        "  print(\"Not a Number\")"
      ],
      "metadata": {
        "colab": {
          "base_uri": "https://localhost:8080/"
        },
        "id": "LYH9GqPH5-bc",
        "outputId": "ea6f9dc0-54fa-4b01-b1ec-686143990a99"
      },
      "execution_count": null,
      "outputs": [
        {
          "output_type": "stream",
          "name": "stdout",
          "text": [
            "Number\n"
          ]
        }
      ]
    },
    {
      "cell_type": "markdown",
      "source": [
        "**Case 3:Using in operator**"
      ],
      "metadata": {
        "id": "_0GRnC4-Xd8u"
      }
    },
    {
      "cell_type": "code",
      "source": [
        "symbol = \"-\"\n",
        "\n",
        "if symbol in \"!.?:\": #ord(symbol) == ord(\"!\") or ord(symbol) == ord(\".\")\n",
        "  print(\"Symbol\")\n",
        "else:\n",
        "  print(\"Not a symbol\")"
      ],
      "metadata": {
        "id": "eBp6B_7b7TFp",
        "outputId": "ac4a454b-efaf-4a33-e07d-4d2e1db82fbf",
        "colab": {
          "base_uri": "https://localhost:8080/"
        }
      },
      "execution_count": null,
      "outputs": [
        {
          "output_type": "stream",
          "name": "stdout",
          "text": [
            "Symbol\n"
          ]
        }
      ]
    },
    {
      "cell_type": "markdown",
      "source": [
        "# Understanding endswith()"
      ],
      "metadata": {
        "id": "Nv0lNy4ll3jJ"
      }
    },
    {
      "cell_type": "code",
      "source": [
        "string = \"stronger\"\n",
        "\n",
        "if string.endswith(\"er\"):\n",
        "  print(\"Ends with er\")\n",
        "else:\n",
        "  print(\"Does not end with er\")"
      ],
      "metadata": {
        "id": "4b9GVNOIl2wC",
        "colab": {
          "base_uri": "https://localhost:8080/"
        },
        "outputId": "449263fc-60ca-4a03-ec48-4b6a248f9dd0"
      },
      "execution_count": null,
      "outputs": [
        {
          "output_type": "stream",
          "name": "stdout",
          "text": [
            "Ends with er\n"
          ]
        }
      ]
    },
    {
      "cell_type": "code",
      "source": [
        "string = \"strongest\"\n",
        "\n",
        "if string[-2:] == \"er\":\n",
        "    print(\"Ends with er\")\n",
        "else:\n",
        "    print(\"Does not end with er\")"
      ],
      "metadata": {
        "colab": {
          "base_uri": "https://localhost:8080/"
        },
        "id": "BYiPZqK91tBi",
        "outputId": "4ee21d1b-46ee-47ee-e1a3-aef8a205cda2"
      },
      "execution_count": null,
      "outputs": [
        {
          "output_type": "stream",
          "name": "stdout",
          "text": [
            "Does not end with er\n"
          ]
        }
      ]
    },
    {
      "cell_type": "code",
      "source": [
        "string = \"strongest\"\n",
        "\n",
        "if  string[len(string)-2:len(string)]  == \"er\":\n",
        "      print(\"Ends with er\")\n",
        "else:\n",
        "     print(\"Does not end with er\")"
      ],
      "metadata": {
        "colab": {
          "base_uri": "https://localhost:8080/"
        },
        "id": "Q2a-kWGr2LHZ",
        "outputId": "4760f024-3eff-4e0b-b247-36b33dabd2d1"
      },
      "execution_count": null,
      "outputs": [
        {
          "output_type": "stream",
          "name": "stdout",
          "text": [
            "Does not end with er\n"
          ]
        }
      ]
    },
    {
      "cell_type": "markdown",
      "source": [
        "# Understanding strip()\n",
        "`string is converted to list where each element is a string`\n",
        "\n",
        "\n",
        "**1.Basic strip()**"
      ],
      "metadata": {
        "id": "lY4OqZP0xhPD"
      }
    },
    {
      "cell_type": "code",
      "source": [
        "string = \" abcd \"\n",
        "print(\"Before:\",string,len(string))\n",
        "\n",
        "split_String = string.strip()\n",
        "print(\"After:\",split_String,len(split_String))\n",
        "\n",
        "string2 = \"        abcd  \"\n",
        "print(\"Before:\",string2,len(string2))\n",
        "\n",
        "split_String2 = string2.strip()\n",
        "print(\"After:\",split_String2,len(split_String2))"
      ],
      "metadata": {
        "colab": {
          "base_uri": "https://localhost:8080/"
        },
        "id": "k-MGdvHUW3mc",
        "outputId": "b4454e7e-54bb-4cf4-fba7-0c10bd67cc28"
      },
      "execution_count": null,
      "outputs": [
        {
          "output_type": "stream",
          "name": "stdout",
          "text": [
            "Before:  abcd  6\n",
            "After: abcd 4\n",
            "Before:         abcd   14\n",
            "After: abcd 4\n"
          ]
        }
      ]
    },
    {
      "cell_type": "markdown",
      "source": [
        "**2.strip() on sentences with whitespace in between**"
      ],
      "metadata": {
        "id": "I9QwkIYQxyoA"
      }
    },
    {
      "cell_type": "code",
      "source": [
        "string = \"   The  boy   \"\n",
        "print(\"Before:\",string,len(string))\n",
        "\n",
        "split_String = string.strip()\n",
        "print(\"After:\",split_String,len(split_String))"
      ],
      "metadata": {
        "colab": {
          "base_uri": "https://localhost:8080/"
        },
        "id": "V2aIxB2YXo9V",
        "outputId": "5ed6df89-4950-4efa-d99a-2237bab4748c"
      },
      "execution_count": null,
      "outputs": [
        {
          "output_type": "stream",
          "name": "stdout",
          "text": [
            "Before:    The  boy    14\n",
            "After: The  boy 8\n"
          ]
        }
      ]
    },
    {
      "cell_type": "markdown",
      "source": [
        "**3.lstrip()**\n",
        "\n",
        "`removes only space on the extreme left`"
      ],
      "metadata": {
        "id": "XlkA1iacyOFp"
      }
    },
    {
      "cell_type": "code",
      "source": [
        "string = \"   The  boy   \"\n",
        "print(\"Before:\",string,len(string))\n",
        "\n",
        "split_String = string.lstrip()\n",
        "print(\"After:\",split_String,len(split_String))"
      ],
      "metadata": {
        "colab": {
          "base_uri": "https://localhost:8080/"
        },
        "id": "6T3BhoZ0X0DA",
        "outputId": "f8953ba3-c0bc-46b0-bc76-87741a9faefd"
      },
      "execution_count": null,
      "outputs": [
        {
          "output_type": "stream",
          "name": "stdout",
          "text": [
            "Before:    The  boy    14\n",
            "After: The  boy    11\n"
          ]
        }
      ]
    },
    {
      "cell_type": "markdown",
      "source": [
        "**4.rstrip()**\n",
        "\n",
        "`removes only space on the extreme right`"
      ],
      "metadata": {
        "id": "vr0Xuophyah-"
      }
    },
    {
      "cell_type": "code",
      "source": [
        "string = \"   The  boy   \"\n",
        "print(\"Before:\",string,len(string))\n",
        "\n",
        "split_String = string.rstrip()\n",
        "print(\"After:\",split_String,len(split_String))"
      ],
      "metadata": {
        "colab": {
          "base_uri": "https://localhost:8080/"
        },
        "id": "mI-I-hlXX4dD",
        "outputId": "90ee167f-e665-4edf-efb6-bece98c5344e"
      },
      "execution_count": null,
      "outputs": [
        {
          "output_type": "stream",
          "name": "stdout",
          "text": [
            "Before:    The  boy    14\n",
            "After:    The  boy 11\n"
          ]
        }
      ]
    },
    {
      "cell_type": "markdown",
      "source": [
        "# find() vs index()\n",
        "\n",
        "`Both returns the index of the first occurance of the target variable. If target variable is not found, find() gives -1 and index() gives ERROR`"
      ],
      "metadata": {
        "id": "xEu8st8fj4S_"
      }
    },
    {
      "cell_type": "code",
      "source": [
        "string1 = \"ABCDBD\"\n",
        "#          012345\n",
        "print(string1.find(\"D\"))\n",
        "print(string1.index(\"D\"))"
      ],
      "metadata": {
        "colab": {
          "base_uri": "https://localhost:8080/"
        },
        "id": "5IFTM4uLj4Zc",
        "outputId": "1f5919c9-7ca6-48f6-90ce-cfc1f5c31f75"
      },
      "execution_count": null,
      "outputs": [
        {
          "output_type": "stream",
          "name": "stdout",
          "text": [
            "3\n",
            "3\n"
          ]
        }
      ]
    },
    {
      "cell_type": "code",
      "source": [
        "string2 = \"ABCDB\"\n",
        "\n",
        "print(string2.find(\"E\"))\n",
        "#print(string2.index(\"E\"))  #Uncomment for ERROR"
      ],
      "metadata": {
        "colab": {
          "base_uri": "https://localhost:8080/"
        },
        "id": "K4SC4aulkFqq",
        "outputId": "fdd3717a-ba18-4e88-edb2-174a3441dc86"
      },
      "execution_count": null,
      "outputs": [
        {
          "output_type": "stream",
          "name": "stdout",
          "text": [
            "-1\n"
          ]
        }
      ]
    },
    {
      "cell_type": "code",
      "source": [
        "string3 = \"The bluebook is of color blue which is same as the color of blue sky\"\n",
        "#          0123456789\n",
        "print(string3.find(\"blue\"))\n",
        "print(string3.find(\"ue\"))"
      ],
      "metadata": {
        "colab": {
          "base_uri": "https://localhost:8080/"
        },
        "id": "Fp9w704rokPo",
        "outputId": "29af0d0a-5f37-47f4-cd71-8a02250aed2c"
      },
      "execution_count": null,
      "outputs": [
        {
          "output_type": "stream",
          "name": "stdout",
          "text": [
            "4\n",
            "6\n"
          ]
        }
      ]
    },
    {
      "cell_type": "markdown",
      "source": [
        "### find() in detail\n",
        "\n",
        "\n",
        "```\n",
        "string.find(value, start, end)\n",
        "Value = Required. Character we are searching for.\n",
        "start = Optional. Starting index (inclusive)\n",
        "end = Optional. Ending index (exclusive)\n",
        "```\n",
        "\n"
      ],
      "metadata": {
        "id": "z4KGNo4fy7gJ"
      }
    },
    {
      "cell_type": "code",
      "source": [
        "\n",
        "string2 = \"AAAA BBB A\"\n",
        "#          0123456789\n",
        "\n",
        "print(string2.find(\"A\"))\n",
        "print(string2.find(\"A\",4,9)) #start = 4(inclusive), end=9(exclusive)"
      ],
      "metadata": {
        "colab": {
          "base_uri": "https://localhost:8080/"
        },
        "id": "VGYP68p4mF_1",
        "outputId": "30bf9713-be45-4917-922f-f572ff45583f"
      },
      "execution_count": null,
      "outputs": [
        {
          "output_type": "stream",
          "name": "stdout",
          "text": [
            "0\n",
            "-1\n"
          ]
        }
      ]
    },
    {
      "cell_type": "markdown",
      "source": [
        "### find() - Manual Implementation"
      ],
      "metadata": {
        "id": "bNqFXq0-k-K9"
      }
    },
    {
      "cell_type": "code",
      "source": [
        "idx = -1\n",
        "\n",
        "string3 = \"ABCDBD\"\n",
        "#          012345\n",
        "for i in range(len(string3)):\n",
        "  if string3[i]==\"D\":\n",
        "    idx = i\n",
        "    break #ensure that first occurence value is stored in position variable\n",
        "\n",
        "print(idx)"
      ],
      "metadata": {
        "colab": {
          "base_uri": "https://localhost:8080/"
        },
        "id": "IpEAIoa_kf8D",
        "outputId": "b27dd3d5-f8e4-40ad-c02d-9a94a6e14a28"
      },
      "execution_count": null,
      "outputs": [
        {
          "output_type": "stream",
          "name": "stdout",
          "text": [
            "3\n"
          ]
        }
      ]
    },
    {
      "cell_type": "markdown",
      "source": [
        "# Understanding count()"
      ],
      "metadata": {
        "id": "oWtFT_jqsOHn"
      }
    },
    {
      "cell_type": "code",
      "source": [
        "str"
      ],
      "metadata": {
        "id": "sNHrdTzRsR14"
      },
      "execution_count": null,
      "outputs": []
    },
    {
      "cell_type": "markdown",
      "source": [
        "# Understanding replace()"
      ],
      "metadata": {
        "id": "kChTUWedsWen"
      }
    },
    {
      "cell_type": "code",
      "source": [],
      "metadata": {
        "colab": {
          "base_uri": "https://localhost:8080/"
        },
        "id": "04WkNUXo9JK0",
        "outputId": "bf4cf483-67a5-4c5e-e4c6-95d9fe6a1786"
      },
      "execution_count": null,
      "outputs": [
        {
          "output_type": "stream",
          "name": "stdout",
          "text": [
            "Please give a string This-is-CSE\n",
            "This\n",
            "is\n"
          ]
        }
      ]
    },
    {
      "cell_type": "markdown",
      "source": [
        "# Important For Tracing"
      ],
      "metadata": {
        "id": "komZyutO6AgI"
      }
    },
    {
      "cell_type": "code",
      "source": [
        "print(\"A\"+str(1//3))\n",
        "\n",
        "print(\"B\"+str(0/5))\n",
        "\n",
        "print(\"C\"+str(4.5//3))\n",
        "\n",
        "\n",
        "print(\"D\"*5)"
      ],
      "metadata": {
        "colab": {
          "base_uri": "https://localhost:8080/"
        },
        "id": "cblnzeee6LON",
        "outputId": "903a0f04-7daa-41d4-c064-3c6a4c70c65f"
      },
      "execution_count": null,
      "outputs": [
        {
          "output_type": "stream",
          "name": "stdout",
          "text": [
            "A0\n",
            "B0.0\n",
            "C1.0\n",
            "DDDDD\n"
          ]
        }
      ]
    },
    {
      "cell_type": "code",
      "source": [
        "s = \"ABCDEF\"\n",
        "print(s[::2])"
      ],
      "metadata": {
        "colab": {
          "base_uri": "https://localhost:8080/"
        },
        "id": "TsO5Tq5UDOwu",
        "outputId": "7e72b220-4c43-4dda-fbe3-686c0796fd7a"
      },
      "execution_count": null,
      "outputs": [
        {
          "output_type": "stream",
          "name": "stdout",
          "text": [
            "ACE\n"
          ]
        }
      ]
    },
    {
      "cell_type": "code",
      "source": [
        "s = \"ABCDEF\"\n",
        "\n",
        "print(\"The answer is \",s[1:1:1])"
      ],
      "metadata": {
        "colab": {
          "base_uri": "https://localhost:8080/"
        },
        "id": "4pZl_QdSDUzA",
        "outputId": "04e0f794-7ad4-40b4-e27c-f1ca3c063dd4"
      },
      "execution_count": null,
      "outputs": [
        {
          "output_type": "stream",
          "name": "stdout",
          "text": [
            "The answer is  \n"
          ]
        }
      ]
    }
  ]
}