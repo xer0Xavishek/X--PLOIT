{
 "cells": [
  {
   "cell_type": "code",
   "execution_count": 3,
   "metadata": {},
   "outputs": [
    {
     "name": "stdout",
     "output_type": "stream",
     "text": [
      "Even!!\n",
      "Odd!!\n"
     ]
    }
   ],
   "source": [
    "#CW-1.1\n",
    "def even_checker(n):\n",
    "    if n % 2 == 0:\n",
    "        print(\"Even!!\")\n",
    "    else:\n",
    "        print(\"Odd!!\")\n",
    "\n",
    "even_checker(10)\n",
    "even_checker(17)"
   ]
  },
  {
   "cell_type": "code",
   "execution_count": 17,
   "metadata": {},
   "outputs": [
    {
     "name": "stdout",
     "output_type": "stream",
     "text": [
      "True\n",
      "False\n"
     ]
    }
   ],
   "source": [
    "#CW-1.2\n",
    "def is_even(n):\n",
    "    return n % 2 == 0\n",
    "result = is_even(10)\n",
    "print(result)\n",
    "result = is_even(17)\n",
    "print(result)"
   ]
  },
  {
   "cell_type": "code",
   "execution_count": 16,
   "metadata": {},
   "outputs": [
    {
     "name": "stdout",
     "output_type": "stream",
     "text": [
      "False\n",
      "True\n"
     ]
    }
   ],
   "source": [
    "#CW-1.3\n",
    "def is_pos(n):\n",
    "    return n > 0\n",
    "result = is_pos(-5)#checks the number is positive or not\n",
    "print(result)\n",
    "result = is_pos(12)\n",
    "print(result)"
   ]
  },
  {
   "cell_type": "code",
   "execution_count": 18,
   "metadata": {},
   "outputs": [
    {
     "name": "stdout",
     "output_type": "stream",
     "text": [
      "-8\n",
      "-6\n",
      "-4\n",
      "-2\n"
     ]
    }
   ],
   "source": [
    "#CW-1.4\n",
    "def sequence(n):\n",
    "    if n>0:\n",
    "        for i in range(n+1):\n",
    "            if is_even(i):\n",
    "                print(i)\n",
    "        \n",
    "    elif n<0:\n",
    "        for j in range(n, 0, 1):\n",
    "            if is_even(j):\n",
    "                print(j)\n",
    "\n",
    "sequence(-8)"
   ]
  },
  {
   "cell_type": "code",
   "execution_count": 19,
   "metadata": {},
   "outputs": [
    {
     "name": "stdout",
     "output_type": "stream",
     "text": [
      "True\n",
      "False\n"
     ]
    }
   ],
   "source": [
    "#CW-2.1\n",
    "def is_valid_triangle(side1, side2, side3):\n",
    "    if (side1 + side2 <= side3) or (side1 + side3 <= side2) or (side2 + side3 <= side1):\n",
    "        return False\n",
    "    else:\n",
    "        return True\n",
    "print(is_valid_triangle(7, 5, 10))  # Expected output: True\n",
    "print(is_valid_triangle(3, 2, 1))  # Expected output: False"
   ]
  },
  {
   "cell_type": "code",
   "execution_count": 24,
   "metadata": {},
   "outputs": [
    {
     "name": "stdout",
     "output_type": "stream",
     "text": [
      "Not a valid triangle\n",
      "Area of the triangle is: 16.24807680927192\n"
     ]
    }
   ],
   "source": [
    "#CW-2.2\n",
    "def tri_area(side1, side2, side3):\n",
    "    if not is_valid_triangle(side1, side2, side3):\n",
    "        print(\"Not a valid triangle\")\n",
    "        return\n",
    "    s = (side1 + side2 + side3) / 2\n",
    "    area = math.sqrt(s * (s - side1) * (s - side2) * (s - side3))\n",
    "    print(f\"Area of the triangle is: {area}\")\n",
    "\n",
    "# Now We can Test the function\n",
    "tri_area(3,2,1) \n",
    "tri_area(7,5,10)  "
   ]
  },
  {
   "cell_type": "code",
   "execution_count": 4,
   "metadata": {},
   "outputs": [
    {
     "name": "stdout",
     "output_type": "stream",
     "text": [
      "78.53981633974483\n"
     ]
    }
   ],
   "source": [
    "#CW-3.1\n",
    "import math\n",
    "\n",
    "def circle(radius):\n",
    "    return math.pi * radius ** 2\n",
    "\n",
    "\n",
    "\n",
    "print(circle(5))  \n",
    " "
   ]
  },
  {
   "cell_type": "code",
   "execution_count": 13,
   "metadata": {},
   "outputs": [
    {
     "name": "stdout",
     "output_type": "stream",
     "text": [
      "523.5987755982989\n"
     ]
    }
   ],
   "source": [
    "#CW-3.2\n",
    "import math#to validate math.pi\n",
    "\n",
    "def sphere(radius):\n",
    "    return (4/3) * math.pi * radius ** 3\n",
    "print(sphere(5))"
   ]
  },
  {
   "cell_type": "code",
   "execution_count": 12,
   "metadata": {},
   "outputs": [
    {
     "name": "stdout",
     "output_type": "stream",
     "text": [
      "Sphere-2 can fit inside Sphere-1 and 12700.412 cubic units would be left.\n"
     ]
    }
   ],
   "source": [
    "#CW-3.3\n",
    "def fitting(diameter1, diameter2, dimension):\n",
    "    radius1 = (diameter1) / 2\n",
    "    radius2 = (diameter2) / 2\n",
    "\n",
    "    if dimension == 3:\n",
    "        volume1 = sphere(radius1)\n",
    "        volume2 = sphere(radius2)\n",
    "        if volume1 > volume2:\n",
    "            print(f\"Sphere-2 can fit inside Sphere-1 and {round(volume1 - volume2,3)} cubic units would be left.\")\n",
    "            \n",
    "        else:\n",
    "            print(\"Impossible to fit.\")\n",
    "            \n",
    "    else:\n",
    "        area1 = circle(radius1)\n",
    "        area2 = circle(radius2)\n",
    "        if area1 > area2:\n",
    "            print(f\"Circle 2 can fit inside Circle 1   and {round(area1 - area2 ,3)} square units would be left.\")\n",
    "            \n",
    "        else:\n",
    "            print(f\"Circle-1 can fit inside Circle-2 and {round(area2 - area1 ,3)} square units would be left.\")\n",
    "            \n",
    "\n",
    "# Test the function\n",
    "fitting(30,14,3)  \n"
   ]
  },
  {
   "cell_type": "code",
   "execution_count": 23,
   "metadata": {},
   "outputs": [
    {
     "name": "stdout",
     "output_type": "stream",
     "text": [
      "1 2 3 4 5 6 \n"
     ]
    }
   ],
   "source": [
    "#  CW 5.1\n",
    "\n",
    "\n",
    "i = int(input(\"Enter a number: \"))\n",
    "def one_to_N(x,i):#This function prints 1 to N recursively.\n",
    "  print(x,end=\" \")\n",
    "  if x == i:\n",
    "    print()\n",
    "  else:\n",
    "    one_to_N(x+1,i)\n",
    "one_to_N(1,i)\n"
   ]
  },
  {
   "cell_type": "code",
   "execution_count": 25,
   "metadata": {},
   "outputs": [
    {
     "name": "stdout",
     "output_type": "stream",
     "text": [
      "8 7 6 5 4 3 2 1 \n"
     ]
    }
   ],
   "source": [
    "# CW 5.2\n",
    "N = int(input(\"Enter a number: \"))\n",
    "def reverse_printing(x,N):\n",
    "    #                       This function prints 1 to N recursively\n",
    "  print(N,end=\" \")\n",
    "  if N == x:\n",
    "    print()\n",
    "  else:\n",
    "    reverse_printing(x, N-1)\n",
    "reverse_printing(1,N)"
   ]
  },
  {
   "cell_type": "code",
   "execution_count": 27,
   "metadata": {},
   "outputs": [
    {
     "data": {
      "text/plain": [
       "10"
      ]
     },
     "execution_count": 27,
     "metadata": {},
     "output_type": "execute_result"
    }
   ],
   "source": [
    "# CW 5.3\n",
    "N = int(input(\"Enter a number: \"))\n",
    "def recursive_summation(x,N):\n",
    "  sum = 0\n",
    "  if x == N:\n",
    "    return sum + 1\n",
    "  else:\n",
    "    return N + recursive_summation(x, N-1)\n",
    "recursive_summation(1,N)"
   ]
  },
  {
   "cell_type": "code",
   "execution_count": 41,
   "metadata": {},
   "outputs": [
    {
     "name": "stdout",
     "output_type": "stream",
     "text": [
      "False\n"
     ]
    }
   ],
   "source": [
    "# HW  1.1\n",
    "def is_prime(k):\n",
    "    if k < 2:\n",
    "        return False\n",
    "    for i in range(2, int(k**0.5) + 1):\n",
    "        if k % i == 0:\n",
    "            return False\n",
    "    return True\n",
    "prime_check = is_prime(15)\n",
    "print(prime_check)"
   ]
  },
  {
   "cell_type": "code",
   "execution_count": 44,
   "metadata": {},
   "outputs": [
    {
     "name": "stdout",
     "output_type": "stream",
     "text": [
      "False\n"
     ]
    }
   ],
   "source": [
    "#HW-1.2\n",
    "def is_perfect(k):\n",
    "    sum = 0\n",
    "    for i in range(1,k):\n",
    "      if k % i == 0:\n",
    "        sum += i\n",
    "    if sum == k:\n",
    "      return True\n",
    "    else:\n",
    "      return False\n",
    "perfect_check = is_perfect(33)\n",
    "print(perfect_check)"
   ]
  },
  {
   "cell_type": "code",
   "execution_count": 52,
   "metadata": {},
   "outputs": [
    {
     "name": "stdout",
     "output_type": "stream",
     "text": [
      "163\n"
     ]
    }
   ],
   "source": [
    "#HW-1.3\n",
    "\n",
    "def special_sum(n):\n",
    "    sum = 0\n",
    "    for i in range(1, n + 1):\n",
    "        if is_prime(i) or is_perfect(i):\n",
    "            sum += i\n",
    "    return sum\n",
    "\n",
    "n = int(input())\n",
    "print(special_sum(n))"
   ]
  },
  {
   "cell_type": "code",
   "execution_count": 55,
   "metadata": {},
   "outputs": [
    {
     "name": "stdout",
     "output_type": "stream",
     "text": [
      "..."
     ]
    }
   ],
   "source": [
    "# HW 2.1\n",
    "\n",
    "def show_dots(k):\n",
    "  for i in range(k):\n",
    "    print(\".\",end='')#avoiding nexzt line\n",
    "show_dots(3)"
   ]
  },
  {
   "cell_type": "code",
   "execution_count": 56,
   "metadata": {},
   "outputs": [
    {
     "name": "stdout",
     "output_type": "stream",
     "text": [
      "123454321"
     ]
    }
   ],
   "source": [
    "# HW 2.2\n",
    "def show_palindrome(x):\n",
    "  for i in range(1,x):\n",
    "    print(i,end=\"\")#avoiding nexzt line\n",
    "  for j in range(x,0,-1):\n",
    "    print(j,end=\"\")#avoiding nexzt line\n",
    "show_palindrome(5)"
   ]
  },
  {
   "cell_type": "code",
   "execution_count": 57,
   "metadata": {},
   "outputs": [
    {
     "name": "stdout",
     "output_type": "stream",
     "text": [
      "....1....\n",
      "...121...\n",
      "..12321..\n",
      ".1234321.\n",
      "123454321\n"
     ]
    }
   ],
   "source": [
    "# HW 2.3\n",
    "def show_triangle(n):\n",
    "  for i in range(1,n+1):\n",
    "    show_dots(n-i)\n",
    "    show_palindrome(i)\n",
    "    show_dots(n-i)\n",
    "    print()\n",
    "show_triangle(5)\n"
   ]
  },
  {
   "cell_type": "code",
   "execution_count": 61,
   "metadata": {},
   "outputs": [
    {
     "name": "stdout",
     "output_type": "stream",
     "text": [
      "1260.0\n"
     ]
    }
   ],
   "source": [
    "# HW 3.1\n",
    "def calc_tax(age, salary):\n",
    "  tax = 0\n",
    "  if age < 18 or salary < 10000:\n",
    "    tax = 0\n",
    "    return tax\n",
    "  elif age >= 18 and 10000 < salary <= 20000:\n",
    "    tax = (salary * 0.07)\n",
    "    return round(tax,1)\n",
    "  elif age >= 18 and salary > 20000:\n",
    "    tax = (salary * 0.14)\n",
    "    return round(tax,1)\n",
    "t = calc_tax(20,18000)\n",
    "print(t)\n"
   ]
  },
  {
   "cell_type": "code",
   "execution_count": 64,
   "metadata": {},
   "outputs": [
    {
     "name": "stdout",
     "output_type": "stream",
     "text": [
      "Month1 tax: 0\n",
      "Month2 tax: 1050.0\n",
      "Month3 tax: 3080.0\n",
      "Month4 tax: 0\n",
      "Month5 tax: 1071.0\n",
      "Month6 tax: 2940.0\n",
      "Month7 tax: 4760.0\n",
      "Month8 tax: 0\n",
      "Month9 tax: 3780.0\n",
      "Month10 tax: 12320.0\n",
      "Month11 tax: 4480.0\n",
      "Month12 tax: 0\n",
      "Total Yearly Tax: 33481.0\n"
     ]
    }
   ],
   "source": [
    "# HW 3.2\n",
    "def calc_yearly_tax():\n",
    "  age = int(input(\"Enter your age: \"))\n",
    "  total_tax = 0\n",
    "\n",
    "  for i in range(1,13):\n",
    "    salary = int(input())\n",
    "    if True:\n",
    "      print(f\"Month{i} tax: {calc_tax(age, salary)}\")\n",
    "      total_tax += calc_tax(age, salary)\n",
    "  print(f\"Total Yearly Tax: {total_tax}\")\n",
    "calc_yearly_tax()"
   ]
  },
  {
   "cell_type": "code",
   "execution_count": 65,
   "metadata": {},
   "outputs": [
    {
     "name": "stdout",
     "output_type": "stream",
     "text": [
      "5\n",
      "4\n",
      "3\n",
      "2\n",
      "1\n"
     ]
    }
   ],
   "source": [
    "# HW 4.1\n",
    "N = int(input(\"Enter your digits: \"))\n",
    "def reverse_digits(n):\n",
    "  if n > 0:\n",
    "    print(n % 10)\n",
    "    reverse_digits(n//10)\n",
    "reverse_digits(N)\n",
    "\n"
   ]
  },
  {
   "cell_type": "code",
   "execution_count": 70,
   "metadata": {},
   "outputs": [
    {
     "name": "stdout",
     "output_type": "stream",
     "text": [
      "6561\n"
     ]
    }
   ],
   "source": [
    "# HW 4.2\n",
    "def power(a,b):\n",
    "  if b == 1:\n",
    "    return a\n",
    "  else:\n",
    "    return a * power(a, (b-1))\n",
    "a=int(input())\n",
    "n=int(input())\n",
    "result = power(a,n)#successfully returns the value of a^n\n",
    "print(result)"
   ]
  },
  {
   "cell_type": "code",
   "execution_count": 76,
   "metadata": {},
   "outputs": [
    {
     "name": "stdout",
     "output_type": "stream",
     "text": [
      "-5\n"
     ]
    }
   ],
   "source": [
    "# HW 5.0\n",
    "def sequence_iterative(n):\n",
    "  summation = 0\n",
    "  for i in range(1, n+1):\n",
    "    if i % 2 == 0 :\n",
    "      summation -= i\n",
    "    else:\n",
    "      summation += i\n",
    "  return summation\n",
    "print(sequence_iterative(int(input())))"
   ]
  },
  {
   "cell_type": "code",
   "execution_count": 74,
   "metadata": {},
   "outputs": [
    {
     "name": "stdout",
     "output_type": "stream",
     "text": [
      "-5\n"
     ]
    }
   ],
   "source": [
    "# HW 5.1\n",
    "N = int(input())\n",
    "def sequence_recursion(n):\n",
    "  if n == 1:\n",
    "    return 1\n",
    "  elif n > 1:\n",
    "    if n%2 == 0:\n",
    "      return -n + sequence_recursion(n-1)\n",
    "    else:\n",
    "      return n + sequence_recursion(n-1)\n",
    "print(sequence_recursion(N))"
   ]
  }
 ],
 "metadata": {
  "kernelspec": {
   "display_name": "Python 3",
   "language": "python",
   "name": "python3"
  },
  "language_info": {
   "codemirror_mode": {
    "name": "ipython",
    "version": 3
   },
   "file_extension": ".py",
   "mimetype": "text/x-python",
   "name": "python",
   "nbconvert_exporter": "python",
   "pygments_lexer": "ipython3",
   "version": "3.11.6"
  }
 },
 "nbformat": 4,
 "nbformat_minor": 2
}
