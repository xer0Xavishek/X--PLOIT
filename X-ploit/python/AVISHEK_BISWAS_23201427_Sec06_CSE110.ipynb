{
 "cells": [
  {
   "cell_type": "code",
   "execution_count": 3,
   "metadata": {},
   "outputs": [
    {
     "name": "stdout",
     "output_type": "stream",
     "text": [
      "Even!!\n",
      "Odd!!\n"
     ]
    }
   ],
   "source": [
    "#CW-1.1\n",
    "def even_checker(n):\n",
    "    if n % 2 == 0:\n",
    "        print(\"Even!!\")\n",
    "    else:\n",
    "        print(\"Odd!!\")\n",
    "\n",
    "even_checker(10)\n",
    "even_checker(17)"
   ]
  },
  {
   "cell_type": "code",
   "execution_count": 5,
   "metadata": {},
   "outputs": [
    {
     "name": "stdout",
     "output_type": "stream",
     "text": [
      "True\n",
      "False\n"
     ]
    }
   ],
   "source": [
    "#CW-1.2\n",
    "def is_even(n):\n",
    "    if n % 2 == 0:\n",
    "        return True\n",
    "    else:\n",
    "        return False\n",
    "result = is_even(10)\n",
    "print(result)\n",
    "result = is_even(17)\n",
    "print(result)"
   ]
  },
  {
   "cell_type": "code",
   "execution_count": 8,
   "metadata": {},
   "outputs": [
    {
     "name": "stdout",
     "output_type": "stream",
     "text": [
      "False\n",
      "True\n"
     ]
    }
   ],
   "source": [
    "#CW-1.3\n",
    "def is_pos(n):\n",
    "    if n>0:\n",
    "        return True\n",
    "    else:\n",
    "        return False\n",
    "result = is_pos(-5)#checks the number is positive or not\n",
    "print(result)\n",
    "result = is_pos(12)\n",
    "print(result)"
   ]
  },
  {
   "cell_type": "code",
   "execution_count": 17,
   "metadata": {},
   "outputs": [],
   "source": [
    "#CW-1.4\n",
    "def is_pos(num):\n",
    "    return num > 0\n",
    "\n",
    "def sequence(n):\n",
    "    if is_pos(n):\n",
    "        for i in range(n+1):\n",
    "            if is_even(i):\n",
    "                print(i)\n",
    "        \n",
    "    else:\n",
    "        for j in range(n, -2, -1):\n",
    "            if is_even(j)==False:\n",
    "                print(j)\n",
    "\n",
    "sequence(-7)"
   ]
  }
 ],
 "metadata": {
  "kernelspec": {
   "display_name": "Python 3",
   "language": "python",
   "name": "python3"
  },
  "language_info": {
   "codemirror_mode": {
    "name": "ipython",
    "version": 3
   },
   "file_extension": ".py",
   "mimetype": "text/x-python",
   "name": "python",
   "nbconvert_exporter": "python",
   "pygments_lexer": "ipython3",
   "version": "3.11.5"
  }
 },
 "nbformat": 4,
 "nbformat_minor": 2
}
