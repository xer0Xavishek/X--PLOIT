{
 "cells": [
  {
   "cell_type": "code",
   "execution_count": 4,
   "metadata": {},
   "outputs": [],
   "source": [
    "def even_or_odd(n):\n",
    "    n=int(input(\"Enter a number: \"))\n",
    "    if n % 2 == 0:\n",
    "        print(\"Even\")\n",
    "    else:\n",
    "        print(\"Odd\")\n",
    "\n",
    "\n",
    "even_or_odd(5)\n"
   ]
  },
  {
   "cell_type": "code",
   "execution_count": 4,
   "metadata": {},
   "outputs": [
    {
     "name": "stdout",
     "output_type": "stream",
     "text": [
      "91125\n",
      "1600\n"
     ]
    }
   ],
   "source": [
    "def is_even(n):\n",
    "    if n % 2 == 0:\n",
    "        return True\n",
    "    else:\n",
    "        return False\n",
    "def calc(i):\n",
    "    if is_even(i):\n",
    "        return i**2\n",
    "    elif not is_even(i):\n",
    "        return i**3\n",
    "print(calc(45))\n",
    "print(calc(40))"
   ]
  },
  {
   "cell_type": "code",
   "execution_count": 6,
   "metadata": {},
   "outputs": [
    {
     "data": {
      "text/plain": [
       "120"
      ]
     },
     "execution_count": 6,
     "metadata": {},
     "output_type": "execute_result"
    }
   ],
   "source": [
    "def fact(i):\n",
    "    if i==1:#base case\n",
    "        return 1\n",
    "    else:#recursive call\n",
    "        return i*fact(i-1)\n",
    "fact(5)\n",
    "\n",
    "# 5 goes "
   ]
  }
 ],
 "metadata": {
  "kernelspec": {
   "display_name": "Python 3",
   "language": "python",
   "name": "python3"
  },
  "language_info": {
   "codemirror_mode": {
    "name": "ipython",
    "version": 3
   },
   "file_extension": ".py",
   "mimetype": "text/x-python",
   "name": "python",
   "nbconvert_exporter": "python",
   "pygments_lexer": "ipython3",
   "version": "3.11.6"
  }
 },
 "nbformat": 4,
 "nbformat_minor": 2
}
