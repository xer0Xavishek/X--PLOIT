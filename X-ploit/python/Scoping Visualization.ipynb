{
 "cells": [
  {
   "cell_type": "code",
   "execution_count": 1,
   "metadata": {},
   "outputs": [
    {
     "name": "stdout",
     "output_type": "stream",
     "text": [
      "Inside Bangladesh Bangladesh\n",
      "Inside Khulna Khulna\n",
      "Inside KCC Royal more KCC Royal more\n",
      "KCC Royal more line 19\n",
      "In the main:  Global Stuffs Earth\n"
     ]
    }
   ],
   "source": [
    "a = \"Global Stuffs Earth\"\n",
    "\n",
    "def Bangladesh_f():\n",
    "    a = \"Bangladesh\"#Level 1 local area\n",
    "    print(\"Inside Bangladesh\", a)\n",
    "    \n",
    "    def Khulna_f():\n",
    "        nonlocal a \n",
    "        # nonlocal means inside \"Khulna\" everyhing\n",
    "        a = \"Khulna\"\n",
    "        print(\"Inside Khulna\", a)#Level 2 local area\n",
    "        def KCC_f():\n",
    "            nonlocal a \n",
    "            a = \"KCC Royal more\"#Level 3 local area\n",
    "            print(\"Inside KCC Royal more\", a)# nonlocal means inside \"KCC\" everyhing\n",
    "        KCC_f()                     #Calling KCC_f() function\n",
    "        print(a,\"line 19\")\n",
    "    Khulna_f()                      #Calling Khulna_f() function\n",
    "    \n",
    "\n",
    "Bangladesh_f()#Local area            #Calling Bangladesh_f() function\n",
    "\n",
    "\n",
    "print(\"In the main: \", a) # Global a"
   ]
  },
  {
   "cell_type": "code",
   "execution_count": 6,
   "metadata": {},
   "outputs": [
    {
     "name": "stdout",
     "output_type": "stream",
     "text": [
      "a inside: Local Hi\n",
      "a outside: Global Hi\n"
     ]
    }
   ],
   "source": [
    "a = \"Global Hi\" \n",
    "def printHi(): \n",
    "     #(problem solved) \n",
    "    a = \"Local Hi\"\n",
    "    print(\"a inside: \" + a) \n",
    "printHi()\n",
    "print(\"a outside: \" + a)"
   ]
  },
  {
   "cell_type": "code",
   "execution_count": 8,
   "metadata": {},
   "outputs": [
    {
     "name": "stdout",
     "output_type": "stream",
     "text": [
      "a inside: Global HiBye\n",
      "a outside: Global HiBye\n"
     ]
    }
   ],
   "source": [
    "a = \"Global Hi\" \n",
    "def printHi():\n",
    "    global a\n",
    "    a = a + \"Bye\"\n",
    "    print(\"a inside: \" + a)\n",
    "printHi()\n",
    "print(\"a outside: \" + a)"
   ]
  },
  {
   "cell_type": "code",
   "execution_count": 10,
   "metadata": {},
   "outputs": [
    {
     "name": "stdout",
     "output_type": "stream",
     "text": [
      "19\n"
     ]
    }
   ],
   "source": [
    "x=18\n",
    "def f1():\n",
    "    x=9\n",
    "    def f2():\n",
    "        global x #global x=18 copy in this area\n",
    "        x+=1\n",
    "        print(x)\n",
    "    f2()\n",
    "f1()"
   ]
  },
  {
   "cell_type": "code",
   "execution_count": 9,
   "metadata": {},
   "outputs": [
    {
     "name": "stdout",
     "output_type": "stream",
     "text": [
      "10\n"
     ]
    }
   ],
   "source": [
    "x=18\n",
    "def f1():\n",
    "    x=9\n",
    "    def f2():\n",
    "        nonlocal x #nonlocal x=9 copy in this area\n",
    "        x+=1\n",
    "        print(x)\n",
    "    f2()\n",
    "f1()"
   ]
  }
 ],
 "metadata": {
  "kernelspec": {
   "display_name": "Python 3",
   "language": "python",
   "name": "python3"
  },
  "language_info": {
   "codemirror_mode": {
    "name": "ipython",
    "version": 3
   },
   "file_extension": ".py",
   "mimetype": "text/x-python",
   "name": "python",
   "nbconvert_exporter": "python",
   "pygments_lexer": "ipython3",
   "version": "3.11.6"
  }
 },
 "nbformat": 4,
 "nbformat_minor": 2
}
