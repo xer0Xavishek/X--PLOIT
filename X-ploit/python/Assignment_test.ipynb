{
 "cells": [
  {
   "cell_type": "code",
   "execution_count": null,
   "metadata": {},
   "outputs": [],
   "source": [
    "import sys\n",
    "sys.stdout = open('python/output.txt', 'w')\n",
    "sys.stdin = open('python/input.txt', 'r')\n",
    "n = int(input(\"Enter the number of terms in the series: \"))\n",
    "s = 0\n",
    "i=1\n",
    "j=1\n",
    "k=5\n",
    "while j<=n and k<=n:\n",
    "    if i%2!=0:\n",
    "        s=s+j\n",
    "        j+=3\n",
    "    else:\n",
    "        s=s+k\n",
    "        k+=5\n",
    "        i+=1\n",
    "\n",
    "print(f\"The sum of the series is: {s}\")"
   ]
  },
  {
   "cell_type": "markdown",
   "metadata": {},
   "source": [
    "The error is occurring because you're trying to access the elements of the 2D array as if it were a 1D array.\n",
    "\n",
    "In your code, Array.size gives the total number of elements in the 2D array, which is 9. But Array has only 3 elements (which are 1D arrays), not 9, so when i is 3 or more, Array[i] is out of bounds.\n",
    "\n",
    "To iterate over all elements in the 2D array, you need two nested loops: one for the rows and one for the columns. \n",
    "\n",
    "\n",
    "***So better use len(arr) insted of arr,size in for loops.***"
   ]
  },
  {
   "cell_type": "code",
   "execution_count": 17,
   "metadata": {},
   "outputs": [
    {
     "name": "stdout",
     "output_type": "stream",
     "text": [
      "5\n",
      "[1 2 3]\n",
      "[4 5 6]\n",
      "[7 8 9]\n"
     ]
    },
    {
     "ename": "IndexError",
     "evalue": "index 3 is out of bounds for axis 0 with size 3",
     "output_type": "error",
     "traceback": [
      "\u001b[1;31m---------------------------------------------------------------------------\u001b[0m",
      "\u001b[1;31mIndexError\u001b[0m                                Traceback (most recent call last)",
      "\u001b[1;32mc:\\Users\\avish\\OneDrive\\Documents\\code\\X-ploit\\python\\Assignment_test.ipynb Cell 3\u001b[0m line \u001b[0;36m6\n\u001b[0;32m      <a href='vscode-notebook-cell:/c%3A/Users/avish/OneDrive/Documents/code/X-ploit/python/Assignment_test.ipynb#W1sZmlsZQ%3D%3D?line=3'>4</a>\u001b[0m \u001b[39mprint\u001b[39m(Array[\u001b[39m1\u001b[39m][\u001b[39m1\u001b[39m])\n\u001b[0;32m      <a href='vscode-notebook-cell:/c%3A/Users/avish/OneDrive/Documents/code/X-ploit/python/Assignment_test.ipynb#W1sZmlsZQ%3D%3D?line=4'>5</a>\u001b[0m \u001b[39mfor\u001b[39;00m i \u001b[39min\u001b[39;00m \u001b[39mrange\u001b[39m(Array\u001b[39m.\u001b[39msize):\n\u001b[1;32m----> <a href='vscode-notebook-cell:/c%3A/Users/avish/OneDrive/Documents/code/X-ploit/python/Assignment_test.ipynb#W1sZmlsZQ%3D%3D?line=5'>6</a>\u001b[0m     \u001b[39mprint\u001b[39m(Array[i])\n",
      "\u001b[1;31mIndexError\u001b[0m: index 3 is out of bounds for axis 0 with size 3"
     ]
    }
   ],
   "source": [
    "import numpy as np\n",
    "\n",
    "Array= np.array([[1,2,3],[4,5,6],[7,8,9]])#2d array\n",
    "\n",
    "print(Array[1][1])\n",
    "\n",
    "for i in range(Array.size):# Array.size gives the total number of elements in the array including all dimensions or rows/collums\n",
    "    \n",
    "    print(Array[i])\n",
    "\n"
   ]
  },
  {
   "cell_type": "code",
   "execution_count": 55,
   "metadata": {},
   "outputs": [
    {
     "name": "stdout",
     "output_type": "stream",
     "text": [
      "1 2 3 4 5 6 7 8 9 10 \n",
      " ----------y----------\n",
      "\n",
      "[1 2 3] [4 5 6] [7 8 9] "
     ]
    }
   ],
   "source": [
    "import numpy as np\n",
    "arr=np.array([1,2,3,4,5,6,7,8,9,10])\n",
    "for i in range(arr.size):\n",
    "    print(arr[i], end=\" \")\n",
    "print(\"\\n\",\"----------y----------\" ,end=\"\")\n",
    "print(\"\\n\")\n",
    "\n",
    "arr2=np.array([[1,2,3],[4,5,6],[7,8,9]])\n",
    "for i in range(len(arr2)):\n",
    "    print(arr2[i], end=\" \")\n",
    "\n"
   ]
  },
  {
   "cell_type": "code",
   "execution_count": 54,
   "metadata": {},
   "outputs": [
    {
     "name": "stdout",
     "output_type": "stream",
     "text": [
      "[[7 7 7]\n",
      " [7 7 7]\n",
      " [7 7 7]]\n",
      "[[2.12199579e-314 4.67296746e-307]\n",
      " [8.59674224e-321 1.42810317e-311]]\n"
     ]
    }
   ],
   "source": [
    "import numpy as np\n",
    "arr3=np.full((3, 3), 7,dtype=int)\n",
    "print(arr3)\n",
    "print(np.empty((2, 2))) #garbage values which existed in the memory"
   ]
  }
 ],
 "metadata": {
  "kernelspec": {
   "display_name": "Python 3",
   "language": "python",
   "name": "python3"
  },
  "language_info": {
   "codemirror_mode": {
    "name": "ipython",
    "version": 3
   },
   "file_extension": ".py",
   "mimetype": "text/x-python",
   "name": "python",
   "nbconvert_exporter": "python",
   "pygments_lexer": "ipython3",
   "version": "3.11.6"
  }
 },
 "nbformat": 4,
 "nbformat_minor": 2
}
