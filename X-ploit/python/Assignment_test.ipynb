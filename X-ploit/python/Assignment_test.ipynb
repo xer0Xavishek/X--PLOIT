{
 "cells": [
  {
   "cell_type": "code",
   "execution_count": null,
   "metadata": {},
   "outputs": [],
   "source": [
    "import sys\n",
    "sys.stdout = open('python/output.txt', 'w')\n",
    "sys.stdin = open('python/input.txt', 'r')\n",
    "n = int(input(\"Enter the number of terms in the series: \"))\n",
    "s = 0\n",
    "i=1\n",
    "j=1\n",
    "k=5\n",
    "while j<=n and k<=n:\n",
    "    if i%2!=0:\n",
    "        s=s+j\n",
    "        j+=3\n",
    "    else:\n",
    "        s=s+k\n",
    "        k+=5\n",
    "        i+=1\n",
    "\n",
    "print(f\"The sum of the series is: {s}\")"
   ]
  },
  {
   "cell_type": "markdown",
   "metadata": {},
   "source": [
    "The error is occurring because you're trying to access the elements of the 2D array as if it were a 1D array.\n",
    "\n",
    "In your code, Array.size gives the total number of elements in the 2D array, which is 9. But Array has only 3 elements (which are 1D arrays), not 9, so when i is 3 or more, Array[i] is out of bounds.\n",
    "\n",
    "To iterate over all elements in the 2D array, you need two nested loops: one for the rows and one for the columns. \n",
    "\n",
    "\n",
    "***So better use len(arr) insted of arr,size in for loops.***"
   ]
  },
  {
   "cell_type": "code",
   "execution_count": null,
   "metadata": {},
   "outputs": [],
   "source": [
    "#IT gives error \n",
    "import numpy as np\n",
    "Array= np.array([[1,2,3],[4,5,6],[7,8,9]])#2d array\n",
    "\n",
    "print(Array[1][1])\n",
    "\n",
    "for i in range(Array.size):# Array.size gives the total number of elements (here it is 3*3 = 9).in the array including all dimensions or rows/collums\n",
    "    # it cant iterate through 8 elements but the lenth of Array is 3\n",
    "    print(Array[i])\n",
    "\n"
   ]
  },
  {
   "cell_type": "code",
   "execution_count": 4,
   "metadata": {},
   "outputs": [
    {
     "name": "stdout",
     "output_type": "stream",
     "text": [
      "<class 'numpy.str_'>\n",
      "1 2 3 4 5 6 7.5 b 9 10 \n",
      " ----------y----------\n",
      "\n",
      "[1 2 3] [4 5 6] [7 8 9] "
     ]
    }
   ],
   "source": [
    "import numpy as np\n",
    "arr=np.array([1,2,3,4,5,6,7.5,\"b\",9,10])# auto converts to float if one element is float. If you include string all thing will converted into string\n",
    "print(type(arr[0]))\n",
    "for i in range(arr.size):\n",
    "    print(arr[i], end=\" \")\n",
    "print(\"\\n\",\"----------y----------\" ,end=\"\")\n",
    "print(\"\\n\")\n",
    "\n",
    "arr2=np.array([[1,2,3],[4,5,6],[7,8,9]])\n",
    "for i in range(len(arr2)):\n",
    "    print(arr2[i], end=\" \")\n",
    "\n"
   ]
  },
  {
   "cell_type": "code",
   "execution_count": 54,
   "metadata": {},
   "outputs": [
    {
     "name": "stdout",
     "output_type": "stream",
     "text": [
      "[[7 7 7]\n",
      " [7 7 7]\n",
      " [7 7 7]]\n",
      "[[2.12199579e-314 4.67296746e-307]\n",
      " [8.59674224e-321 1.42810317e-311]]\n"
     ]
    }
   ],
   "source": [
    "import numpy as np\n",
    "arr3=np.full((3, 3), 7,dtype=int)\n",
    "print(arr3)\n",
    "print(np.empty((2, 2))) #garbage values which existed in the memory"
   ]
  },
  {
   "cell_type": "code",
   "execution_count": 56,
   "metadata": {},
   "outputs": [
    {
     "name": "stdout",
     "output_type": "stream",
     "text": [
      "Max: 10 Min: 1\n"
     ]
    }
   ],
   "source": [
    "import numpy as np\n",
    "\n",
    "arr=np.array([1,2,3,4,5,6,7,8,9,10])\n",
    "\n",
    "max=min=arr[0]\n",
    "for i in range(arr.size):\n",
    "    if arr[i]>max:\n",
    "        max=arr[i]\n",
    "    elif arr[i]<min:\n",
    "        min=arr[i]\n",
    "        \n",
    "print(f\"Max: {max} Min: {min}\")"
   ]
  },
  {
   "cell_type": "code",
   "execution_count": 5,
   "metadata": {},
   "outputs": [
    {
     "name": "stdout",
     "output_type": "stream",
     "text": [
      "String without the brackets 1,2,3,4,5,6,7 and this is of type <class 'str'>\n",
      "[1, 2, 3, 4, 5, 6, 7]\n"
     ]
    }
   ],
   "source": [
    "\"\"\" var = input(\"please enter the list \")[1:-1]  #\"[4,15,6]\"\n",
    "\n",
    "print(f\"String without the brackets {var} and this is of type {type(var)}\")\n",
    "\n",
    "final = []\n",
    "res=\"\"\n",
    "for i in range(len(var)):\n",
    "    if var[i]!=\",\":\n",
    "        res+=var[i]\n",
    "    else:\n",
    "        final.append(res)\n",
    "        res=\"\"\n",
    "        #Shift allt a\n",
    "var = input(\"please enter the list \")[1:-1]  #\"[4,15,6]\" \"\"\"\n",
    "\n",
    "var = input(\"please enter the list \")[1:-1]  #\"[4,15,6]\n",
    "\n",
    "print(f\"String without the brackets {var} and this is of type {type(var)}\")\n",
    "\n",
    "final = []\n",
    "res = \"\"\n",
    "for i in range(len(var)):\n",
    "    if var[i] != \",\":\n",
    "        res += var[i]\n",
    "    else:\n",
    "        final.append(int(res.strip()))\n",
    "        res = \"\"\n",
    "# Add the last element\n",
    "if res:\n",
    "    final.append(int(res.strip()))\n",
    "\n",
    "print(final)"
   ]
  },
  {
   "cell_type": "code",
   "execution_count": null,
   "metadata": {},
   "outputs": [],
   "source": [
    "\"\"\" list=[for i in range(input(\"Enter the number of elements: \")):\n",
    "    list.append(int(input(\"Enter the element: \")))]\n",
    "print(list) \"\"\"\n",
    "lst = [int(input(\"Enter the element: \")) for _ in range(int(input(\"Enter the number of elements: \")))]\n",
    "print(lst)"
   ]
  },
  {
   "cell_type": "code",
   "execution_count": 4,
   "metadata": {},
   "outputs": [
    {
     "ename": "SyntaxError",
     "evalue": "invalid syntax (1031827973.py, line 1)",
     "output_type": "error",
     "traceback": [
      "\u001b[1;36m  Cell \u001b[1;32mIn[4], line 1\u001b[1;36m\u001b[0m\n\u001b[1;33m    (print(\"hell yeah\")) for _ in range(5)\u001b[0m\n\u001b[1;37m                         ^\u001b[0m\n\u001b[1;31mSyntaxError\u001b[0m\u001b[1;31m:\u001b[0m invalid syntax\n"
     ]
    }
   ],
   "source": [
    "(print(\"hell yeah\")) for _ in range(5) #error"
   ]
  },
  {
   "cell_type": "code",
   "execution_count": null,
   "metadata": {},
   "outputs": [],
   "source": [
    "\"\"\" [expression for item in iterable] \"\"\"#list comprehension structure\n",
    "\"\"\" [expression for item in iterable] \"\"\"#list comprehension structure\n",
    "\n",
    "\"\"\" item-->      is a variable that takes each value in the iterable one by one\n",
    "\n",
    "epression--> is a Python expression that is calculated for each item .\n",
    "\n",
    "iterable--> is a iterable object/range or collection of objects like list, tuple, set, dictionary, etc. \"\"\""
   ]
  }
 ],
 "metadata": {
  "kernelspec": {
   "display_name": "Python 3",
   "language": "python",
   "name": "python3"
  },
  "language_info": {
   "codemirror_mode": {
    "name": "ipython",
    "version": 3
   },
   "file_extension": ".py",
   "mimetype": "text/x-python",
   "name": "python",
   "nbconvert_exporter": "python",
   "pygments_lexer": "ipython3",
   "version": "3.11.6"
  }
 },
 "nbformat": 4,
 "nbformat_minor": 2
}
