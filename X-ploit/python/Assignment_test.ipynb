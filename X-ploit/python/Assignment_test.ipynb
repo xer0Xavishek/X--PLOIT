{
 "cells": [
  {
   "cell_type": "code",
   "execution_count": null,
   "metadata": {},
   "outputs": [],
   "source": [
    "import sys\n",
    "sys.stdout = open('python/output.txt', 'w')\n",
    "sys.stdin = open('python/input.txt', 'r')\n",
    "n = int(input(\"Enter the number of terms in the series: \"))\n",
    "s = 0\n",
    "i=1\n",
    "j=1\n",
    "k=5\n",
    "while j<=n and k<=n:\n",
    "    if i%2!=0:\n",
    "        s=s+j\n",
    "        j+=3\n",
    "    else:\n",
    "        s=s+k\n",
    "        k+=5\n",
    "        i+=1\n",
    "\n",
    "print(f\"The sum of the series is: {s}\")"
   ]
  },
  {
   "cell_type": "markdown",
   "metadata": {},
   "source": [
    "The error is occurring because you're trying to access the elements of the 2D array as if it were a 1D array.\n",
    "\n",
    "In your code, Array.size gives the total number of elements in the 2D array, which is 9. But Array has only 3 elements (which are 1D arrays), not 9, so when i is 3 or more, Array[i] is out of bounds.\n",
    "\n",
    "To iterate over all elements in the 2D array, you need two nested loops: one for the rows and one for the columns. \n",
    "\n",
    "\n",
    "***So better use len(arr) insted of arr,size in for loops.***"
   ]
  },
  {
   "cell_type": "code",
   "execution_count": null,
   "metadata": {},
   "outputs": [],
   "source": [
    "#IT gives error \n",
    "import numpy as np\n",
    "Array= np.array([[1,2,3],[4,5,6],[7,8,9]])#2d array\n",
    "\n",
    "print(Array[1][1])\n",
    "\n",
    "for i in range(Array.size):# Array.size gives the total number of elements (here it is 3*3 = 9).in the array including all dimensions or rows/collums\n",
    "    # it cant iterate through 8 elements but the lenth of Array is 3\n",
    "    print(Array[i])\n",
    "\n"
   ]
  },
  {
   "cell_type": "code",
   "execution_count": 4,
   "metadata": {},
   "outputs": [
    {
     "name": "stdout",
     "output_type": "stream",
     "text": [
      "<class 'numpy.str_'>\n",
      "1 2 3 4 5 6 7.5 b 9 10 \n",
      " ----------y----------\n",
      "\n",
      "[1 2 3] [4 5 6] [7 8 9] "
     ]
    }
   ],
   "source": [
    "import numpy as np\n",
    "arr=np.array([1,2,3,4,5,6,7.5,\"b\",9,10])# auto converts to float if one element is float. If you include string all thing will converted into string\n",
    "print(type(arr[0]))\n",
    "for i in range(arr.size):\n",
    "    print(arr[i], end=\" \")\n",
    "print(\"\\n\",\"----------y----------\" ,end=\"\")\n",
    "print(\"\\n\")\n",
    "\n",
    "arr2=np.array([[1,2,3],[4,5,6],[7,8,9]])\n",
    "for i in range(len(arr2)):\n",
    "    print(arr2[i], end=\" \")\n",
    "\n"
   ]
  },
  {
   "cell_type": "code",
   "execution_count": 54,
   "metadata": {},
   "outputs": [
    {
     "name": "stdout",
     "output_type": "stream",
     "text": [
      "[[7 7 7]\n",
      " [7 7 7]\n",
      " [7 7 7]]\n",
      "[[2.12199579e-314 4.67296746e-307]\n",
      " [8.59674224e-321 1.42810317e-311]]\n"
     ]
    }
   ],
   "source": [
    "import numpy as np\n",
    "arr3=np.full((3, 3), 7,dtype=int)\n",
    "print(arr3)\n",
    "print(np.empty((2, 2))) #garbage values which existed in the memory"
   ]
  },
  {
   "cell_type": "code",
   "execution_count": 56,
   "metadata": {},
   "outputs": [
    {
     "name": "stdout",
     "output_type": "stream",
     "text": [
      "Max: 10 Min: 1\n"
     ]
    }
   ],
   "source": [
    "import numpy as np\n",
    "\n",
    "arr=np.array([1,2,3,4,5,6,7,8,9,10])\n",
    "\n",
    "max=min=arr[0]\n",
    "for i in range(arr.size):\n",
    "    if arr[i]>max:\n",
    "        max=arr[i]\n",
    "    elif arr[i]<min:\n",
    "        min=arr[i]\n",
    "        \n",
    "print(f\"Max: {max} Min: {min}\")"
   ]
  },
  {
   "cell_type": "code",
   "execution_count": 5,
   "metadata": {},
   "outputs": [
    {
     "name": "stdout",
     "output_type": "stream",
     "text": [
      "String without the brackets 1,2,3,4,5,6,7 and this is of type <class 'str'>\n",
      "[1, 2, 3, 4, 5, 6, 7]\n"
     ]
    }
   ],
   "source": [
    "\"\"\" var = input(\"please enter the list \")[1:-1]  #\"[4,15,6]\"\n",
    "\n",
    "print(f\"String without the brackets {var} and this is of type {type(var)}\")\n",
    "\n",
    "final = []\n",
    "res=\"\"\n",
    "for i in range(len(var)):\n",
    "    if var[i]!=\",\":\n",
    "        res+=var[i]\n",
    "    else:\n",
    "        final.append(res)\n",
    "        res=\"\"\n",
    "        #Shift allt a\n",
    "var = input(\"please enter the list \")[1:-1]  #\"[4,15,6]\" \"\"\"\n",
    "\n",
    "var = input(\"please enter the list \")[1:-1]  #\"[4,15,6]\n",
    "\n",
    "print(f\"String without the brackets {var} and this is of type {type(var)}\")\n",
    "\n",
    "final = []\n",
    "res = \"\"\n",
    "for i in range(len(var)):\n",
    "    if var[i] != \",\":\n",
    "        res += var[i]\n",
    "    else:\n",
    "        final.append(int(res.strip()))\n",
    "        res = \"\"\n",
    "# Add the last element\n",
    "if res:#if res contains something\n",
    "    final.append(int(res.strip()))\n",
    "\n",
    "print(final)"
   ]
  },
  {
   "cell_type": "markdown",
   "metadata": {},
   "source": [
    "###[expression for item in iterable] \"\"\"#list comprehension structure\n",
    "\"\"\" [expression for item in iterable] \"\"\"#list comprehension structure\n",
    "\n",
    "\"\"\" item-->      is a variable that takes each value in the iterable one by one\n",
    "\n",
    "epression--> is a Python expression that is calculated for each item .\n",
    "\n",
    "iterable--> is a iterable object/range or collection of objects like list, tuple, set, dictionary, etc. ###"
   ]
  },
  {
   "cell_type": "code",
   "execution_count": null,
   "metadata": {},
   "outputs": [],
   "source": [
    "\"\"\" list=[for i in range(input(\"Enter the number of elements: \")):\n",
    "    list.append(int(input(\"Enter the element: \")))]\n",
    "print(list) \"\"\"\n",
    "lst = [int(input(\"Enter the element: \")) for _ in range(int(input(\"Enter the number of elements: \")))]\n",
    "print(lst)"
   ]
  },
  {
   "cell_type": "code",
   "execution_count": 3,
   "metadata": {},
   "outputs": [
    {
     "name": "stdout",
     "output_type": "stream",
     "text": [
      "[ 1  2  3  4  5  6  7  8  9 10]\n"
     ]
    }
   ],
   "source": [
    "import numpy as np\n",
    "lst=[1,2,3,4,5,6,7,8,9,10]\n",
    "\n",
    "array=np.array(lst)\n",
    "print(array)\n"
   ]
  },
  {
   "cell_type": "code",
   "execution_count": 28,
   "metadata": {},
   "outputs": [
    {
     "name": "stdout",
     "output_type": "stream",
     "text": [
      "(6,) shape\n",
      "4 size in bytes\n",
      "int32\n",
      "1\n",
      "6\n",
      "24\n",
      "(4,)\n",
      "<memory at 0x000002B6705FC1C0>\n",
      "  C_CONTIGUOUS : True\n",
      "  F_CONTIGUOUS : True\n",
      "  OWNDATA : True\n",
      "  WRITEABLE : True\n",
      "  ALIGNED : True\n",
      "  WRITEBACKIFCOPY : False\n",
      "\n",
      "None\n",
      "[0 0 0 0 0 0]\n",
      "[0 0 0 0 0 0]\n",
      "[0 0 0 0 0 0]\n",
      "<numpy.flatiter object at 0x000002B651E7A050>\n"
     ]
    }
   ],
   "source": [
    "array=np.zeros(6 , dtype=int)\n",
    "print(array.shape , \"shape\")\n",
    "print(array.itemsize, \"size in bytes\")\n",
    "\n",
    "print(array.dtype)#data type of the array\n",
    "print(array.ndim)#number of dimensions\n",
    "print(array.size)#total number of elements\n",
    "print(array.nbytes)#total bytes consumed by the elements of the array\n",
    "print(array.strides)#tuple of bytes to step in each dimension when traversing an array\n",
    "print(array.data)#buffer object pointing to the start of the array's data\n",
    "print(array.flags)#information about the memory layout of the array\n",
    "print(array.base)# what is the base of the array\n",
    "print(array.T)#transpose\n",
    "print(array.real)#real part of the array\n",
    "print(array.imag)#imaginary part of the array\n",
    "print(array.flat)#1d iterator over the array\n",
    "print(array.ctypes)#an object to simplify the interaction of the array with the ctypes module\n",
    "print(array.__array_interface__)#python dictionary exposing the array interface???\n",
    "print(array.__array_struct__)#python dictionary exposing the array interface???\n",
    "print(array.__array_priority__)#????\n",
    "print(array.__array_wrap__)#????\n",
    "print(array.__array_finalize__)#????\n",
    "print(array.__array_prepare__)#????\n",
    "print(array.max())#maximum element\n",
    "print(array.min())#minimum element\n",
    "print(array.argmax())#index of the maximum element\n",
    "print(array.argmin())#index of the minimum element\n",
    "print(array.ptp())#range of the array (maximum - minimum)\n",
    "print(array.clip())#clip the array\n",
    "print(array.conj())#complex conjugate\n",
    "print(array.round())#round the array\n",
    "print(array.trace())#sum along the diagonal\n",
    "print(array.sum())#sum of the array\n",
    "print(array.cumsum())#cumulative sum of the array\n",
    "print(array.mean())#mean of the array\n",
    "print(array.var())#variance of the array\n",
    "print(array.std())#standard deviation of the array\n",
    "print(array.prod())#product of the array\n",
    "print(array.cumprod())#cumulative product of the array\n",
    "print(array.all())#logical and of the array\n",
    "print(array.any())#logical or of the array\n",
    "print(array.nonzero())#indices of the non-zero elements of the array\n",
    "print(array.sort())#sort the array\n",
    "print(array.argsort())#indices of the sorted elements of the array\n",
    "print(array.searchsorted())#indices to insert elements so as to maintain order\n",
    "print(array.argmax())#index of the maximum element\n",
    "print(array.argmin())#index of the minimum element\n",
    "print(array.ptp())#range of the array (maximum - minimum)\n",
    "print(array.clip())#clip the array\n",
    "print(array.conj())#complex conjugate\n",
    "print(array.round())#round the array\n",
    "print(array.trace())#sum along the diagonal\n",
    "print(array.sum())#sum of the array\n",
    "print(array.cumsum())#cumulative sum of the array\n",
    "print(array.mean())#mean of the array\n",
    "print(array.var())#variance of the array\n",
    "print(array.std())#standard deviation of the array\n",
    "print(array.prod())#product of the array\n",
    "print(array.cumprod())#cumulative product of the array\n",
    "print(array.all())#logical and of the array\n",
    "print(array.any())#logical or of the array\n",
    "print(array.compress())#return selected slices of an array along given axis\n",
    "print(array.cumprod())#cumulative product of the array\n",
    "print(array.cumsum())#cumulative sum of the array\n",
    "print(array.diagonal())#return specified diagonals\n",
    "print(array.max())#maximum element\n",
    "print(array.mean())#mean of the array\n",
    "print(array.min())#minimum element\n",
    "\n"
   ]
  },
  {
   "cell_type": "markdown",
   "metadata": {},
   "source": [
    "###Arange attribute"
   ]
  },
  {
   "cell_type": "code",
   "execution_count": 2,
   "metadata": {},
   "outputs": [
    {
     "name": "stdout",
     "output_type": "stream",
     "text": [
      "[0 1 2 3 4 5 6 7 8 9]\n",
      "[2.  2.1 2.2 2.3 2.4 2.5 2.6 2.7 2.8 2.9]\n"
     ]
    }
   ],
   "source": [
    "#arranges the elements in a given range one after the other\n",
    "import numpy as np\n",
    "x = np.arange(10)\n",
    "y=np.arange(2, 3, 0.1)\n",
    "\n",
    "print(x)\n",
    "print(y)"
   ]
  },
  {
   "cell_type": "code",
   "execution_count": 17,
   "metadata": {},
   "outputs": [
    {
     "name": "stdout",
     "output_type": "stream",
     "text": [
      "[[0 1 2 3 4]\n",
      " [5 6 7 8 9]]\n"
     ]
    }
   ],
   "source": [
    "x.shape = (2, 5) \n",
    "print(x)\n"
   ]
  },
  {
   "cell_type": "code",
   "execution_count": 5,
   "metadata": {},
   "outputs": [
    {
     "name": "stdout",
     "output_type": "stream",
     "text": [
      "[[0 0 0]\n",
      " [0 0 0]]\n",
      "\n",
      "\n",
      "[[1 1 1]\n",
      " [1 1 1]]\n",
      "\n",
      "\n",
      "[[7 7 7]\n",
      " [7 7 7]]\n",
      "\n",
      "\n",
      "[[7 7 7]\n",
      " [7 7 7]]\n",
      "\n",
      "\n",
      "[[1 0 0]\n",
      " [0 1 0]\n",
      " [0 0 1]]\n",
      "\n",
      "\n",
      "[[0.0353544  0.30960147 0.80430894]\n",
      " [0.58727491 0.71547382 0.76676169]]\n",
      "\n",
      "\n",
      "[10 15 20 25]\n",
      "\n",
      "\n",
      "[0.   0.25 0.5  0.75 1.   1.25 1.5  1.75 2.  ]\n"
     ]
    }
   ],
   "source": [
    "print(np.zeros((2, 3), dtype=int))\n",
    "print(\"\\n\")\n",
    "print(np.ones((2, 3), dtype=int))\n",
    "print(\"\\n\")\n",
    "print(np.full((2, 3), 7, dtype=int))\n",
    "print(\"\\n\")\n",
    "print(np.empty((2, 3), dtype=int))\n",
    "print(\"\\n\")\n",
    "print(np.eye(3, dtype=int))\n",
    "print(\"\\n\")\n",
    "print(np.random.random((2, 3)))\n",
    "print(\"\\n\")\n",
    "print(np.arange(10, 30, 5))\n",
    "print(\"\\n\")\n",
    "print(np.linspace(0, 2, 9))\n",
    "print(\"\\n\")\n",
    "print(np.arange(10000).reshape(100, 100))\n",
    "print(\"\\n\")\n"
   ]
  },
  {
   "cell_type": "code",
   "execution_count": 94,
   "metadata": {},
   "outputs": [
    {
     "name": "stdout",
     "output_type": "stream",
     "text": [
      "(2, 3, 3)\n",
      "[[[ 1.  2.  3.]\n",
      "  [ 4.  5.  6.]\n",
      "  [ 7.  8.  9.]]\n",
      "\n",
      " [[10. 11. 12.]\n",
      "  [13. 14. 15.]\n",
      "  [16. 17. 18.]]]\n",
      "2\n",
      "3\n"
     ]
    }
   ],
   "source": [
    "import numpy as np\n",
    "_3D=np.array([[[1,2,3],\n",
    "               [4,5,6],\n",
    "               [7,8,9]],\n",
    "              [[10,11,12],\n",
    "               [13,14,15],\n",
    "               [16,17,18]]],dtype=float)\n",
    "print(_3D.shape)\n",
    "print(_3D)\n",
    "print(len(_3D))\n",
    "print(_3D.ndim)"
   ]
  },
  {
   "cell_type": "markdown",
   "metadata": {},
   "source": [
    "#Final term question:    Here, each odd and even keys of the dictionary carry a tuple of names and a tuple of numbers respectively. Your task is to write a python\n",
    "program to generate the following output dictionary which will return the Total ASCII values of according to the string given here in a decending order.\n",
    "Input : I 2:(\"Joey\", \"Tim\", \"Jen\", \"Jack\"), 3:(\"Tom\",\"Jessy\")\n",
    "Output : ('Jen', 285), ('Tim', 298), ('Tom', 304), ('Brad', 377), ('Jack', 377), ('Liam', 387), ('Joey', 407), ('Corey', 514), ('Jessy, 526)"
   ]
  },
  {
   "cell_type": "code",
   "execution_count": 149,
   "metadata": {},
   "outputs": [
    {
     "name": "stdout",
     "output_type": "stream",
     "text": [
      "['Brad', 'Liam', 'Corey', 'Joey', 'Tim', 'Jen', 'Jack', 'Tom', 'Jessy']\n",
      "{'Brad': 377, 'Liam': 387, 'Corey': 514, 'Joey': 407, 'Tim': 298, 'Jen': 285, 'Jack': 377, 'Tom': 304, 'Jessy': 526}\n"
     ]
    }
   ],
   "source": [
    "d_input ={1:(\"Brad\",\"Liam\",\"Corey\"), 2:(\"Joey\", \"Tim\", \"Jen\", \"Jack\"), 3:(\"Tom\",\"Jessy\")}\n",
    "nameList=[]\n",
    "dictionary_output={}\n",
    "\n",
    "\n",
    "#print(d_input[1][1],\"SEP\")\n",
    "\n",
    "for i in d_input:\n",
    "    for j in d_input[i]:\n",
    "       nameList.append(j) \n",
    "       \n",
    "print(nameList)\n",
    "for that_name in nameList:\n",
    "    ascii_sum=0\n",
    "    for j in that_name:\n",
    "        ascii_sum+=ord(j)\n",
    "    dictionary_output[that_name]=ascii_sum\n",
    "print(dictionary_output)"
   ]
  },
  {
   "cell_type": "code",
   "execution_count": 151,
   "metadata": {},
   "outputs": [
    {
     "name": "stdout",
     "output_type": "stream",
     "text": [
      "[('Jessy', 526), ('Corey', 514), ('Joey', 407), ('Liam', 387), ('Brad', 377), ('Jack', 377), ('Tom', 304), ('Tim', 298), ('Jen', 285)]\n"
     ]
    }
   ],
   "source": [
    "d_input ={1:(\"Brad\",\"Liam\",\"Corey\"), 2:(\"Joey\", \"Tim\", \"Jen\", \"Jack\"), 3:(\"Tom\",\"Jessy\")}\n",
    "nameList=[]\n",
    "dictionary_output={}\n",
    "\n",
    "for i in d_input:\n",
    "    for j in d_input[i]:\n",
    "       nameList.append(j) \n",
    "#list done\n",
    "for name in nameList:\n",
    "    ascii_sum=0\n",
    "    for char in name:\n",
    "        ascii_sum+=ord(char)\n",
    "    dictionary_output[name]=ascii_sum\n",
    "\n",
    "dictionary_output= sorted(dictionary_output.items(), key=lambda x: x[1], reverse=True)\n",
    "print(dictionary_output)"
   ]
  }
 ],
 "metadata": {
  "kernelspec": {
   "display_name": "Python 3",
   "language": "python",
   "name": "python3"
  },
  "language_info": {
   "codemirror_mode": {
    "name": "ipython",
    "version": 3
   },
   "file_extension": ".py",
   "mimetype": "text/x-python",
   "name": "python",
   "nbconvert_exporter": "python",
   "pygments_lexer": "ipython3",
   "version": "3.11.6"
  }
 },
 "nbformat": 4,
 "nbformat_minor": 2
}
