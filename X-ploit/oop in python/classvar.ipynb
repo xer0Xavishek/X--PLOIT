{
 "cells": [
  {
   "cell_type": "code",
   "execution_count": null,
   "metadata": {},
   "outputs": [],
   "source": []
  },
  {
   "cell_type": "markdown",
   "metadata": {},
   "source": [
    "# Look Python creates a instancevariable same as classvar to modify it\n"
   ]
  },
  {
   "cell_type": "code",
   "execution_count": 3,
   "metadata": {},
   "outputs": [
    {
     "name": "stdout",
     "output_type": "stream",
     "text": [
      "4\n",
      "13\n"
     ]
    }
   ],
   "source": [
    "class Test:\n",
    "    classvar=4\n",
    "    def __init__(self):\n",
    "        self.x=9\n",
    "        self.classvar+=self.x\n",
    "    def check(self):\n",
    "        print(self.classvar)\n",
    "print(Test.classvar)\n",
    "k1=Test()\n",
    "\n",
    "k1.check()"
   ]
  },
  {
   "cell_type": "code",
   "execution_count": 4,
   "metadata": {},
   "outputs": [
    {
     "name": "stdout",
     "output_type": "stream",
     "text": [
      "7 12 29\n",
      "2 12 29\n",
      "7 15 36\n",
      "3 15 36\n",
      "21 12 29\n"
     ]
    }
   ],
   "source": [
    "#Practice Question : 1\n",
    "class FinalT6A:\n",
    "    temp = 3\n",
    "    def __init__(self, x, p):\n",
    "        self.sum, self.y= 0, 2\n",
    "        FinalT6A.temp += 3\n",
    "        self.temp+=2\n",
    "        self.y = FinalT6A.temp - p\n",
    "        self.sum = self.temp + x\n",
    "        self.temp =  self.y + x\n",
    "        self.methodB(self.temp,self.y)\n",
    "        print(x, self.y, self.sum)\n",
    "\n",
    "    def methodA(self):\n",
    "        x, y = 0, 0\n",
    "        y = y + self.y\n",
    "        x = self.y + 2 + self.temp\n",
    "        print(x, y, self.sum)\n",
    "\n",
    "    def methodB(self, temp, n):\n",
    "        x = 0\n",
    "        FinalT6A.temp += 1\n",
    "        self.y = self.y + (FinalT6A.temp)\n",
    "        FinalT6A.temp -= 1\n",
    "        x = x + 2 + n\n",
    "        self.sum = self.sum + x + self.y\n",
    "        print(x, self.y, self.sum)\n",
    "q1 = FinalT6A(2,1)\n",
    "q2 = FinalT6A(3,4)\n",
    "q1.methodA()\n"
   ]
  },
  {
   "cell_type": "code",
   "execution_count": 5,
   "metadata": {},
   "outputs": [
    {
     "name": "stdout",
     "output_type": "stream",
     "text": [
      "5 7 17\n",
      "5 -16 -11\n",
      "-7 -2 -20\n",
      "9 -21 -32\n",
      "12 2 14\n",
      "2 5 21\n"
     ]
    }
   ],
   "source": [
    "#Practice Question : 2\n",
    "class A:\n",
    "    temp = 4\n",
    "    def __init__(self):\n",
    "        self.y = self.temp - 2\n",
    "        self.sum = self.temp + 1\n",
    "        A.temp -= 2\n",
    "        self.methodA(3, 4)\n",
    "    def methodA(self, m, n):\n",
    "        x = 0\n",
    "        self.y = self.y + m + (self.temp)\n",
    "        A.temp += 1\n",
    "        x = x + 1 + n\n",
    "        self.sum = self.sum + x + self.y\n",
    "        print(x, self.y, self.sum)\n",
    "\n",
    "class B:\n",
    "    x = 0\n",
    "    def __init__(self, b = None):\n",
    "        self.y, self.temp, self.sum = 5, -5, 2\n",
    "\n",
    "        if b == None:\n",
    "            self.y = self.temp + 3\n",
    "            self.sum = 3 + self.temp + 2\n",
    "            self.temp -= 2\n",
    "        else:\n",
    "            self.sum = b.sum\n",
    "            B.x = b.x\n",
    "            b.methodB(2, 3)\n",
    "    def methodA(self, m, n):\n",
    "        x = 2\n",
    "        self.y = self.y + m + (self.temp)\n",
    "        self.temp += 1\n",
    "        x = x + 5 + n\n",
    "        self.sum = self.sum + x + self.y\n",
    "        print(x, self.y, self.sum)\n",
    "    def methodB(self, m, n):\n",
    "        y = 0\n",
    "        y = y + self.y\n",
    "        B.x = self.y + 2 + self.temp\n",
    "        self.methodA(self.x, y)\n",
    "        self.sum = self.x + y + self.sum\n",
    "        print(self.x, y, self.sum)\n",
    "\n",
    "a1 = A()\n",
    "b1 = B()\n",
    "b2 = B(b1)\n",
    "b1.methodA(1, 2)\n",
    "b2.methodB(3, 2)"
   ]
  }
 ],
 "metadata": {
  "kernelspec": {
   "display_name": "Python 3",
   "language": "python",
   "name": "python3"
  },
  "language_info": {
   "codemirror_mode": {
    "name": "ipython",
    "version": 3
   },
   "file_extension": ".py",
   "mimetype": "text/x-python",
   "name": "python",
   "nbconvert_exporter": "python",
   "pygments_lexer": "ipython3",
   "version": "3.11.8"
  }
 },
 "nbformat": 4,
 "nbformat_minor": 2
}
