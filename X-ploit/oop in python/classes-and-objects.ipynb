{
 "cells": [
  {
   "cell_type": "code",
   "execution_count": null,
   "metadata": {},
   "outputs": [],
   "source": []
  },
  {
   "cell_type": "markdown",
   "metadata": {},
   "source": [
    "Class is a blueprint. Object is a special object of that class/type \n",
    "dictionaries= only variables\n",
    "class       = variables and functions"
   ]
  },
  {
   "cell_type": "code",
   "execution_count": null,
   "metadata": {},
   "outputs": [],
   "source": [
    "class Dog:\n",
    "    def __init__(self, name, age):# Self is the first prarmeter\n",
    "        self.name = name\n",
    "        self.age = age\n",
    "\n",
    "    def bark(self):\n",
    "        print(\"Woof!\")\n",
    "        \n",
    "my_dog = Dog(name=\"Buddy\", age=3)\n",
    "another_dog = Dog(name=\"Max\", age=2)\n",
    "\n",
    "\n"
   ]
  },
  {
   "cell_type": "markdown",
   "metadata": {},
   "source": [
    "Instance Variables: example variables(name, age etc.)"
   ]
  },
  {
   "cell_type": "code",
   "execution_count": null,
   "metadata": {},
   "outputs": [],
   "source": [
    "my_dog = Dog(name=\"Buddy\", age=3)\n"
   ]
  },
  {
   "cell_type": "markdown",
   "metadata": {},
   "source": [
    "Methods are functions defined inside a class.\n"
   ]
  },
  {
   "cell_type": "code",
   "execution_count": null,
   "metadata": {},
   "outputs": [],
   "source": [
    "my_dog.bark()  # Output: Woof!\n"
   ]
  },
  {
   "cell_type": "markdown",
   "metadata": {},
   "source": [
    "constructor means object constructor \n",
    "\n",
    " in Python, the __init__ method is commonly referred to as the constructor of a class. When you create a new instance of a class, the __init__ method is automatically called, and it is used to initialize the attributes of the object. The self parameter in the __init__ method refers to the instance being created, and you can use it to set up initial values for the object's attributes."
   ]
  },
  {
   "cell_type": "code",
   "execution_count": null,
   "metadata": {},
   "outputs": [],
   "source": [
    "class MyClass:\n",
    "    def __init__(self, x, y):\n",
    "        self.x = x\n",
    "        self.y = y\n",
    "\n",
    "# Creating an instance/copy/example of MyClass\n",
    "obj = MyClass(10, 20) #Self is 'obj'\n",
    "\n",
    "# Accessing attributes of the object\n",
    "print(obj.x)  # Output: 10\n",
    "print(obj.y)  # Output: 20 #printing a method here...\n",
    "\n"
   ]
  }
 ],
 "metadata": {
  "language_info": {
   "name": "python"
  }
 },
 "nbformat": 4,
 "nbformat_minor": 2
}
