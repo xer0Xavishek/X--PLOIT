{
 "cells": [
  {
   "cell_type": "code",
   "execution_count": null,
   "metadata": {},
   "outputs": [],
   "source": []
  },
  {
   "cell_type": "markdown",
   "metadata": {},
   "source": [
    "Class is a blueprint. Object is a special object of that class/type \n",
    "dictionaries= only variables\n",
    "class       = variables and functions"
   ]
  },
  {
   "cell_type": "code",
   "execution_count": null,
   "metadata": {},
   "outputs": [],
   "source": [
    "class Dog:\n",
    "    def __init__(self, name, age):# Self is the first prarmeter\n",
    "        self.name = name\n",
    "        self.age = age\n",
    "\n",
    "    def bark(self):\n",
    "        print(\"Woof!\")\n",
    "        \n",
    "my_dog = Dog(name=\"Buddy\", age=3)\n",
    "another_dog = Dog(name=\"Max\", age=2)\n",
    "\n",
    "\n"
   ]
  },
  {
   "cell_type": "markdown",
   "metadata": {},
   "source": [
    "Instance Variables: example variables(name, age etc.)"
   ]
  },
  {
   "cell_type": "code",
   "execution_count": null,
   "metadata": {},
   "outputs": [],
   "source": [
    "my_dog = Dog(name=\"Buddy\", age=3)\n"
   ]
  },
  {
   "cell_type": "markdown",
   "metadata": {},
   "source": [
    "Methods are functions defined inside a class.\n"
   ]
  },
  {
   "cell_type": "code",
   "execution_count": null,
   "metadata": {},
   "outputs": [],
   "source": [
    "my_dog.bark()  # Output: Woof!\n"
   ]
  },
  {
   "cell_type": "markdown",
   "metadata": {},
   "source": [
    "constructor means object constructor \n",
    "\n",
    " in Python, the __init__ method is commonly referred to as the constructor of a class. When you create a new instance of a class, the __init__ method is automatically called, and it is used to initialize the attributes of the object. The self parameter in the __init__ method refers to the instance being created, and you can use it to set up initial values for the object's attributes."
   ]
  },
  {
   "cell_type": "code",
   "execution_count": null,
   "metadata": {},
   "outputs": [],
   "source": [
    "class MyClass:\n",
    "    def __init__(self, x, y):\n",
    "        self.x = x\n",
    "        self.y = y\n",
    "\n",
    "# Creating an instance/copy/example of MyClass\n",
    "obj = MyClass(10, 20) #Self is 'obj'\n",
    "\n",
    "# Accessing attributes of the object\n",
    "print(obj.x)  # Output: 10\n",
    "print(obj.y)  # Output: 20 #printing a method here...\n",
    "\n"
   ]
  },
  {
   "cell_type": "code",
   "execution_count": null,
   "metadata": {},
   "outputs": [],
   "source": [
    "class RickMote:\n",
    "    def __init__(self):\n",
    "        self.power_status = False\n",
    "        self.channel_list = [0, 2, 3, 6, 7, 9]\n",
    "        self.current_channel = 0\n",
    "        self.volume_level = 3\n",
    "\n",
    "    def power(self):\n",
    "        if self.power_status:\n",
    "            self.power_status = False\n",
    "            print(\"Power is turned off. Cannot change channel.\")\n",
    "            print(\"Power is turned off. Cannot change volume.\")\n",
    "        else:\n",
    "            self.power_status = True\n",
    "\n",
    "    def changeChannel(self, direction=1):\n",
    "        if self.power_status:\n",
    "            if direction > 0:\n",
    "                self.current_channel = (self.current_channel + 1) % len(self.channel_list)\n",
    "            else:\n",
    "                self.current_channel = (self.current_channel - 1) % len(self.channel_list)\n",
    "        else:\n",
    "            print(\"Power is turned off. Cannot change channel.\")\n",
    "\n",
    "    def changeVolumeLevel(self, change=0):\n",
    "        if self.power_status:\n",
    "            self.volume_level = max(0, min(10, self.volume_level + change))\n",
    "        else:\n",
    "            print(\"Power is turned off. Cannot change volume.\")\n",
    "\n",
    "    def showInfo(self):\n",
    "        power_status_str = \"ON\" if self.power_status else \"OFF\"\n",
    "        print(\"ID Cable Box Status:\")\n",
    "        print(f\"Cable Box is: {power_status_str}\")\n",
    "        if self.power_status:\n",
    "            print(f\"Channel:{self.channel_list[self.current_channel]}\")\n",
    "            print(f\"Volume:{self.volume_level}\")\n",
    "\n",
    "\n",
    "# Test code\n",
    "oTV = RickMote()\n",
    "oTV.power()\n",
    "print(\"1.############################\")\n",
    "oTV.showInfo()\n",
    "print(\"2.############################\")\n",
    "oTV.changeChannel()\n",
    "oTV.changeVolumeLevel()\n",
    "oTV.showInfo()\n",
    "print(\"3.############################\")\n",
    "oTV.power()\n",
    "oTV.showInfo()\n",
    "print(\"4.############################\")\n",
    "oTV.power()\n",
    "oTV.changeVolumeLevel(4)\n",
    "oTV.changeChannel(3)\n",
    "oTV.showInfo()\n",
    "print(\"5.############################\")\n",
    "oTV.changeVolumeLevel(-2)\n",
    "oTV.showInfo()\n",
    "print(\"6.############################\")\n",
    "oTV.power()\n",
    "oTV.changeChannel(9)\n",
    "oTV.changeVolumeLevel(-1)\n",
    "oTV.showInfo()\n",
    "print(\"7.############################\")\n",
    "oTV.power()\n",
    "oTV.changeChannel(11)\n",
    "oTV.showInfo()\n"
   ]
  }
 ],
 "metadata": {
  "language_info": {
   "name": "python"
  }
 },
 "nbformat": 4,
 "nbformat_minor": 2
}
