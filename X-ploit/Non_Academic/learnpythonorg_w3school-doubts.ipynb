{
 "cells": [
  {
   "cell_type": "markdown",
   "metadata": {},
   "source": [
    "**New Knowledge** : len(string/list) generates a tuple containing only one element.\n",
    "\n",
    "**Placeholders** : %d=int\n",
    "                    , %f=float [%.2f specifies that the floating-point number should be formatted with two decimal places]  ,\n",
    "                     %s=string/list/anything \n",
    "                     %e/%E = exponential \n",
    "                     etc\n",
    "\n",
    "the c style str Formating  is:       print(     \" <string here containing \"placeholders\" >\"    %   < any tuple here / name of a tuple that was previously declared or assigned>   )"
   ]
  },
  {
   "cell_type": "code",
   "execution_count": 8,
   "metadata": {},
   "outputs": [
    {
     "name": "stdout",
     "output_type": "stream",
     "text": [
      "x_list contains 10 objects\n",
      "y_list contains 10 objects\n",
      "big_list contains 20 objects\n",
      "[<object object at 0x0000022EED0223C0>, <object object at 0x0000022EED0223C0>, <object object at 0x0000022EED0223C0>, <object object at 0x0000022EED0223C0>, <object object at 0x0000022EED0223C0>, <object object at 0x0000022EED0223C0>, <object object at 0x0000022EED0223C0>, <object object at 0x0000022EED0223C0>, <object object at 0x0000022EED0223C0>, <object object at 0x0000022EED0223C0>]\n",
      "[<object object at 0x0000022EED0223C0>, <object object at 0x0000022EED0223C0>, <object object at 0x0000022EED0223C0>, <object object at 0x0000022EED0223C0>, <object object at 0x0000022EED0223C0>, <object object at 0x0000022EED0223C0>, <object object at 0x0000022EED0223C0>, <object object at 0x0000022EED0223C0>, <object object at 0x0000022EED0223C0>, <object object at 0x0000022EED0223C0>, <object object at 0x0000022EED0223E0>, <object object at 0x0000022EED0223E0>, <object object at 0x0000022EED0223E0>, <object object at 0x0000022EED0223E0>, <object object at 0x0000022EED0223E0>, <object object at 0x0000022EED0223E0>, <object object at 0x0000022EED0223E0>, <object object at 0x0000022EED0223E0>, <object object at 0x0000022EED0223E0>, <object object at 0x0000022EED0223E0>]\n",
      "Almost there...\n",
      "Great!\n"
     ]
    }
   ],
   "source": [
    "x = object()\n",
    "y = object()\n",
    "\n",
    "# TODO: change this code\n",
    "x_list = [x] * 10\n",
    "y_list = [y] * 10\n",
    "\n",
    "big_list = x_list +y_list\n",
    "\n",
    "print(\"x_list contains %d objects\" % len(x_list))\n",
    "\n",
    "print(\"y_list contains %d objects\" % len(y_list))\n",
    "\n",
    "print(\"big_list contains %d objects\" % len(big_list))\n",
    "\n",
    "\n",
    "print(x_list)\n",
    "print(big_list)\n",
    "\n",
    "# testing code\n",
    "\n",
    "if        x_list.count(x)   ==   10     and      y_list.count(y)    ==    10:\n",
    "\n",
    "    print(\"Almost there...\")\n",
    "\n",
    "if big_list.count(x) == 10 and big_list.count(y) == 10:\n",
    "\n",
    "    print(\"Great!\")"
   ]
  },
  {
   "cell_type": "markdown",
   "metadata": {},
   "source": [
    "randomstring.index(  \"  chr  \"  )\n",
    "randomstring.count(   \" chr  \"  )"
   ]
  },
  {
   "cell_type": "markdown",
   "metadata": {},
   "source": [
    "astring = \"Hello world!\"\n",
    "print(astring.startswith(\"Hello\"))               #true\n",
    "print(astring.endswith(\"asdfasdfasdf\"))          #false"
   ]
  },
  {
   "cell_type": "markdown",
   "metadata": {},
   "source": [
    "astring = \"Hello world!\"\n",
    "afewwords = astring.split(\" \") # creates a list containing each element after space"
   ]
  },
  {
   "cell_type": "code",
   "execution_count": 4,
   "metadata": {},
   "outputs": [
    {
     "name": "stdout",
     "output_type": "stream",
     "text": [
      "['Hello', 'world!']\n"
     ]
    }
   ],
   "source": [
    "astring = \"Hello world!\"\n",
    "afewwords = astring.split(\" \")\n",
    "print(afewwords)"
   ]
  },
  {
   "cell_type": "code",
   "execution_count": null,
   "metadata": {},
   "outputs": [],
   "source": []
  },
  {
   "cell_type": "markdown",
   "metadata": {},
   "source": [
    "**Conditions**"
   ]
  },
  {
   "cell_type": "markdown",
   "metadata": {},
   "source": [
    "**pass** statement = Na pete chira khaoa."
   ]
  },
  {
   "cell_type": "code",
   "execution_count": 5,
   "metadata": {},
   "outputs": [
    {
     "ename": "SyntaxError",
     "evalue": "incomplete input (1339567069.py, line 4)",
     "output_type": "error",
     "traceback": [
      "\u001b[1;36m  Cell \u001b[1;32mIn[5], line 4\u001b[1;36m\u001b[0m\n\u001b[1;33m    \u001b[0m\n\u001b[1;37m    ^\u001b[0m\n\u001b[1;31mSyntaxError\u001b[0m\u001b[1;31m:\u001b[0m incomplete input\n"
     ]
    }
   ],
   "source": [
    "x=0\n",
    "while x<10:\n",
    "    "
   ]
  },
  {
   "cell_type": "code",
   "execution_count": null,
   "metadata": {},
   "outputs": [],
   "source": [
    "# But if i use pass here. I can avoid error successfully.\n",
    "x=0\n",
    "while x<10:\n",
    "    pass"
   ]
  },
  {
   "cell_type": "markdown",
   "metadata": {},
   "source": [
    "**break** statement = get out  from the fukin loop RN           \n",
    "**continue** statement = do nothing this time. Go to next iteration RN"
   ]
  },
  {
   "cell_type": "code",
   "execution_count": 8,
   "metadata": {},
   "outputs": [
    {
     "name": "stdout",
     "output_type": "stream",
     "text": [
      "0\n",
      "1\n",
      "2\n",
      "3\n",
      "4\n"
     ]
    }
   ],
   "source": [
    "count = 0\n",
    "while True:\n",
    "    print(count)\n",
    "    count += 1\n",
    "    if count >= 5:\n",
    "        break"
   ]
  },
  {
   "cell_type": "markdown",
   "metadata": {},
   "source": [
    "**Functions**"
   ]
  },
  {
   "cell_type": "code",
   "execution_count": null,
   "metadata": {},
   "outputs": [],
   "source": [
    "#$sentence generator\n",
    "\n",
    "# Modify this function to return a list of strings as defined above\n",
    "def list_benefits():\n",
    "    return [\"More organized code\", \"More readable code\", \"Easier code reuse\", \"Allowing programmers to share and connect code together\"]\n",
    "\n",
    "# Modify this function to concatenate to each benefit - \" is a benefit of functions!\"\n",
    "def build_sentence(benefit):\n",
    "    return benefit+\" is a benefit of functions!\"\n",
    "\n",
    "def name_the_benefits_of_functions():\n",
    "    list_of_benefits = list_benefits()\n",
    "    for benefit in list_of_benefits:\n",
    "        print(build_sentence(benefit))\n",
    "\n",
    "name_the_benefits_of_functions()"
   ]
  }
 ],
 "metadata": {
  "kernelspec": {
   "display_name": "Python 3",
   "language": "python",
   "name": "python3"
  },
  "language_info": {
   "codemirror_mode": {
    "name": "ipython",
    "version": 3
   },
   "file_extension": ".py",
   "mimetype": "text/x-python",
   "name": "python",
   "nbconvert_exporter": "python",
   "pygments_lexer": "ipython3",
   "version": "3.11.6"
  }
 },
 "nbformat": 4,
 "nbformat_minor": 2
}
