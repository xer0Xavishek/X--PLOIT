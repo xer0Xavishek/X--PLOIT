{
 "cells": [
  {
   "cell_type": "code",
   "execution_count": 15,
   "metadata": {},
   "outputs": [
    {
     "name": "stdout",
     "output_type": "stream",
     "text": [
      "[1, 2, 3, 4, 5, 6, 7, 8, 9, 10, 11]\n"
     ]
    }
   ],
   "source": [
    "l=[1,2,3,4,5,6,7,8,9,10]\n",
    "l.append(11)\n",
    "print(l)"
   ]
  },
  {
   "cell_type": "code",
   "execution_count": 19,
   "metadata": {},
   "outputs": [
    {
     "name": "stdout",
     "output_type": "stream",
     "text": [
      "before [1, 2, 3, 4, 5, 6, 7, 8, 9, 10, 11]\n",
      "after [1, 2, 3, 4, 5, 6, 7, 8, 9, 10]\n"
     ]
    }
   ],
   "source": [
    "l=[1,2,3,4,5,6,7,8,9,10]\n",
    "\n",
    "l.append(11)\n",
    "\n",
    "print(\"before\",l)\n",
    "\n",
    "l.pop(10) #remove the element of 11 idx\n",
    "\n",
    "print(\"after\",l)"
   ]
  },
  {
   "cell_type": "code",
   "execution_count": 22,
   "metadata": {},
   "outputs": [
    {
     "name": "stdout",
     "output_type": "stream",
     "text": [
      "[10, 9, 8, 7, 6, 5, 4, 3, 2, 1]\n",
      "[1, 2, 3, 4, 5, 6, 7, 8, 9, 10]\n"
     ]
    }
   ],
   "source": [
    "l=[10,9,8,7,6,5,4,3,2,1]\n",
    "l.sort(reverse=True)\n",
    "print(l)\n",
    "l.sort(reverse=False)\n",
    "print(l)"
   ]
  },
  {
   "cell_type": "code",
   "execution_count": 33,
   "metadata": {},
   "outputs": [
    {
     "data": {
      "text/plain": [
       "[('bmw', 100), ('audi', 200), ('toyota', 300), ('subaru', 400)]"
      ]
     },
     "execution_count": 33,
     "metadata": {},
     "output_type": "execute_result"
    }
   ],
   "source": [
    "car=[\"bmw\",\"audi\",\"toyota\",\"subaru\"]\n",
    "price=[100,200,300,400]\n",
    "list(zip(car,price))\n"
   ]
  },
  {
   "cell_type": "code",
   "execution_count": 34,
   "metadata": {},
   "outputs": [
    {
     "name": "stdout",
     "output_type": "stream",
     "text": [
      "['s', 'o', 'p', 'h', 'i', 'a']\n"
     ]
    }
   ],
   "source": [
    "print(list(\"sophia\"))"
   ]
  },
  {
   "cell_type": "code",
   "execution_count": 35,
   "metadata": {},
   "outputs": [
    {
     "name": "stdout",
     "output_type": "stream",
     "text": [
      "[('bmw', 100), ('audi', 200), ('toyota', 300), ('subaru', 400)]\n"
     ]
    }
   ],
   "source": [
    "car=[\"bmw\",\"audi\",\"toyota\",\"subaru\"]\n",
    "price=[100,200,300,400]\n",
    "list(zip(car,price))\n",
    "print(list(zip(car,price)))\n",
    "\n",
    "# The `list()` function in Python is used to create a list from an iterable (like a string, tuple, set, or another list), not from individual integer values.\n",
    "# In your code, `list(zip(car, price))` is creating a list of tuples, where each tuple contains a car from the `car` list and its corresponding price from the `price` list. The `zip()` function returns an iterable of tuples, which is why you can pass it to the `list()` function.\n",
    "# If you try to pass an integer to the `list()` function, like `list(123)`, you'll get a `TypeError` because integers are not iterable. If you want to create a list with a single integer, you can put the integer in square brackets, like `list([123])`. This will return `[123]`, which is a list with one element.\n",
    "# If you try to pass an integer to the list() function, like\n",
    "# list(123) you'll geta TypeError because integers are not\n",
    "# iterable. If you want to create a list with a single integer, you can\n",
    "# put the integer in square brackets, like . This will\n",
    "# retum [123] which is a list with one element."
   ]
  }
 ],
 "metadata": {
  "kernelspec": {
   "display_name": "Python 3",
   "language": "python",
   "name": "python3"
  },
  "language_info": {
   "codemirror_mode": {
    "name": "ipython",
    "version": 3
   },
   "file_extension": ".py",
   "mimetype": "text/x-python",
   "name": "python",
   "nbconvert_exporter": "python",
   "pygments_lexer": "ipython3",
   "version": "3.11.6"
  }
 },
 "nbformat": 4,
 "nbformat_minor": 2
}
