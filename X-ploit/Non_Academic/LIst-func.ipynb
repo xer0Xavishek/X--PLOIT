{
 "cells": [
  {
   "cell_type": "code",
   "execution_count": 15,
   "metadata": {},
   "outputs": [
    {
     "name": "stdout",
     "output_type": "stream",
     "text": [
      "[1, 2, 3, 4, 5, 6, 7, 8, 9, 10, 11]\n"
     ]
    }
   ],
   "source": [
    "l=[1,2,3,4,5,6,7,8,9,10]\n",
    "l.append(11)\n",
    "print(l)"
   ]
  },
  {
   "cell_type": "markdown",
   "metadata": {},
   "source": [
    "H O W  TO USE LIST()"
   ]
  },
  {
   "cell_type": "code",
   "execution_count": 6,
   "metadata": {},
   "outputs": [
    {
     "name": "stdout",
     "output_type": "stream",
     "text": [
      "[1, 2, 3, 4, 5, 6, 7, 8, 9, 10]\n"
     ]
    }
   ],
   "source": [
    "m=1,2,3,4,5,6,7,8,9,10\n",
    "\n",
    "n=list(m)\n",
    "print(n)"
   ]
  },
  {
   "cell_type": "code",
   "execution_count": 5,
   "metadata": {},
   "outputs": [
    {
     "name": "stdout",
     "output_type": "stream",
     "text": [
      "[0, 1, 2, 3, 4, 5, 6, 7, 8, 9]\n",
      "[1, 2, 3, 4, 5, 6, 7, 8, 9, 10]\n"
     ]
    }
   ],
   "source": [
    "k=list(range(10))\n",
    "print(k)\n",
    "#List function can only take one argument.\n",
    "\n",
    "\n",
    "#If you want to pass multiple arguments, you need to use square brackets.\n",
    "l=list([1,2,3,4,5,6,7,8,9,10])\n",
    "print(l)\n",
    "#Here The total LIst is acting as one arguemnt which is passed to the list function.\n"
   ]
  },
  {
   "cell_type": "markdown",
   "metadata": {},
   "source": [
    "H O W TO USE .APPEND() AND .POP() [.SOMETHING(ARGS) IS CALLED METHODS]"
   ]
  },
  {
   "cell_type": "code",
   "execution_count": 19,
   "metadata": {},
   "outputs": [
    {
     "name": "stdout",
     "output_type": "stream",
     "text": [
      "before [1, 2, 3, 4, 5, 6, 7, 8, 9, 10, 11]\n",
      "after [1, 2, 3, 4, 5, 6, 7, 8, 9, 10]\n"
     ]
    }
   ],
   "source": [
    "l=[1,2,3,4,5,6,7,8,9,10]\n",
    "\n",
    "l.append(11)\n",
    "\n",
    "print(\"before\",l)\n",
    "\n",
    "l.pop(10) #remove the element of 11 idx\n",
    "\n",
    "print(\"after\",l)"
   ]
  },
  {
   "cell_type": "markdown",
   "metadata": {},
   "source": [
    "H O W TO USE SORTING "
   ]
  },
  {
   "cell_type": "code",
   "execution_count": 22,
   "metadata": {},
   "outputs": [
    {
     "name": "stdout",
     "output_type": "stream",
     "text": [
      "[10, 9, 8, 7, 6, 5, 4, 3, 2, 1]\n",
      "[1, 2, 3, 4, 5, 6, 7, 8, 9, 10]\n"
     ]
    }
   ],
   "source": [
    "l=[10,9,8,7,6,5,4,3,2,1]\n",
    "l.sort(reverse=True)\n",
    "print(l)\n",
    "l.sort(reverse=False)\n",
    "print(l)"
   ]
  },
  {
   "cell_type": "code",
   "execution_count": 33,
   "metadata": {},
   "outputs": [
    {
     "data": {
      "text/plain": [
       "[('bmw', 100), ('audi', 200), ('toyota', 300), ('subaru', 400)]"
      ]
     },
     "execution_count": 33,
     "metadata": {},
     "output_type": "execute_result"
    }
   ],
   "source": [
    "car=[\"bmw\",\"audi\",\"toyota\",\"subaru\"]\n",
    "price=[100,200,300,400]\n",
    "list(zip(car,price))\n"
   ]
  },
  {
   "cell_type": "code",
   "execution_count": 34,
   "metadata": {},
   "outputs": [
    {
     "name": "stdout",
     "output_type": "stream",
     "text": [
      "['s', 'o', 'p', 'h', 'i', 'a']\n"
     ]
    }
   ],
   "source": [
    "print(list(\"sophia\"))"
   ]
  },
  {
   "cell_type": "code",
   "execution_count": 35,
   "metadata": {},
   "outputs": [
    {
     "name": "stdout",
     "output_type": "stream",
     "text": [
      "[('bmw', 100), ('audi', 200), ('toyota', 300), ('subaru', 400)]\n"
     ]
    }
   ],
   "source": [
    "car=[\"bmw\",\"audi\",\"toyota\",\"subaru\"]\n",
    "price=[100,200,300,400]\n",
    "list(zip(car,price))\n",
    "print(list(zip(car,price)))\n",
    "\n",
    "# The `list()` function in Python is used to create a list from an iterable (like a string, tuple, set, or another list), not from individual integer values.\n",
    "# In your code, `list(zip(car, price))` is creating a list of tuples, where each tuple contains a car from the `car` list and its corresponding price from the `price` list. The `zip()` function returns an iterable of tuples, which is why you can pass it to the `list()` function.\n",
    "# If you try to pass an integer to the `list()` function, like `list(123)`, you'll get a `TypeError` because integers are not iterable. If you want to create a list with a single integer, you can put the integer in square brackets, like `list([123])`. This will return `[123]`, which is a list with one element.\n",
    "# If you try to pass an integer to the list() function, like\n",
    "# list(123) you'll geta TypeError because integers are not\n",
    "# iterable. If you want to create a list with a single integer, you can\n",
    "# put the integer in square brackets, like . This will\n",
    "# retum [123] which is a list with one element."
   ]
  },
  {
   "cell_type": "code",
   "execution_count": 38,
   "metadata": {},
   "outputs": [
    {
     "name": "stdout",
     "output_type": "stream",
     "text": [
      "1\n",
      "1606938044258990275541962092341162602522202993782792835301376\n",
      "136891479058588375991326027382088315966463695625337436471480190078368997177499076593800206155688941388250484440597994042813512732765695774566001\n",
      "6668014432879854274079851790721257797144758322315908160396257811764037237817632071521432200871554290742929910593433240445888801654119365080363356052330830046095157579514014558463078285911814024728965016135886601981690748037476461291163877376\n",
      "[1, 1606938044258990275541962092341162602522202993782792835301376, 136891479058588375991326027382088315966463695625337436471480190078368997177499076593800206155688941388250484440597994042813512732765695774566001, 6668014432879854274079851790721257797144758322315908160396257811764037237817632071521432200871554290742929910593433240445888801654119365080363356052330830046095157579514014558463078285911814024728965016135886601981690748037476461291163877376]\n"
     ]
    }
   ],
   "source": [
    "car=[1,2,3,4]\n",
    "price=[100,200,300,400]\n",
    "list3=[]\n",
    "for c,p in zip(car,price):\n",
    "    print(c**p)\n",
    "    list3.append(c**p)\n",
    "print(list3)"
   ]
  }
 ],
 "metadata": {
  "kernelspec": {
   "display_name": "Python 3",
   "language": "python",
   "name": "python3"
  },
  "language_info": {
   "codemirror_mode": {
    "name": "ipython",
    "version": 3
   },
   "file_extension": ".py",
   "mimetype": "text/x-python",
   "name": "python",
   "nbconvert_exporter": "python",
   "pygments_lexer": "ipython3",
   "version": "3.11.6"
  }
 },
 "nbformat": 4,
 "nbformat_minor": 2
}
